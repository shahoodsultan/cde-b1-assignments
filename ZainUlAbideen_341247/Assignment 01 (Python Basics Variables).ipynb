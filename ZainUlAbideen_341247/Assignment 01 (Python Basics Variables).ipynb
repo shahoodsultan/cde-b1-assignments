{
 "cells": [
  {
   "cell_type": "markdown",
   "metadata": {},
   "source": [
    "# Part -1 Python Basics (Variables)"
   ]
  },
  {
   "cell_type": "markdown",
   "metadata": {},
   "source": [
    "1. Print Your Name with your Father name and Date of birth using suitable escape sequence charactor"
   ]
  },
  {
   "cell_type": "code",
   "execution_count": 2,
   "metadata": {},
   "outputs": [
    {
     "name": "stdout",
     "output_type": "stream",
     "text": [
      "Name: Zain Ul Abideen\n",
      "Father Name: Muhuhammad\n",
      "DOB: 10-05-1999\n"
     ]
    }
   ],
   "source": [
    "# Write your code here\n",
    "print(\"Name: Zain Ul Abideen\\nFather Name: Muhuhammad\\nDOB: 10-05-1999\")"
   ]
  },
  {
   "cell_type": "markdown",
   "metadata": {},
   "source": [
    "2. Write your small bio using variables and print it using print function"
   ]
  },
  {
   "cell_type": "code",
   "execution_count": 3,
   "metadata": {},
   "outputs": [
    {
     "name": "stdout",
     "output_type": "stream",
     "text": [
      "I'm Zain Ul Abideen. I've completed my graduation in Computer Science from BBSUL.\n"
     ]
    }
   ],
   "source": [
    "# Write your code here\n",
    "print(\"I'm Zain Ul Abideen. I've completed my graduation in Computer Science from BBSUL.\")"
   ]
  },
  {
   "cell_type": "markdown",
   "metadata": {},
   "source": [
    "3. Write a program in which use all the operators we can use in Python"
   ]
  },
  {
   "cell_type": "code",
   "execution_count": 4,
   "metadata": {},
   "outputs": [
    {
     "name": "stdout",
     "output_type": "stream",
     "text": [
      "Addition:  30\n",
      "Subtraction:  -10\n",
      "Multiplication:  200\n",
      "Division:  0.5\n"
     ]
    }
   ],
   "source": [
    "# Write your code here\n",
    "num1 = 10\n",
    "num2 = 20\n",
    "\n",
    "print(\"Addition: \", num1+num2)\n",
    "print(\"Subtraction: \", num1-num2)\n",
    "print(\"Multiplication: \", num1*num2)\n",
    "print(\"Division: \", num1/num2)"
   ]
  },
  {
   "cell_type": "markdown",
   "metadata": {},
   "source": [
    "4. Completes the following steps of small task:\n",
    "    - Mention Marks of English , Islamiat and Maths out of 100 in 3 different variables\n",
    "    - Mention Variable of Total Marks and assign 300 to it\n",
    "    - Calculate Percentage"
   ]
  },
  {
   "cell_type": "code",
   "execution_count": 6,
   "metadata": {},
   "outputs": [
    {
     "name": "stdout",
     "output_type": "stream",
     "text": [
      "Percentage is  81.0\n"
     ]
    }
   ],
   "source": [
    "# Write your code here\n",
    "English = 80\n",
    "Islamiat = 82\n",
    "Maths = 81\n",
    "\n",
    "Percentage = ((English + Islamiat + Maths)/300)*100\n",
    "\n",
    "print(\"Percentage is \", Percentage)\n",
    "\n"
   ]
  },
  {
   "cell_type": "markdown",
   "metadata": {},
   "source": [
    "# Part -2 Python Basics (Conditional Statements)"
   ]
  },
  {
   "cell_type": "markdown",
   "metadata": {},
   "source": [
    "1) A company decided to give bonus of 5% to employee if his/her year of service is more than 5 years.\n",
    "Ask user for their salary and year of service and print the net bonus amount."
   ]
  },
  {
   "cell_type": "code",
   "execution_count": 7,
   "metadata": {},
   "outputs": [
    {
     "name": "stdin",
     "output_type": "stream",
     "text": [
      "Please enter your name Zain\n",
      "Please enter your experience 4\n",
      "Please enter your current salary 100000\n"
     ]
    },
    {
     "name": "stdout",
     "output_type": "stream",
     "text": [
      "Zain isn't eligible for bounce\n"
     ]
    }
   ],
   "source": [
    "#Type your code here\n",
    "name = input(\"Please enter your name\")\n",
    "experience = float(input(\"Please enter your experience\"))\n",
    "salary = int(input(\"Please enter your current salary\"))\n",
    "\n",
    "if experience > 5:\n",
    "    bounce = (salary/100)*5\n",
    "    print(f\"{name} bonuce will be {bounce}\")\n",
    "else:\n",
    "    print(f\"{name} isn't eligible for bounce\")"
   ]
  },
  {
   "cell_type": "markdown",
   "metadata": {},
   "source": [
    "\n",
    "2) Write a program to check whether a person is eligible for voting or not. (accept age from user) if age is greater than 17 eligible otherwise not eligible"
   ]
  },
  {
   "cell_type": "code",
   "execution_count": 8,
   "metadata": {},
   "outputs": [
    {
     "name": "stdin",
     "output_type": "stream",
     "text": [
      "Please enter your age 19\n"
     ]
    },
    {
     "name": "stdout",
     "output_type": "stream",
     "text": [
      "You are eligible for vote\n"
     ]
    }
   ],
   "source": [
    "#Type your code here\n",
    "age = int(input(\"Please enter your age\"))\n",
    "\n",
    "if age> 17:\n",
    "    print(\"You are eligible for vote\")\n",
    "else:\n",
    "    print(\"You aren't eligible for vote\")"
   ]
  },
  {
   "cell_type": "markdown",
   "metadata": {},
   "source": [
    "\n",
    "3) Write a program to check whether a number entered by user is even or odd."
   ]
  },
  {
   "cell_type": "code",
   "execution_count": 9,
   "metadata": {},
   "outputs": [
    {
     "name": "stdout",
     "output_type": "stream",
     "text": [
      "13 is Odd\n"
     ]
    }
   ],
   "source": [
    "#Type your code here\n",
    "\n",
    "number = 13\n",
    "\n",
    "if number % 2 == 0:\n",
    "    print(f\"{number} is Even\")\n",
    "else:\n",
    "    print(f\"{number} is Odd\")"
   ]
  },
  {
   "cell_type": "markdown",
   "metadata": {},
   "source": [
    "4) Write a program to check whether a number is divisible by 7 or not.\n",
    "Show Answer"
   ]
  },
  {
   "cell_type": "code",
   "execution_count": 12,
   "metadata": {},
   "outputs": [
    {
     "name": "stdout",
     "output_type": "stream",
     "text": [
      "Successfully divisible by 7\n"
     ]
    }
   ],
   "source": [
    "#Type your code here\n",
    "number_divi_by_7 = 14\n",
    "\n",
    "if number_divi_by_7 % 7 == 0:\n",
    "    print(\"Successfully divisible by 7\")\n",
    "else:\n",
    "    print(\"Failed divisible by 7\")"
   ]
  },
  {
   "cell_type": "markdown",
   "metadata": {},
   "source": [
    "5) Write a program to display \n",
    "\"Hello\" if a number entered by user is a multiple of five , otherwise print \"Bye\"."
   ]
  },
  {
   "cell_type": "code",
   "execution_count": 10,
   "metadata": {},
   "outputs": [
    {
     "name": "stdin",
     "output_type": "stream",
     "text": [
      "Enter any number that is divisible by 5 :  25\n"
     ]
    },
    {
     "name": "stdout",
     "output_type": "stream",
     "text": [
      "Hello\n"
     ]
    }
   ],
   "source": [
    "#Type your code here\n",
    "number = int(input(\"Enter any number that is divisible by 5 : \"))\n",
    "\n",
    "if number % 5 == 0:\n",
    "    print(\"Hello\")\n",
    "else:\n",
    "    print(\"Bye\")"
   ]
  },
  {
   "cell_type": "markdown",
   "metadata": {},
   "source": [
    "7) Write a program to display the last digit of a number.\n"
   ]
  },
  {
   "cell_type": "code",
   "execution_count": 13,
   "metadata": {},
   "outputs": [
    {
     "name": "stdin",
     "output_type": "stream",
     "text": [
      "Enter a number:  15\n"
     ]
    },
    {
     "name": "stdout",
     "output_type": "stream",
     "text": [
      "The last digit of the number is: 5\n"
     ]
    }
   ],
   "source": [
    "#Type your code here\n",
    "number = int(input(\"Enter a number: \"))\n",
    "\n",
    "last_digit = number % 10\n",
    "\n",
    "print(\"The last digit of the number is:\", last_digit)"
   ]
  },
  {
   "cell_type": "markdown",
   "metadata": {},
   "source": [
    "9) Take values of length and breadth of a rectangle from user and print if it is square or rectangle."
   ]
  },
  {
   "cell_type": "code",
   "execution_count": 15,
   "metadata": {},
   "outputs": [
    {
     "name": "stdin",
     "output_type": "stream",
     "text": [
      "Enter a number:  10\n",
      "Enter a number:  10\n"
     ]
    },
    {
     "name": "stdout",
     "output_type": "stream",
     "text": [
      "Square\n"
     ]
    }
   ],
   "source": [
    "#Type your code here \n",
    "length = int(input(\"Enter a number: \"))\n",
    "breadth = int(input(\"Enter a number: \"))\n",
    "\n",
    "if length == breadth:\n",
    "    print(\"Square\")\n",
    "else:\n",
    "    print(\"Rectangle\")"
   ]
  },
  {
   "cell_type": "markdown",
   "metadata": {},
   "source": [
    "10) Take two int values from user and print greatest among them."
   ]
  },
  {
   "cell_type": "code",
   "execution_count": 16,
   "metadata": {},
   "outputs": [
    {
     "name": "stdin",
     "output_type": "stream",
     "text": [
      "Enter a number1:  12\n",
      "Enter a number2:  10\n"
     ]
    },
    {
     "name": "stdout",
     "output_type": "stream",
     "text": [
      "Number1 is greater  12\n"
     ]
    }
   ],
   "source": [
    "# Type your code here\n",
    "number1 = int(input(\"Enter a number1: \"))\n",
    "number2 = int(input(\"Enter a number2: \"))\n",
    "\n",
    "if number1 > number2:\n",
    "    print(\"Number1 is greater \", number1)\n",
    "else:\n",
    "    print(\"Number2 is greater \", number2)"
   ]
  },
  {
   "cell_type": "markdown",
   "metadata": {},
   "source": [
    "11) A shop will give discount of 10% if the cost of purchased quantity is more than 1000.\n",
    "Ask user for quantity\n",
    "Suppose, one unit will cost 100.\n",
    "Judge and print total cost for user."
   ]
  },
  {
   "cell_type": "code",
   "execution_count": 17,
   "metadata": {},
   "outputs": [
    {
     "name": "stdin",
     "output_type": "stream",
     "text": [
      "Enter the quantity of items purchased:  1200\n"
     ]
    },
    {
     "name": "stdout",
     "output_type": "stream",
     "text": [
      "The total cost is: 108000.0\n"
     ]
    }
   ],
   "source": [
    "#Type your code here\n",
    "quantity = int(input(\"Enter the quantity of items purchased: \"))\n",
    "\n",
    "unit_cost = 100\n",
    "\n",
    "total_cost = quantity * unit_cost\n",
    "\n",
    "if total_cost > 1000:\n",
    "    discount = total_cost * 0.10  \n",
    "    total_cost -= discount\n",
    "\n",
    "print(f\"The total cost is: {total_cost}\")"
   ]
  },
  {
   "cell_type": "markdown",
   "metadata": {},
   "source": [
    "12) A school has following rules for grading system:\n",
    "\n",
    "a. Below 25 - F\n",
    "\n",
    "b. 25 to 45 - E\n",
    "\n",
    "c. 45 to 50 - D\n",
    "\n",
    "d. 50 to 60 - C\n",
    "\n",
    "e. 60 to 80 - B\n",
    "\n",
    "f. Above 80 - A\n",
    "\n",
    "Ask user to enter marks and print the corresponding grade."
   ]
  },
  {
   "cell_type": "code",
   "execution_count": 19,
   "metadata": {},
   "outputs": [
    {
     "name": "stdin",
     "output_type": "stream",
     "text": [
      "Please enter your marks 60\n"
     ]
    },
    {
     "name": "stdout",
     "output_type": "stream",
     "text": [
      "Your Grade is B\n"
     ]
    }
   ],
   "source": [
    "#Type your code here\n",
    "marks = float(input(\"Please enter your marks\"))\n",
    "\n",
    "if marks < 25:\n",
    "    print(\"Your Grade is F\")\n",
    "elif marks >= 25 and marks < 45:\n",
    "    print(\"Your Grade is E\")\n",
    "elif marks >= 45 and marks < 50:\n",
    "    print(\"Your Grade is D\")\n",
    "elif marks >= 50 and marks < 60:\n",
    "    print(\"Your Grade is C\")\n",
    "elif marks >= 60 and marks < 80:\n",
    "    print(\"Your Grade is B\")\n",
    "elif marks >= 80:\n",
    "    print(\"Your Grade is A\")"
   ]
  },
  {
   "cell_type": "markdown",
   "metadata": {},
   "source": [
    "14)A student will not be allowed to sit in exam if his/her attendence is less than 75%.\n",
    "\n",
    "Take following input from user\n",
    "\n",
    "- Number of classes held\n",
    "\n",
    "- Number of classes attended.\n",
    "\n",
    "And print\n",
    "\n",
    "- percentage of class attended\n",
    "\n",
    "- Is student is allowed to sit in exam or not.\n"
   ]
  },
  {
   "cell_type": "code",
   "execution_count": 4,
   "metadata": {},
   "outputs": [
    {
     "name": "stdin",
     "output_type": "stream",
     "text": [
      "Please enter the number of classes held 15\n",
      "Please enter the number of classes attend 12\n"
     ]
    },
    {
     "name": "stdout",
     "output_type": "stream",
     "text": [
      "80.0\n",
      "He/she can sit\n"
     ]
    }
   ],
   "source": [
    "#Type your code here\n",
    "Number_of_classes_held = int(input(\"Please enter the number of classes held\"))\n",
    "Number_of_classes_attend = int(input(\"Please enter the number of classes attend\"))\n",
    "\n",
    "Perencetage = (Number_of_classes_attend/Number_of_classes_held)*100\n",
    "print(Perencetage)\n",
    "if (int(Perencetage) >= 75):\n",
    "    print(\"He/she can sit\")\n",
    "else:\n",
    "    print(\"He/she cannot sit\")"
   ]
  },
  {
   "cell_type": "markdown",
   "metadata": {},
   "source": [
    "15) Modify the above question to allow student to sit if he/she has medical cause. Ask user if he/she has medical cause or not ( 'Y' or 'N' ) and print accordingly."
   ]
  },
  {
   "cell_type": "code",
   "execution_count": 7,
   "metadata": {},
   "outputs": [
    {
     "name": "stdin",
     "output_type": "stream",
     "text": [
      "Please enter the number of classes held 15\n",
      "Please enter the number of classes attend 8\n",
      "Enter value If he/she has medical cause or not (Y or N) Y\n"
     ]
    },
    {
     "name": "stdout",
     "output_type": "stream",
     "text": [
      "53.333333333333336\n",
      "He/she can sit\n"
     ]
    }
   ],
   "source": [
    "#Type your code here\n",
    "Number_of_classes_held = int(input(\"Please enter the number of classes held\"))\n",
    "Number_of_classes_attend = int(input(\"Please enter the number of classes attend\"))\n",
    "Medical_Cause = input(\"Enter value If he/she has medical cause or not (Y or N)\")\n",
    "\n",
    "Perencetage = (Number_of_classes_attend/Number_of_classes_held)*100\n",
    "print(Perencetage)\n",
    "if (int(Perencetage) >= 75):\n",
    "    print(\"He/she can sit\")\n",
    "else:\n",
    "    if (Medical_Cause == 'Y'):\n",
    "        print(\"He/she can sit\")\n",
    "    else:\n",
    "        print(\"He/she cannot sit\")"
   ]
  },
  {
   "cell_type": "markdown",
   "metadata": {},
   "source": [
    "16) Write a program to check if a year is leap year or not.\n",
    "\n",
    "If a year is divisible by 4 then it is leap year but if the year is century year like 2000, 1900, 2100 then it must be divisible by 400."
   ]
  },
  {
   "cell_type": "code",
   "execution_count": 8,
   "metadata": {},
   "outputs": [
    {
     "name": "stdin",
     "output_type": "stream",
     "text": [
      "Enter a year:  2014\n"
     ]
    },
    {
     "name": "stdout",
     "output_type": "stream",
     "text": [
      "2014 is not a leap year.\n"
     ]
    }
   ],
   "source": [
    "#Type your code here\n",
    "year = int(input(\"Enter a year: \"))\n",
    "\n",
    "if (year % 4 == 0 and year % 100 != 0) or (year % 400 == 0):\n",
    "    print(f\"{year} is a leap year.\")\n",
    "else:\n",
    "    print(f\"{year} is not a leap year.\")"
   ]
  },
  {
   "cell_type": "markdown",
   "metadata": {},
   "source": [
    "17) Ask user to enter age, gender ( M or F ), marital status ( Y or N ) and then using following rules print their place of service.\n",
    "\n",
    "if employee is female, then she will work only in urban areas.\n",
    "\n",
    "if employee is a male and age is in between 20 to 40 then he may work in anywhere\n",
    "\n",
    "if employee is male and age is in between 40 t0 60 then he will work in urban areas only.\n",
    "\n",
    "And any other input of age should print \"ERROR\""
   ]
  },
  {
   "cell_type": "code",
   "execution_count": 10,
   "metadata": {},
   "outputs": [
    {
     "name": "stdin",
     "output_type": "stream",
     "text": [
      "Please enter your age:  38\n",
      "Please enter your gender ( M or F ):  M\n"
     ]
    },
    {
     "name": "stdout",
     "output_type": "stream",
     "text": [
      "he may work in anywhere\n"
     ]
    }
   ],
   "source": [
    "#Type your code here\n",
    "age = int(input(\"Please enter your age: \"))\n",
    "gender = input(\"Please enter your gender ( M or F ): \")\n",
    "#status = input(\"Please enter your marital status in Y or N: \")\n",
    "\n",
    "if gender.upper() == \"F\":\n",
    "    print(\"she will work only in urban areas\")\n",
    "elif gender.upper() == \"M\":\n",
    "    if age > 20 and age < 40:\n",
    "        print(\"he may work in anywhere\")\n",
    "    elif age > 40 and age < 60:\n",
    "        print(\"he will work in urban areas only\")\n",
    "    else:\n",
    "        print(\"ERROR\")\n",
    "else:\n",
    "    print(\"Invalid values\")"
   ]
  },
  {
   "cell_type": "markdown",
   "metadata": {},
   "source": [
    "6) Write a program to calculate the electricity bill (accept number of unit from user) according to the following criteria :\n",
    "     Unit                                                     Price  \n",
    "uptp 100 units                                             no charge\n",
    "Next 200 units                                              Rs 5 per unit\n",
    "After 200 units                                             Rs 10 per unit\n",
    "(For example if input unit is 350 than total bill amount is Rs.3500\n",
    "(For example if input unit is 97 than total bill amount is Rs.0\n",
    "(For example if input unit is 150 than total bill amount is Rs.750"
   ]
  },
  {
   "cell_type": "code",
   "execution_count": 11,
   "metadata": {},
   "outputs": [
    {
     "name": "stdin",
     "output_type": "stream",
     "text": [
      "Enter the number of units consumed:  312\n"
     ]
    },
    {
     "name": "stdout",
     "output_type": "stream",
     "text": [
      "The total electricity bill is: Rs. 1120\n"
     ]
    }
   ],
   "source": [
    "#Type your code here\n",
    "units = int(input(\"Enter the number of units consumed: \"))\n",
    "\n",
    "bill_amount = 0\n",
    "\n",
    "if units <= 100:\n",
    "    bill_amount = 0\n",
    "elif units <= 300:\n",
    "    bill_amount = (units - 100) * 5\n",
    "else:\n",
    "    bill_amount = (200 * 5) + (units - 300) * 10\n",
    "\n",
    "print(f\"The total electricity bill is: Rs. {bill_amount}\")"
   ]
  },
  {
   "cell_type": "markdown",
   "metadata": {},
   "source": [
    "13) Take input of age of 3 people by user and determine oldest and youngest among them."
   ]
  },
  {
   "cell_type": "code",
   "execution_count": 12,
   "metadata": {},
   "outputs": [
    {
     "name": "stdin",
     "output_type": "stream",
     "text": [
      "Enter the age of person 1:  38\n",
      "Enter the age of person 2:  35\n",
      "Enter the age of person 3:  30\n"
     ]
    },
    {
     "name": "stdout",
     "output_type": "stream",
     "text": [
      "The oldest person is 38 years old.\n",
      "The youngest person is 30 years old.\n"
     ]
    }
   ],
   "source": [
    "#Type your code here\n",
    "age1 = int(input(\"Enter the age of person 1: \"))\n",
    "age2 = int(input(\"Enter the age of person 2: \"))\n",
    "age3 = int(input(\"Enter the age of person 3: \"))\n",
    "\n",
    "# Find the oldest and youngest\n",
    "oldest = max(age1, age2, age3)\n",
    "youngest = min(age1, age2, age3)\n",
    "\n",
    "# Output: display the oldest and youngest\n",
    "print(f\"The oldest person is {oldest} years old.\")\n",
    "print(f\"The youngest person is {youngest} years old.\")"
   ]
  }
 ],
 "metadata": {
  "kernelspec": {
   "display_name": "Python 3 (ipykernel)",
   "language": "python",
   "name": "python3"
  },
  "language_info": {
   "codemirror_mode": {
    "name": "ipython",
    "version": 3
   },
   "file_extension": ".py",
   "mimetype": "text/x-python",
   "name": "python",
   "nbconvert_exporter": "python",
   "pygments_lexer": "ipython3",
   "version": "3.12.7"
  }
 },
 "nbformat": 4,
 "nbformat_minor": 4
}
