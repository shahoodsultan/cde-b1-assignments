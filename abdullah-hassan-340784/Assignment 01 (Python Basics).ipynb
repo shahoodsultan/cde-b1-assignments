{
 "cells": [
  {
   "cell_type": "markdown",
   "metadata": {},
   "source": [
    "# Part -1 Python Basics (Variables)"
   ]
  },
  {
   "cell_type": "markdown",
   "metadata": {},
   "source": [
    "1. Print Your Name with your Father name and Date of birth using suitable escape sequence charactor"
   ]
  },
  {
   "cell_type": "code",
   "execution_count": 6,
   "metadata": {},
   "outputs": [
    {
     "name": "stdout",
     "output_type": "stream",
     "text": [
      "name: abdullah hassan\n",
      "father name: shakir ali\n",
      "date of birth: 5-07-2003\n"
     ]
    }
   ],
   "source": [
    "print(\"name: abdullah hassan\\nfather name: shakir ali\\ndate of birth: 5-07-2003\")"
   ]
  },
  {
   "cell_type": "markdown",
   "metadata": {},
   "source": [
    "2. Write your small bio using variables and print it using print function"
   ]
  },
  {
   "cell_type": "code",
   "execution_count": 12,
   "metadata": {},
   "outputs": [
    {
     "name": "stdout",
     "output_type": "stream",
     "text": [
      "My name is Abdullah Hassan.\n",
      "I am 22 years old.\n",
      "I am from Pakistan.\n",
      "I am studying Software Engineering.\n",
      "My hobbies include web development, coding, and exploring new technologies.\n"
     ]
    }
   ],
   "source": [
    "# Define variables for the bio\n",
    "name = \"Abdullah Hassan\"\n",
    "age = 22  \n",
    "country = \"Pakistan\"\n",
    "field_of_study = \"Software Engineering\"\n",
    "hobbies = \"web development, coding, and exploring new technologies\"\n",
    "\n",
    "\n",
    "print(\"My name is\", name + \".\")\n",
    "print(\"I am\", age, \"years old.\")\n",
    "print(\"I am from\", country + \".\")\n",
    "print(\"I am studying\", field_of_study + \".\")\n",
    "print(\"My hobbies include\", hobbies + \".\")\n"
   ]
  },
  {
   "cell_type": "markdown",
   "metadata": {},
   "source": [
    "3. Write a program in which use all the operators we can use in Python"
   ]
  },
  {
   "cell_type": "code",
   "execution_count": 13,
   "metadata": {},
   "outputs": [
    {
     "name": "stdout",
     "output_type": "stream",
     "text": [
      "Arithmetic Operators:\n",
      "Addition: 13\n",
      "Subtraction: 7\n",
      "Multiplication: 30\n",
      "Division: 3.3333333333333335\n",
      "Floor Division: 3\n",
      "Modulus: 1\n",
      "Exponentiation: 1000\n",
      "\n",
      "Assignment Operators:\n",
      "x += 3: 8\n",
      "x -= 2: 6\n",
      "x *= 4: 24\n",
      "x /= 3: 8.0\n",
      "x %= 2: 0.0\n",
      "x **= 3: 0.0\n",
      "x //= 2: 0.0\n",
      "\n",
      "Comparison Operators:\n",
      "a == b: False\n",
      "a != b: True\n",
      "a > b: True\n",
      "a < b: False\n",
      "a >= b: True\n",
      "a <= b: False\n",
      "\n",
      "Logical Operators:\n",
      "c and d: False\n",
      "c or d: True\n",
      "not c: False\n",
      "\n",
      "Bitwise Operators:\n",
      "e & f: 1\n",
      "e | f: 7\n",
      "e ^ f: 6\n",
      "~e: -6\n",
      "e << 1: 10\n",
      "e >> 1: 2\n",
      "\n",
      "Identity Operators:\n",
      "g is h: False\n",
      "g is not h: True\n",
      "\n",
      "Membership Operators:\n",
      "1 in g: True\n"
     ]
    }
   ],
   "source": [
    "# Arithmetic Operators\n",
    "a = 10\n",
    "b = 3\n",
    "print(\"Arithmetic Operators:\")\n",
    "print(\"Addition:\", a + b)           # Addition\n",
    "print(\"Subtraction:\", a - b)        # Subtraction\n",
    "print(\"Multiplication:\", a * b)     # Multiplication\n",
    "print(\"Division:\", a / b)           # Division\n",
    "print(\"Floor Division:\", a // b)    # Floor Division\n",
    "print(\"Modulus:\", a % b)            # Modulus\n",
    "print(\"Exponentiation:\", a ** b)    # Exponentiation\n",
    "\n",
    "# Assignment Operators\n",
    "print(\"\\nAssignment Operators:\")\n",
    "x = 5\n",
    "x += 3\n",
    "print(\"x += 3:\", x)\n",
    "x -= 2\n",
    "print(\"x -= 2:\", x)\n",
    "x *= 4\n",
    "print(\"x *= 4:\", x)\n",
    "x /= 3\n",
    "print(\"x /= 3:\", x)\n",
    "x %= 2\n",
    "print(\"x %= 2:\", x)\n",
    "x **= 3\n",
    "print(\"x **= 3:\", x)\n",
    "x //= 2\n",
    "print(\"x //= 2:\", x)\n",
    "\n",
    "# Comparison Operators\n",
    "print(\"\\nComparison Operators:\")\n",
    "print(\"a == b:\", a == b)            # Equal\n",
    "print(\"a != b:\", a != b)            # Not equal\n",
    "print(\"a > b:\", a > b)              # Greater than\n",
    "print(\"a < b:\", a < b)              # Less than\n",
    "print(\"a >= b:\", a >= b)            # Greater than or equal to\n",
    "print(\"a <= b:\", a <= b)            # Less than or equal to\n",
    "\n",
    "# Logical Operators\n",
    "print(\"\\nLogical Operators:\")\n",
    "c = True\n",
    "d = False\n",
    "print(\"c and d:\", c and d)          # Logical AND\n",
    "print(\"c or d:\", c or d)            # Logical OR\n",
    "print(\"not c:\", not c)              # Logical NOT\n",
    "\n",
    "# Bitwise Operators\n",
    "print(\"\\nBitwise Operators:\")\n",
    "e = 5  # 0101 in binary\n",
    "f = 3  # 0011 in binary\n",
    "print(\"e & f:\", e & f)              # Bitwise AND\n",
    "print(\"e | f:\", e | f)              # Bitwise OR\n",
    "print(\"e ^ f:\", e ^ f)              # Bitwise XOR\n",
    "print(\"~e:\", ~e)                    # Bitwise NOT\n",
    "print(\"e << 1:\", e << 1)            # Bitwise left shift\n",
    "print(\"e >> 1:\", e >> 1)            # Bitwise right shift\n",
    "\n",
    "# Identity Operators\n",
    "print(\"\\nIdentity Operators:\")\n",
    "g = [1, 2, 3]\n",
    "h = [1, 2, 3]\n",
    "print(\"g is h:\", g is h)            # Identity (is)\n",
    "print(\"g is not h:\", g is not h)    # Identity (is not)\n",
    "\n",
    "# Membership Operators\n",
    "print(\"\\nMembership Operators:\")\n",
    "print(\"1 in g:\", 1 in g)            \n"
   ]
  },
  {
   "cell_type": "markdown",
   "metadata": {},
   "source": [
    "4. Completes the following steps of small task:\n",
    "    - Mention Marks of English , Islamiat and Maths out of 100 in 3 different variables\n",
    "    - Mention Variable of Total Marks and assign 300 to it\n",
    "    - Calculate Percentage"
   ]
  },
  {
   "cell_type": "code",
   "execution_count": 14,
   "metadata": {},
   "outputs": [
    {
     "name": "stdout",
     "output_type": "stream",
     "text": [
      "Marks Obtained:\n",
      "English: 85\n",
      "Islamiat: 90\n",
      "Maths: 95\n",
      "Total Obtained Marks: 270\n",
      "Percentage: 90.0 %\n"
     ]
    }
   ],
   "source": [
    "# Step 1: Mention marks for English, Islamiat, and Maths\n",
    "english_marks = 85  # Replace with actual marks\n",
    "islamiat_marks = 90  # Replace with actual marks\n",
    "maths_marks = 95  # Replace with actual marks\n",
    "\n",
    "# Step 2: Mention the total marks\n",
    "total_marks = 300\n",
    "\n",
    "# Step 3: Calculate the percentage\n",
    "obtained_marks = english_marks + islamiat_marks + maths_marks\n",
    "percentage = (obtained_marks / total_marks) * 100\n",
    "\n",
    "# Step 4: Print the results\n",
    "print(\"Marks Obtained:\")\n",
    "print(\"English:\", english_marks)\n",
    "print(\"Islamiat:\", islamiat_marks)\n",
    "print(\"Maths:\", maths_marks)\n",
    "print(\"Total Obtained Marks:\", obtained_marks)\n",
    "print(\"Percentage:\", percentage, \"%\")\n"
   ]
  },
  {
   "cell_type": "markdown",
   "metadata": {},
   "source": [
    "# Part -2 Python Basics (Conditional Statements)"
   ]
  },
  {
   "cell_type": "markdown",
   "metadata": {},
   "source": [
    "1) A company decided to give bonus of 5% to employee if his/her year of service is more than 5 years.\n",
    "Ask user for their salary and year of service and print the net bonus amount."
   ]
  },
  {
   "cell_type": "code",
   "execution_count": 15,
   "metadata": {},
   "outputs": [
    {
     "name": "stdin",
     "output_type": "stream",
     "text": [
      "Enter your salary:  5\n",
      "Enter your years of service:  5\n"
     ]
    },
    {
     "name": "stdout",
     "output_type": "stream",
     "text": [
      "You are not eligible for a bonus.\n",
      "Net bonus amount: 0\n"
     ]
    }
   ],
   "source": [
    "# Ask the user for their salary and years of service\n",
    "salary = float(input(\"Enter your salary: \"))\n",
    "years_of_service = int(input(\"Enter your years of service: \"))\n",
    "\n",
    "# Check if years of service are more than 5 and calculate bonus\n",
    "if years_of_service > 5:\n",
    "    bonus = salary * 0.05  # 5% of salary\n",
    "    print(\"Congratulations! You are eligible for a bonus.\")\n",
    "    print(\"Your bonus amount is:\", bonus)\n",
    "else:\n",
    "    bonus = 0\n",
    "    print(\"You are not eligible for a bonus.\")\n",
    "\n",
    "# Print the net bonus amount\n",
    "print(\"Net bonus amount:\", bonus)\n"
   ]
  },
  {
   "cell_type": "markdown",
   "metadata": {},
   "source": [
    "\n",
    "2) Write a program to check whether a person is eligible for voting or not. (accept age from user) if age is greater than 17 eligible otherwise not eligible"
   ]
  },
  {
   "cell_type": "code",
   "execution_count": 16,
   "metadata": {},
   "outputs": [
    {
     "name": "stdin",
     "output_type": "stream",
     "text": [
      "Enter your age:  18\n"
     ]
    },
    {
     "name": "stdout",
     "output_type": "stream",
     "text": [
      "You are eligible to vote.\n"
     ]
    }
   ],
   "source": [
    "# Ask the user for their age\n",
    "age = int(input(\"Enter your age: \"))\n",
    "\n",
    "# Check if the person is eligible for voting\n",
    "if age > 17:\n",
    "    print(\"You are eligible to vote.\")\n",
    "else:\n",
    "    print(\"You are not eligible to vote.\")\n"
   ]
  },
  {
   "cell_type": "markdown",
   "metadata": {},
   "source": [
    "\n",
    "3) Write a program to check whether a number entered by user is even or odd."
   ]
  },
  {
   "cell_type": "code",
   "execution_count": 17,
   "metadata": {},
   "outputs": [
    {
     "name": "stdin",
     "output_type": "stream",
     "text": [
      "Enter a number:  2\n"
     ]
    },
    {
     "name": "stdout",
     "output_type": "stream",
     "text": [
      "The number 2 is even.\n"
     ]
    }
   ],
   "source": [
    "# Ask the user to enter a number\n",
    "number = int(input(\"Enter a number: \"))\n",
    "\n",
    "# Check if the number is even or odd\n",
    "if number % 2 == 0:\n",
    "    print(f\"The number {number} is even.\")\n",
    "else:\n",
    "    print(f\"The number {number} is odd.\")\n"
   ]
  },
  {
   "cell_type": "markdown",
   "metadata": {},
   "source": [
    "4) Write a program to check whether a number is divisible by 7 or not.\n",
    "Show Answer"
   ]
  },
  {
   "cell_type": "code",
   "execution_count": 18,
   "metadata": {},
   "outputs": [
    {
     "name": "stdin",
     "output_type": "stream",
     "text": [
      "Enter a number:  7\n"
     ]
    },
    {
     "name": "stdout",
     "output_type": "stream",
     "text": [
      "The number 7 is divisible by 7.\n"
     ]
    }
   ],
   "source": [
    "# Ask the user to enter a number\n",
    "number = int(input(\"Enter a number: \"))\n",
    "\n",
    "# Check if the number is divisible by 7\n",
    "if number % 7 == 0:\n",
    "    print(f\"The number {number} is divisible by 7.\")\n",
    "else:\n",
    "    print(f\"The number {number} is not divisible by 7.\")\n"
   ]
  },
  {
   "cell_type": "markdown",
   "metadata": {},
   "source": [
    "5) Write a program to display \n",
    "\"Hello\" if a number entered by user is a multiple of five , otherwise print \"Bye\"."
   ]
  },
  {
   "cell_type": "code",
   "execution_count": 11,
   "metadata": {},
   "outputs": [],
   "source": [
    "#Type your code here"
   ]
  },
  {
   "cell_type": "markdown",
   "metadata": {},
   "source": [
    "7) Write a program to display the last digit of a number.\n"
   ]
  },
  {
   "cell_type": "code",
   "execution_count": 12,
   "metadata": {},
   "outputs": [],
   "source": [
    "#Type your code here"
   ]
  },
  {
   "cell_type": "markdown",
   "metadata": {},
   "source": [
    "9) Take values of length and breadth of a rectangle from user and print if it is square or rectangle."
   ]
  },
  {
   "cell_type": "code",
   "execution_count": 14,
   "metadata": {},
   "outputs": [],
   "source": [
    "#Type your code here "
   ]
  },
  {
   "cell_type": "markdown",
   "metadata": {},
   "source": [
    "10) Take two int values from user and print greatest among them."
   ]
  },
  {
   "cell_type": "code",
   "execution_count": 15,
   "metadata": {},
   "outputs": [],
   "source": [
    "# Type your code here"
   ]
  },
  {
   "cell_type": "markdown",
   "metadata": {},
   "source": [
    "11) A shop will give discount of 10% if the cost of purchased quantity is more than 1000.\n",
    "Ask user for quantity\n",
    "Suppose, one unit will cost 100.\n",
    "Judge and print total cost for user."
   ]
  },
  {
   "cell_type": "code",
   "execution_count": 16,
   "metadata": {},
   "outputs": [],
   "source": [
    "#Type your code here"
   ]
  },
  {
   "cell_type": "markdown",
   "metadata": {},
   "source": [
    "12) A school has following rules for grading system:\n",
    "\n",
    "a. Below 25 - F\n",
    "\n",
    "b. 25 to 45 - E\n",
    "\n",
    "c. 45 to 50 - D\n",
    "\n",
    "d. 50 to 60 - C\n",
    "\n",
    "e. 60 to 80 - B\n",
    "\n",
    "f. Above 80 - A\n",
    "\n",
    "Ask user to enter marks and print the corresponding grade."
   ]
  },
  {
   "cell_type": "code",
   "execution_count": 2,
   "metadata": {},
   "outputs": [],
   "source": [
    "#Type your code here"
   ]
  },
  {
   "cell_type": "markdown",
   "metadata": {},
   "source": [
    "14)A student will not be allowed to sit in exam if his/her attendence is less than 75%.\n",
    "\n",
    "Take following input from user\n",
    "\n",
    "- Number of classes held\n",
    "\n",
    "- Number of classes attended.\n",
    "\n",
    "And print\n",
    "\n",
    "- percentage of class attended\n",
    "\n",
    "- Is student is allowed to sit in exam or not.\n"
   ]
  },
  {
   "cell_type": "code",
   "execution_count": 19,
   "metadata": {},
   "outputs": [],
   "source": [
    "#Type your code here"
   ]
  },
  {
   "cell_type": "markdown",
   "metadata": {},
   "source": [
    "15) Modify the above question to allow student to sit if he/she has medical cause. Ask user if he/she has medical cause or not ( 'Y' or 'N' ) and print accordingly."
   ]
  },
  {
   "cell_type": "code",
   "execution_count": 20,
   "metadata": {},
   "outputs": [],
   "source": [
    "#Type your code here"
   ]
  },
  {
   "cell_type": "markdown",
   "metadata": {},
   "source": [
    "16) Write a program to check if a year is leap year or not.\n",
    "\n",
    "If a year is divisible by 4 then it is leap year but if the year is century year like 2000, 1900, 2100 then it must be divisible by 400."
   ]
  },
  {
   "cell_type": "code",
   "execution_count": 21,
   "metadata": {},
   "outputs": [],
   "source": [
    "#Type your code here"
   ]
  },
  {
   "cell_type": "markdown",
   "metadata": {},
   "source": [
    "17) Ask user to enter age, gender ( M or F ), marital status ( Y or N ) and then using following rules print their place of service.\n",
    "\n",
    "if employee is female, then she will work only in urban areas.\n",
    "\n",
    "if employee is a male and age is in between 20 to 40 then he may work in anywhere\n",
    "\n",
    "if employee is male and age is in between 40 t0 60 then he will work in urban areas only.\n",
    "\n",
    "And any other input of age should print \"ERROR\""
   ]
  },
  {
   "cell_type": "code",
   "execution_count": 22,
   "metadata": {},
   "outputs": [],
   "source": [
    "#Type your code here"
   ]
  },
  {
   "cell_type": "markdown",
   "metadata": {},
   "source": [
    "6) Write a program to calculate the electricity bill (accept number of unit from user) according to the following criteria :\n",
    "     Unit                                                     Price  \n",
    "uptp 100 units                                             no charge\n",
    "Next 200 units                                              Rs 5 per unit\n",
    "After 200 units                                             Rs 10 per unit\n",
    "(For example if input unit is 350 than total bill amount is Rs.3500\n",
    "(For example if input unit is 97 than total bill amount is Rs.0\n",
    "(For example if input unit is 150 than total bill amount is Rs.750"
   ]
  },
  {
   "cell_type": "markdown",
   "metadata": {},
   "source": [
    "13) Take input of age of 3 people by user and determine oldest and youngest among them."
   ]
  },
  {
   "cell_type": "code",
   "execution_count": 18,
   "metadata": {},
   "outputs": [],
   "source": [
    "#Type your code here"
   ]
  }
 ],
 "metadata": {
  "kernelspec": {
   "display_name": "Python 3 (ipykernel)",
   "language": "python",
   "name": "python3"
  },
  "language_info": {
   "codemirror_mode": {
    "name": "ipython",
    "version": 3
   },
   "file_extension": ".py",
   "mimetype": "text/x-python",
   "name": "python",
   "nbconvert_exporter": "python",
   "pygments_lexer": "ipython3",
   "version": "3.13.0"
  }
 },
 "nbformat": 4,
 "nbformat_minor": 4
}
