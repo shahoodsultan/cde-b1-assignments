{
 "cells": [
  {
   "cell_type": "markdown",
   "metadata": {},
   "source": [
    "# Part -1 Python Basics (Variables)"
   ]
  },
  {
   "cell_type": "markdown",
   "metadata": {},
   "source": [
    "1. Print Your Name with your Father name and Date of birth using suitable escape sequence charactor"
   ]
  },
  {
   "cell_type": "code",
   "execution_count": 6,
   "metadata": {},
   "outputs": [
    {
     "name": "stdout",
     "output_type": "stream",
     "text": [
      "Name: Huzaifa\n",
      "Father name: Javed\n",
      "DOB:27/5/2002 \n"
     ]
    }
   ],
   "source": [
    "print(\"Name: Huzaifa\\nFather name: Javed\\nDOB:27/5/2002 \")"
   ]
  },
  {
   "cell_type": "markdown",
   "metadata": {},
   "source": [
    "2. Write your small bio using variables and print it using print function"
   ]
  },
  {
   "cell_type": "code",
   "execution_count": 8,
   "metadata": {},
   "outputs": [
    {
     "name": "stdout",
     "output_type": "stream",
     "text": [
      "My name is Huzaifa Latif. I am currently doing my graduation from UBIT, Karachi University. I am currently enrolled in the Saylani CDE course.\n"
     ]
    }
   ],
   "source": [
    "a=\"My name is Huzaifa Latif.\"\n",
    "b=\"I am currently doing my graduation from UBIT, Karachi University.\"\n",
    "c=\"I am currently enrolled in the Saylani CDE course.\"\n",
    "print(a,b,c)"
   ]
  },
  {
   "cell_type": "markdown",
   "metadata": {},
   "source": [
    "3. Write a program in which use all the operators we can use in Python"
   ]
  },
  {
   "cell_type": "code",
   "execution_count": 10,
   "metadata": {},
   "outputs": [
    {
     "name": "stdout",
     "output_type": "stream",
     "text": [
      "False\n"
     ]
    }
   ],
   "source": [
    "a=10-2+3*5/12\n",
    "b=a%2\n",
    "c=b**2\n",
    "if (c==2):\n",
    "    print(\"true\")\n",
    "else:\n",
    "    print(\"False\")\n"
   ]
  },
  {
   "cell_type": "markdown",
   "metadata": {},
   "source": [
    "4. Completes the following steps of small task:\n",
    "    - Mention Marks of English , Islamiat and Maths out of 100 in 3 different variables\n",
    "    - Mention Variable of Total Marks and assign 300 to it\n",
    "    - Calculate Percentage"
   ]
  },
  {
   "cell_type": "code",
   "execution_count": 14,
   "metadata": {},
   "outputs": [
    {
     "name": "stdout",
     "output_type": "stream",
     "text": [
      "80.0\n"
     ]
    }
   ],
   "source": [
    "English=int(70)\n",
    "Islamiat=int(80)\n",
    "Maths=int(90)\n",
    "Total_Marks=int(300)\n",
    "Percentage=float(((English+Islamiat+Maths)/Total_Marks)*100)\n",
    "print(Percentage)"
   ]
  },
  {
   "cell_type": "markdown",
   "metadata": {},
   "source": [
    "# Part -2 Python Basics (Conditional Statements)"
   ]
  },
  {
   "cell_type": "markdown",
   "metadata": {},
   "source": [
    "1) A company decided to give bonus of 5% to employee if his/her year of service is more than 5 years.\n",
    "Ask user for their salary and year of service and print the net bonus amount."
   ]
  },
  {
   "cell_type": "code",
   "execution_count": 6,
   "metadata": {},
   "outputs": [],
   "source": [
    "Experience=int(input(\"Enter your years of experience?\"))\n",
    "Salary=float(input(\"What is your Salary?\"))\n",
    "Bonous_Salary=0\n",
    "if Experience>5:\n",
    "    Bonous_Salary=Salary*0.05\n",
    "    print(\"Net bonous Salary=\", Bonous_Salary+Salary)\n",
    "else:\n",
    "    print(\"Salary=\", Salary)"
   ]
  },
  {
   "cell_type": "markdown",
   "metadata": {},
   "source": [
    "\n",
    "2) Write a program to check whether a person is eligible for voting or not. (accept age from user) if age is greater than 17 eligible otherwise not eligible"
   ]
  },
  {
   "cell_type": "code",
   "execution_count": 7,
   "metadata": {},
   "outputs": [],
   "source": [
    "Age=int(input(\"What is your Age?\"))\n",
    "if Age>=18:\n",
    "    print(\"You are eligible for voting\")\n",
    "else:\n",
    "    print(\"You are not eligible for voting\")"
   ]
  },
  {
   "cell_type": "markdown",
   "metadata": {},
   "source": [
    "\n",
    "3) Write a program to check whether a number entered by user is even or odd."
   ]
  },
  {
   "cell_type": "code",
   "execution_count": 18,
   "metadata": {},
   "outputs": [
    {
     "name": "stdin",
     "output_type": "stream",
     "text": [
      "Enter the number: 20\n"
     ]
    },
    {
     "name": "stdout",
     "output_type": "stream",
     "text": [
      "The number is even\n"
     ]
    }
   ],
   "source": [
    "number=int(input(\"Enter the number:\"))\n",
    "if (number%2==0):\n",
    "    print(\"The number is even\")\n",
    "else:\n",
    "    print(\"The number is odd\")"
   ]
  },
  {
   "cell_type": "markdown",
   "metadata": {},
   "source": [
    "4) Write a program to check whether a number is divisible by 7 or not.\n",
    "Show Answer"
   ]
  },
  {
   "cell_type": "code",
   "execution_count": 20,
   "metadata": {},
   "outputs": [
    {
     "name": "stdin",
     "output_type": "stream",
     "text": [
      "Enter the number: 21\n"
     ]
    },
    {
     "name": "stdout",
     "output_type": "stream",
     "text": [
      "Number is divisible by 7\n"
     ]
    }
   ],
   "source": [
    "number=int(input(\"Enter the number:\"))\n",
    "if (number%7==0):\n",
    "    print(\"Number is divisible by 7\")\n",
    "else:\n",
    "    print(\"Number is not divisible by 7\")\n",
    "    "
   ]
  },
  {
   "cell_type": "markdown",
   "metadata": {},
   "source": [
    "5) Write a program to display \n",
    "\"Hello\" if a number entered by user is a multiple of five , otherwise print \"Bye\"."
   ]
  },
  {
   "cell_type": "code",
   "execution_count": 24,
   "metadata": {},
   "outputs": [
    {
     "name": "stdin",
     "output_type": "stream",
     "text": [
      "Enter the number: 22\n"
     ]
    },
    {
     "name": "stdout",
     "output_type": "stream",
     "text": [
      "Bye\n"
     ]
    }
   ],
   "source": [
    "number=int(input(\"Enter the number:\"))\n",
    "if (number%5==0):\n",
    "    print(\"Hello\")\n",
    "else:\n",
    "    print(\"Bye\")"
   ]
  },
  {
   "cell_type": "markdown",
   "metadata": {},
   "source": [
    "7) Write a program to display the last digit of a number.\n"
   ]
  },
  {
   "cell_type": "code",
   "execution_count": 36,
   "metadata": {},
   "outputs": [
    {
     "name": "stdin",
     "output_type": "stream",
     "text": [
      "Enter the number: 1112233333\n"
     ]
    },
    {
     "data": {
      "text/plain": [
       "'3'"
      ]
     },
     "execution_count": 36,
     "metadata": {},
     "output_type": "execute_result"
    }
   ],
   "source": [
    "number=input(\"Enter the number:\")\n",
    "number[-1]\n",
    "\n",
    "\n"
   ]
  },
  {
   "cell_type": "markdown",
   "metadata": {},
   "source": [
    "9) Take values of length and breadth of a rectangle from user and print if it is square or rectangle."
   ]
  },
  {
   "cell_type": "code",
   "execution_count": 40,
   "metadata": {},
   "outputs": [
    {
     "name": "stdin",
     "output_type": "stream",
     "text": [
      "What is the Length? 2\n",
      "What is the Breadth? 23\n"
     ]
    },
    {
     "name": "stdout",
     "output_type": "stream",
     "text": [
      "It is a rectangle\n"
     ]
    }
   ],
   "source": [
    "Length=int(input(\"What is the Length?\"))\n",
    "Breadth=int(input(\"What is the Breadth?\"))\n",
    "if (Length==Breadth):\n",
    "    print(\"This is a square\")\n",
    "else:\n",
    "    print(\"It is a rectangle\")"
   ]
  },
  {
   "cell_type": "markdown",
   "metadata": {},
   "source": [
    "10) Take two int values from user and print greatest among them."
   ]
  },
  {
   "cell_type": "code",
   "execution_count": 42,
   "metadata": {},
   "outputs": [
    {
     "name": "stdin",
     "output_type": "stream",
     "text": [
      "Enter the first number: 23\n",
      "Enter the second number: 44\n"
     ]
    },
    {
     "name": "stdout",
     "output_type": "stream",
     "text": [
      "44\n"
     ]
    }
   ],
   "source": [
    "number_1=int(input(\"Enter the first number:\"))\n",
    "number_2=int(input(\"Enter the second number:\"))\n",
    "if(number_1>number_2):\n",
    "    print(number_1)\n",
    "else:\n",
    "    print(number_2)"
   ]
  },
  {
   "cell_type": "markdown",
   "metadata": {},
   "source": [
    "11) A shop will give discount of 10% if the cost of purchased quantity is more than 1000.\n",
    "Ask user for quantity\n",
    "Suppose, one unit will cost 100.\n",
    "Judge and print total cost for user."
   ]
  },
  {
   "cell_type": "code",
   "execution_count": 46,
   "metadata": {},
   "outputs": [
    {
     "name": "stdin",
     "output_type": "stream",
     "text": [
      "What is the total quantity? 1100\n"
     ]
    },
    {
     "name": "stdout",
     "output_type": "stream",
     "text": [
      "Your total cost after discount is: 99000.0\n"
     ]
    }
   ],
   "source": [
    "quantity=int(input(\"What is the total quantity?\"))\n",
    "if (quantity>1000):\n",
    "    cost=float(quantity*100)\n",
    "    dis=float(cost*0.1)\n",
    "    cost=cost-dis\n",
    "    print(\"Your total cost after discount is:\",cost)\n",
    "else:\n",
    "    cost=float(quantity*100)\n",
    "    print(\"Your total cost is:\",cost)"
   ]
  },
  {
   "cell_type": "markdown",
   "metadata": {},
   "source": [
    "12) A school has following rules for grading system:\n",
    "\n",
    "a. Below 25 - F\n",
    "\n",
    "b. 25 to 45 - E\n",
    "\n",
    "c. 45 to 50 - D\n",
    "\n",
    "d. 50 to 60 - C\n",
    "\n",
    "e. 60 to 80 - B\n",
    "\n",
    "f. Above 80 - A\n",
    "\n",
    "Ask user to enter marks and print the corresponding grade."
   ]
  },
  {
   "cell_type": "code",
   "execution_count": 48,
   "metadata": {},
   "outputs": [
    {
     "name": "stdin",
     "output_type": "stream",
     "text": [
      "Enter your Marks? 22\n"
     ]
    },
    {
     "name": "stdout",
     "output_type": "stream",
     "text": [
      "Your Grade is F\n"
     ]
    }
   ],
   "source": [
    "marks=int(input(\"Enter your Marks?\"))\n",
    "if marks<25:\n",
    "    print(\"Your Grade is F\")\n",
    "elif marks>80:\n",
    "    print(\"Your Grade is A\")\n",
    "elif marks >=25 and marks<=45:\n",
    "    print(\"Your Grade is E\")\n",
    "elif marks >=45 and marks<=50:\n",
    "    print(\"Your Grade is D\")\n",
    "elif marks >=50 and marks<=60:\n",
    "    print(\"Your Grade is C\")\n",
    "elif marks >=60 and marks<=80:\n",
    "    print(\"Your Grade is B\")\n",
    "else:\n",
    "    print(\"Invalid input\")"
   ]
  },
  {
   "cell_type": "markdown",
   "metadata": {},
   "source": [
    "14)A student will not be allowed to sit in exam if his/her attendence is less than 75%.\n",
    "\n",
    "Take following input from user\n",
    "\n",
    "- Number of classes held\n",
    "\n",
    "- Number of classes attended.\n",
    "\n",
    "And print\n",
    "\n",
    "- percentage of class attended\n",
    "\n",
    "- Is student is allowed to sit in exam or not.\n"
   ]
  },
  {
   "cell_type": "code",
   "execution_count": 56,
   "metadata": {},
   "outputs": [
    {
     "name": "stdin",
     "output_type": "stream",
     "text": [
      "Enter the Number of classes held? 100\n",
      "Enter the Number of classes attended? 60\n"
     ]
    },
    {
     "name": "stdout",
     "output_type": "stream",
     "text": [
      "percentage of class attended: 60.0 %\n",
      "You are not allowed to sit in Exam\n"
     ]
    }
   ],
   "source": [
    "Number_of_classes_held=int(input(\"Enter the Number of classes held?\"))\n",
    "Number_of_classes_attended=int(input(\"Enter the Number of classes attended?\"))\n",
    "percentage_of_class_attended=float((Number_of_classes_attended/Number_of_classes_held)*100)\n",
    "print(\"percentage of class attended:\",percentage_of_class_attended,\"%\")\n",
    "if(percentage_of_class_attended<75):\n",
    "    print(\"You are not allowed to sit in Exam\")\n",
    "else:\n",
    "    print(\"You are allowed to sit in Exam\")\n"
   ]
  },
  {
   "cell_type": "markdown",
   "metadata": {},
   "source": [
    "15) Modify the above question to allow student to sit if he/she has medical cause. Ask user if he/she has medical cause or not ( 'Y' or 'N' ) and print accordingly."
   ]
  },
  {
   "cell_type": "code",
   "execution_count": 62,
   "metadata": {},
   "outputs": [
    {
     "name": "stdin",
     "output_type": "stream",
     "text": [
      "Enter the Number of classes held? 100\n",
      "Enter the Number of classes attended? 50\n",
      "Do you have a medical cause or not ( 'Y' or 'N' )? Y\n"
     ]
    },
    {
     "name": "stdout",
     "output_type": "stream",
     "text": [
      "You are allowed to sit in Exam\n"
     ]
    }
   ],
   "source": [
    "Number_of_classes_held=int(input(\"Enter the Number of classes held?\"))\n",
    "Number_of_classes_attended=int(input(\"Enter the Number of classes attended?\"))\n",
    "Medical_cause=input(\"Do you have a medical cause or not ( 'Y' or 'N' )?\")\n",
    "if (Medical_cause==\"Y\"):\n",
    "    print(\"You are allowed to sit in Exam\")\n",
    "else:\n",
    "    percentage_of_class_attended=float((Number_of_classes_attended/Number_of_classes_held)*100)\n",
    "    print(\"percentage of class attended:\",percentage_of_class_attended,\"%\")\n",
    "    if(percentage_of_class_attended<75):\n",
    "        print(\"You are not allowed to sit in Exam\")\n",
    "    else:\n",
    "        print(\"You are allowed to sit in Exam\")"
   ]
  },
  {
   "cell_type": "markdown",
   "metadata": {},
   "source": [
    "16) Write a program to check if a year is leap year or not.\n",
    "\n",
    "If a year is divisible by 4 then it is leap year but if the year is century year like 2000, 1900, 2100 then it must be divisible by 400."
   ]
  },
  {
   "cell_type": "code",
   "execution_count": 20,
   "metadata": {},
   "outputs": [
    {
     "name": "stdin",
     "output_type": "stream",
     "text": [
      "Enter a year:  2023\n"
     ]
    },
    {
     "name": "stdout",
     "output_type": "stream",
     "text": [
      "this is a not leap year.\n"
     ]
    }
   ],
   "source": [
    "year = int(input(\"Enter a year: \"))\n",
    "\n",
    "if (year % 4 == 0 and year % 100 != 0) or (year % 400 == 0):\n",
    "    print(\"this is a leap year.\")\n",
    "else:\n",
    "    print(\"this is a not leap year.\") "
   ]
  },
  {
   "cell_type": "markdown",
   "metadata": {},
   "source": [
    "17) Ask user to enter age, gender ( M or F ), marital status ( Y or N ) and then using following rules print their place of service.\n",
    "\n",
    "if employee is female, then she will work only in urban areas.\n",
    "\n",
    "if employee is a male and age is in between 20 to 40 then he may work in anywhere\n",
    "\n",
    "if employee is male and age is in between 40 t0 60 then he will work in urban areas only.\n",
    "\n",
    "And any other input of age should print \"ERROR\""
   ]
  },
  {
   "cell_type": "code",
   "execution_count": 22,
   "metadata": {},
   "outputs": [],
   "source": [
    "age=int(input(\"What is your age?\"))\n",
    "gender=input(\"What is your Gender? Reply[M/F]\")\n",
    "martial_status=input(\"What is your Martial Status? Reply[Y/N]\")\n",
    "\n",
    "if gender==\"F\":\n",
    "    print(\"You will work in Urban areas ONLY\")\n",
    "elif gender==\"M\" and age>=20 and age<=40:\n",
    "    print(\"You can work anywhere\")\n",
    "elif gender==\"M\" and age>=40 and age<=60:\n",
    "    print(\"You can work in Urban areas ONLY\")\n",
    "else:\n",
    "    print(\"Error\")"
   ]
  },
  {
   "cell_type": "markdown",
   "metadata": {},
   "source": [
    "6) Write a program to calculate the electricity bill (accept number of unit from user) according to the following criteria :\n",
    "     Unit                                                     Price  \n",
    "uptp 100 units                                             no charge\n",
    "Next 200 units                                              Rs 5 per unit\n",
    "After 200 units                                             Rs 10 per unit\n",
    "(For example if input unit is 350 than total bill amount is Rs.3500\n",
    "(For example if input unit is 97 than total bill amount is Rs.0\n",
    "(For example if input unit is 150 than total bill amount is Rs.750\n",
    "\n"
   ]
  },
  {
   "cell_type": "code",
   "execution_count": 14,
   "metadata": {},
   "outputs": [
    {
     "name": "stdin",
     "output_type": "stream",
     "text": [
      "Enter number of Units: 350\n"
     ]
    },
    {
     "name": "stdout",
     "output_type": "stream",
     "text": [
      "Bill: 3500\n"
     ]
    }
   ],
   "source": [
    "units=int(input(\"Enter number of Units:\"))\n",
    "if (units<=100):\n",
    "    print(\"No charge\")\n",
    "elif (units >=100 and units<=200):\n",
    "    print(\"Bill:\",units*5)\n",
    "elif (units >200):\n",
    "    print(\"Bill:\",units*10)"
   ]
  },
  {
   "cell_type": "markdown",
   "metadata": {},
   "source": [
    "13) Take input of age of 3 people by user and determine oldest and youngest among them."
   ]
  },
  {
   "cell_type": "code",
   "execution_count": 18,
   "metadata": {},
   "outputs": [
    {
     "name": "stdin",
     "output_type": "stream",
     "text": [
      "Enter age? 10\n",
      "Enter age? 20\n",
      "Enter age? 30\n"
     ]
    },
    {
     "name": "stdout",
     "output_type": "stream",
     "text": [
      "oldest= 30\n",
      "Youngest= 10\n"
     ]
    }
   ],
   "source": [
    "ageArr=[1,3,3]\n",
    "ageArr[0]=int(input(\"Enter age?\"))\n",
    "ageArr[1]=int(input(\"Enter age?\"))\n",
    "ageArr[2]=int(input(\"Enter age?\"))\n",
    "ageArr.sort()\n",
    "print(\"oldest=\",ageArr[-1])\n",
    "print(\"Youngest=\",ageArr[0])"
   ]
  },
  {
   "cell_type": "code",
   "execution_count": null,
   "metadata": {},
   "outputs": [],
   "source": []
  }
 ],
 "metadata": {
  "kernelspec": {
   "display_name": "Python 3 (ipykernel)",
   "language": "python",
   "name": "python3"
  },
  "language_info": {
   "codemirror_mode": {
    "name": "ipython",
    "version": 3
   },
   "file_extension": ".py",
   "mimetype": "text/x-python",
   "name": "python",
   "nbconvert_exporter": "python",
   "pygments_lexer": "ipython3",
   "version": "3.12.7"
  }
 },
 "nbformat": 4,
 "nbformat_minor": 4
}
