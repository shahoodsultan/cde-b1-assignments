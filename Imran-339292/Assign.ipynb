{
 "cells": [
  {
   "cell_type": "code",
   "execution_count": 1,
   "id": "1ceab827-11de-4de5-97de-ec5740ae91fc",
   "metadata": {},
   "outputs": [
    {
     "name": "stdout",
     "output_type": "stream",
     "text": [
      "hi\n"
     ]
    }
   ],
   "source": [
    "print(\"hi\")"
   ]
  },
  {
   "cell_type": "code",
   "execution_count": 17,
   "id": "6c5d8269-9ff0-43fa-b0dd-b7df326d7e59",
   "metadata": {},
   "outputs": [
    {
     "name": "stdout",
     "output_type": "stream",
     "text": [
      "this is a method\n"
     ]
    }
   ],
   "source": [
    "# In python a function is defined by DEF method \n",
    "# To call a certain method you can write name name and brackets imran_function() like that \n",
    "\n",
    "def imran_function():\n",
    " print(\"this is a method\")\n",
    "\n",
    "inra=imran_function()"
   ]
  },
  {
   "cell_type": "code",
   "execution_count": 11,
   "id": "a2fb749a-7ccb-47b5-a757-49208add2f83",
   "metadata": {},
   "outputs": [
    {
     "name": "stdout",
     "output_type": "stream",
     "text": [
      "Name: John Doe\n",
      "Father's Name: Robert Doe\n",
      "Date of Birth: 01/01/2000\n"
     ]
    }
   ],
   "source": [
    "# Printing name, father's name, and date of birth using escape sequences\n",
    "\n",
    "print(\"Name: John Doe\\nFather's Name: Robert Doe\\nDate of Birth: 01/01/2000\")\n",
    "\n"
   ]
  },
  {
   "cell_type": "code",
   "execution_count": 13,
   "id": "0f71a9f7-d50f-43ec-b6fd-384f1cdb0cdf",
   "metadata": {},
   "outputs": [
    {
     "name": "stdout",
     "output_type": "stream",
     "text": [
      "Name: John Doe\n",
      "Father's Name: Robert Doe\n",
      "Date of Birth: 01/01/2000\n",
      "Occupation: Software Developer\n",
      "Hobby: Reading books\n",
      "City: New York\n"
     ]
    }
   ],
   "source": [
    "name = \"John Doe\"\n",
    "father_name = \"Robert Doe\"\n",
    "dob = \"01/01/2000\"\n",
    "occupation = \"Software Developer\"\n",
    "hobby = \"Reading books\"\n",
    "city = \"New York\"\n",
    "\n",
    "print(\"Name:\", name)\n",
    "print(\"Father's Name:\", father_name)\n",
    "print(\"Date of Birth:\", dob)\n",
    "print(\"Occupation:\", occupation)\n",
    "print(\"Hobby:\", hobby)\n",
    "print(\"City:\", city)\n"
   ]
  },
  {
   "cell_type": "code",
   "execution_count": 21,
   "id": "2db371a8-f8db-49be-ada0-4772f7f0fd27",
   "metadata": {},
   "outputs": [
    {
     "name": "stdout",
     "output_type": "stream",
     "text": [
      "Arithmetic Operators:\n",
      "a + b = 15\n",
      "a - b = 5\n",
      "a * b = 50\n",
      "a / b = 2.0\n",
      "a // b = 2\n",
      "a % b = 0\n",
      "a ** b = 100000\n",
      "\n",
      "Comparison Operators:\n",
      "x == y: False\n",
      "x != y: True\n",
      "x > y: False\n"
     ]
    }
   ],
   "source": [
    "# Arithmetic Operators\n",
    "a = 10\n",
    "b = 5\n",
    "\n",
    "print(\"Arithmetic Operators:\")\n",
    "print(f\"a + b = {a + b}\")  # Addition\n",
    "print(f\"a - b = {a - b}\")  # Subtraction\n",
    "print(f\"a * b = {a * b}\")  # Multiplication\n",
    "print(f\"a / b = {a / b}\")  # Division (float)\n",
    "print(f\"a // b = {a // b}\")  # Floor division\n",
    "print(f\"a % b = {a % b}\")  # Modulus\n",
    "print(f\"a ** b = {a ** b}\")  # Exponentiation\n",
    "print()\n",
    "\n",
    "# Comparison Operators\n",
    "x = 10\n",
    "y = 20\n",
    "\n",
    "print(\"Comparison Operators:\")\n",
    "print(f\"x == y: {x == y}\")  # Equal to\n",
    "print(f\"x != y: {x != y}\")  # Not equal to\n",
    "print(f\"x > y: {x > y}\")    # Greater than\n"
   ]
  },
  {
   "cell_type": "code",
   "execution_count": null,
   "id": "9d9d6d31-44ef-44fc-a19e-8593c0e5db73",
   "metadata": {},
   "outputs": [],
   "source": []
  }
 ],
 "metadata": {
  "kernelspec": {
   "display_name": "Python 3 (ipykernel)",
   "language": "python",
   "name": "python3"
  },
  "language_info": {
   "codemirror_mode": {
    "name": "ipython",
    "version": 3
   },
   "file_extension": ".py",
   "mimetype": "text/x-python",
   "name": "python",
   "nbconvert_exporter": "python",
   "pygments_lexer": "ipython3",
   "version": "3.12.4"
  }
 },
 "nbformat": 4,
 "nbformat_minor": 5
}
