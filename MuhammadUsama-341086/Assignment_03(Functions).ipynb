{
 "cells": [
  {
   "cell_type": "markdown",
   "metadata": {
    "id": "WbWe2auqg3ZE"
   },
   "source": [
    "\n",
    "# **Question No 01**\n",
    "\n",
    "Write a function called create_word_count that takes a list of strings and returns a dictionary where:\n",
    "\n",
    "Keys are unique words from the list.\n",
    "Values are the count of occurrences of each word.\n",
    "\n",
    "**Exmple:**\n",
    "words = ['apple', 'banana', 'apple', 'cherry', 'banana', 'apple']\n",
    "result = create_word_count(words)\n",
    "print(result)  # {'apple': 3, 'banana': 2, 'cherry': 1}\n",
    "\n"
   ]
  },
  {
   "cell_type": "code",
   "execution_count": 1,
   "metadata": {
    "id": "Y7n-RlA-iywL"
   },
   "outputs": [
    {
     "name": "stdout",
     "output_type": "stream",
     "text": [
      "{'apple': 3, 'banana': 2, 'cherry': 1}\n"
     ]
    }
   ],
   "source": [
    "def create_word_count(words):\n",
    "    word_count = {}\n",
    "    for word in words:\n",
    "        if word in word_count:\n",
    "            word_count[word] += 1\n",
    "        else:\n",
    "            word_count[word] = 1\n",
    "    print(word_count)\n",
    "\n",
    "words = ['apple', 'banana', 'apple', 'cherry', 'banana', 'apple']\n",
    "create_word_count(words)\n",
    "        "
   ]
  },
  {
   "cell_type": "markdown",
   "metadata": {
    "id": "CWDqnzRRg3br"
   },
   "source": [
    "# **Question No 02**\n",
    "\n",
    "Write a function called sort_by_key that takes a list of dictionaries and a key to sort by.\n",
    "\n",
    "The function should return a new list sorted by the given key in ascending order.\n",
    "If the key doesn’t exist in a dictionary, ignore that dictionary.\n",
    "\n",
    "**Exmple:**\n",
    "\n",
    "data = [{'name': 'Alice', 'age': 25}, {'name': 'Bob', 'age': 22}, {'name': 'Charlie', 'age': 30}]\n",
    "sorted_data = sort_by_key(data, 'age')\n",
    "print(sorted_data)  \n",
    "# [{'name': 'Bob', 'age': 22}, {'name': 'Alice', 'age': 25}, {'name': 'Charlie', 'age': 30}]\n",
    "\n"
   ]
  },
  {
   "cell_type": "code",
   "execution_count": 2,
   "metadata": {
    "id": "y_7uTIbbi1fu"
   },
   "outputs": [
    {
     "name": "stdout",
     "output_type": "stream",
     "text": [
      "[{'name': 'Bob', 'age': 22}, {'name': 'Alice', 'age': 25}, {'name': 'Charlie', 'age': 30}]\n"
     ]
    }
   ],
   "source": [
    "def sort_by_key(data, key):\n",
    "    new_list = []\n",
    "    for dataa in data:\n",
    "        if key in dataa:\n",
    "            new_list.append(dataa)\n",
    "    def get_key(item):\n",
    "        return item[key]\n",
    "\n",
    "    new_list.sort(key=get_key)\n",
    "    return new_list\n",
    "        \n",
    "\n",
    "data = [{'name': 'Alice', 'age': 25}, {'name': 'Bob', 'age': 22}, {'name': 'Charlie', 'age': 30}]\n",
    "sorted_data = sort_by_key(data, \"age\")\n",
    "print(sorted_data)"
   ]
  },
  {
   "cell_type": "markdown",
   "metadata": {
    "id": "CzVcAI2jg3ei"
   },
   "source": [
    "# **Question No 03**\n",
    "\n",
    "Write a function called filter_dict that takes a dictionary and a value threshold as arguments.\n",
    "\n",
    "The function should return a new dictionary containing only the key-value pairs where the value is greater than the threshold.\n",
    "\n",
    "**Exmple:**\n",
    "\n",
    "scores = {'Alice': 85, 'Bob': 90, 'Charlie': 78, 'David': 92}\n",
    "filtered_scores = filter_dict(scores, 80)\n",
    "print(filtered_scores)  # {'Alice': 85, 'Bob': 90, 'David': 92}\n",
    "\n"
   ]
  },
  {
   "cell_type": "code",
   "execution_count": 3,
   "metadata": {
    "id": "Y1fBZTKWi2wq"
   },
   "outputs": [
    {
     "name": "stdout",
     "output_type": "stream",
     "text": [
      "{'Alice': 85, 'Bob': 90, 'David': 92}\n"
     ]
    }
   ],
   "source": [
    "def filter_dict(scores, threshold):\n",
    "    filtered_dict = {}\n",
    "    for key, value in scores.items():\n",
    "        if value > threshold:\n",
    "            filtered_dict[key] = value\n",
    "\n",
    "    return filtered_dict\n",
    "    \n",
    "scores = {'Alice': 85, 'Bob': 90, 'Charlie': 78, 'David': 92}    \n",
    "filtered_scores = filter_dict(scores, 80)\n",
    "print(filtered_scores)"
   ]
  },
  {
   "cell_type": "markdown",
   "metadata": {
    "id": "sKZLjKbog3jw"
   },
   "source": [
    "# **Question No 04**\n",
    "\n",
    "Write a function called find_common_keys that takes two dictionaries and returns a list of keys that are common to both.\n",
    "\n",
    "\n",
    "**Exmple:**\n",
    "\n",
    "dict1 = {'a': 1, 'b': 2, 'c': 3}\n",
    "dict2 = {'b': 4, 'c': 5, 'd': 6}\n",
    "common_keys = find_common_keys(dict1, dict2)\n",
    "print(common_keys)  # ['b', 'c']\n"
   ]
  },
  {
   "cell_type": "code",
   "execution_count": 4,
   "metadata": {
    "id": "IRSWbYvfi3cg"
   },
   "outputs": [
    {
     "name": "stdout",
     "output_type": "stream",
     "text": [
      "['b', 'c']\n"
     ]
    }
   ],
   "source": [
    "def find_common_keys(dict1, dict2):\n",
    "    common_keys = []\n",
    "    for key in dict1:\n",
    "        if key in dict2:\n",
    "            common_keys.append(key)\n",
    "    return common_keys\n",
    "\n",
    "dict1 = {'a': 1, 'b': 2, 'c': 3}\n",
    "dict2 = {'b': 4, 'c': 5, 'd': 6}\n",
    "common_keys = find_common_keys(dict1, dict2)\n",
    "print(common_keys)\n",
    "    "
   ]
  },
  {
   "cell_type": "markdown",
   "metadata": {
    "id": "xBNyzbF6i41L"
   },
   "source": [
    "# **Question No 5**\n",
    "\n",
    "Write a function called update_grades that takes a list of dictionaries (representing students with their grades) and updates the grade of a student if their name matches the given name.\n",
    "\n",
    "\n",
    "**Exmple:**\n",
    "\n",
    "students = [{'name': 'Alice', 'grade': 85}, {'name': 'Bob', 'grade': 90}]\n",
    "updated_students = update_grades(students, 'Bob', 95)\n",
    "print(updated_students)  \n",
    "# [{'name': 'Alice', 'grade': 85}, {'name': 'Bob', 'grade': 95}]\n",
    "\n"
   ]
  },
  {
   "cell_type": "code",
   "execution_count": 5,
   "metadata": {
    "id": "dM8_HJcPi5wH"
   },
   "outputs": [
    {
     "name": "stdout",
     "output_type": "stream",
     "text": [
      "[{'name': 'Alice', 'grade': 85}, {'name': 'Bob', 'grade': 95}]\n"
     ]
    }
   ],
   "source": [
    "def update_grades(students, name, new_grade):\n",
    "    for student in students:\n",
    "        if student.get('name') == name:\n",
    "            student['grade'] = new_grade\n",
    "            break \n",
    "\n",
    "    return students\n",
    "\n",
    "students = [{'name': 'Alice', 'grade': 85}, {'name': 'Bob', 'grade': 90}]\n",
    "updated_students = update_grades(students, 'Bob', 95)\n",
    "print(updated_students)"
   ]
  },
  {
   "cell_type": "markdown",
   "metadata": {
    "id": "LVPjDOqojosu"
   },
   "source": [
    "# **Question No 6**\n",
    "\n",
    "Write a function called merge_lists_to_dict that takes two lists of equal length:\n",
    "\n",
    "The first list contains keys.\n",
    "The second list contains values.\n",
    "The function should return a dictionary created by merging these lists.\n",
    "\n",
    "**Exmple:**\n",
    "keys = ['name', 'age', 'city']\n",
    "values = ['Alice', 25, 'New York']\n",
    "result = merge_lists_to_dict(keys, values)\n",
    "print(result)  # {'name': 'Alice', 'age': 25, 'city': 'New York'}\n",
    "\n"
   ]
  },
  {
   "cell_type": "code",
   "execution_count": 12,
   "metadata": {
    "id": "WXCP48lRjyET"
   },
   "outputs": [
    {
     "name": "stdout",
     "output_type": "stream",
     "text": [
      "{'name': 'Alice', 'age': 25, 'city': 'New York'}\n"
     ]
    }
   ],
   "source": [
    "def merge_list_to_dict(keys, values):\n",
    "    if len(keys) != len(values):\n",
    "    (\"Both lists must have the same length.\")\n",
    "\n",
    "    result = {}\n",
    "    for i in range(len(keys)):\n",
    "        result[keys[i]] = values[i]\n",
    "\n",
    "    return result\n",
    "\n",
    "keys = ['name', 'age', 'city']\n",
    "values = ['Alice', 25, 'New York']\n",
    "result = merge_list_to_dict(keys, values)\n",
    "print(result)\n",
    "    "
   ]
  },
  {
   "cell_type": "code",
   "execution_count": null,
   "metadata": {},
   "outputs": [],
   "source": []
  }
 ],
 "metadata": {
  "colab": {
   "provenance": []
  },
  "kernelspec": {
   "display_name": "Python 3 (ipykernel)",
   "language": "python",
   "name": "python3"
  },
  "language_info": {
   "codemirror_mode": {
    "name": "ipython",
    "version": 3
   },
   "file_extension": ".py",
   "mimetype": "text/x-python",
   "name": "python",
   "nbconvert_exporter": "python",
   "pygments_lexer": "ipython3",
   "version": "3.10.8"
  }
 },
 "nbformat": 4,
 "nbformat_minor": 1
}
