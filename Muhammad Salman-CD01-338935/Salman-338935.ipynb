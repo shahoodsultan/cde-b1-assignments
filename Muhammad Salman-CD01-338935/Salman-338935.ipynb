{
 "cells": [
  {
   "cell_type": "markdown",
   "metadata": {},
   "source": [
    "# Part -1 Python Basics (Variables)"
   ]
  },
  {
   "cell_type": "markdown",
   "metadata": {},
   "source": [
    "1. Print Your Name with your Father name and Date of birth using suitable escape sequence charactor"
   ]
  },
  {
   "cell_type": "code",
   "execution_count": 5,
   "metadata": {},
   "outputs": [
    {
     "name": "stdout",
     "output_type": "stream",
     "text": [
      "Name: Muhammad Salman \n",
      "Father Name: Muhammad Saeed \n",
      "DOB: 09-06-1999\n"
     ]
    }
   ],
   "source": [
    "print(\"Name: Muhammad Salman \\nFather Name: Muhammad Saeed \\nDOB: 09-06-1999\")\n"
   ]
  },
  {
   "cell_type": "markdown",
   "metadata": {},
   "source": [
    "2. Write your small bio using variables and print it using print function"
   ]
  },
  {
   "cell_type": "code",
   "execution_count": 6,
   "metadata": {},
   "outputs": [
    {
     "name": "stdout",
     "output_type": "stream",
     "text": [
      "My name is muhammad salman and i did my bachelors in computer engineering from bahria university and currently working at bank al habib\n"
     ]
    }
   ],
   "source": [
    "a= \"My name is muhammad salman and i did my bachelors in computer engineering from bahria university and currently working at bank al habib\"\n",
    "print(a)"
   ]
  },
  {
   "cell_type": "markdown",
   "metadata": {},
   "source": [
    "3. Write a program in which use all the operators we can use in Python"
   ]
  },
  {
   "cell_type": "code",
   "execution_count": 21,
   "metadata": {},
   "outputs": [
    {
     "name": "stdout",
     "output_type": "stream",
     "text": [
      "\n",
      "Arthmetic Operators:\n",
      "Sum= 7\n",
      "Subtract= 66\n",
      "Divide= 25.0\n",
      "Multiply= 220\n",
      "\n",
      "Comparison Operators:\n",
      "a == b: False\n",
      "a != b: True\n",
      "a > b: False\n",
      "a < b: True\n",
      "a >= b: False\n",
      "a <= b: True\n",
      "\n",
      "Logical Operators:\n",
      "x and y: False\n",
      "x or y: True\n",
      "not x: False\n"
     ]
    }
   ],
   "source": [
    "# Arithmetic Operators\n",
    "a=3+4\n",
    "b=100-34\n",
    "c=50/2\n",
    "d=55*4\n",
    "print(\"\\nArthmetic Operators:\")\n",
    "print(\"Sum=\",a)\n",
    "print (\"Subtract=\",b)\n",
    "print (\"Divide=\",c)\n",
    "print (\"Multiply=\",d)\n",
    "\n",
    "# Comparison Operators\n",
    "print(\"\\nComparison Operators:\")\n",
    "print(f\"a == b: {a == b}\")\n",
    "print(f\"a != b: {a != b}\")\n",
    "print(f\"a > b: {a > b}\")\n",
    "print(f\"a < b: {a < b}\") \n",
    "print(f\"a >= b: {a >= b}\") \n",
    "print(f\"a <= b: {a <= b}\")\n",
    "\n",
    "# Logical Operators\n",
    "x, y = True, False\n",
    "print(\"\\nLogical Operators:\")\n",
    "print(f\"x and y: {x and y}\")  \n",
    "print(f\"x or y: {x or y}\")  \n",
    "print(f\"not x: {not x}\")  "
   ]
  },
  {
   "cell_type": "markdown",
   "metadata": {},
   "source": [
    "4. Completes the following steps of small task:\n",
    "    - Mention Marks of English , Islamiat and Maths out of 100 in 3 different variables\n",
    "    - Mention Variable of Total Marks and assign 300 to it\n",
    "    - Calculate Percentage"
   ]
  },
  {
   "cell_type": "code",
   "execution_count": 37,
   "metadata": {},
   "outputs": [
    {
     "name": "stdout",
     "output_type": "stream",
     "text": [
      "69.33333333333334\n"
     ]
    }
   ],
   "source": [
    "English = 75;\n",
    "Islamiat = 55;\n",
    "Maths= 78;\n",
    "Total = 300;\n",
    "Percentage = (English + Islamiat + Maths)/Total * 100\n",
    "print(Percentage)"
   ]
  },
  {
   "cell_type": "markdown",
   "metadata": {},
   "source": [
    "# Part -2 Python Basics (Conditional Statements)"
   ]
  },
  {
   "cell_type": "markdown",
   "metadata": {},
   "source": [
    "1) A company decided to give bonus of 5% to employee if his/her year of service is more than 5 years.\n",
    "Ask user for their salary and year of service and print the net bonus amount."
   ]
  },
  {
   "cell_type": "code",
   "execution_count": 34,
   "metadata": {},
   "outputs": [
    {
     "name": "stdin",
     "output_type": "stream",
     "text": [
      "Enter your salary:  100000\n",
      "Enter your years of service:  6\n"
     ]
    },
    {
     "name": "stdout",
     "output_type": "stream",
     "text": [
      "Your bonus amount is: 5000.0\n"
     ]
    }
   ],
   "source": [
    "salary = float((input(\"Enter your salary: \")))\n",
    "years_of_service = float(input(\"Enter your years of service: \"))\n",
    "if years_of_service >= 5:\n",
    "    bonus = salary * 0.05\n",
    "    print(\"Your bonus amount is:\" ,+ bonus)\n",
    "else:\n",
    "    print(\"No bonus for you.\")"
   ]
  },
  {
   "cell_type": "markdown",
   "metadata": {},
   "source": [
    "\n",
    "2) Write a program to check whether a person is eligible for voting or not. (accept age from user) if age is greater than 17 eligible otherwise not eligible"
   ]
  },
  {
   "cell_type": "code",
   "execution_count": 40,
   "metadata": {},
   "outputs": [
    {
     "name": "stdin",
     "output_type": "stream",
     "text": [
      "ENTER YOUR AGE: 12\n"
     ]
    },
    {
     "name": "stdout",
     "output_type": "stream",
     "text": [
      "YOU CANNOT VOTE\n"
     ]
    }
   ],
   "source": [
    "age = int(input(\"ENTER YOUR AGE:\"))\n",
    "if age >=18:\n",
    "    print ( \"YES YOU CAN VOTE\")\n",
    "else:\n",
    "    print (\"YOU CANNOT VOTE\")\n",
    "    "
   ]
  },
  {
   "cell_type": "markdown",
   "metadata": {},
   "source": [
    "\n",
    "3) Write a program to check whether a number entered by user is even or odd."
   ]
  },
  {
   "cell_type": "code",
   "execution_count": 46,
   "metadata": {},
   "outputs": [
    {
     "name": "stdin",
     "output_type": "stream",
     "text": [
      "Enter any number to test whether it is odd or even: 12\n"
     ]
    },
    {
     "name": "stdout",
     "output_type": "stream",
     "text": [
      "The number is even\n"
     ]
    }
   ],
   "source": [
    "num = int (input (\"Enter any number to test whether it is odd or even:\"))\n",
    "if (num % 2) == 0:\n",
    "    print (\"The number is even\")\n",
    "else:\n",
    "        print (\"The provided number is odd\")"
   ]
  },
  {
   "cell_type": "markdown",
   "metadata": {},
   "source": [
    "4) Write a program to check whether a number is divisible by 7 or not.\n",
    "Show Answer"
   ]
  },
  {
   "cell_type": "code",
   "execution_count": 51,
   "metadata": {},
   "outputs": [
    {
     "name": "stdin",
     "output_type": "stream",
     "text": [
      "ENTER ANY NUMBR THAT IS DIVISABLE BY 5: 14\n"
     ]
    },
    {
     "name": "stdout",
     "output_type": "stream",
     "text": [
      "DIVIDEND OF 7\n"
     ]
    }
   ],
   "source": [
    "number = int(input((\"ENTER ANY NUMBR THAT IS DIVISABLE BY 5:\")))\n",
    "if number % 7 == 0: \n",
    "    print (\"DIVIDEND OF 7\")\n",
    "else:\n",
    "    print(\"Not Divisable by 7\")"
   ]
  },
  {
   "cell_type": "markdown",
   "metadata": {},
   "source": [
    "5) Write a program to display \n",
    "\"Hello\" if a number entered by user is a multiple of five , otherwise print \"Bye\"."
   ]
  },
  {
   "cell_type": "code",
   "execution_count": 52,
   "metadata": {},
   "outputs": [
    {
     "name": "stdin",
     "output_type": "stream",
     "text": [
      "ENTER ANY NUMBR THAT IS Multiple BY 5: 230\n"
     ]
    },
    {
     "name": "stdout",
     "output_type": "stream",
     "text": [
      "Multple OF 5\n"
     ]
    }
   ],
   "source": [
    "number = int(input((\"ENTER ANY NUMBR THAT IS Multiple BY 5:\")))\n",
    "if number % 5 == 0: \n",
    "    print (\"Multple OF 5\")\n",
    "else:\n",
    "    print(\"Not Multple by 5\")"
   ]
  },
  {
   "cell_type": "markdown",
   "metadata": {},
   "source": [
    "7) Write a program to display the last digit of a number.\n"
   ]
  },
  {
   "cell_type": "code",
   "execution_count": 55,
   "metadata": {},
   "outputs": [
    {
     "name": "stdin",
     "output_type": "stream",
     "text": [
      "Please Enter any Number:  154564512003564\n"
     ]
    },
    {
     "name": "stdout",
     "output_type": "stream",
     "text": [
      "The Last Digit in a Given Number 4\n"
     ]
    }
   ],
   "source": [
    "number = int(input(\"Please Enter any Number: \"))\n",
    "last_digit = number % 10\n",
    "print(\"The Last Digit in a Given Number\",(last_digit))"
   ]
  },
  {
   "cell_type": "markdown",
   "metadata": {},
   "source": [
    "9) Take values of length and breadth of a rectangle from user and print if it is square or rectangle."
   ]
  },
  {
   "cell_type": "code",
   "execution_count": 57,
   "metadata": {},
   "outputs": [
    {
     "name": "stdin",
     "output_type": "stream",
     "text": [
      "Enter Length: 12\n",
      "Enter Breadth: 12\n"
     ]
    },
    {
     "name": "stdout",
     "output_type": "stream",
     "text": [
      "Its a Square\n"
     ]
    }
   ],
   "source": [
    "Length = int(input(\"Enter Length:\"))\n",
    "breadth = int(input(\"Enter Breadth:\"))\n",
    "if Length==breadth:\n",
    "    print(\"Its a Square\")\n",
    "else:\n",
    "    print(\"Its a Rectangle\")"
   ]
  },
  {
   "cell_type": "markdown",
   "metadata": {},
   "source": [
    "10) Take two int values from user and print greatest among them."
   ]
  },
  {
   "cell_type": "code",
   "execution_count": 59,
   "metadata": {},
   "outputs": [
    {
     "name": "stdin",
     "output_type": "stream",
     "text": [
      "Enter number1: 5100\n",
      "Enter number2: 3000\n"
     ]
    },
    {
     "name": "stdout",
     "output_type": "stream",
     "text": [
      "greatest number: 5100\n"
     ]
    }
   ],
   "source": [
    "num1 = int(input(\"Enter number1:\"))\n",
    "num2 = int(input(\"Enter number2:\"))\n",
    "if (num1>num2):\n",
    "    print(\"greatest number:\",num1)\n",
    "elif (num2>num1):\n",
    "    print(\"greatest number:\",num2)\n",
    "else:\n",
    "    print(\"both numbers are equal\")"
   ]
  },
  {
   "cell_type": "markdown",
   "metadata": {},
   "source": [
    "11) A shop will give discount of 10% if the cost of purchased quantity is more than 1000.\n",
    "Ask user for quantity\n",
    "Suppose, one unit will cost 100.\n",
    "Judge and print total cost for user."
   ]
  },
  {
   "cell_type": "code",
   "execution_count": 66,
   "metadata": {},
   "outputs": [
    {
     "name": "stdin",
     "output_type": "stream",
     "text": [
      "Enter the quantity of items:  210\n"
     ]
    },
    {
     "name": "stdout",
     "output_type": "stream",
     "text": [
      "The total cost after discount is:  18900.0\n"
     ]
    }
   ],
   "source": [
    "quantity = int(input(\"Enter the quantity of items: \"))\n",
    "total_cost = quantity * 100\n",
    "\n",
    "if total_cost > 1000:\n",
    "  \n",
    "  total_cost = total_cost * 0.9\n",
    "print(\"The total cost after discount is: \", total_cost)"
   ]
  },
  {
   "cell_type": "markdown",
   "metadata": {},
   "source": [
    "12) A school has following rules for grading system:\n",
    "\n",
    "a. Below 25 - F\n",
    "\n",
    "b. 25 to 45 - E\n",
    "\n",
    "c. 45 to 50 - D\n",
    "\n",
    "d. 50 to 60 - C\n",
    "\n",
    "e. 60 to 80 - B\n",
    "\n",
    "f. Above 80 - A\n",
    "\n",
    "Ask user to enter marks and print the corresponding grade."
   ]
  },
  {
   "cell_type": "code",
   "execution_count": 70,
   "metadata": {},
   "outputs": [
    {
     "name": "stdin",
     "output_type": "stream",
     "text": [
      "ENTER YOUR PERCENTAGE 82\n"
     ]
    },
    {
     "name": "stdout",
     "output_type": "stream",
     "text": [
      "GRADE A\n"
     ]
    }
   ],
   "source": [
    "Grade = float(input(\"ENTER YOUR PERCENTAGE\"))\n",
    "if Grade >= 80 and Grade <= 100:\n",
    "    print (\"GRADE A\")\n",
    "elif Grade >=60 and Grade < 80:\n",
    "    print(\"GRADE B\")\n",
    "elif Grade >=50 and Grade < 60:\n",
    "    print(\"GRADE C\")\n",
    "elif Grade >=45 and Grade < 50:\n",
    "    print(\"GRADE D\")\n",
    "elif Grade >=25 and Grade < 45 :\n",
    "    print(\"GRADE E \")\n",
    "elif Grade < 25 and Grade >=0 :\n",
    "    print(\"GRADE F \")\n",
    "else: \n",
    "    print (\"INVALID INPUT\")"
   ]
  },
  {
   "cell_type": "markdown",
   "metadata": {},
   "source": [
    "14)A student will not be allowed to sit in exam if his/her attendence is less than 75%.\n",
    "\n",
    "Take following input from user\n",
    "\n",
    "- Number of classes held\n",
    "\n",
    "- Number of classes attended.\n",
    "\n",
    "And print\n",
    "\n",
    "- percentage of class attended\n",
    "\n",
    "- Is student is allowed to sit in exam or not.\n"
   ]
  },
  {
   "cell_type": "code",
   "execution_count": 72,
   "metadata": {},
   "outputs": [
    {
     "name": "stdout",
     "output_type": "stream",
     "text": [
      "Number of classes held\n"
     ]
    },
    {
     "name": "stdin",
     "output_type": "stream",
     "text": [
      " 78\n"
     ]
    },
    {
     "name": "stdout",
     "output_type": "stream",
     "text": [
      "Number of classes attended\n"
     ]
    },
    {
     "name": "stdin",
     "output_type": "stream",
     "text": [
      " 71\n"
     ]
    },
    {
     "name": "stdout",
     "output_type": "stream",
     "text": [
      "Attendence is 91.02564102564102\n",
      "You are allowed to sit in exam\n"
     ]
    }
   ],
   "source": [
    "print (\"Number of classes held\")\n",
    "noh = int(input())\n",
    "print (\"Number of classes attended\")\n",
    "noa = int(input())\n",
    "atten = (noa/float(noh))*100\n",
    "print (\"Attendence is\",atten)\n",
    "if atten >= 75:\n",
    " print (\"You are allowed to sit in exam\")\n",
    "else:\n",
    " print (\"Sorry, you are not allowed. Attend more classes from next time.\")"
   ]
  },
  {
   "cell_type": "markdown",
   "metadata": {},
   "source": [
    "15) Modify the above question to allow student to sit if he/she has medical cause. Ask user if he/she has medical cause or not ( 'Y' or 'N' ) and print accordingly."
   ]
  },
  {
   "cell_type": "code",
   "execution_count": 90,
   "metadata": {},
   "outputs": [
    {
     "name": "stdout",
     "output_type": "stream",
     "text": [
      "Number of classes held\n"
     ]
    },
    {
     "name": "stdin",
     "output_type": "stream",
     "text": [
      " 10\n"
     ]
    },
    {
     "name": "stdout",
     "output_type": "stream",
     "text": [
      "Number of classes attended\n"
     ]
    },
    {
     "name": "stdin",
     "output_type": "stream",
     "text": [
      " 1\n"
     ]
    },
    {
     "name": "stdout",
     "output_type": "stream",
     "text": [
      "Attendence is 10.0\n"
     ]
    },
    {
     "name": "stdin",
     "output_type": "stream",
     "text": [
      "Do you have a medical cause? (Y/N or y/n only) n\n"
     ]
    },
    {
     "name": "stdout",
     "output_type": "stream",
     "text": [
      "You are free to take part in the exam\n"
     ]
    }
   ],
   "source": [
    "print (\"Number of classes held\")\n",
    "noh = int(input())\n",
    "print (\"Number of classes attended\")\n",
    "noa = int(input())\n",
    "atten = (noa/float(noh))*100\n",
    "print (\"Attendence is\",atten)\n",
    "if atten < 75:\n",
    "    medic = input(\"Do you have a medical cause? (Y/N or y/n only)\");\n",
    "    if medic == \"y\" or \"Y\" or \"yes\" or \"ye\":\n",
    "        print (\"You are free to take part in the exam\");\n",
    "    else:\n",
    "        print (\"You can not take part in the exam\");\n",
    "else:\n",
    "    print (\"You are free to take part in the exam\");"
   ]
  },
  {
   "cell_type": "markdown",
   "metadata": {},
   "source": [
    "16) Write a program to check if a year is leap year or not.\n",
    "\n",
    "If a year is divisible by 4 then it is leap year but if the year is century year like 2000, 1900, 2100 then it must be divisible by 400."
   ]
  },
  {
   "cell_type": "code",
   "execution_count": 93,
   "metadata": {},
   "outputs": [
    {
     "name": "stdin",
     "output_type": "stream",
     "text": [
      "Enter year:  2005\n"
     ]
    },
    {
     "name": "stdout",
     "output_type": "stream",
     "text": [
      "2005 is not a leap year\n"
     ]
    }
   ],
   "source": [
    "year = int(input(\"Enter year: \"))\n",
    "if (year % 400 == 0) and (year % 100 == 0):\n",
    "    print(\"{0} is a leap year\".format(year))\n",
    "    \n",
    "elif (year % 4 ==0) and (year % 100 != 0):\n",
    "    print(\"{0} is a leap year\".format(year))\n",
    "    \n",
    "else:\n",
    "    print(\"{0} is not a leap year\".format(year))"
   ]
  },
  {
   "cell_type": "markdown",
   "metadata": {},
   "source": [
    "17) Ask user to enter age, gender ( M or F ), marital status ( Y or N ) and then using following rules print their place of service.\n",
    "\n",
    "if employee is female, then she will work only in urban areas.\n",
    "\n",
    "if employee is a male and age is in between 20 to 40 then he may work in anywhere\n",
    "\n",
    "if employee is male and age is in between 40 t0 60 then he will work in urban areas only.\n",
    "\n",
    "And any other input of age should print \"ERROR\""
   ]
  },
  {
   "cell_type": "code",
   "execution_count": 96,
   "metadata": {},
   "outputs": [
    {
     "name": "stdin",
     "output_type": "stream",
     "text": [
      "Kindly Enter Your Age 20\n",
      "Enter Your Gender (M Or F) m\n",
      "ENTER MARITAL STATUS (Y : N ) n\n"
     ]
    },
    {
     "name": "stdout",
     "output_type": "stream",
     "text": [
      "Can Work Anywhere\n"
     ]
    }
   ],
   "source": [
    "age = int(input(\"Kindly Enter Your Age\"))\n",
    "gender = input(\"Enter Your Gender (M Or F)\")\n",
    "Marital_Status = input( \"ENTER MARITAL STATUS (Y : N )\")\n",
    "if gender == \"f\":\n",
    "    print(\"Can Work Only In Urban Areac According To Section 8C\")\n",
    "else:\n",
    "    if age >= 40 and age <= 60:\n",
    "        print(\"Only Work In Urban Areas Only\")\n",
    "    elif age >=20 and age < 40:\n",
    "        print (\"Can Work Anywhere\")\n",
    "    else:\n",
    "        print(\"You Are Ristricted To Work\")\n",
    "        "
   ]
  },
  {
   "cell_type": "markdown",
   "metadata": {},
   "source": [
    "6) Write a program to calculate the electricity bill (accept number of unit from user) according to the following criteria :\n",
    "     Unit                                                     Price  \n",
    "uptp 100 units                                             no charge\n",
    "Next 200 units                                              Rs 5 per unit\n",
    "After 200 units                                             Rs 10 per unit\n",
    "(For example if input unit is 350 than total bill amount is Rs.3500\n",
    "(For example if input unit is 97 than total bill amount is Rs.0\n",
    "(For example if input unit is 150 than total bill amount is Rs.750\n",
    "\n",
    "\n",
    "\n",
    "   "
   ]
  },
  {
   "cell_type": "code",
   "execution_count": 97,
   "metadata": {},
   "outputs": [
    {
     "name": "stdout",
     "output_type": "stream",
     "text": [
      "3500\n"
     ]
    }
   ],
   "source": [
    "import sys\n",
    "\n",
    "MAX_INT = sys.maxsize\n",
    "n = 4\n",
    "def calculateBill(units):\n",
    "\tcharges = [10, 15, 20, 25]\n",
    "\t# changed variable name from 'range' to 'range_'\n",
    "\trange_ = [100, 100, 100, MAX_INT]\n",
    "\tbill = 0\n",
    "\n",
    "\tfor i in range(n):\n",
    "\t\tif units <= range_[i]:\n",
    "\t\t\tbill += charges[i] * units\n",
    "\t\t\tbreak\n",
    "\t\telse:\n",
    "\t\t\tbill += charges[i] * range_[i]\n",
    "\t\t\tunits -= range_[i]\n",
    "\n",
    "\treturn bill\n",
    "units = 250\n",
    "print(calculateBill(units))\n",
    "\n"
   ]
  },
  {
   "cell_type": "markdown",
   "metadata": {},
   "source": [
    "13) Take input of age of 3 people by user and determine oldest and youngest among them."
   ]
  },
  {
   "cell_type": "code",
   "execution_count": 98,
   "metadata": {},
   "outputs": [
    {
     "name": "stdin",
     "output_type": "stream",
     "text": [
      "enter the age of the first person:\n",
      "  52\n",
      "enter the age of the second person: \n",
      " 20\n",
      "enter the age of the third person: \n",
      " 35\n"
     ]
    },
    {
     "name": "stdout",
     "output_type": "stream",
     "text": [
      "the first person is the oldest\n",
      "the second person is the youngest\n"
     ]
    }
   ],
   "source": [
    "person1=int(input(\"enter the age of the first person:\\n \"))\n",
    "person2=int(input(\"enter the age of the second person: \\n\"))\n",
    "person3=int(input(\"enter the age of the third person: \\n\"))\n",
    "if (person1>person2 and person1>person3):\n",
    "    print(\"the first person is the oldest\")\n",
    "    if (person2<person3):\n",
    "        print(\"the second person is the youngest\")\n",
    "    else :\n",
    "        print(\"the third person is the youngest\")\n",
    "elif(person2>person1 and person2>person3):\n",
    "    print(\"the second person is the oldest\")\n",
    "    if (person1<person3):\n",
    "        print(\"the first person is the youngest\")\n",
    "    else :\n",
    "        print(\"the third person is the youngest\")\n",
    "else:\n",
    "    print(\"the third person is the oldest\")\n",
    "    if (person1<person3):\n",
    "        print(\"the first person is the youngest\")\n",
    "    else:\n",
    "        print(\"the third person is the youngest\")"
   ]
  },
  {
   "cell_type": "code",
   "execution_count": null,
   "metadata": {},
   "outputs": [],
   "source": []
  }
 ],
 "metadata": {
  "kernelspec": {
   "display_name": "Python 3 (ipykernel)",
   "language": "python",
   "name": "python3"
  },
  "language_info": {
   "codemirror_mode": {
    "name": "ipython",
    "version": 3
   },
   "file_extension": ".py",
   "mimetype": "text/x-python",
   "name": "python",
   "nbconvert_exporter": "python",
   "pygments_lexer": "ipython3",
   "version": "3.12.7"
  }
 },
 "nbformat": 4,
 "nbformat_minor": 4
}
