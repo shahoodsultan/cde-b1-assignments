{
 "cells": [
  {
   "cell_type": "markdown",
   "metadata": {},
   "source": [
    "# Part -1 Python Basics (Variables)"
   ]
  },
  {
   "cell_type": "markdown",
   "metadata": {},
   "source": [
    "1. Print Your Name with your Father name and Date of birth using suitable escape sequence charactor"
   ]
  },
  {
   "cell_type": "code",
   "execution_count": 1,
   "metadata": {},
   "outputs": [
    {
     "name": "stdout",
     "output_type": "stream",
     "text": [
      "Father's Name: \tRichard Roe\n",
      "Date of Birth: \t01\tJanuary\t2000\n"
     ]
    }
   ],
   "source": [
    "# Write your code hereprint(\"Name: \\tJohn Doe\")\n",
    "print(\"Father's Name: \\tRichard Roe\")\n",
    "print(\"Date of Birth: \\t01\\tJanuary\\t2000\")"
   ]
  },
  {
   "cell_type": "markdown",
   "metadata": {},
   "source": [
    "2. Write your small bio using variables and print it using print function"
   ]
  },
  {
   "cell_type": "code",
   "execution_count": 6,
   "metadata": {},
   "outputs": [],
   "source": [
    "name = \"Faisal\"\n",
    "father_name = \"Richard Roe\"\n",
    "date_of_birth = \"01 January 2000\""
   ]
  },
  {
   "cell_type": "markdown",
   "metadata": {},
   "source": [
    "3. Write a program in which use all the operators we can use in Python"
   ]
  },
  {
   "cell_type": "code",
   "execution_count": 7,
   "metadata": {},
   "outputs": [
    {
     "name": "stdout",
     "output_type": "stream",
     "text": [
      "Addition: 13\n",
      "Subtraction: 7\n",
      "Multiplication: 30\n",
      "Division: 3.3333333333333335\n",
      "Floor Division: 3\n",
      "Modulus: 1\n",
      "Exponentiation: 1000\n",
      "Equal: False\n",
      "Not Equal: True\n",
      "Greater Than: True\n",
      "Less Than: False\n",
      "Greater Than or Equal: True\n",
      "Less Than or Equal: False\n",
      "Logical AND: False\n",
      "Logical OR: True\n",
      "Logical NOT: False\n",
      "Bitwise AND: 2\n",
      "Bitwise OR: 11\n",
      "Bitwise XOR: 9\n",
      "Bitwise NOT: -11\n",
      "Left Shift: 20\n",
      "Right Shift: 5\n",
      "Add and Assign: 8\n",
      "Subtract and Assign: 6\n",
      "Multiply and Assign: 24\n",
      "Divide and Assign: 12.0\n",
      "Modulus and Assign: 0.0\n",
      "Exponentiation and Assign: 0.0\n",
      "Floor Division and Assign: 0.0\n",
      "Is: True\n",
      "Is Not: True\n",
      "In: True\n",
      "Not In: True\n",
      "Name: \tFaisal\n",
      "Father's Name: \tRichard Roe\n",
      "Date of Birth: \t01 January 2000\n"
     ]
    }
   ],
   "source": [
    "# Code demonstrating the use of all operators in Python\n",
    "\n",
    "# Arithmetic Operators\n",
    "a = 10\n",
    "b = 3\n",
    "print(\"Addition:\", a + b)\n",
    "print(\"Subtraction:\", a - b)\n",
    "print(\"Multiplication:\", a * b)\n",
    "print(\"Division:\", a / b)\n",
    "print(\"Floor Division:\", a // b)\n",
    "print(\"Modulus:\", a % b)\n",
    "print(\"Exponentiation:\", a ** b)\n",
    "\n",
    "# Comparison Operators\n",
    "print(\"Equal:\", a == b)\n",
    "print(\"Not Equal:\", a != b)\n",
    "print(\"Greater Than:\", a > b)\n",
    "print(\"Less Than:\", a < b)\n",
    "print(\"Greater Than or Equal:\", a >= b)\n",
    "print(\"Less Than or Equal:\", a <= b)\n",
    "\n",
    "# Logical Operators\n",
    "x = True\n",
    "y = False\n",
    "print(\"Logical AND:\", x and y)\n",
    "print(\"Logical OR:\", x or y)\n",
    "print(\"Logical NOT:\", not x)\n",
    "\n",
    "# Bitwise Operators\n",
    "print(\"Bitwise AND:\", a & b)\n",
    "print(\"Bitwise OR:\", a | b)\n",
    "print(\"Bitwise XOR:\", a ^ b)\n",
    "print(\"Bitwise NOT:\", ~a)\n",
    "print(\"Left Shift:\", a << 1)\n",
    "print(\"Right Shift:\", a >> 1)\n",
    "\n",
    "# Assignment Operators\n",
    "c = 5\n",
    "c += 3\n",
    "print(\"Add and Assign:\", c)\n",
    "c -= 2\n",
    "print(\"Subtract and Assign:\", c)\n",
    "c *= 4\n",
    "print(\"Multiply and Assign:\", c)\n",
    "c /= 2\n",
    "print(\"Divide and Assign:\", c)\n",
    "c %= 3\n",
    "print(\"Modulus and Assign:\", c)\n",
    "c **= 2\n",
    "print(\"Exponentiation and Assign:\", c)\n",
    "c //= 2\n",
    "print(\"Floor Division and Assign:\", c)\n",
    "\n",
    "# Identity Operators\n",
    "d = [1, 2, 3]\n",
    "e = d\n",
    "f = [1, 2, 3]\n",
    "print(\"Is:\", d is e)\n",
    "print(\"Is Not:\", d is not f)\n",
    "\n",
    "# Membership Operators\n",
    "print(\"In:\", 2 in d)\n",
    "print(\"Not In:\", 4 not in d)\n",
    "\n",
    "# Printing the bio using variables\n",
    "name = \"Faisal\"\n",
    "father_name = \"Richard Roe\"\n",
    "date_of_birth = \"01 January 2000\"\n",
    "\n",
    "print(f\"Name: \\t{name}\")\n",
    "print(f\"Father's Name: \\t{father_name}\")\n",
    "print(f\"Date of Birth: \\t{date_of_birth}\")# Write your code here"
   ]
  },
  {
   "cell_type": "markdown",
   "metadata": {},
   "source": [
    "4. Completes the following steps of small task:\n",
    "    - Mention Marks of English , Islamiat and Maths out of 100 in 3 different variables\n",
    "    - Mention Variable of Total Marks and assign 300 to it\n",
    "    - Calculate Percentage"
   ]
  },
  {
   "cell_type": "code",
   "execution_count": 8,
   "metadata": {},
   "outputs": [
    {
     "name": "stdout",
     "output_type": "stream",
     "text": [
      "Addition: 13\n",
      "Subtraction: 7\n",
      "Multiplication: 30\n",
      "Division: 3.3333333333333335\n",
      "Floor Division: 3\n",
      "Modulus: 1\n",
      "Exponentiation: 1000\n",
      "Equal: False\n",
      "Not Equal: True\n",
      "Greater Than: True\n",
      "Less Than: False\n",
      "Greater Than or Equal: True\n",
      "Less Than or Equal: False\n",
      "Logical AND: False\n",
      "Logical OR: True\n",
      "Logical NOT: False\n",
      "Bitwise AND: 2\n",
      "Bitwise OR: 11\n",
      "Bitwise XOR: 9\n",
      "Bitwise NOT: -11\n",
      "Left Shift: 20\n",
      "Right Shift: 5\n",
      "Add and Assign: 8\n",
      "Subtract and Assign: 6\n",
      "Multiply and Assign: 24\n",
      "Divide and Assign: 12.0\n",
      "Modulus and Assign: 0.0\n",
      "Exponentiation and Assign: 0.0\n",
      "Floor Division and Assign: 0.0\n",
      "Is: True\n",
      "Is Not: True\n",
      "In: True\n",
      "Not In: True\n",
      "Name: \tFaisal\n",
      "Father's Name: \tRichard Roe\n",
      "Date of Birth: \t01 January 2000\n",
      "\n",
      "Marks Obtained:\n",
      "English: 85\n",
      "Islamiat: 90\n",
      "Maths: 95\n",
      "Total Marks: 300\n",
      "Percentage: 90.00%\n"
     ]
    }
   ],
   "source": [
    "# Write your code here# Code demonstrating the use of all operators in Python\n",
    "\n",
    "# Arithmetic Operators\n",
    "a = 10\n",
    "b = 3\n",
    "print(\"Addition:\", a + b)\n",
    "print(\"Subtraction:\", a - b)\n",
    "print(\"Multiplication:\", a * b)\n",
    "print(\"Division:\", a / b)\n",
    "print(\"Floor Division:\", a // b)\n",
    "print(\"Modulus:\", a % b)\n",
    "print(\"Exponentiation:\", a ** b)\n",
    "\n",
    "# Comparison Operators\n",
    "print(\"Equal:\", a == b)\n",
    "print(\"Not Equal:\", a != b)\n",
    "print(\"Greater Than:\", a > b)\n",
    "print(\"Less Than:\", a < b)\n",
    "print(\"Greater Than or Equal:\", a >= b)\n",
    "print(\"Less Than or Equal:\", a <= b)\n",
    "\n",
    "# Logical Operators\n",
    "x = True\n",
    "y = False\n",
    "print(\"Logical AND:\", x and y)\n",
    "print(\"Logical OR:\", x or y)\n",
    "print(\"Logical NOT:\", not x)\n",
    "\n",
    "# Bitwise Operators\n",
    "print(\"Bitwise AND:\", a & b)\n",
    "print(\"Bitwise OR:\", a | b)\n",
    "print(\"Bitwise XOR:\", a ^ b)\n",
    "print(\"Bitwise NOT:\", ~a)\n",
    "print(\"Left Shift:\", a << 1)\n",
    "print(\"Right Shift:\", a >> 1)\n",
    "\n",
    "# Assignment Operators\n",
    "c = 5\n",
    "c += 3\n",
    "print(\"Add and Assign:\", c)\n",
    "c -= 2\n",
    "print(\"Subtract and Assign:\", c)\n",
    "c *= 4\n",
    "print(\"Multiply and Assign:\", c)\n",
    "c /= 2\n",
    "print(\"Divide and Assign:\", c)\n",
    "c %= 3\n",
    "print(\"Modulus and Assign:\", c)\n",
    "c **= 2\n",
    "print(\"Exponentiation and Assign:\", c)\n",
    "c //= 2\n",
    "print(\"Floor Division and Assign:\", c)\n",
    "\n",
    "# Identity Operators\n",
    "d = [1, 2, 3]\n",
    "e = d\n",
    "f = [1, 2, 3]\n",
    "print(\"Is:\", d is e)\n",
    "print(\"Is Not:\", d is not f)\n",
    "\n",
    "# Membership Operators\n",
    "print(\"In:\", 2 in d)\n",
    "print(\"Not In:\", 4 not in d)\n",
    "\n",
    "# Printing the bio using variables\n",
    "name = \"Faisal\"\n",
    "father_name = \"Richard Roe\"\n",
    "date_of_birth = \"01 January 2000\"\n",
    "\n",
    "print(f\"Name: \\t{name}\")\n",
    "print(f\"Father's Name: \\t{father_name}\")\n",
    "print(f\"Date of Birth: \\t{date_of_birth}\")\n",
    "\n",
    "# Task: Mention marks and calculate percentage\n",
    "# Marks of subjects\n",
    "english_marks = 85\n",
    "islamiat_marks = 90\n",
    "maths_marks = 95\n",
    "\n",
    "# Total marks\n",
    "total_marks = 300\n",
    "\n",
    "# Calculate percentage\n",
    "obtained_marks = english_marks + islamiat_marks + maths_marks\n",
    "percentage = (obtained_marks / total_marks) * 100\n",
    "\n",
    "# Print results\n",
    "print(\"\\nMarks Obtained:\")\n",
    "print(f\"English: {english_marks}\")\n",
    "print(f\"Islamiat: {islamiat_marks}\")\n",
    "print(f\"Maths: {maths_marks}\")\n",
    "print(f\"Total Marks: {total_marks}\")\n",
    "print(f\"Percentage: {percentage:.2f}%\")\n"
   ]
  },
  {
   "cell_type": "markdown",
   "metadata": {},
   "source": [
    "# Part -2 Python Basics (Conditional Statements)"
   ]
  },
  {
   "cell_type": "markdown",
   "metadata": {},
   "source": [
    "1) A company decided to give bonus of 5% to employee if his/her year of service is more than 5 years.\n",
    "Ask user for their salary and year of service and print the net bonus amount."
   ]
  },
  {
   "cell_type": "code",
   "execution_count": 10,
   "metadata": {},
   "outputs": [
    {
     "name": "stdout",
     "output_type": "stream",
     "text": [
      "Addition: 13\n",
      "Subtraction: 7\n",
      "Multiplication: 30\n",
      "Division: 3.3333333333333335\n",
      "Floor Division: 3\n",
      "Modulus: 1\n",
      "Exponentiation: 1000\n",
      "Equal: False\n",
      "Not Equal: True\n",
      "Greater Than: True\n",
      "Less Than: False\n",
      "Greater Than or Equal: True\n",
      "Less Than or Equal: False\n",
      "Logical AND: False\n",
      "Logical OR: True\n",
      "Logical NOT: False\n",
      "Bitwise AND: 2\n",
      "Bitwise OR: 11\n",
      "Bitwise XOR: 9\n",
      "Bitwise NOT: -11\n",
      "Left Shift: 20\n",
      "Right Shift: 5\n",
      "Add and Assign: 8\n",
      "Subtract and Assign: 6\n",
      "Multiply and Assign: 24\n",
      "Divide and Assign: 12.0\n",
      "Modulus and Assign: 0.0\n",
      "Exponentiation and Assign: 0.0\n",
      "Floor Division and Assign: 0.0\n",
      "Is: True\n",
      "Is Not: True\n",
      "In: True\n",
      "Not In: True\n",
      "Name: \tFaisal\n",
      "Father's Name: \tRichard Roe\n",
      "Date of Birth: \t01 January 2000\n",
      "\n",
      "Marks Obtained:\n",
      "English: 85\n",
      "Islamiat: 90\n",
      "Maths: 95\n",
      "Total Marks: 300\n",
      "Percentage: 90.00%\n"
     ]
    },
    {
     "name": "stdin",
     "output_type": "stream",
     "text": [
      "Enter your salary:  350000\n",
      "Enter your years of service:  3years\n"
     ]
    },
    {
     "name": "stdout",
     "output_type": "stream",
     "text": [
      "Invalid input. Please enter numeric values for salary and years of service.\n"
     ]
    }
   ],
   "source": [
    "#Type your code here# Code demonstrating the use of all operators in Python\n",
    "\n",
    "# Arithmetic Operators\n",
    "a = 10\n",
    "b = 3\n",
    "print(\"Addition:\", a + b)\n",
    "print(\"Subtraction:\", a - b)\n",
    "print(\"Multiplication:\", a * b)\n",
    "print(\"Division:\", a / b)\n",
    "print(\"Floor Division:\", a // b)\n",
    "print(\"Modulus:\", a % b)\n",
    "print(\"Exponentiation:\", a ** b)\n",
    "\n",
    "# Comparison Operators\n",
    "print(\"Equal:\", a == b)\n",
    "print(\"Not Equal:\", a != b)\n",
    "print(\"Greater Than:\", a > b)\n",
    "print(\"Less Than:\", a < b)\n",
    "print(\"Greater Than or Equal:\", a >= b)\n",
    "print(\"Less Than or Equal:\", a <= b)\n",
    "\n",
    "# Logical Operators\n",
    "x = True\n",
    "y = False\n",
    "print(\"Logical AND:\", x and y)\n",
    "print(\"Logical OR:\", x or y)\n",
    "print(\"Logical NOT:\", not x)\n",
    "\n",
    "# Bitwise Operators\n",
    "print(\"Bitwise AND:\", a & b)\n",
    "print(\"Bitwise OR:\", a | b)\n",
    "print(\"Bitwise XOR:\", a ^ b)\n",
    "print(\"Bitwise NOT:\", ~a)\n",
    "print(\"Left Shift:\", a << 1)\n",
    "print(\"Right Shift:\", a >> 1)\n",
    "\n",
    "# Assignment Operators\n",
    "c = 5\n",
    "c += 3\n",
    "print(\"Add and Assign:\", c)\n",
    "c -= 2\n",
    "print(\"Subtract and Assign:\", c)\n",
    "c *= 4\n",
    "print(\"Multiply and Assign:\", c)\n",
    "c /= 2\n",
    "print(\"Divide and Assign:\", c)\n",
    "c %= 3\n",
    "print(\"Modulus and Assign:\", c)\n",
    "c **= 2\n",
    "print(\"Exponentiation and Assign:\", c)\n",
    "c //= 2\n",
    "print(\"Floor Division and Assign:\", c)\n",
    "\n",
    "# Identity Operators\n",
    "d = [1, 2, 3]\n",
    "e = d\n",
    "f = [1, 2, 3]\n",
    "print(\"Is:\", d is e)\n",
    "print(\"Is Not:\", d is not f)\n",
    "\n",
    "# Membership Operators\n",
    "print(\"In:\", 2 in d)\n",
    "print(\"Not In:\", 4 not in d)\n",
    "\n",
    "# Printing the bio using variables\n",
    "name = \"Faisal\"\n",
    "father_name = \"Richard Roe\"\n",
    "date_of_birth = \"01 January 2000\"\n",
    "\n",
    "print(f\"Name: \\t{name}\")\n",
    "print(f\"Father's Name: \\t{father_name}\")\n",
    "print(f\"Date of Birth: \\t{date_of_birth}\")\n",
    "\n",
    "# Task: Mention marks and calculate percentage\n",
    "# Marks of subjects\n",
    "english_marks = 85\n",
    "islamiat_marks = 90\n",
    "maths_marks = 95\n",
    "\n",
    "# Total marks\n",
    "total_marks = 300\n",
    "\n",
    "# Calculate percentage\n",
    "obtained_marks = english_marks + islamiat_marks + maths_marks\n",
    "percentage = (obtained_marks / total_marks) * 100\n",
    "\n",
    "# Print results\n",
    "print(\"\\nMarks Obtained:\")\n",
    "print(f\"English: {english_marks}\")\n",
    "print(f\"Islamiat: {islamiat_marks}\")\n",
    "print(f\"Maths: {maths_marks}\")\n",
    "print(f\"Total Marks: {total_marks}\")\n",
    "print(f\"Percentage: {percentage:.2f}%\")\n",
    "\n",
    "# Task: Calculate bonus based on years of service\n",
    "try:\n",
    "    salary = float(input(\"Enter your salary: \"))\n",
    "    years_of_service = int(input(\"Enter your years of service: \"))\n",
    "\n",
    "    if years_of_service > 5:\n",
    "        bonus = salary * 0.05\n",
    "        print(f\"Your bonus amount is: {bonus:.2f}\")\n",
    "    else:\n",
    "        print(\"No bonus awarded as years of service is 5 or less.\")\n",
    "except ValueError:\n",
    "    print(\"Invalid input. Please enter numeric values for salary and years of service.\")\n"
   ]
  },
  {
   "cell_type": "markdown",
   "metadata": {},
   "source": [
    "\n",
    "2) Write a program to check whether a person is eligible for voting or not. (accept age from user) if age is greater than 17 eligible otherwise not eligible"
   ]
  },
  {
   "cell_type": "code",
   "execution_count": 11,
   "metadata": {},
   "outputs": [
    {
     "name": "stdin",
     "output_type": "stream",
     "text": [
      "Enter your age:  22\n"
     ]
    },
    {
     "name": "stdout",
     "output_type": "stream",
     "text": [
      "You are eligible for voting.\n"
     ]
    }
   ],
   "source": [
    "#Type your code here# Accept age from user\n",
    "age = int(input(\"Enter your age: \"))\n",
    "\n",
    "# Check if age is greater than 17\n",
    "if age > 17:\n",
    "    print(\"You are eligible for voting.\")\n",
    "else:\n",
    "    print(\"You are not eligible for voting.\")"
   ]
  },
  {
   "cell_type": "markdown",
   "metadata": {},
   "source": [
    "\n",
    "3) Write a program to check whether a number entered by user is even or odd."
   ]
  },
  {
   "cell_type": "code",
   "execution_count": 12,
   "metadata": {},
   "outputs": [
    {
     "name": "stdin",
     "output_type": "stream",
     "text": [
      "Enter your age:  22\n"
     ]
    },
    {
     "name": "stdout",
     "output_type": "stream",
     "text": [
      "You are eligible for voting.\n"
     ]
    }
   ],
   "source": [
    "#Type your code here# Accept age from user\n",
    "age = int(input(\"Enter your age: \"))\n",
    "\n",
    "# Check if age is greater than 17\n",
    "if age > 17:\n",
    "    print(\"You are eligible for voting.\")\n",
    "else:\n",
    "    print(\"You are not eligible for voting.\")\n"
   ]
  },
  {
   "cell_type": "markdown",
   "metadata": {},
   "source": [
    "4) Write a program to check whether a number is divisible by 7 or not.\n",
    "Show Answer"
   ]
  },
  {
   "cell_type": "code",
   "execution_count": 13,
   "metadata": {},
   "outputs": [
    {
     "name": "stdin",
     "output_type": "stream",
     "text": [
      "Enter a number:  5\n"
     ]
    },
    {
     "name": "stdout",
     "output_type": "stream",
     "text": [
      "5 is not divisible by 7.\n"
     ]
    }
   ],
   "source": [
    "#Type your code here# Accept a number from the user\n",
    "number = int(input(\"Enter a number: \"))\n",
    "\n",
    "# Check if the number is divisible by 7\n",
    "if number % 7 == 0:\n",
    "    print(f\"{number} is divisible by 7.\")\n",
    "else:\n",
    "    print(f\"{number} is not divisible by 7.\")\n"
   ]
  },
  {
   "cell_type": "markdown",
   "metadata": {},
   "source": [
    "5) Write a program to display \n",
    "\"Hello\" if a number entered by user is a multiple of five , otherwise print \"Bye\"."
   ]
  },
  {
   "cell_type": "code",
   "execution_count": 14,
   "metadata": {},
   "outputs": [
    {
     "name": "stdin",
     "output_type": "stream",
     "text": [
      "Enter a number:  8\n"
     ]
    },
    {
     "name": "stdout",
     "output_type": "stream",
     "text": [
      "Bye\n"
     ]
    }
   ],
   "source": [
    "#Type your code here# Accept a number from the user\n",
    "number = int(input(\"Enter a number: \"))\n",
    "\n",
    "# Check if the number is a multiple of 5\n",
    "if number % 5 == 0:\n",
    "    print(\"Hello\")\n",
    "else:\n",
    "    print(\"Bye\")\n"
   ]
  },
  {
   "cell_type": "markdown",
   "metadata": {},
   "source": [
    "7) Write a program to display the last digit of a number.\n"
   ]
  },
  {
   "cell_type": "code",
   "execution_count": 15,
   "metadata": {},
   "outputs": [
    {
     "name": "stdin",
     "output_type": "stream",
     "text": [
      "Enter a number:  89\n"
     ]
    },
    {
     "name": "stdout",
     "output_type": "stream",
     "text": [
      "The last digit of 89 is 9.\n"
     ]
    }
   ],
   "source": [
    "#Type your code here# Accept a number from the user\n",
    "number = int(input(\"Enter a number: \"))\n",
    "\n",
    "# Find the last digit\n",
    "last_digit = number % 10\n",
    "\n",
    "# Display the last digit\n",
    "print(f\"The last digit of {number} is {last_digit}.\")\n"
   ]
  },
  {
   "cell_type": "markdown",
   "metadata": {},
   "source": [
    "9) Take values of length and breadth of a rectangle from user and print if it is square or rectangle."
   ]
  },
  {
   "cell_type": "code",
   "execution_count": 16,
   "metadata": {},
   "outputs": [
    {
     "name": "stdin",
     "output_type": "stream",
     "text": [
      "Enter the length of the rectangle:  25\n",
      "Enter the breadth of the rectangle:  30\n"
     ]
    },
    {
     "name": "stdout",
     "output_type": "stream",
     "text": [
      "It is a rectangle.\n"
     ]
    }
   ],
   "source": [
    "#Type your code here # Accept length and breadth of the rectangle from the user\n",
    "length = float(input(\"Enter the length of the rectangle: \"))\n",
    "breadth = float(input(\"Enter the breadth of the rectangle: \"))\n",
    "\n",
    "# Check if it is a square or a rectangle\n",
    "if length == breadth:\n",
    "    print(\"It is a square.\")\n",
    "else:\n",
    "    print(\"It is a rectangle.\")\n"
   ]
  },
  {
   "cell_type": "markdown",
   "metadata": {},
   "source": [
    "10) Take two int values from user and print greatest among them."
   ]
  },
  {
   "cell_type": "code",
   "execution_count": 17,
   "metadata": {},
   "outputs": [
    {
     "name": "stdin",
     "output_type": "stream",
     "text": [
      "Enter the first number:  2\n",
      "Enter the second number:  5\n"
     ]
    },
    {
     "name": "stdout",
     "output_type": "stream",
     "text": [
      "The greatest number is 5.\n"
     ]
    }
   ],
   "source": [
    "# Accept two integer values from the user\n",
    "num1 = int(input(\"Enter the first number: \"))\n",
    "num2 = int(input(\"Enter the second number: \"))\n",
    "\n",
    "# Compare the two numbers and print the greatest\n",
    "if num1 > num2:\n",
    "    print(f\"The greatest number is {num1}.\")\n",
    "elif num2 > num1:\n",
    "    print(f\"The greatest number is {num2}.\")\n",
    "else:\n",
    "    print(\"Both numbers are equal.\")\n",
    "# Type your code here"
   ]
  },
  {
   "cell_type": "markdown",
   "metadata": {},
   "source": [
    "11) A shop will give discount of 10% if the cost of purchased quantity is more than 1000.\n",
    "Ask user for quantity\n",
    "Suppose, one unit will cost 100.\n",
    "Judge and print total cost for user."
   ]
  },
  {
   "cell_type": "code",
   "execution_count": 18,
   "metadata": {},
   "outputs": [
    {
     "name": "stdin",
     "output_type": "stream",
     "text": [
      "Enter the quantity purchased:  65\n"
     ]
    },
    {
     "name": "stdout",
     "output_type": "stream",
     "text": [
      "Total cost after 10% discount: 5850.0\n"
     ]
    }
   ],
   "source": [
    "#Type your code here# Ask the user for the quantity purchased\n",
    "quantity = int(input(\"Enter the quantity purchased: \"))\n",
    "\n",
    "# Define the price per unit\n",
    "unit_price = 100\n",
    "\n",
    "# Calculate the total cost without discount\n",
    "total_cost = quantity * unit_price\n",
    "\n",
    "# Check if the total cost is greater than 1000 and apply discount\n",
    "if total_cost > 1000:\n",
    "    discount = total_cost * 0.10  # 10% discount\n",
    "    total_cost -= discount\n",
    "    print(f\"Total cost after 10% discount: {total_cost}\")\n",
    "else:\n",
    "    print(f\"Total cost without discount: {total_cost}\")\n"
   ]
  },
  {
   "cell_type": "markdown",
   "metadata": {},
   "source": [
    "12) A school has following rules for grading system:\n",
    "\n",
    "a. Below 25 - F\n",
    "\n",
    "b. 25 to 45 - E\n",
    "\n",
    "c. 45 to 50 - D\n",
    "\n",
    "d. 50 to 60 - C\n",
    "\n",
    "e. 60 to 80 - B\n",
    "\n",
    "f. Above 80 - A\n",
    "\n",
    "Ask user to enter marks and print the corresponding grade."
   ]
  },
  {
   "cell_type": "code",
   "execution_count": 19,
   "metadata": {},
   "outputs": [
    {
     "name": "stdin",
     "output_type": "stream",
     "text": [
      "Enter your marks:  60\n"
     ]
    },
    {
     "name": "stdout",
     "output_type": "stream",
     "text": [
      "Your grade is: B\n"
     ]
    }
   ],
   "source": [
    "#Type your code here# Ask the user for marks\n",
    "marks = int(input(\"Enter your marks: \"))\n",
    "\n",
    "# Determine the grade based on the marks\n",
    "if marks < 25:\n",
    "    grade = 'F'\n",
    "elif 25 <= marks < 45:\n",
    "    grade = 'E'\n",
    "elif 45 <= marks < 50:\n",
    "    grade = 'D'\n",
    "elif 50 <= marks < 60:\n",
    "    grade = 'C'\n",
    "elif 60 <= marks < 80:\n",
    "    grade = 'B'\n",
    "else:  # marks above 80\n",
    "    grade = 'A'\n",
    "\n",
    "# Print the corresponding grade\n",
    "print(f\"Your grade is: {grade}\")\n"
   ]
  },
  {
   "cell_type": "markdown",
   "metadata": {},
   "source": [
    "14)A student will not be allowed to sit in exam if his/her attendence is less than 75%.\n",
    "\n",
    "Take following input from user\n",
    "\n",
    "- Number of classes held\n",
    "\n",
    "- Number of classes attended.\n",
    "\n",
    "And print\n",
    "\n",
    "- percentage of class attended\n",
    "\n",
    "- Is student is allowed to sit in exam or not.\n"
   ]
  },
  {
   "cell_type": "code",
   "execution_count": 20,
   "metadata": {},
   "outputs": [
    {
     "name": "stdin",
     "output_type": "stream",
     "text": [
      "Enter the number of classes held:  85\n",
      "Enter the number of classes attended:  75\n"
     ]
    },
    {
     "name": "stdout",
     "output_type": "stream",
     "text": [
      "Attendance Percentage: 88.23529411764706%\n",
      "The student is allowed to sit in the exam.\n"
     ]
    }
   ],
   "source": [
    "#Type your code here# Take input from the user\n",
    "classes_held = int(input(\"Enter the number of classes held: \"))\n",
    "classes_attended = int(input(\"Enter the number of classes attended: \"))\n",
    "\n",
    "# Calculate the attendance percentage\n",
    "attendance_percentage = (classes_attended / classes_held) * 100\n",
    "\n",
    "# Print the attendance percentage\n",
    "print(f\"Attendance Percentage: {attendance_percentage}%\")\n",
    "\n",
    "# Check if the student is allowed to sit in the exam\n",
    "if attendance_percentage >= 75:\n",
    "    print(\"The student is allowed to sit in the exam.\")\n",
    "else:\n",
    "    print(\"The student is not allowed to sit in the exam.\")\n"
   ]
  },
  {
   "cell_type": "markdown",
   "metadata": {},
   "source": [
    "15) Modify the above question to allow student to sit if he/she has medical cause. Ask user if he/she has medical cause or not ( 'Y' or 'N' ) and print accordingly."
   ]
  },
  {
   "cell_type": "code",
   "execution_count": 21,
   "metadata": {},
   "outputs": [
    {
     "name": "stdin",
     "output_type": "stream",
     "text": [
      "Enter the number of classes held:  89\n",
      "Enter the number of classes attended:  75\n",
      "Do you have a medical cause? (Y/N):  Y\n"
     ]
    },
    {
     "name": "stdout",
     "output_type": "stream",
     "text": [
      "Attendance Percentage: 84.26966292134831%\n",
      "The student is allowed to sit in the exam.\n"
     ]
    }
   ],
   "source": [
    "#Type your code here# Take input from the user\n",
    "classes_held = int(input(\"Enter the number of classes held: \"))\n",
    "classes_attended = int(input(\"Enter the number of classes attended: \"))\n",
    "\n",
    "# Calculate the attendance percentage\n",
    "attendance_percentage = (classes_attended / classes_held) * 100\n",
    "\n",
    "# Ask if the student has a medical cause\n",
    "medical_cause = input(\"Do you have a medical cause? (Y/N): \").upper()\n",
    "\n",
    "# Print the attendance percentage\n",
    "print(f\"Attendance Percentage: {attendance_percentage}%\")\n",
    "\n",
    "# Check if the student is allowed to sit in the exam\n",
    "if attendance_percentage >= 75 or medical_cause == 'Y':\n",
    "    print(\"The student is allowed to sit in the exam.\")\n",
    "else:\n",
    "    print(\"The student is not allowed to sit in the exam.\")\n"
   ]
  },
  {
   "cell_type": "markdown",
   "metadata": {},
   "source": [
    "16) Write a program to check if a year is leap year or not.\n",
    "\n",
    "If a year is divisible by 4 then it is leap year but if the year is century year like 2000, 1900, 2100 then it must be divisible by 400."
   ]
  },
  {
   "cell_type": "code",
   "execution_count": 22,
   "metadata": {},
   "outputs": [
    {
     "name": "stdin",
     "output_type": "stream",
     "text": [
      "Enter a year:  2022\n"
     ]
    },
    {
     "name": "stdout",
     "output_type": "stream",
     "text": [
      "2022 is not a leap year.\n"
     ]
    }
   ],
   "source": [
    "#Type your code here# Take the year input from the user\n",
    "year = int(input(\"Enter a year: \"))\n",
    "\n",
    "# Check if the year is a leap year\n",
    "if (year % 4 == 0 and year % 100 != 0) or (year % 400 == 0):\n",
    "    print(f\"{year} is a leap year.\")\n",
    "else:\n",
    "    print(f\"{year} is not a leap year.\")\n"
   ]
  },
  {
   "cell_type": "markdown",
   "metadata": {},
   "source": [
    "17) Ask user to enter age, gender ( M or F ), marital status ( Y or N ) and then using following rules print their place of service.\n",
    "\n",
    "if employee is female, then she will work only in urban areas.\n",
    "\n",
    "if employee is a male and age is in between 20 to 40 then he may work in anywhere\n",
    "\n",
    "if employee is male and age is in between 40 t0 60 then he will work in urban areas only.\n",
    "\n",
    "And any other input of age should print \"ERROR\""
   ]
  },
  {
   "cell_type": "code",
   "execution_count": 23,
   "metadata": {},
   "outputs": [
    {
     "name": "stdin",
     "output_type": "stream",
     "text": [
      "Enter your age:  25\n",
      "Enter your gender (M/F):  M\n",
      "Enter your marital status (Y/N):  Y\n"
     ]
    },
    {
     "name": "stdout",
     "output_type": "stream",
     "text": [
      "The employee may work anywhere.\n"
     ]
    }
   ],
   "source": [
    "#Type your code here# Take input from the user\n",
    "age = int(input(\"Enter your age: \"))\n",
    "gender = input(\"Enter your gender (M/F): \").upper()\n",
    "marital_status = input(\"Enter your marital status (Y/N): \").upper()\n",
    "\n",
    "# Check conditions based on gender and age\n",
    "if gender == 'F':\n",
    "    print(\"The employee will work in urban areas only.\")\n",
    "elif gender == 'M':\n",
    "    if 20 <= age <= 40:\n",
    "        print(\"The employee may work anywhere.\")\n",
    "    elif 40 < age <= 60:\n",
    "        print(\"The employee will work in urban areas only.\")\n",
    "    else:\n",
    "        print(\"ERROR\")\n",
    "else:\n",
    "    print(\"ERROR\")\n"
   ]
  },
  {
   "cell_type": "markdown",
   "metadata": {},
   "source": [
    "6) Write a program to calculate the electricity bill (accept number of unit from user) according to the following criteria :\n",
    "     Unit                                                     Price  \n",
    "uptp 100 units                                             no charge\n",
    "Next 200 units                                              0.059 USD per unit\n",
    "After 200 units                                             0.12 USD per unit\n",
    "(For example if input unit is 350 than total bill amount is Rs.3500\n",
    "(For example if input unit is 97 than total bill amount is Rs.0\n",
    "(For example if input unit is 150 than total bill amount is Rs.750"
   ]
  },
  {
   "cell_type": "markdown",
   "metadata": {},
   "source": [
    "13) Take input of age of 3 people by user and determine oldest and youngest among them."
   ]
  },
  {
   "cell_type": "code",
   "execution_count": 18,
   "metadata": {},
   "outputs": [],
   "source": [
    "#Type your code here"
   ]
  }
 ],
 "metadata": {
  "kernelspec": {
   "display_name": "Python 3 (ipykernel)",
   "language": "python",
   "name": "python3"
  },
  "language_info": {
   "codemirror_mode": {
    "name": "ipython",
    "version": 3
   },
   "file_extension": ".py",
   "mimetype": "text/x-python",
   "name": "python",
   "nbconvert_exporter": "python",
   "pygments_lexer": "ipython3",
   "version": "3.13.0"
  }
 },
 "nbformat": 4,
 "nbformat_minor": 4
}
