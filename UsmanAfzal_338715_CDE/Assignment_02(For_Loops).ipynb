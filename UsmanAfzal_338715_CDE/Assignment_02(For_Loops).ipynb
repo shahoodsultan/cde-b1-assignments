{
 "cells": [
  {
   "cell_type": "markdown",
   "metadata": {
    "id": "1E5r3wPNed0G"
   },
   "source": [
    "\n",
    "\n",
    "# **Question No 01**\n",
    "\n",
    "Use a for loop to count the number of occurrences of the word in the list and return all indices where the word occurs.\n",
    "\n",
    "**Exmple:**\n",
    "\n",
    "Input: ['apple', 'banana', 'apple', 'cherry', 'apple'], Search: 'apple'  \n",
    "Output: 'apple' found 3 times at indices: 0, 2, 4\n",
    "\n"
   ]
  },
  {
   "cell_type": "code",
   "execution_count": 2,
   "metadata": {
    "id": "tHrz4YilefTD"
   },
   "outputs": [
    {
     "name": "stdout",
     "output_type": "stream",
     "text": [
      "'apple' found 3 times at indices: 0, 2, 4\n"
     ]
    }
   ],
   "source": [
    "def find_word_occurrences(word_list, search_word):\n",
    "    count = 0\n",
    "    indices = []\n",
    "    for index, word in enumerate(word_list):\n",
    "        if word == search_word:\n",
    "            count += 1\n",
    "            indices.append(index)\n",
    "    return f\"'{search_word}' found {count} times at indices: {', '.join(map(str, indices))}\"\n",
    "\n",
    "word_list = ['apple', 'banana', 'apple', 'cherry', 'apple']\n",
    "search_word = 'apple'\n",
    "result = find_word_occurrences(word_list, search_word)\n",
    "print(result)\n"
   ]
  },
  {
   "cell_type": "markdown",
   "metadata": {
    "id": "fN_U0nnCeeAF"
   },
   "source": [
    "\n",
    "# **Question No 02**\n",
    "\n",
    "Create a program to find all unique pairs of numbers in a list that add up to a target sum.\n",
    "\n",
    "Use a single list and a for loop (nested if necessary) to iterate through and find pairs without duplicates.\n",
    "Avoid repeating pairs like [3, 5] and [5, 3].\n",
    "\n",
    "**Example:**\n",
    "\n",
    "Input list: [2, 4, 3, 5, 7, 8, 1]  \n",
    "Target sum: 9  \n",
    "Output: [(2, 7), (4, 5), (1, 8)]\n"
   ]
  },
  {
   "cell_type": "code",
   "execution_count": 4,
   "metadata": {
    "id": "AfsJP7KTef3T"
   },
   "outputs": [
    {
     "name": "stdout",
     "output_type": "stream",
     "text": [
      "Unique pairs: [(2, 7), (4, 5), (8, 1)]\n"
     ]
    }
   ],
   "source": [
    "def find_pairs(numbers, target_sum):\n",
    "    pairs = []\n",
    "    for i in range(len(numbers)):\n",
    "        for j in range(i + 1, len(numbers)):\n",
    "            if numbers[i] + numbers[j] == target_sum:\n",
    "                pairs.append((numbers[i], numbers[j]))\n",
    "    return pairs\n",
    "\n",
    "# Example usage:\n",
    "numbers = [2, 4, 3, 5, 7, 8, 1]\n",
    "target_sum = 9\n",
    "unique_pairs = find_pairs(numbers, target_sum)\n",
    "print(\"Unique pairs:\", unique_pairs)\n"
   ]
  },
  {
   "cell_type": "markdown",
   "metadata": {
    "id": "d8ZH6VPNewLh"
   },
   "source": [
    "# **Question No 03**\n",
    "\n",
    "Write a program to calculate the cumulative product of elements in a list.\n",
    "\n",
    "Use a single list and update it in place to store the cumulative product at each index.\n",
    "Use only a for loop.\n",
    "\n",
    "**Example:**\n",
    "\n",
    "Input: [2, 3, 4, 5]  \n",
    "Output: [2, 6, 24, 120]  \n"
   ]
  },
  {
   "cell_type": "code",
   "execution_count": 5,
   "metadata": {
    "id": "pYPfUitge7nW"
   },
   "outputs": [
    {
     "name": "stdout",
     "output_type": "stream",
     "text": [
      "Cumulative product: [2, 6, 24, 120]\n"
     ]
    }
   ],
   "source": [
    "def cumulative_product(numbers):\n",
    "    for i in range(1, len(numbers)):\n",
    "        numbers[i] *= numbers[i - 1]  # Update the current element with the product of itself and the previous element\n",
    "    return numbers\n",
    "\n",
    "# Example usage:\n",
    "numbers = [2, 3, 4, 5]\n",
    "result = cumulative_product(numbers)\n",
    "print(\"Cumulative product:\", result)\n"
   ]
  },
  {
   "cell_type": "markdown",
   "metadata": {
    "id": "jEtwOjpEfAYA"
   },
   "source": [
    "# **Question No 04**\n",
    "\n",
    "Write a program to reshape a 1D list into a 2D grid.\n",
    "\n",
    "Accept a list of numbers and the number of rows as input.\n",
    "Use for loops to split the list into sublists, each representing a row.\n",
    "If the list cannot be evenly divided into rows, pad it with None.\n",
    "\n",
    "**Example:**\n",
    "Input: [1, 2, 3, 4, 5, 6, 7], Rows: 3  \n",
    "Output: [[1, 2, 3], [4, 5, 6], [7, None, None]]  \n",
    "\n"
   ]
  },
  {
   "cell_type": "code",
   "execution_count": 6,
   "metadata": {
    "id": "tGRxqt0pfRql"
   },
   "outputs": [
    {
     "name": "stdout",
     "output_type": "stream",
     "text": [
      "Reshaped grid: [[1, 2, 3], [4, 5, 6], [7, None, None]]\n"
     ]
    }
   ],
   "source": [
    "def reshape_list_to_grid(numbers, rows):\n",
    "    grid = []\n",
    "    cols = -(-len(numbers) // rows)  # Calculate the number of columns (ceil division)\n",
    "\n",
    "    for i in range(rows):\n",
    "        row_start = i * cols\n",
    "        row_end = row_start + cols\n",
    "        row = numbers[row_start:row_end]\n",
    "        # Pad the row with None if it's not full\n",
    "        while len(row) < cols:\n",
    "            row.append(None)\n",
    "        grid.append(row)\n",
    "\n",
    "    return grid\n",
    "\n",
    "# Example usage:\n",
    "numbers = [1, 2, 3, 4, 5, 6, 7]\n",
    "rows = 3\n",
    "result = reshape_list_to_grid(numbers, rows)\n",
    "print(\"Reshaped grid:\", result)\n"
   ]
  },
  {
   "cell_type": "markdown",
   "metadata": {
    "id": "iBPZVHDsfwpm"
   },
   "source": [
    "# **Question No 05**\n",
    "\n",
    "Write a program to sort a list of numbers into two separate lists:\n",
    "\n",
    "One list for all odd numbers (in ascending order).\n",
    "One list for all even numbers (in descending order).\n",
    "Use for loops for the entire process.\n",
    "\n",
    "**Example:**\n",
    "\n",
    "\n",
    "Input: [5, 8, 3, 10, 2, 7, 1, 6]  \n",
    "Output:  \n",
    "Odd: [1, 3, 5, 7]  \n",
    "Even: [10, 8, 6, 2]  \n"
   ]
  },
  {
   "cell_type": "code",
   "execution_count": 7,
   "metadata": {
    "id": "y8dyGGNAf42S"
   },
   "outputs": [
    {
     "name": "stdout",
     "output_type": "stream",
     "text": [
      "Odd: [1, 3, 5, 7]\n",
      "Even: [10, 8, 6, 2]\n"
     ]
    }
   ],
   "source": [
    "def sort_odd_even(numbers):\n",
    "    odd = []\n",
    "    even = []\n",
    "    \n",
    "    # Separate the numbers into odd and even lists\n",
    "    for num in numbers:\n",
    "        if num % 2 == 0:\n",
    "            even.append(num)\n",
    "        else:\n",
    "            odd.append(num)\n",
    "    \n",
    "    # Sort the odd numbers in ascending order\n",
    "    for i in range(len(odd)):\n",
    "        for j in range(i + 1, len(odd)):\n",
    "            if odd[i] > odd[j]:\n",
    "                odd[i], odd[j] = odd[j], odd[i]\n",
    "    \n",
    "    # Sort the even numbers in descending order\n",
    "    for i in range(len(even)):\n",
    "        for j in range(i + 1, len(even)):\n",
    "            if even[i] < even[j]:\n",
    "                even[i], even[j] = even[j], even[i]\n",
    "\n",
    "    return odd, even\n",
    "\n",
    "# Example usage:\n",
    "numbers = [5, 8, 3, 10, 2, 7, 1, 6]\n",
    "odd, even = sort_odd_even(numbers)\n",
    "print(\"Odd:\", odd)\n",
    "print(\"Even:\", even)\n"
   ]
  },
  {
   "cell_type": "markdown",
   "metadata": {
    "id": "X_LfOnqskNTe"
   },
   "source": [
    "# **Question No 06**\n",
    "\n",
    "Write a program that uses a for loop to count the frequency of each character in a given string and stores the result in a dictionary.\n",
    "\n",
    "The program should ignore spaces and be case-insensitive.\n",
    "Display the dictionary as the final output.\n",
    "\n",
    "**Example:**\n",
    "\n",
    "Input: \"Programming is fun\"  \n",
    "Output: {'p': 1, 'r': 2, 'o': 1, 'g': 2, 'a': 1, 'm': 2, 'i': 2, 'n': 2, 's': 1, 'f': 1, 'u': 1}\n",
    "\n"
   ]
  },
  {
   "cell_type": "code",
   "execution_count": 8,
   "metadata": {
    "id": "1_-djYt-kW8F"
   },
   "outputs": [
    {
     "name": "stdout",
     "output_type": "stream",
     "text": [
      "Character Frequency: {'p': 1, 'r': 2, 'o': 1, 'g': 2, 'a': 1, 'm': 2, 'i': 2, 'n': 2, 's': 1, 'f': 1, 'u': 1}\n"
     ]
    }
   ],
   "source": [
    "def count_character_frequency(input_string):\n",
    "    frequency = {}\n",
    "    input_string = input_string.replace(\" \", \"\").lower()  # Remove spaces and convert to lowercase\n",
    "    \n",
    "    for char in input_string:\n",
    "        if char in frequency:\n",
    "            frequency[char] += 1\n",
    "        else:\n",
    "            frequency[char] = 1\n",
    "    \n",
    "    return frequency\n",
    "\n",
    "# Example usage:\n",
    "input_string = \"Programming is fun\"\n",
    "result = count_character_frequency(input_string)\n",
    "print(\"Character Frequency:\", result)\n"
   ]
  }
 ],
 "metadata": {
  "colab": {
   "provenance": []
  },
  "kernelspec": {
   "display_name": "Python 3 (ipykernel)",
   "language": "python",
   "name": "python3"
  },
  "language_info": {
   "codemirror_mode": {
    "name": "ipython",
    "version": 3
   },
   "file_extension": ".py",
   "mimetype": "text/x-python",
   "name": "python",
   "nbconvert_exporter": "python",
   "pygments_lexer": "ipython3",
   "version": "3.12.7"
  }
 },
 "nbformat": 4,
 "nbformat_minor": 4
}
