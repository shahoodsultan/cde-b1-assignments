{
 "cells": [
  {
   "cell_type": "markdown",
   "metadata": {},
   "source": [
    "# Part -1 Python Basics (Variables)"
   ]
  },
  {
   "cell_type": "markdown",
   "metadata": {},
   "source": [
    "1. Print Your Name with your Father name and Date of birth using suitable escape sequence charactor"
   ]
  },
  {
   "cell_type": "code",
   "execution_count": 1,
   "metadata": {},
   "outputs": [
    {
     "name": "stdout",
     "output_type": "stream",
     "text": [
      "Aamir Aziz \n",
      " Aziz-Ur-Rehman \n",
      " Date of Birth: 23-04-1997\n"
     ]
    }
   ],
   "source": [
    "# Write your code here\n",
    "print(\"Aamir Aziz\",'\\n','Aziz-Ur-Rehman', '\\n','Date of Birth: 23-04-1997')"
   ]
  },
  {
   "cell_type": "markdown",
   "metadata": {},
   "source": [
    "2. Write your small bio using variables and print it using print function"
   ]
  },
  {
   "cell_type": "code",
   "execution_count": 5,
   "metadata": {},
   "outputs": [
    {
     "name": "stdout",
     "output_type": "stream",
     "text": [
      "Aamir Aziz Aziz-Ur-Rehman SMIU 8th\n"
     ]
    }
   ],
   "source": [
    "# Write your code here\n",
    "name = 'Aamir Aziz'\n",
    "father_name = 'Aziz-Ur-Rehman'\n",
    "University_name = 'SMIU'\n",
    "Semester = '8th'\n",
    "\n",
    "print(name,father_name, University_name, Semester)"
   ]
  },
  {
   "cell_type": "markdown",
   "metadata": {},
   "source": [
    "3. Write a program in which use all the operators we can use in Python"
   ]
  },
  {
   "cell_type": "code",
   "execution_count": 16,
   "metadata": {},
   "outputs": [
    {
     "name": "stdout",
     "output_type": "stream",
     "text": [
      "addition: 3\n",
      "Substraction: 1\n",
      "Multiplication: 4\n",
      "Divison: 4.0\n",
      "power: 4\n",
      "remainder 1\n",
      "floor: 2\n"
     ]
    }
   ],
   "source": [
    "# Write your code here\n",
    "print('addition:', 1+2)\n",
    "print('Substraction:', 2-1)\n",
    "print('Multiplication:', 2*2)\n",
    "print('Divison:', 4/1)\n",
    "print('power:', 2**2)\n",
    "print('remainder', 7%2)\n",
    "print('floor:', 8//3)"
   ]
  },
  {
   "cell_type": "markdown",
   "metadata": {},
   "source": [
    "4. Completes the following steps of small task:\n",
    "    - Mention Marks of English , Islamiat and Maths out of 100 in 3 different variables\n",
    "    - Mention Variable of Total Marks and assign 300 to it\n",
    "    - Calculate Percentage"
   ]
  },
  {
   "cell_type": "code",
   "execution_count": 88,
   "metadata": {},
   "outputs": [
    {
     "name": "stdout",
     "output_type": "stream",
     "text": [
      "Percentage: 79 %\n"
     ]
    }
   ],
   "source": [
    "# Write your code here\n",
    "english = 80\n",
    "math = 76\n",
    "islamiat = 80\n",
    "total_marks = 300\n",
    "\n",
    "obt_marks = english + math + islamiat\n",
    "\n",
    "print('Percentage:',round(obt_marks/total_marks*100),'%')"
   ]
  },
  {
   "cell_type": "markdown",
   "metadata": {},
   "source": [
    "# Part -2 Python Basics (Conditional Statements)"
   ]
  },
  {
   "cell_type": "markdown",
   "metadata": {},
   "source": [
    "1) A company decided to give bonus of 5% to employee if his/her year of service is more than 5 years.\n",
    "Ask user for their salary and year of service and print the net bonus amount."
   ]
  },
  {
   "cell_type": "code",
   "execution_count": 18,
   "metadata": {},
   "outputs": [
    {
     "name": "stdout",
     "output_type": "stream",
     "text": [
      "Basic salary {5000} bonus salary 250.0\n"
     ]
    }
   ],
   "source": [
    "#Type your code here\n",
    "year_of_service = int(input('Please Enter your year of Service: '))\n",
    "\n",
    "if year_of_service > 5 :\n",
    "    salary = int(input('Enter your salary'))\n",
    "    print('Basic salary',{salary},'bonus salary', salary * 0.05)\n",
    "if year_of_service < 5 :\n",
    "    print(input('you are not eligible'))"
   ]
  },
  {
   "cell_type": "markdown",
   "metadata": {},
   "source": [
    "\n",
    "2) Write a program to check whether a person is eligible for voting or not. (accept age from user) if age is greater than 17 eligible otherwise not eligible"
   ]
  },
  {
   "cell_type": "code",
   "execution_count": 24,
   "metadata": {},
   "outputs": [
    {
     "name": "stdout",
     "output_type": "stream",
     "text": [
      "Eligible for Voting\n"
     ]
    }
   ],
   "source": [
    "#Type your code here\n",
    "age = (int(input('your age: ')))\n",
    "if age > 17 :\n",
    "    print(\"Eligible for Voting\")\n",
    "else:\n",
    "    print(\"Underage\")"
   ]
  },
  {
   "cell_type": "markdown",
   "metadata": {},
   "source": [
    "\n",
    "3) Write a program to check whether a number entered by user is even or odd."
   ]
  },
  {
   "cell_type": "code",
   "execution_count": 31,
   "metadata": {},
   "outputs": [
    {
     "name": "stdout",
     "output_type": "stream",
     "text": [
      " Number 3 is Odd \n"
     ]
    }
   ],
   "source": [
    "#Type your code here\n",
    "number = int(input('Enter the Number: '))\n",
    "if number % 2 == 0:\n",
    "    print(f\" Number {number} is even \")\n",
    "else:\n",
    "    print(f\" Number {number} is Odd \")"
   ]
  },
  {
   "cell_type": "markdown",
   "metadata": {},
   "source": [
    "4) Write a program to check whether a number is divisible by 7 or not.\n",
    "Show Answer"
   ]
  },
  {
   "cell_type": "code",
   "execution_count": 35,
   "metadata": {},
   "outputs": [
    {
     "name": "stdout",
     "output_type": "stream",
     "text": [
      " Number 49 is Divisible by 7 \n"
     ]
    }
   ],
   "source": [
    "#Type your code here\n",
    "number = int(input(\"Enter the Number: \"))\n",
    "if number % 7 == 0:\n",
    "    print(f\" Number {number} is Divisible by 7 \")\n",
    "else:\n",
    "    print(f\" Number {number} is not Divisible by 7 \")"
   ]
  },
  {
   "cell_type": "markdown",
   "metadata": {},
   "source": [
    "5) Write a program to display \n",
    "\"Hello\" if a number entered by user is a multiple of five , otherwise print \"Bye\"."
   ]
  },
  {
   "cell_type": "code",
   "execution_count": null,
   "metadata": {},
   "outputs": [
    {
     "name": "stdout",
     "output_type": "stream",
     "text": [
      "bye\n"
     ]
    }
   ],
   "source": [
    "#Type your code here\n",
    "number = int(input(\"Enter the Number: \"))\n",
    "if number % 5 == 0:\n",
    "    print(\"Hello\")\n",
    "else:\n",
    "    print(\"bye\")"
   ]
  },
  {
   "cell_type": "markdown",
   "metadata": {},
   "source": [
    "7) Write a program to display the last digit of a number.\n"
   ]
  },
  {
   "cell_type": "code",
   "execution_count": 47,
   "metadata": {},
   "outputs": [
    {
     "name": "stdout",
     "output_type": "stream",
     "text": [
      " Number 49, last digit is 9 \n"
     ]
    }
   ],
   "source": [
    "#Type your code here\n",
    "number = (input(\"Enter the Number: \"))\n",
    "last_digit = number[-1]\n",
    "print(f\" Number {number}, last digit is {last_digit} \")"
   ]
  },
  {
   "cell_type": "markdown",
   "metadata": {},
   "source": [
    "9) Take values of length and breadth of a rectangle from user and print if it is square or rectangle."
   ]
  },
  {
   "cell_type": "code",
   "execution_count": 50,
   "metadata": {},
   "outputs": [
    {
     "name": "stdout",
     "output_type": "stream",
     "text": [
      "Rectangle\n"
     ]
    }
   ],
   "source": [
    "#Type your code here \n",
    "length = int(input(\"Entyer the Length\"))\n",
    "breadth = int(input(\"Entyer the breadthth\"))\n",
    "if length == breadth:\n",
    "    print (\"Shape is Squre\")\n",
    "else:\n",
    "    print(\"Rectangle\")"
   ]
  },
  {
   "cell_type": "markdown",
   "metadata": {},
   "source": [
    "10) Take two int values from user and print greatest among them."
   ]
  },
  {
   "cell_type": "code",
   "execution_count": 58,
   "metadata": {},
   "outputs": [
    {
     "name": "stdout",
     "output_type": "stream",
     "text": [
      "45\n"
     ]
    }
   ],
   "source": [
    "# Type your code here\n",
    "number_1 = int(input(\"Enter the Number 1\"))\n",
    "number_2 = int(input(\"Enter the Number 2\"))\n",
    "if number_1 > number_2: \n",
    "    print (number_1)\n",
    "elif number_1 == number_2:\n",
    "    print(\"please retype the Number: \")\n",
    "else:\n",
    "    print(number_2)"
   ]
  },
  {
   "cell_type": "markdown",
   "metadata": {},
   "source": [
    "11) A shop will give discount of 10% if the cost of purchased quantity is more than 1000.\n",
    "Ask user for quantity\n",
    "Suppose, one unit will cost 100.\n",
    "Judge and print total cost for user."
   ]
  },
  {
   "cell_type": "code",
   "execution_count": 69,
   "metadata": {},
   "outputs": [
    {
     "name": "stdout",
     "output_type": "stream",
     "text": [
      "Actual Price 4000\n",
      "Discounted Price 3600.0\n"
     ]
    }
   ],
   "source": [
    "#Type your code here\n",
    "Quantity = int(input(\"enter te Qty: \"))\n",
    "price = Quantity * 100\n",
    "if price > 1000:\n",
    "    discount = price*0.1\n",
    "    final_cost = price-discount\n",
    "    print(\"Actual Price\", price)\n",
    "    print(\"Discounted Price\" , final_cost)\n",
    "else:\n",
    "    print(\"Purchase More to eligible\")"
   ]
  },
  {
   "cell_type": "markdown",
   "metadata": {},
   "source": [
    "12) A school has following rules for grading system:\n",
    "\n",
    "a. Below 25 - F\n",
    "\n",
    "b. 25 to 45 - E\n",
    "\n",
    "c. 45 to 50 - D\n",
    "\n",
    "d. 50 to 60 - C\n",
    "\n",
    "e. 60 to 80 - B\n",
    "\n",
    "f. Above 80 - A\n",
    "\n",
    "Ask user to enter marks and print the corresponding grade."
   ]
  },
  {
   "cell_type": "code",
   "execution_count": 89,
   "metadata": {},
   "outputs": [
    {
     "name": "stdout",
     "output_type": "stream",
     "text": [
      "Grade B\n"
     ]
    }
   ],
   "source": [
    "#Type your code here\n",
    "marks = int(input(\"Enter your Marks: \"))\n",
    "\n",
    "if marks > 80: \n",
    "    print(\"Grade A\")\n",
    "elif marks >= 60:\n",
    "    print(\"Grade B\")\n",
    "elif marks >= 50:\n",
    "    print(\"Grade C\")\n",
    "elif marks >= 45:\n",
    "    print(\"Grade D\")\n",
    "elif marks >= 25:\n",
    "    print(\"Grade E\")\n",
    "elif marks < 25:\n",
    "    print(\"Grade F\")\n",
    "else:\n",
    "    print(\"Write the Correct Marks\")\n",
    "percentage = marks/100*100\n"
   ]
  },
  {
   "cell_type": "markdown",
   "metadata": {},
   "source": [
    "14)A student will not be allowed to sit in exam if his/her attendence is less than 75%.\n",
    "\n",
    "Take following input from user\n",
    "\n",
    "- Number of classes held\n",
    "\n",
    "- Number of classes attended.\n",
    "\n",
    "And print\n",
    "\n",
    "- percentage of class attended\n",
    "\n",
    "- Is student is allowed to sit in exam or not.\n"
   ]
  },
  {
   "cell_type": "code",
   "execution_count": 85,
   "metadata": {},
   "outputs": [
    {
     "name": "stdout",
     "output_type": "stream",
     "text": [
      " 88.89% Attendance, Allowed to Sit in Exam\n"
     ]
    }
   ],
   "source": [
    "#Type your code here\n",
    "number_of_class = int(input(\"Enter the Total Number Classes held: \"))\n",
    "attended_class = int(input(\"Enter the Total Number Classes attended: \"))\n",
    "percentage_of_class = ((attended_class/number_of_class)*100)\n",
    "if percentage_of_class >= 75:\n",
    "    print(f\"{percentage_of_class: .2f}% Attendance, Allowed to Sit in Exam\")\n",
    "else:\n",
    "    print(f\"{percentage_of_class: .2f}% Attendance, Not Allowed to Sit in Exam \")"
   ]
  },
  {
   "cell_type": "markdown",
   "metadata": {},
   "source": [
    "15) Modify the above question to allow student to sit if he/she has medical cause. Ask user if he/she has medical cause or not ( 'Y' or 'N' ) and print accordingly."
   ]
  },
  {
   "cell_type": "code",
   "execution_count": 110,
   "metadata": {},
   "outputs": [
    {
     "name": "stdout",
     "output_type": "stream",
     "text": [
      " 25.00% Attendance, Not Allowed\n"
     ]
    }
   ],
   "source": [
    "#Type your code here\n",
    "#Type your code here\n",
    "number_of_class = int(input(\"Enter the Total Number Classes held: \"))\n",
    "attended_class = int(input(\"Enter the Total Number Classes attended: \"))\n",
    "medical_cause = input('Any medical cause (y/n): ')\n",
    "if medical_cause == 'y':\n",
    "    print('Allowed to Site in Examm')\n",
    "elif medical_cause == 'n':\n",
    "    percentage_of_class = ((attended_class/number_of_class)*100)\n",
    "    if percentage_of_class >= 75:\n",
    "        print(f\"{percentage_of_class: .2f}% Attendance, Allowed to Sit in Exam\")\n",
    "    elif percentage_of_class < 75:\n",
    "        print(f\"{percentage_of_class: .2f}% Attendance, Not Allowed\")\n",
    "else:\n",
    "    print(\"Please fill accordingly\")"
   ]
  },
  {
   "cell_type": "markdown",
   "metadata": {},
   "source": [
    "16) Write a program to check if a year is leap year or not.\n",
    "\n",
    "If a year is divisible by 4 then it is leap year but if the year is century year like 2000, 1900, 2100 then it must be divisible by 400."
   ]
  },
  {
   "cell_type": "code",
   "execution_count": 126,
   "metadata": {},
   "outputs": [
    {
     "name": "stdout",
     "output_type": "stream",
     "text": [
      "Not a Leap Year\n"
     ]
    }
   ],
   "source": [
    "#Type your code here\n",
    "year = int(input(\"Enter the Year: \"))\n",
    "\n",
    "if year%4 == 0 and year%400 == 0:\n",
    "    print(\"its a Leap Year\")\n",
    "elif year%400 != 0:\n",
    "    print('Not a Leap Year')\n",
    "else:\n",
    "    print(\"Try Agian\")"
   ]
  },
  {
   "cell_type": "markdown",
   "metadata": {},
   "source": [
    "17) Ask user to enter age, gender ( M or F ), marital status ( Y or N ) and then using following rules print their place of service.\n",
    "\n",
    "if employee is female, then she will work only in urban areas.\n",
    "\n",
    "if employee is a male and age is in between 20 to 40 then he may work in anywhere\n",
    "\n",
    "if employee is male and age is in between 40 t0 60 then he will work in urban areas only.\n",
    "\n",
    "And any other input of age should print \"ERROR\""
   ]
  },
  {
   "cell_type": "code",
   "execution_count": 127,
   "metadata": {},
   "outputs": [
    {
     "name": "stdout",
     "output_type": "stream",
     "text": [
      "You can work only in Urban Areas\n"
     ]
    }
   ],
   "source": [
    "#Type your code here\n",
    "gender = input(\"Your Gender\")\n",
    "age = int(input(\"Your AGE\"))\n",
    "#martrial_status = input(\"Your Status\")\n",
    "\n",
    "if gender == 'Female' or 'F':\n",
    "    print('You can work only in Urban Areas') \n",
    "elif (gender == 'Male' or 'M') and  (age >= 20 and age < 40):\n",
    "    print(\"you can work anywhere\")    \n",
    "elif (gender == 'Male' or 'M') and (age >= 40 and age <= 60):\n",
    "    print(\"only work in urban Areas\")\n",
    "else:\n",
    "    print('Invalid')"
   ]
  },
  {
   "cell_type": "markdown",
   "metadata": {},
   "source": [
    "6) Write a program to calculate the electricity bill (accept number of unit from user) according to the following criteria :\n",
    "     Unit                                                     Price  \n",
    "uptp 100 units                                             no charge\n",
    "Next 200 units                                              Rs 5 per unit\n",
    "After 200 units                                             Rs 10 per unit\n",
    "(For example if input unit is 350 than total bill amount is Rs.3500\n",
    "(For example if input unit is 97 than total bill amount is Rs.0\n",
    "(For example if input unit is 150 than total bill amount is Rs.750"
   ]
  },
  {
   "cell_type": "code",
   "execution_count": 152,
   "metadata": {},
   "outputs": [
    {
     "name": "stdout",
     "output_type": "stream",
     "text": [
      "4000\n"
     ]
    }
   ],
   "source": [
    "#Type your code here\n",
    "unit = int(input(\"Enter the Unit: \"))\n",
    "if unit <=100:\n",
    "    print(\"No Charge\")\n",
    "elif unit <= 200:\n",
    "    a = unit*5\n",
    "    print(a)\n",
    "elif unit > 200:\n",
    "    b = unit * 10\n",
    "    print(b)\n",
    "# else: \n",
    "#     print('Invalid Input')"
   ]
  },
  {
   "cell_type": "markdown",
   "metadata": {},
   "source": [
    "13) Take input of age of 3 people by user and determine oldest and youngest among them."
   ]
  },
  {
   "cell_type": "code",
   "execution_count": null,
   "metadata": {},
   "outputs": [],
   "source": []
  }
 ],
 "metadata": {
  "kernelspec": {
   "display_name": "env",
   "language": "python",
   "name": "python3"
  },
  "language_info": {
   "codemirror_mode": {
    "name": "ipython",
    "version": 3
   },
   "file_extension": ".py",
   "mimetype": "text/x-python",
   "name": "python",
   "nbconvert_exporter": "python",
   "pygments_lexer": "ipython3",
   "version": "3.12.6"
  }
 },
 "nbformat": 4,
 "nbformat_minor": 4
}
