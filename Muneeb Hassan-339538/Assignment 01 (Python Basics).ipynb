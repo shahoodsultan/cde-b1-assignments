{
 "cells": [
  {
   "cell_type": "markdown",
   "metadata": {},
   "source": [
    "# Part -1 Python Basics (Variables)"
   ]
  },
  {
   "cell_type": "markdown",
   "metadata": {},
   "source": [
    "1. Print Your Name with your Father name and Date of birth using suitable escape sequence charactor"
   ]
  },
  {
   "cell_type": "code",
   "execution_count": null,
   "metadata": {},
   "outputs": [],
   "source": [
    "name = \"ayaz\"\n",
    "fname = \"shahid\"\n",
    "date = \"23 oct 24\"\n",
    "print(name + fname + date) "
   ]
  },
  {
   "cell_type": "markdown",
   "metadata": {},
   "source": [
    "2. Write your small bio using variables and print it using print function"
   ]
  },
  {
   "cell_type": "code",
   "execution_count": null,
   "metadata": {},
   "outputs": [],
   "source": [
    "name = \"ayaz shahid\"\n",
    "age = \"22\"\n",
    "qualification = \"undergraduate\"\n",
    "print(name + age + qualification)\n"
   ]
  },
  {
   "cell_type": "markdown",
   "metadata": {},
   "source": [
    "3. Write a program in which use all the operators we can use in Python"
   ]
  },
  {
   "cell_type": "code",
   "execution_count": 14,
   "metadata": {},
   "outputs": [
    {
     "name": "stdout",
     "output_type": "stream",
     "text": [
      "5\n",
      "21\n",
      "0.2\n",
      "1\n"
     ]
    }
   ],
   "source": [
    "add = 2 + 3\n",
    "multiply = 3 * 7\n",
    "divide = 4 / 20\n",
    "subtract = 3 - 2\n",
    "print(add)\n",
    "print(multiply)\n",
    "print(divide)\n",
    "print(subtract)\n"
   ]
  },
  {
   "cell_type": "markdown",
   "metadata": {},
   "source": [
    "4. Completes the following steps of small task:\n",
    "    - Mention Marks of English , Islamiat and Maths out of 100 in 3 different variables\n",
    "    - Mention Variable of Total Marks and assign 300 to it\n",
    "    - Calculate Percentage"
   ]
  },
  {
   "cell_type": "code",
   "execution_count": null,
   "metadata": {},
   "outputs": [],
   "source": [
    "english = 80\n",
    "islamiat = 90\n",
    "maths = 60\n",
    "\n",
    "total_marks = 300\n",
    "sum = english + islamiat + maths\n",
    "percentage = sum / total_marks"
   ]
  },
  {
   "cell_type": "markdown",
   "metadata": {},
   "source": [
    "# Part -2 Python Basics (Conditional Statements)"
   ]
  },
  {
   "cell_type": "markdown",
   "metadata": {},
   "source": [
    "1) A company decided to give bonus of 5% to employee if his/her year of service is more than 5 years.\n",
    "Ask user for their salary and year of service and print the net bonus amount."
   ]
  },
  {
   "cell_type": "code",
   "execution_count": 6,
   "metadata": {},
   "outputs": [],
   "source": [
    "salary = int(input(\"Enter Salary\"))\n",
    "yearsOfService = int(input(\"Enter year of service\"))\n",
    "\n",
    "if yearsOfService >= 5:\n",
    "    bonus = 0.05 * salary\n",
    "    print(bonus)\n",
    "else:\n",
    "    print(\"No bonus\")"
   ]
  },
  {
   "cell_type": "markdown",
   "metadata": {},
   "source": [
    "\n",
    "2) Write a program to check whether a person is eligible for voting or not. (accept age from user) if age is greater than 17 eligible otherwise not eligible"
   ]
  },
  {
   "cell_type": "code",
   "execution_count": 7,
   "metadata": {},
   "outputs": [],
   "source": [
    "age = int(input(\"enter age\"))\n",
    "\n",
    "if age > 17:\n",
    "    print(\"eligible for voting\")\n",
    "\n",
    "else:\n",
    "    print(\"not eligible\")\n",
    "        "
   ]
  },
  {
   "cell_type": "markdown",
   "metadata": {},
   "source": [
    "\n",
    "3) Write a program to check whether a number entered by user is even or odd."
   ]
  },
  {
   "cell_type": "code",
   "execution_count": 8,
   "metadata": {},
   "outputs": [],
   "source": [
    "num1 = int(input(\"enter num\"))\n",
    "\n",
    "if num1 % 2 == 0:\n",
    "    print(\"Even Number: \", num1)\n",
    "else:\n",
    "    print(\"Odd number\")"
   ]
  },
  {
   "cell_type": "markdown",
   "metadata": {},
   "source": [
    "4) Write a program to check whether a number is divisible by 7 or not.\n",
    "Show Answer"
   ]
  },
  {
   "cell_type": "code",
   "execution_count": 9,
   "metadata": {},
   "outputs": [],
   "source": [
    "num1 = int(input(\"enter num\"))\n",
    "\n",
    "if num1 % 7 == 0:\n",
    "    print(\"divisible by 7: \", num1)\n",
    "else:\n",
    "    print(\"not divisible by 7\")\n",
    "    "
   ]
  },
  {
   "cell_type": "markdown",
   "metadata": {},
   "source": [
    "5) Write a program to display \n",
    "\"Hello\" if a number entered by user is a multiple of five , otherwise print \"Bye\"."
   ]
  },
  {
   "cell_type": "code",
   "execution_count": 7,
   "metadata": {},
   "outputs": [
    {
     "name": "stdout",
     "output_type": "stream",
     "text": [
      "Hello\n"
     ]
    }
   ],
   "source": [
    "num = int(input(\"enter num\"))\n",
    "\n",
    "if num % 5 == 0:\n",
    "    print(\"Hello\")\n",
    "else:\n",
    "    print(\"bye\")\n",
    "    "
   ]
  },
  {
   "cell_type": "markdown",
   "metadata": {},
   "source": [
    "7) Write a program to display the last digit of a number.\n"
   ]
  },
  {
   "cell_type": "code",
   "execution_count": 9,
   "metadata": {},
   "outputs": [
    {
     "data": {
      "text/plain": [
       "5"
      ]
     },
     "execution_count": 9,
     "metadata": {},
     "output_type": "execute_result"
    }
   ],
   "source": [
    "li = (2, 3, 4 , 5)\n",
    "li[3]"
   ]
  },
  {
   "cell_type": "markdown",
   "metadata": {},
   "source": [
    "9) Take values of length and breadth of a rectangle from user and print if it is square or rectangle."
   ]
  },
  {
   "cell_type": "code",
   "execution_count": 11,
   "metadata": {},
   "outputs": [
    {
     "name": "stdout",
     "output_type": "stream",
     "text": [
      "Rectangle\n"
     ]
    }
   ],
   "source": [
    "length = int(input(\"Enter Length\"))\n",
    "breadth = int(input(\"Enter Breadth\"))\n",
    "\n",
    "if length == breadth:\n",
    "    print(\"Square\")\n",
    "else:\n",
    "    print(\"Rectangle\")"
   ]
  },
  {
   "cell_type": "markdown",
   "metadata": {},
   "source": [
    "10) Take two int values from user and print greatest among them."
   ]
  },
  {
   "cell_type": "code",
   "execution_count": 13,
   "metadata": {},
   "outputs": [
    {
     "name": "stdout",
     "output_type": "stream",
     "text": [
      "Greatest:  10\n"
     ]
    }
   ],
   "source": [
    "numm1 = int(input(\"Enter num1\"))\n",
    "numm2 = int(input(\"Enter num2\"))\n",
    "\n",
    "if numm1 > numm2:\n",
    "    print(\"Greatest: \", numm1) \n",
    "elif numm2 > numm1:\n",
    "    print(\"Greatest: \", numm2)\n",
    "else:\n",
    "    print(\"Lesser\")"
   ]
  },
  {
   "cell_type": "markdown",
   "metadata": {},
   "source": [
    "11) A shop will give discount of 10% if the cost of purchased quantity is more than 1000.\n",
    "Ask user for quantity\n",
    "Suppose, one unit will cost 100.\n",
    "Judge and print total cost for user."
   ]
  },
  {
   "cell_type": "code",
   "execution_count": 19,
   "metadata": {},
   "outputs": [
    {
     "name": "stdout",
     "output_type": "stream",
     "text": [
      "10010.0\n",
      "90090.0\n"
     ]
    }
   ],
   "source": [
    "purchased_quantity = int(input(\"Enter Purchased Quantity\"))\n",
    "unit_cost = 100\n",
    "total_cost = purchased_quantity * unit_cost\n",
    "\n",
    "if total_cost > 1000:\n",
    "    discount = 0.1 * total_cost\n",
    "    total_cost -= discount\n",
    "    print(discount)\n",
    "print(total_cost)\n"
   ]
  },
  {
   "cell_type": "markdown",
   "metadata": {},
   "source": [
    "12) A school has following rules for grading system:\n",
    "\n",
    "a. Below 25 - F\n",
    "\n",
    "b. 25 to 45 - E\n",
    "\n",
    "c. 45 to 50 - D\n",
    "\n",
    "d. 50 to 60 - C\n",
    "\n",
    "e. 60 to 80 - B\n",
    "\n",
    "f. Above 80 - A\n",
    "\n",
    "Ask user to enter marks and print the corresponding grade."
   ]
  },
  {
   "cell_type": "code",
   "execution_count": 23,
   "metadata": {},
   "outputs": [
    {
     "name": "stdout",
     "output_type": "stream",
     "text": [
      "C\n"
     ]
    }
   ],
   "source": [
    "marks = int(input(\"Age: \"))\n",
    "\n",
    "if marks <= 25:\n",
    "    print(\"F\")\n",
    "elif marks >=25 and marks <= 45:\n",
    "    print(\"E\")\n",
    "elif marks >=45 and marks <= 50:\n",
    "    print(\"D\")\n",
    "elif marks >=50 and marks <= 60:\n",
    "    print(\"C\")\n",
    "elif marks >=60 and marks <= 80:\n",
    "    print(\"B\")\n",
    "elif marks >= 80:\n",
    "    print(\"A\")"
   ]
  },
  {
   "cell_type": "markdown",
   "metadata": {},
   "source": [
    "14)A student will not be allowed to sit in exam if his/her attendence is less than 75%.\n",
    "\n",
    "Take following input from user\n",
    "\n",
    "- Number of classes held\n",
    "\n",
    "- Number of classes attended.\n",
    "\n",
    "And print\n",
    "\n",
    "- percentage of class attended\n",
    "\n",
    "- Is student is allowed to sit in exam or not.\n"
   ]
  },
  {
   "cell_type": "code",
   "execution_count": 24,
   "metadata": {},
   "outputs": [
    {
     "name": "stdout",
     "output_type": "stream",
     "text": [
      "Percentage of classes attended: 60.00%\n",
      "The student is not allowed to sit in the exam.\n"
     ]
    }
   ],
   "source": [
    "classes_held = int(input(\"Enter the number of classes held: \"))\n",
    "classes_attended = int(input(\"Enter the number of classes attended: \"))\n",
    "\n",
    "attendance_percentage = (classes_attended / classes_held) * 100\n",
    "\n",
    "if attendance_percentage >= 75:\n",
    "    status = \"allowed to sit in the exam.\"\n",
    "else:\n",
    "    status = \"not allowed to sit in the exam.\"\n",
    "\n",
    "print(f\"Percentage of classes attended: {attendance_percentage:.2f}%\")\n",
    "print(f\"The student is {status}\")\n"
   ]
  },
  {
   "cell_type": "markdown",
   "metadata": {},
   "source": [
    "15) Modify the above question to allow student to sit if he/she has medical cause. Ask user if he/she has medical cause or not ( 'Y' or 'N' ) and print accordingly."
   ]
  },
  {
   "cell_type": "code",
   "execution_count": 20,
   "metadata": {},
   "outputs": [],
   "source": [
    "classes_held = int(input(\"Enter the number of classes held: \"))\n",
    "classes_attended = int(input(\"Enter the number of classes attended: \"))\n",
    "\n",
    "attendance_percentage = (classes_attended / classes_held) * 100\n",
    "\n",
    "medical_cause = input(\"Does the student have a medical cause? (Y/N): \").strip().upper()\n",
    "\n",
    "if attendance_percentage >= 75 or medical_cause == 'Y':\n",
    "    status = \"allowed to sit in the exam.\"\n",
    "else:\n",
    "    status = \"not allowed to sit in the exam.\"\n",
    "\n",
    "print(f\"Percentage of classes attended: {attendance_percentage:.2f}%\")\n",
    "print(f\"The student is {status}\")\n"
   ]
  },
  {
   "cell_type": "markdown",
   "metadata": {},
   "source": [
    "16) Write a program to check if a year is leap year or not.\n",
    "\n",
    "If a year is divisible by 4 then it is leap year but if the year is century year like 2000, 1900, 2100 then it must be divisible by 400."
   ]
  },
  {
   "cell_type": "code",
   "execution_count": 29,
   "metadata": {},
   "outputs": [
    {
     "name": "stdout",
     "output_type": "stream",
     "text": [
      "2000 is a leap year.\n"
     ]
    }
   ],
   "source": [
    "year = int(input(\"Enter a year: \"))\n",
    "\n",
    "if (year % 4 == 0 and year % 100 != 0) or (year % 400 == 0):\n",
    "    print(f\"{year} is a leap year.\")\n",
    "else:\n",
    "    print(f\"{year} is not a leap year.\")\n"
   ]
  },
  {
   "cell_type": "markdown",
   "metadata": {},
   "source": [
    "17) Ask user to enter age, gender ( M or F ), marital status ( Y or N ) and then using following rules print their place of service.\n",
    "\n",
    "if employee is female, then she will work only in urban areas.\n",
    "\n",
    "if employee is a male and age is in between 20 to 40 then he may work in anywhere\n",
    "\n",
    "if employee is male and age is in between 40 t0 60 then he will work in urban areas only.\n",
    "\n",
    "And any other input of age should print \"ERROR\""
   ]
  },
  {
   "cell_type": "code",
   "execution_count": 30,
   "metadata": {},
   "outputs": [
    {
     "name": "stdout",
     "output_type": "stream",
     "text": [
      "Place of service: Anywhere\n"
     ]
    }
   ],
   "source": [
    "\n",
    "age = int(input(\"Enter age: \"))\n",
    "gender = input(\"Enter gender (M or F): \").strip().upper()\n",
    "marital_status = input(\"Enter marital status (Y or N): \").strip().upper()\n",
    "\n",
    "if gender == 'F':\n",
    "    print(\"Place of service: Urban areas only\")\n",
    "elif gender == 'M':\n",
    "    if 20 <= age <= 40:\n",
    "        print(\"Place of service: Anywhere\")\n",
    "    elif 40 < age <= 60:\n",
    "        print(\"Place of service: Urban areas only\")\n",
    "    else:\n",
    "        print(\"ERROR: Invalid age\")\n",
    "else:\n",
    "    print(\"ERROR: Invalid gender\")\n"
   ]
  },
  {
   "cell_type": "markdown",
   "metadata": {},
   "source": [
    "6) Write a program to calculate the electricity bill (accept number of unit from user) according to the following criteria :\n",
    "     Unit                                                     Price  \n",
    "uptp 100 units                                             no charge\n",
    "Next 200 units                                              Rs 5 per unit\n",
    "After 200 units                                             Rs 10 per unit\n",
    "(For example if input unit is 350 than total bill amount is Rs.3500\n",
    "(For example if input unit is 97 than total bill amount is Rs.0\n",
    "(For example if input unit is 150 than total bill amount is Rs.750"
   ]
  },
  {
   "cell_type": "code",
   "execution_count": 27,
   "metadata": {},
   "outputs": [
    {
     "name": "stdout",
     "output_type": "stream",
     "text": [
      "Total electricity bill: Rs.28000\n"
     ]
    }
   ],
   "source": [
    "# Input the number of units consumed\n",
    "units = int(input(\"Enter the number of units consumed: \"))\n",
    "\n",
    "# Initialize the bill amount\n",
    "bill_amount = 0\n",
    "\n",
    "# Calculate the bill based on the given criteria\n",
    "if units > 300:\n",
    "    bill_amount += (units - 300) * 10  # Charge for units above 300\n",
    "    units = 300\n",
    "\n",
    "if units > 100:\n",
    "    bill_amount += (units - 100) * 5  # Charge for units between 101 and 300\n",
    "\n",
    "# No charge for the first 100 units\n",
    "\n",
    "# Output the total bill amount\n",
    "print(f\"Total electricity bill: Rs.{bill_amount}\")\n"
   ]
  },
  {
   "cell_type": "markdown",
   "metadata": {},
   "source": [
    "13) Take input of age of 3 people by user and determine oldest and youngest among them."
   ]
  },
  {
   "cell_type": "code",
   "execution_count": 20,
   "metadata": {},
   "outputs": [
    {
     "name": "stdout",
     "output_type": "stream",
     "text": [
      "The oldest person is 22 years old.\n",
      "The youngest person is 20 years old.\n"
     ]
    }
   ],
   "source": [
    "# Input ages of three people\n",
    "age1 = int(input(\"Enter the age of the first person: \"))\n",
    "age2 = int(input(\"Enter the age of the second person: \"))\n",
    "age3 = int(input(\"Enter the age of the third person: \"))\n",
    "\n",
    "# Determine the oldest and youngest\n",
    "oldest = max(age1, age2, age3)\n",
    "youngest = min(age1, age2, age3)\n",
    "\n",
    "# Output the results\n",
    "print(f\"The oldest person is {oldest} years old.\")\n",
    "print(f\"The youngest person is {youngest} years old.\")\n"
   ]
  },
  {
   "cell_type": "code",
   "execution_count": null,
   "metadata": {},
   "outputs": [],
   "source": []
  }
 ],
 "metadata": {
  "kernelspec": {
   "display_name": "Python 3 (ipykernel)",
   "language": "python",
   "name": "python3"
  },
  "language_info": {
   "codemirror_mode": {
    "name": "ipython",
    "version": 3
   },
   "file_extension": ".py",
   "mimetype": "text/x-python",
   "name": "python",
   "nbconvert_exporter": "python",
   "pygments_lexer": "ipython3",
   "version": "3.12.7"
  }
 },
 "nbformat": 4,
 "nbformat_minor": 2
}
