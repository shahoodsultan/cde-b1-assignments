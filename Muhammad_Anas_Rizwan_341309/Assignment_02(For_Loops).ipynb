{
  "cells": [
    {
      "cell_type": "markdown",
      "metadata": {
        "id": "1E5r3wPNed0G"
      },
      "source": [
        "\n",
        "\n",
        "# **Question No 01**\n",
        "\n",
        "Use a for loop to count the number of occurrences of the word in the list and return all indices where the word occurs.\n",
        "\n",
        "**Exmple:**\n",
        "\n",
        "Input: ['apple', 'banana', 'apple', 'cherry', 'apple'], Search: 'apple'  \n",
        "Output: 'apple' found 3 times at indices: 0, 2, 4\n",
        "\n"
      ]
    },
    {
      "cell_type": "code",
      "execution_count": 90,
      "metadata": {
        "id": "tHrz4YilefTD"
      },
      "outputs": [
        {
          "name": "stdout",
          "output_type": "stream",
          "text": [
            "'apple' found 3 times at indices 0, 2, 4\n"
          ]
        }
      ],
      "source": [
        "fruit = ['apple', 'banana', 'apple', 'cherry', 'apple']\n",
        "search = 'apple'\n",
        "index = []\n",
        "for i in range(len(fruit)):\n",
        "  if(fruit[i] == search):\n",
        "    index.append(i)\n",
        "\n",
        "print(f\"'apple' found {len(index)} times at indices {', '.join(str(i) for i in index)}\")\n"
      ]
    },
    {
      "cell_type": "markdown",
      "metadata": {
        "id": "fN_U0nnCeeAF"
      },
      "source": [
        "\n",
        "# **Question No 02**\n",
        "\n",
        "Create a program to find all unique pairs of numbers in a list that add up to a target sum.\n",
        "\n",
        "Use a single list and a for loop (nested if necessary) to iterate through and find pairs without duplicates.\n",
        "Avoid repeating pairs like [3, 5] and [5, 3].\n",
        "\n",
        "**Example:**\n",
        "\n",
        "Input list: [2, 4, 3, 5, 7, 8, 1]  \n",
        "Target sum: 9  \n",
        "Output: [(2, 7), (4, 5), (1, 8)]\n"
      ]
    },
    {
      "cell_type": "code",
      "execution_count": 91,
      "metadata": {
        "id": "AfsJP7KTef3T"
      },
      "outputs": [
        {
          "name": "stdout",
          "output_type": "stream",
          "text": [
            "[(2, 7), (4, 5), (8, 1)]\n"
          ]
        }
      ],
      "source": [
        "list = [2, 4, 3, 5, 7, 8,1]\n",
        "sum = 9\n",
        "new_list = []\n",
        "i = 0\n",
        "\n",
        "while i < len(list):\n",
        "    j = i + 1\n",
        "    while j < len(list):\n",
        "        if (list[i] + list[j] == sum):\n",
        "            if list[i] not in new_list:\n",
        "                if list[j] not in new_list:\n",
        "                    new = list[i],list[j]\n",
        "                    new_list.extend(new)\n",
        "        j += 1\n",
        "    i += 1\n",
        "\n",
        "rows = 3\n",
        "newList = []\n",
        "col = (len(new_list) + rows - 1) // rows\n",
        "for i in range(rows):\n",
        "    row = new_list[i * col:(i+1)*col]\n",
        "    newList.append(tuple(row))\n",
        "for i in newList:\n",
        "    if(i == ()):\n",
        "        newList.pop()\n",
        "print(newList)\n"
      ]
    },
    {
      "cell_type": "markdown",
      "metadata": {
        "id": "d8ZH6VPNewLh"
      },
      "source": [
        "# **Question No 03**\n",
        "\n",
        "Write a program to calculate the cumulative product of elements in a list.\n",
        "\n",
        "Use a single list and update it in place to store the cumulative product at each index.\n",
        "Use only a for loop.\n",
        "\n",
        "**Example:**\n",
        "\n",
        "Input: [2, 3, 4, 5]  \n",
        "Output: [2, 6, 24, 120]  \n"
      ]
    },
    {
      "cell_type": "code",
      "execution_count": 92,
      "metadata": {
        "id": "pYPfUitge7nW"
      },
      "outputs": [
        {
          "name": "stdout",
          "output_type": "stream",
          "text": [
            "[2, 6, 24, 120]\n"
          ]
        }
      ],
      "source": [
        "num_list = [2,3,4,5]\n",
        "for i in range(1,len(num_list)):\n",
        "  new = num_list[i] * num_list[i-1] \n",
        "  num_list[i] = new\n",
        "  \n",
        "print(num_list)"
      ]
    },
    {
      "cell_type": "markdown",
      "metadata": {
        "id": "jEtwOjpEfAYA"
      },
      "source": [
        "# **Question No 04**\n",
        "\n",
        "Write a program to reshape a 1D list into a 2D grid.\n",
        "\n",
        "Accept a list of numbers and the number of rows as input.\n",
        "Use for loops to split the list into sublists, each representing a row.\n",
        "If the list cannot be evenly divided into rows, pad it with None.\n",
        "\n",
        "**Example:**\n",
        "Input: [1, 2, 3, 4, 5, 6, 7], Rows: 3  \n",
        "Output: [[1, 2, 3], [4, 5, 6], [7, None, None]]  \n",
        "\n"
      ]
    },
    {
      "cell_type": "code",
      "execution_count": 93,
      "metadata": {
        "id": "tGRxqt0pfRql"
      },
      "outputs": [
        {
          "name": "stdout",
          "output_type": "stream",
          "text": [
            "[[1, 2, 3], [4, 5, 6], [7, None, None]]\n"
          ]
        }
      ],
      "source": [
        "lists = [1, 2, 3, 4, 5, 6, 7]\n",
        "rows = 3\n",
        "\n",
        "column = (len(lists) + rows - 1) // rows\n",
        "\n",
        "result = []\n",
        "for i in range(rows):\n",
        "    row = lists[i * column: (i + 1) * column]  \n",
        "    row.extend([None] * (column - len(row)))\n",
        "    result.append(row)\n",
        "\n",
        "print(result)\n"
      ]
    },
    {
      "cell_type": "markdown",
      "metadata": {
        "id": "iBPZVHDsfwpm"
      },
      "source": [
        "# **Question No 05**\n",
        "\n",
        "Write a program to sort a list of numbers into two separate lists:\n",
        "\n",
        "One list for all odd numbers (in ascending order).\n",
        "One list for all even numbers (in descending order).\n",
        "Use for loops for the entire process.\n",
        "\n",
        "**Example:**\n",
        "\n",
        "\n",
        "Input: [5, 8, 3, 10, 2, 7, 1, 6]  \n",
        "Output:  \n",
        "Odd: [1, 3, 5, 7]  \n",
        "Even: [10, 8, 6, 2]  \n"
      ]
    },
    {
      "cell_type": "code",
      "execution_count": 94,
      "metadata": {
        "id": "y8dyGGNAf42S"
      },
      "outputs": [
        {
          "name": "stdout",
          "output_type": "stream",
          "text": [
            "[1, 3, 5, 7]\n",
            "[10, 8, 6, 2]\n"
          ]
        }
      ],
      "source": [
        "list_nums = [5, 8, 3, 10, 2, 7, 1, 6]  \n",
        "odd = []\n",
        "even = []\n",
        "\n",
        "for i in list_nums:\n",
        "    if i % 2 == 0:\n",
        "        even.append(i)\n",
        "    else:\n",
        "        odd.append(i)\n",
        "\n",
        "even.sort(reverse = True)\n",
        "odd.sort()\n",
        "\n",
        "print(odd)\n",
        "print(even)\n"
      ]
    },
    {
      "cell_type": "markdown",
      "metadata": {
        "id": "X_LfOnqskNTe"
      },
      "source": [
        "# **Question No 06**\n",
        "\n",
        "Write a program that uses a for loop to count the frequency of each character in a given string and stores the result in a dictionary.\n",
        "\n",
        "The program should ignore spaces and be case-insensitive.\n",
        "Display the dictionary as the final output.\n",
        "\n",
        "**Example:**\n",
        "\n",
        "Input: \"Programming is fun\"  \n",
        "Output: {'p': 1, 'r': 2, 'o': 1, 'g': 2, 'a': 1, 'm': 2, 'i': 2, 'n': 2, 's': 1, 'f': 1, 'u': 1}\n",
        "\n"
      ]
    },
    {
      "cell_type": "code",
      "execution_count": 95,
      "metadata": {},
      "outputs": [
        {
          "name": "stdout",
          "output_type": "stream",
          "text": [
            "{'P': 1, 'r': 2, 'o': 1, 'g': 2, 'a': 1, 'm': 2, 'i': 2, 'n': 2, 's': 1, 'f': 1, 'u': 1}\n"
          ]
        }
      ],
      "source": [
        "inp_value = input(\"Enter the word\").replace(\" \",\"\")\n",
        "dict_alpha = {}\n",
        "\n",
        "for i in inp_value:\n",
        "  if(i in dict_alpha):\n",
        "    dict_alpha[i] += 1\n",
        "  else:\n",
        "    dict_alpha[i] = 1\n",
        "  \n",
        "print(dict_alpha)\n"
      ]
    }
  ],
  "metadata": {
    "colab": {
      "provenance": []
    },
    "kernelspec": {
      "display_name": "Python 3",
      "name": "python3"
    },
    "language_info": {
      "codemirror_mode": {
        "name": "ipython",
        "version": 3
      },
      "file_extension": ".py",
      "mimetype": "text/x-python",
      "name": "python",
      "nbconvert_exporter": "python",
      "pygments_lexer": "ipython3",
      "version": "3.12.1"
    }
  },
  "nbformat": 4,
  "nbformat_minor": 0
}
