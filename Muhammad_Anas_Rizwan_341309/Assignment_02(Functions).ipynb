{
  "cells": [
    {
      "cell_type": "markdown",
      "metadata": {
        "id": "WbWe2auqg3ZE"
      },
      "source": [
        "\n",
        "# **Question No 01**\n",
        "\n",
        "Write a function called create_word_count that takes a list of strings and returns a dictionary where:\n",
        "\n",
        "Keys are unique words from the list.\n",
        "Values are the count of occurrences of each word.\n",
        "\n",
        "**Exmple:**\n",
        "words = ['apple', 'banana', 'apple', 'cherry', 'banana', 'apple']\n",
        "result = create_word_count(words)\n",
        "print(result)  # {'apple': 3, 'banana': 2, 'cherry': 1}\n",
        "\n"
      ]
    },
    {
      "cell_type": "code",
      "execution_count": 11,
      "metadata": {
        "id": "Y7n-RlA-iywL"
      },
      "outputs": [
        {
          "name": "stdout",
          "output_type": "stream",
          "text": [
            "{'apple': 3, 'banana': 2, 'cherry': 1}\n"
          ]
        }
      ],
      "source": [
        "def create_word_count(fruit_list):\n",
        "    dict_fruit = {}\n",
        "    for fruit in fruit_list:\n",
        "        if fruit in dict_fruit:\n",
        "            dict_fruit[fruit] += 1\n",
        "        else:\n",
        "            dict_fruit[fruit] = 1\n",
        "    return dict_fruit\n",
        "\n",
        "fruits = ['apple', 'banana', 'apple', 'cherry', 'banana', 'apple']\n",
        "\n",
        "value = create_word_count(fruits)\n",
        "print(value)\n"
      ]
    },
    {
      "cell_type": "markdown",
      "metadata": {
        "id": "CWDqnzRRg3br"
      },
      "source": [
        "# **Question No 02**\n",
        "\n",
        "Write a function called sort_by_key that takes a list of dictionaries and a key to sort by.\n",
        "\n",
        "The function should return a new list sorted by the given key in ascending order.\n",
        "If the key doesn’t exist in a dictionary, ignore that dictionary.\n",
        "\n",
        "**Exmple:**\n",
        "\n",
        "data = [{'name': 'Alice', 'age': 25}, {'name': 'Bob', 'age': 22}, {'name': 'Charlie', 'age': 30}]\n",
        "sorted_data = sort_by_key(data, 'age')\n",
        "print(sorted_data)  \n",
        "# [{'name': 'Bob', 'age': 22}, {'name': 'Alice', 'age': 25}, {'name': 'Charlie', 'age': 30}]\n",
        "\n"
      ]
    },
    {
      "cell_type": "code",
      "execution_count": 12,
      "metadata": {
        "id": "y_7uTIbbi1fu"
      },
      "outputs": [
        {
          "name": "stdout",
          "output_type": "stream",
          "text": [
            "[{'name': 'Bob', 'age': 22}, {'name': 'Alice', 'age': 25}, {'name': 'Charlie', 'age': 30}]\n"
          ]
        }
      ],
      "source": [
        "def sort_by_key(data, age):\n",
        "    new_sort_list = data\n",
        "    a = len(new_sort_list)\n",
        "    for i in range(a):\n",
        "        for j in range(a - 1 - i):\n",
        "            if data[j][age] > data[j + 1][age]:\n",
        "                data[j], data[j + 1] = data[j + 1], data[j]\n",
        "    return new_sort_list\n",
        "\n",
        "data = [{'name': 'Alice', 'age': 25}, {'name': 'Bob', 'age': 22}, {'name': 'Charlie', 'age': 30}]\n",
        "sorted_data = sort_by_key(data, 'age')\n",
        "print(sorted_data)\n"
      ]
    },
    {
      "cell_type": "markdown",
      "metadata": {
        "id": "CzVcAI2jg3ei"
      },
      "source": [
        "# **Question No 03**\n",
        "\n",
        "Write a function called filter_dict that takes a dictionary and a value threshold as arguments.\n",
        "\n",
        "The function should return a new dictionary containing only the key-value pairs where the value is greater than the threshold.\n",
        "\n",
        "**Exmple:**\n",
        "\n",
        "scores = {'Alice': 85, 'Bob': 90, 'Charlie': 78, 'David': 92}\n",
        "filtered_scores = filter_dict(scores, 80)\n",
        "print(filtered_scores)  # {'Alice': 85, 'Bob': 90, 'David': 92}\n",
        "\n"
      ]
    },
    {
      "cell_type": "code",
      "execution_count": 13,
      "metadata": {
        "id": "Y1fBZTKWi2wq"
      },
      "outputs": [
        {
          "name": "stdout",
          "output_type": "stream",
          "text": [
            "{'Alice': 85, 'Bob': 90, 'David': 92}\n"
          ]
        }
      ],
      "source": [
        "def filter_dict(score, num):\n",
        "    new_filter_dict = {}\n",
        "    for key, value in score.items():\n",
        "        if value <= num:\n",
        "            continue\n",
        "        else:\n",
        "            new_filter_dict[key] = value\n",
        "    return new_filter_dict\n",
        "\n",
        "scores = {'Alice': 85, 'Bob': 90, 'Charlie': 78, 'David': 92}\n",
        "filtered_scores = filter_dict(scores, 80)\n",
        "print(filtered_scores)\n"
      ]
    },
    {
      "cell_type": "markdown",
      "metadata": {
        "id": "sKZLjKbog3jw"
      },
      "source": [
        "# **Question No 04**\n",
        "\n",
        "Write a function called find_common_keys that takes two dictionaries and returns a list of keys that are common to both.\n",
        "\n",
        "\n",
        "**Exmple:**\n",
        "\n",
        "dict1 = {'a': 1, 'b': 2, 'c': 3}\n",
        "dict2 = {'b': 4, 'c': 5, 'd': 6}\n",
        "common_keys = find_common_keys(dict1, dict2)\n",
        "print(common_keys)  # ['b', 'c']\n"
      ]
    },
    {
      "cell_type": "code",
      "execution_count": 14,
      "metadata": {
        "id": "IRSWbYvfi3cg"
      },
      "outputs": [
        {
          "name": "stdout",
          "output_type": "stream",
          "text": [
            "['b', 'c']\n"
          ]
        }
      ],
      "source": [
        "def find_common_keys(dict1,dict2):\n",
        "  new_list = []\n",
        "  for key1 in dict1.keys():\n",
        "    for key2 in dict2.keys():\n",
        "      if(key1 == key2):\n",
        "        new_list.append(key1)\n",
        "  return new_list\n",
        "  \n",
        "\n",
        "dict1 = {'a': 1, 'b': 2, 'c': 3}\n",
        "dict2 = {'b': 4, 'c': 5, 'd': 6}\n",
        "\n",
        "common_keys = find_common_keys(dict1,dict2)\n",
        "print(common_keys)"
      ]
    },
    {
      "cell_type": "markdown",
      "metadata": {
        "id": "xBNyzbF6i41L"
      },
      "source": [
        "# **Question No 5**\n",
        "\n",
        "Write a function called update_grades that takes a list of dictionaries (representing students with their grades) and updates the grade of a student if their name matches the given name.\n",
        "\n",
        "\n",
        "**Exmple:**\n",
        "\n",
        "students = [{'name': 'Alice', 'grade': 85}, {'name': 'Bob', 'grade': 90}]\n",
        "updated_students = update_grades(students, 'Bob', 95)\n",
        "print(updated_students)  \n",
        "# [{'name': 'Alice', 'grade': 85}, {'name': 'Bob', 'grade': 95}]\n",
        "\n"
      ]
    },
    {
      "cell_type": "code",
      "execution_count": 15,
      "metadata": {
        "id": "dM8_HJcPi5wH"
      },
      "outputs": [
        {
          "name": "stdout",
          "output_type": "stream",
          "text": [
            "[{'name': 'Alice', 'grade': 85}, {'name': 'Bob', 'grade': 95}]\n"
          ]
        }
      ],
      "source": [
        "def update_grades(student,name,number):\n",
        "  for i in student:\n",
        "    if(i[\"name\"] == name):\n",
        "      i[\"grade\"] = number\n",
        "  return student\n",
        "\n",
        "\n",
        "students = [{'name': 'Alice', 'grade': 85}, {'name': 'Bob', 'grade': 90}]\n",
        "updated_students = update_grades(students, 'Bob', 95)\n",
        "print(updated_students)"
      ]
    },
    {
      "cell_type": "markdown",
      "metadata": {
        "id": "LVPjDOqojosu"
      },
      "source": [
        "# **Question No 6**\n",
        "\n",
        "Write a function called merge_lists_to_dict that takes two lists of equal length:\n",
        "\n",
        "The first list contains keys.\n",
        "The second list contains values.\n",
        "The function should return a dictionary created by merging these lists.\n",
        "\n",
        "**Exmple:**\n",
        "keys = ['name', 'age', 'city']\n",
        "values = ['Alice', 25, 'New York']\n",
        "result = merge_lists_to_dict(keys, values)\n",
        "print(result)  # {'name': 'Alice', 'age': 25, 'city': 'New York'}\n",
        "\n"
      ]
    },
    {
      "cell_type": "code",
      "execution_count": 16,
      "metadata": {
        "id": "WXCP48lRjyET"
      },
      "outputs": [
        {
          "name": "stdout",
          "output_type": "stream",
          "text": [
            "{'name': 'Alice', 'age': 25, 'city': 'New York'}\n"
          ]
        }
      ],
      "source": [
        "def merge_lists_to_dict(keys,values):\n",
        "  merge_dict = {}\n",
        "  for i in range(len(keys)):\n",
        "    merge_dict[keys[i]] = values[i]\n",
        "  return merge_dict\n",
        "  \n",
        "\n",
        "keys = ['name', 'age', 'city']\n",
        "values = ['Alice', 25, 'New York']\n",
        "result = merge_lists_to_dict(keys, values)\n",
        "print(result)"
      ]
    }
  ],
  "metadata": {
    "colab": {
      "provenance": []
    },
    "kernelspec": {
      "display_name": "Python 3",
      "name": "python3"
    },
    "language_info": {
      "codemirror_mode": {
        "name": "ipython",
        "version": 3
      },
      "file_extension": ".py",
      "mimetype": "text/x-python",
      "name": "python",
      "nbconvert_exporter": "python",
      "pygments_lexer": "ipython3",
      "version": "3.12.1"
    }
  },
  "nbformat": 4,
  "nbformat_minor": 0
}
