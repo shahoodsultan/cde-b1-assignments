{
 "cells": [
  {
   "cell_type": "markdown",
   "metadata": {},
   "source": [
    "# Part -1 Python Basics (Variables)"
   ]
  },
  {
   "cell_type": "markdown",
   "metadata": {},
   "source": [
    "1. Print Your Name with your Father name and Date of birth using suitable escape sequence charactor"
   ]
  },
  {
   "cell_type": "code",
   "execution_count": null,
   "metadata": {},
   "outputs": [],
   "source": [
    "print(\"Name: Muhammad Anas Rizwan\\nFather Name: Muhammad Rizwan\\nDateOfBirth: 01-August-2005\")"
   ]
  },
  {
   "cell_type": "markdown",
   "metadata": {},
   "source": [
    "2. Write your small bio using variables and print it using print function"
   ]
  },
  {
   "cell_type": "code",
   "execution_count": null,
   "metadata": {},
   "outputs": [],
   "source": [
    "name = \"Muhammad Anas Rizwan\"\n",
    "fatherName = \"Muhammad Rizwan\"\n",
    "dateOfBirth = \"01-August-2005\"\n",
    "CGPA = \"3.76\"\n",
    "course = \"Cloud Data Engineer\"\n",
    "semester = \"3rd Semester\"\n",
    "university = \"Sir syed university\"\n",
    "\n",
    "print(name)\n",
    "print(fatherName)\n",
    "print(dateOfBirth)\n",
    "print(CGPA)\n",
    "print(course)\n",
    "print(semester)\n",
    "print(university)"
   ]
  },
  {
   "cell_type": "markdown",
   "metadata": {},
   "source": [
    "3. Write a program in which use all the operators we can use in Python"
   ]
  },
  {
   "cell_type": "code",
   "execution_count": null,
   "metadata": {},
   "outputs": [],
   "source": [
    "num1 = 30\n",
    "num2 = 20\n",
    "\n",
    "print(num1 + num2)\n",
    "print(num1 - num2)\n",
    "print(num1 * num2)\n",
    "print(num1 / num2)\n",
    "print(num1 % num2)"
   ]
  },
  {
   "cell_type": "markdown",
   "metadata": {},
   "source": [
    "4. Completes the following steps of small task:\n",
    "    - Mention Marks of English , Islamiat and Maths out of 100 in 3 different variables\n",
    "    - Mention Variable of Total Marks and assign 300 to it\n",
    "    - Calculate Percentage"
   ]
  },
  {
   "cell_type": "code",
   "execution_count": null,
   "metadata": {},
   "outputs": [],
   "source": [
    "englishMark = 70\n",
    "islamiatMark = 80\n",
    "mathMark = 95\n",
    "totalMark = 300\n",
    "percentage = ((englishMark+islamiatMark+mathMark) * 100) / totalMark\n",
    "print(percentage)"
   ]
  },
  {
   "cell_type": "markdown",
   "metadata": {},
   "source": [
    "# Part -2 Python Basics (Conditional Statements)"
   ]
  },
  {
   "cell_type": "markdown",
   "metadata": {},
   "source": [
    "1) A company decided to give bonus of 5% to employee if his/her year of service is more than 5 years.\n",
    "Ask user for their salary and year of service and print the net bonus amount."
   ]
  },
  {
   "cell_type": "code",
   "execution_count": null,
   "metadata": {},
   "outputs": [],
   "source": [
    "bonus = 5/100\n",
    "name = input(\"Enter your name: \")\n",
    "salary = int(input(\"Enter Your salary: \"))\n",
    "experience = int(input(\"Enter years of experience: \"))\n",
    "if(experience > 5):\n",
    "  increament = (bonus * salary) + salary\n",
    "  print(f\"Congrats! {name} you got bonus of 5% so your new salary is {increament}\")\n",
    "else:\n",
    "  print(\"Sorry! You dont have enough experience\")"
   ]
  },
  {
   "cell_type": "markdown",
   "metadata": {},
   "source": [
    "\n",
    "2) Write a program to check whether a person is eligible for voting or not. (accept age from user) if age is greater than 17 eligible otherwise not eligible"
   ]
  },
  {
   "cell_type": "code",
   "execution_count": null,
   "metadata": {},
   "outputs": [],
   "source": [
    "person = int(input(\"Enter your age: \"))\n",
    "if(person > 17):\n",
    "  print(\"You are eligible for voting\")\n",
    "else:\n",
    "  print(\"You are not eligible for voting\")"
   ]
  },
  {
   "cell_type": "markdown",
   "metadata": {},
   "source": [
    "\n",
    "3) Write a program to check whether a number entered by user is even or odd."
   ]
  },
  {
   "cell_type": "code",
   "execution_count": null,
   "metadata": {},
   "outputs": [],
   "source": [
    "num = int(input(\"Enter the number: \"))\n",
    "if(num % 2 ==0):\n",
    "  print(\"Even Number\")\n",
    "else:\n",
    "  print(\"Odd Number\")"
   ]
  },
  {
   "cell_type": "markdown",
   "metadata": {},
   "source": [
    "4) Write a program to check whether a number is divisible by 7 or not.\n",
    "Show Answer"
   ]
  },
  {
   "cell_type": "code",
   "execution_count": null,
   "metadata": {},
   "outputs": [],
   "source": [
    "a = int(input(\"Enter the number: \"))\n",
    "if(a % 7 == 0):\n",
    "  print(\"Divisible by seven(7)\")\n",
    "else:\n",
    "  print(\"Not Divisible by seven\")"
   ]
  },
  {
   "cell_type": "markdown",
   "metadata": {},
   "source": [
    "5) Write a program to display \n",
    "\"Hello\" if a number entered by user is a multiple of five , otherwise print \"Bye\"."
   ]
  },
  {
   "cell_type": "code",
   "execution_count": null,
   "metadata": {},
   "outputs": [],
   "source": [
    "b = int(input(\"Enter the number: \"))\n",
    "if(b % 5 == 0):\n",
    "  print(\"Hello\")\n",
    "else:\n",
    "  print(\"Bye\")"
   ]
  },
  {
   "cell_type": "markdown",
   "metadata": {},
   "source": [
    "7) Write a program to display the last digit of a number.\n"
   ]
  },
  {
   "cell_type": "code",
   "execution_count": null,
   "metadata": {},
   "outputs": [],
   "source": [
    "a = 12345678\n",
    "b = str(a)\n",
    "c = b[-1:-5:-1]\n",
    "d = c[-1:-5:-1]\n",
    "print(int(d))"
   ]
  },
  {
   "cell_type": "markdown",
   "metadata": {},
   "source": [
    "9) Take values of length and breadth of a rectangle from user and print if it is square or rectangle."
   ]
  },
  {
   "cell_type": "code",
   "execution_count": null,
   "metadata": {},
   "outputs": [],
   "source": [
    "length = int(input(\"Enter the length: \"))\n",
    "breadth = int(input(\"Enter the breadth: \"))\n",
    "\n",
    "square = length * length\n",
    "rectangle = length * breadth\n",
    "print(f\"Square is {square}\")\n",
    "print(f\"Rectangle is {rectangle}\")"
   ]
  },
  {
   "cell_type": "markdown",
   "metadata": {},
   "source": [
    "10) Take two int values from user and print greatest among them."
   ]
  },
  {
   "cell_type": "code",
   "execution_count": null,
   "metadata": {},
   "outputs": [],
   "source": [
    "num3 = int(input(\"Enter the number 1: \"))\n",
    "num4 = int(input(\"Enter the number : \"))\n",
    "if(num3 > num4):\n",
    "  print(f\"{num3} is greater\")\n",
    "else:\n",
    "  print(f\"{num4} is greater\")"
   ]
  },
  {
   "cell_type": "markdown",
   "metadata": {},
   "source": [
    "11) A shop will give discount of 10% if the cost of purchased quantity is more than 1000.\n",
    "Ask user for quantity\n",
    "Suppose, one unit will cost 100.\n",
    "Judge and print total cost for user."
   ]
  },
  {
   "cell_type": "code",
   "execution_count": null,
   "metadata": {},
   "outputs": [],
   "source": [
    "discount = 10/100\n",
    "purchased = int(input(\"Enter your purchased: \"))\n",
    "quantity = int(input(\"Enter your quantity: \"))\n",
    "if(purchased > 1000):\n",
    "  discountPrice = purchased - (discount * purchased) \n",
    "  print(f\"Your purchased is 1000 plus so you got discountPrice with quantity {quantity * discountPrice}\")\n",
    "else:\n",
    "  print(f\"Your purchased is not 1000 plus so you got no discount with quantity {quantity * purchased}\")"
   ]
  },
  {
   "cell_type": "markdown",
   "metadata": {},
   "source": [
    "12) A school has following rules for grading system:\n",
    "\n",
    "a. Below 25 - F\n",
    "\n",
    "b. 25 to 45 - E\n",
    "\n",
    "c. 45 to 50 - D\n",
    "\n",
    "d. 50 to 60 - C\n",
    "\n",
    "e. 60 to 80 - B\n",
    "\n",
    "f. Above 80 - A\n",
    "\n",
    "Ask user to enter marks and print the corresponding grade."
   ]
  },
  {
   "cell_type": "code",
   "execution_count": null,
   "metadata": {},
   "outputs": [],
   "source": [
    "number = int(input(\"Enter your grade\"))\n",
    "grade = ''\n",
    "if(number > 80 and number <=100):\n",
    "  grade = \"A\"\n",
    "elif(number > 60):\n",
    "  grade = \"B\"\n",
    "elif(number >  50):\n",
    "  grade = \"C\"\n",
    "elif(number > 45):\n",
    "  grade = \"D\"\n",
    "elif(number > 25):\n",
    "  grade = \"E\"\n",
    "else:\n",
    "  grade = \"F\"\n",
    "\n",
    "\n",
    "print(grade)"
   ]
  },
  {
   "cell_type": "markdown",
   "metadata": {},
   "source": [
    "14)A student will not be allowed to sit in exam if his/her attendence is less than 75%.\n",
    "\n",
    "Take following input from user\n",
    "\n",
    "- Number of classes held\n",
    "\n",
    "- Number of classes attended.\n",
    "\n",
    "And print\n",
    "\n",
    "- percentage of class attended\n",
    "\n",
    "- Is student is allowed to sit in exam or not.\n"
   ]
  },
  {
   "cell_type": "code",
   "execution_count": null,
   "metadata": {},
   "outputs": [],
   "source": [
    "noOfClass = int(input(\"Enter number of classes:\"))\n",
    "attendance = int(input(\"Enter your attendance: \"))\n",
    "print(f\"noOfClass: {noOfClass}\")\n",
    "print(f\"attendance: {attendance}\")\n",
    "if(attendance > 75):\n",
    "  print(\"Sit to exam\")\n",
    "else:\n",
    "  print(\"Not sit to exam\")\n"
   ]
  },
  {
   "cell_type": "markdown",
   "metadata": {},
   "source": [
    "15) Modify the above question to allow student to sit if he/she has medical cause. Ask user if he/she has medical cause or not ( 'Y' or 'N' ) and print accordingly."
   ]
  },
  {
   "cell_type": "code",
   "execution_count": null,
   "metadata": {},
   "outputs": [],
   "source": [
    "medical = input(\"Enter (Y)for medical and (N)for no medical:\").upper()\n",
    "if(medical == 'Y'):\n",
    "  print(\"Sit to exam\")\n",
    "else:\n",
    "  print(\"Not sit to exam\")\n"
   ]
  },
  {
   "cell_type": "markdown",
   "metadata": {},
   "source": [
    "16) Write a program to check if a year is leap year or not.\n",
    "\n",
    "If a year is divisible by 4 then it is leap year but if the year is century year like 2000, 1900, 2100 then it must be divisible by 400."
   ]
  },
  {
   "cell_type": "code",
   "execution_count": null,
   "metadata": {},
   "outputs": [],
   "source": [
    "year = int(input(\"Enter the year: \"))\n",
    "if year == 2000 or year == 1900 or year == 2100:\n",
    "  print(f\"As year is {year}\")\n",
    "elif(year % 4 == 0):\n",
    "  print(f\"leap year {year}\")\n",
    "else:\n",
    "  print(\"Not a leap year\")"
   ]
  },
  {
   "cell_type": "markdown",
   "metadata": {},
   "source": [
    "17) Ask user to enter age, gender ( M or F ), marital status ( Y or N ) and then using following rules print their place of service.\n",
    "\n",
    "if employee is female, then she will work only in urban areas.\n",
    "\n",
    "if employee is a male and age is in between 20 to 40 then he may work in anywhere\n",
    "\n",
    "if employee is male and age is in between 40 t0 60 then he will work in urban areas only.\n",
    "\n",
    "And any other input of age should print \"ERROR\""
   ]
  },
  {
   "cell_type": "code",
   "execution_count": null,
   "metadata": {},
   "outputs": [],
   "source": [
    "gender = input(\"Enter your gender: \").lower()\n",
    "maritalStatus = input(\"Enter your marital status: \")\n",
    "if(gender == 'y'):\n",
    "  print(\"Urban area\")\n",
    "elif(gender == 'm'):\n",
    "  age = int(input(\"Enter your age: \"))\n",
    "  if(age >=20 and age <=40):\n",
    "    print(\"Work anywhere\")\n",
    "  elif(age >=40 and age <=60):\n",
    "    print(\"Work in Urban area only\")\n",
    "  else:\n",
    "    print(\"Error\")\n",
    "else:\n",
    "  print(\"Error\")"
   ]
  },
  {
   "cell_type": "markdown",
   "metadata": {},
   "source": [
    "6) Write a program to calculate the electricity bill (accept number of unit from user) according to the following criteria :\n",
    "     Unit                                                     Price  \n",
    "uptp 100 units                                             no charge\n",
    "Next 200 units                                              Rs 5 per unit\n",
    "After 200 units                                             Rs 10 per unit\n",
    "(For example if input unit is 350 than total bill amount is Rs.3500\n",
    "(For example if input unit is 97 than total bill amount is Rs.0\n",
    "(For example if input unit is 150 than total bill amount is Rs.750"
   ]
  },
  {
   "cell_type": "code",
   "execution_count": null,
   "metadata": {},
   "outputs": [],
   "source": [
    "unit = int(input(\"Enter your unit: \"))\n",
    "unitPrice = 0\n",
    "if(unit >=0 and unit <=100):\n",
    "  unitPrice= 0\n",
    "  print(\"No Charge\")\n",
    "elif(unit >= 101 and unit <=200):\n",
    "  unitPrice= 5\n",
    "  print(\"Rs 5 per unit\")\n",
    "elif(unit >= 201):\n",
    "  unitPrice= 10\n",
    "  print(\"Rs 10 per unit\")\n",
    "\n",
    "total = unit * unitPrice\n",
    "print(total)\n"
   ]
  },
  {
   "cell_type": "markdown",
   "metadata": {},
   "source": [
    "13) Take input of age of 3 people by user and determine oldest and youngest among them."
   ]
  },
  {
   "cell_type": "code",
   "execution_count": null,
   "metadata": {},
   "outputs": [],
   "source": [
    "age1 = int(input(\"Enter tha age 1\"))\n",
    "age2 = int(input(\"Enter tha age 2\"))\n",
    "age3 = int(input(\"Enter tha age 3\"))\n",
    "\n",
    "print(f\"age 1: {age1}\")\n",
    "print(f\"age 2: {age2}\")\n",
    "print(f\"age 3: {age3}\")\n",
    "\n",
    "\n",
    "if(age1 > age2 and age1 > age3):\n",
    "  print(f\"old age 1 is {age1}\")\n",
    "elif(age2 > age1 and age2 > age3):\n",
    "  print(f\"old age 2 is {age2}\")\n",
    "else:\n",
    "  print(f\"old age 3 is {age3}\")\n",
    "\n",
    "if(age1 < age2 and age1 < age3):\n",
    "  print(f\"young age 1 is {age1}\")\n",
    "elif(age2 < age1 and age2 < age3):\n",
    "  print(f\"young age 2 {age2}\")\n",
    "else:\n",
    "  print(f\"young age 3 is {age3}\")\n"
   ]
  }
 ],
 "metadata": {
  "kernelspec": {
   "display_name": "Python 3 (ipykernel)",
   "language": "python",
   "name": "python3"
  },
  "language_info": {
   "codemirror_mode": {
    "name": "ipython",
    "version": 3
   },
   "file_extension": ".py",
   "mimetype": "text/x-python",
   "name": "python",
   "nbconvert_exporter": "python",
   "pygments_lexer": "ipython3",
   "version": "3.12.7"
  }
 },
 "nbformat": 4,
 "nbformat_minor": 4
}
