{
 "cells": [
  {
   "cell_type": "markdown",
   "metadata": {},
   "source": [
    "# Part -1 Python Basics (Variables)"
   ]
  },
  {
   "cell_type": "markdown",
   "metadata": {},
   "source": [
    "1. Print Your Name with your Father name and Date of birth using suitable escape sequence charactor"
   ]
  },
  {
   "cell_type": "code",
   "execution_count": 50,
   "metadata": {},
   "outputs": [
    {
     "name": "stdout",
     "output_type": "stream",
     "text": [
      "\u001b[1mName:\u001b[0m\n",
      "Muhammad Haseeb \"\n",
      "\u001b[1mFather Name:\u001b[0m\n",
      "Abdul Hafeez \"\n",
      "\u001b[1mDate of Birth:\u001b[0m\n",
      "01-Jan-1997 \"\n"
     ]
    }
   ],
   "source": [
    "print(\"\\033[1mName:\\033[0m\\nMuhammad Haseeb \\\"\")\n",
    "print(\"\\033[1mFather Name:\\033[0m\\nAbdul Hafeez \\\"\")\n",
    "print(\"\\033[1mDate of Birth:\\033[0m\\n01-Jan-1997 \\\"\")"
   ]
  },
  {
   "cell_type": "markdown",
   "metadata": {},
   "source": [
    "2. Write your small bio using variables and print it using print function"
   ]
  },
  {
   "cell_type": "code",
   "execution_count": 36,
   "metadata": {},
   "outputs": [
    {
     "name": "stdout",
     "output_type": "stream",
     "text": [
      "My name is Muhammad Haseeb. I am from Karachi, Pakistan. I am a Data Analyst by profession, with expertise in Python, SQL, and data visualization. In my free time, I like exploring new technologies and working on personal projects.\n"
     ]
    }
   ],
   "source": [
    "My_Bio = \"My name is Muhammad Haseeb. I am from Karachi, Pakistan. I am a Data Analyst by profession, with expertise in Python, SQL, and data visualization. In my free time, I like exploring new technologies and working on personal projects.\"\n",
    "print(My_Bio)"
   ]
  },
  {
   "cell_type": "markdown",
   "metadata": {},
   "source": [
    "3. Write a program in which use all the operators we can use in Python"
   ]
  },
  {
   "cell_type": "code",
   "execution_count": 42,
   "metadata": {},
   "outputs": [
    {
     "name": "stdin",
     "output_type": "stream",
     "text": [
      "Enter a number 1 5\n",
      "Enter a number 2 5\n"
     ]
    },
    {
     "name": "stdout",
     "output_type": "stream",
     "text": [
      "10\n",
      "0\n",
      "1.0\n",
      "Equal\n",
      "Equal\n",
      "10\n"
     ]
    }
   ],
   "source": [
    "#addition operator\n",
    "a = int(input(\"Enter a number 1\"))\n",
    "b = int(input(\"Enter a number 2\"))\n",
    "\n",
    "add = a + b\n",
    "sub = a - b\n",
    "div = a / b\n",
    "\n",
    "print(add)\n",
    "print(sub)\n",
    "print(div)\n",
    "\n",
    "if (a == b):\n",
    "    print(\"Equal\")\n",
    "else:\n",
    "    print(\"Not Equal\")\n",
    "\n",
    "if (a != b):\n",
    "    print(\"Not Equal\")\n",
    "else:\n",
    "    print(\"Equal\")\n",
    "\n",
    "a += 5 \n",
    "print(a)"
   ]
  },
  {
   "cell_type": "markdown",
   "metadata": {},
   "source": [
    "4. Completes the following steps of small task:\n",
    "    - Mention Marks of English , Islamiat and Maths out of 100 in 3 different variables\n",
    "    - Mention Variable of Total Marks and assign 300 to it\n",
    "    - Calculate Percentage"
   ]
  },
  {
   "cell_type": "code",
   "execution_count": 54,
   "metadata": {},
   "outputs": [
    {
     "name": "stdout",
     "output_type": "stream",
     "text": [
      "Your Percentage is:  83.33333333333333\n"
     ]
    }
   ],
   "source": [
    "English = 100 \n",
    "Islamiat = 100\n",
    "Maths = 50\n",
    "\n",
    "Total_Marks = 300\n",
    "\n",
    "Final_value = (English + Islamiat + Maths) / 3\n",
    "\n",
    "print(\"Your Percentage is: \", Final_value)"
   ]
  },
  {
   "cell_type": "markdown",
   "metadata": {},
   "source": [
    "# Part -2 Python Basics (Conditional Statements)"
   ]
  },
  {
   "cell_type": "markdown",
   "metadata": {},
   "source": [
    "1) A company decided to give bonus of 5% to employee if his/her year of service is more than 5 years.\n",
    "Ask user for their salary and year of service and print the net bonus amount."
   ]
  },
  {
   "cell_type": "code",
   "execution_count": 64,
   "metadata": {},
   "outputs": [
    {
     "name": "stdin",
     "output_type": "stream",
     "text": [
      "Enter your Salary 100000\n",
      "Year of service 6\n"
     ]
    },
    {
     "name": "stdout",
     "output_type": "stream",
     "text": [
      "Congratulations! You are eligible for a bonus of: 5000.0\n"
     ]
    }
   ],
   "source": [
    "salary = int(input(\"Enter your Salary\"))\n",
    "years_of_service = int(input(\"Year of service\"))\n",
    "\n",
    "if years_of_service > 5:\n",
    "    net_bonus = salary * 0.05\n",
    "    print(\"Congratulations! You are eligible for a bonus of:\",net_bonus)\n",
    "else:\n",
    "    net_bonus = 0\n",
    "    print(\"You are not eligible for a bonus.\")"
   ]
  },
  {
   "cell_type": "markdown",
   "metadata": {},
   "source": [
    "\n",
    "2) Write a program to check whether a person is eligible for voting or not. (accept age from user) if age is greater than 17 eligible otherwise not eligible"
   ]
  },
  {
   "cell_type": "code",
   "execution_count": 74,
   "metadata": {},
   "outputs": [
    {
     "name": "stdin",
     "output_type": "stream",
     "text": [
      "Enter your age 17\n"
     ]
    },
    {
     "name": "stdout",
     "output_type": "stream",
     "text": [
      "Your not eligible Vote\n"
     ]
    }
   ],
   "source": [
    "Vote_age = int(input(\"Enter your age\"))\n",
    "\n",
    "if Vote_age >= 18:\n",
    "    print(\"Your eligible to Vote.\")\n",
    "else:\n",
    "    print(\"Your not eligible Vote.\")"
   ]
  },
  {
   "cell_type": "markdown",
   "metadata": {},
   "source": [
    "\n",
    "3) Write a program to check whether a number entered by user is even or odd."
   ]
  },
  {
   "cell_type": "code",
   "execution_count": 76,
   "metadata": {},
   "outputs": [
    {
     "name": "stdin",
     "output_type": "stream",
     "text": [
      "Enter any number 8\n"
     ]
    },
    {
     "name": "stdout",
     "output_type": "stream",
     "text": [
      "This is an Even number\n"
     ]
    }
   ],
   "source": [
    "input_value = int(input(\"Enter any number\"))\n",
    "\n",
    "if (input_value % 2) == 0:\n",
    "    print(\"This is an Even number\")\n",
    "else:\n",
    "    print(\"This is an Odd number\")"
   ]
  },
  {
   "cell_type": "markdown",
   "metadata": {},
   "source": [
    "4) Write a program to check whether a number is divisible by 7 or not.\n",
    "Show Answer"
   ]
  },
  {
   "cell_type": "code",
   "execution_count": 88,
   "metadata": {},
   "outputs": [
    {
     "name": "stdin",
     "output_type": "stream",
     "text": [
      "Enter your number 22\n"
     ]
    },
    {
     "name": "stdout",
     "output_type": "stream",
     "text": [
      "Not divisible by 7\n"
     ]
    }
   ],
   "source": [
    "number = int(input(\"Enter your number\"))\n",
    "\n",
    "if (number / 5) != 1:\n",
    "    print(\"Divisible by 7\")\n",
    "else:\n",
    "    print(\"Not divisible by 7\")"
   ]
  },
  {
   "cell_type": "markdown",
   "metadata": {},
   "source": [
    "5) Write a program to display \n",
    "\"Hello\" if a number entered by user is a multiple of five , otherwise print \"Bye\"."
   ]
  },
  {
   "cell_type": "code",
   "execution_count": 96,
   "metadata": {},
   "outputs": [
    {
     "name": "stdin",
     "output_type": "stream",
     "text": [
      "Enter your number 17\n"
     ]
    },
    {
     "name": "stdout",
     "output_type": "stream",
     "text": [
      "Bye\n"
     ]
    }
   ],
   "source": [
    "number1 = int(input(\"Enter your number\"))\n",
    "\n",
    "if (number1 % 5 ) == 0:\n",
    "    print(\"Hello\")\n",
    "else:\n",
    "    print(\"Bye\")"
   ]
  },
  {
   "cell_type": "markdown",
   "metadata": {},
   "source": [
    "7) Write a program to display the last digit of a number.\n"
   ]
  },
  {
   "cell_type": "code",
   "execution_count": 130,
   "metadata": {},
   "outputs": [
    {
     "name": "stdin",
     "output_type": "stream",
     "text": [
      "Enter the number to find the last Digit 12548\n"
     ]
    },
    {
     "name": "stdout",
     "output_type": "stream",
     "text": [
      "8\n"
     ]
    }
   ],
   "source": [
    "Last_digit = int(input(\"Enter the number to find the last Digit\"))\n",
    "Last_digit = Last_digit % 10\n",
    "print(Last_digit)"
   ]
  },
  {
   "cell_type": "markdown",
   "metadata": {},
   "source": [
    "9) Take values of length and breadth of a rectangle from user and print if it is square or rectangle."
   ]
  },
  {
   "cell_type": "code",
   "execution_count": 104,
   "metadata": {},
   "outputs": [
    {
     "name": "stdin",
     "output_type": "stream",
     "text": [
      "Enter Length 10\n",
      "Enter Breadth 15\n"
     ]
    },
    {
     "name": "stdout",
     "output_type": "stream",
     "text": [
      "Not Square or Rectangle\n"
     ]
    }
   ],
   "source": [
    "length = int(input(\"Enter Length\"))\n",
    "breadth = int(input(\"Enter Breadth\"))\n",
    "\n",
    "if (length == breadth):\n",
    "    print(\"Square\")\n",
    "elif (length > breadth):\n",
    "    print(\"Rectangle\")\n",
    "else:\n",
    "    print(\"Not Square or Rectangle\")"
   ]
  },
  {
   "cell_type": "markdown",
   "metadata": {},
   "source": [
    "10) Take two int values from user and print greatest among them."
   ]
  },
  {
   "cell_type": "code",
   "execution_count": 98,
   "metadata": {},
   "outputs": [
    {
     "name": "stdin",
     "output_type": "stream",
     "text": [
      "Enter your First Number 100\n",
      "Enter your Second Number 50\n"
     ]
    },
    {
     "name": "stdout",
     "output_type": "stream",
     "text": [
      "Larger Number is:  100\n"
     ]
    }
   ],
   "source": [
    "num_1 = int(input(\"Enter your First Number\"))\n",
    "num_2 = int(input(\"Enter your Second Number\"))\n",
    "\n",
    "if num_1 > num_2:\n",
    "    print(\"Larger Number is: \",num_1)\n",
    "else:\n",
    "    print(\"Larger Number is: \",num_2)"
   ]
  },
  {
   "cell_type": "markdown",
   "metadata": {},
   "source": [
    "11) A shop will give discount of 10% if the cost of purchased quantity is more than 1000.\n",
    "Ask user for quantity\n",
    "Suppose, one unit will cost 100.\n",
    "Judge and print total cost for user."
   ]
  },
  {
   "cell_type": "code",
   "execution_count": 178,
   "metadata": {},
   "outputs": [
    {
     "name": "stdin",
     "output_type": "stream",
     "text": [
      "Enter the total price 1200\n"
     ]
    },
    {
     "name": "stdout",
     "output_type": "stream",
     "text": [
      "Congratulations Your get the discount of  120.0\n",
      "Your total is 1080.0\n"
     ]
    }
   ],
   "source": [
    "price = int(input(\"Enter the total price\"))\n",
    "\n",
    "if (price > 1000):\n",
    "    discount = (( price * 10) / 100)\n",
    "    print(\"Congratulations Your get the discount of \", discount)\n",
    "    print(\"Your total is\", price - discount)\n",
    "else:\n",
    "    print(\"Your didn't get the discount\")"
   ]
  },
  {
   "cell_type": "markdown",
   "metadata": {},
   "source": [
    "12) A school has following rules for grading system:\n",
    "\n",
    "a. Below 25 - F\n",
    "\n",
    "b. 25 to 45 - E\n",
    "\n",
    "c. 45 to 50 - D\n",
    "\n",
    "d. 50 to 60 - C\n",
    "\n",
    "e. 60 to 80 - B\n",
    "\n",
    "f. Above 80 - A\n",
    "\n",
    "Ask user to enter marks and print the corresponding grade."
   ]
  },
  {
   "cell_type": "code",
   "execution_count": 108,
   "metadata": {},
   "outputs": [
    {
     "name": "stdin",
     "output_type": "stream",
     "text": [
      "Enter marks for Subject 1:  10\n",
      "Enter marks for Subject 2:  100\n",
      "Enter marks for Subject 3:  100\n"
     ]
    },
    {
     "name": "stdout",
     "output_type": "stream",
     "text": [
      "Average Marks: 70.000\n",
      "Grade: B\n"
     ]
    }
   ],
   "source": [
    "subject1 = float(input(\"Enter marks for Subject 1: \"))\n",
    "subject2 = float(input(\"Enter marks for Subject 2: \"))\n",
    "subject3 = float(input(\"Enter marks for Subject 3: \"))\n",
    "\n",
    "average = (subject1 + subject2 + subject3) / 3\n",
    "\n",
    "# Determine the grade\n",
    "if 80 <= average <= 100:\n",
    "    grade = \"A\"\n",
    "elif 60 <= average < 80:\n",
    "    grade = \"B\"\n",
    "elif 50 <= average < 60:\n",
    "    grade = \"C\"\n",
    "elif 45 <= average < 50:\n",
    "    grade = \"D\"\n",
    "elif 25 <= average < 45:\n",
    "    grade = \"E\"\n",
    "elif 0 <= average < 25:\n",
    "    grade = \"F\"\n",
    "else:\n",
    "    grade = \"Invalid average score\" \n",
    "\n",
    "print(f\"Average Marks: {average:.3f}\")\n",
    "print(f\"Grade: {grade}\")"
   ]
  },
  {
   "cell_type": "markdown",
   "metadata": {},
   "source": [
    "14)A student will not be allowed to sit in exam if his/her attendence is less than 75%.\n",
    "\n",
    "Take following input from user\n",
    "\n",
    "- Number of classes held\n",
    "\n",
    "- Number of classes attended.\n",
    "\n",
    "And print\n",
    "\n",
    "- percentage of class attended\n",
    "\n",
    "- Is student is allowed to sit in exam or not.\n"
   ]
  },
  {
   "cell_type": "code",
   "execution_count": 185,
   "metadata": {},
   "outputs": [
    {
     "name": "stdin",
     "output_type": "stream",
     "text": [
      "Enter the number of classes held:  100\n",
      "Enter the number of classes attended:  75\n"
     ]
    },
    {
     "name": "stdout",
     "output_type": "stream",
     "text": [
      "Attendance Percentage: 75.00%\n",
      "Allowed to sit in exam\n"
     ]
    }
   ],
   "source": [
    "num_of_classes = int(input(\"Enter the number of classes held: \"))\n",
    "num_of_classes_attended = int(input(\"Enter the number of classes attended: \"))\n",
    "\n",
    "attendance_percentage = (num_of_classes_attended / num_of_classes) * 100\n",
    "\n",
    "print(f\"Attendance Percentage: {attendance_percentage:.2f}%\")\n",
    "\n",
    "if attendance_percentage >= 75:\n",
    "    print(\"Allowed to sit in exam\")\n",
    "else:\n",
    "    print(\"Not allowed to sit in exam\")"
   ]
  },
  {
   "cell_type": "markdown",
   "metadata": {},
   "source": [
    "15) Modify the above question to allow student to sit if he/she has medical cause. Ask user if he/she has medical cause or not ( 'Y' or 'N' ) and print accordingly."
   ]
  },
  {
   "cell_type": "code",
   "execution_count": 189,
   "metadata": {},
   "outputs": [
    {
     "name": "stdin",
     "output_type": "stream",
     "text": [
      "Enter the number of classes held:  100\n",
      "Enter the number of classes attended:  75\n",
      "Do you have a medical cause? (Y/N):  N\n"
     ]
    },
    {
     "name": "stdout",
     "output_type": "stream",
     "text": [
      "Attendance Percentage: 75.00%\n",
      "Allowed to sit in exam\n"
     ]
    }
   ],
   "source": [
    "num_of_classes = int(input(\"Enter the number of classes held: \"))\n",
    "num_of_classes_attended = int(input(\"Enter the number of classes attended: \"))\n",
    "\n",
    "attendance_percentage = (num_of_classes_attended / num_of_classes) * 100\n",
    "\n",
    "medical_cause = input(\"Do you have a medical cause? (Y/N): \").strip().upper()\n",
    "\n",
    "print(f\"Attendance Percentage: {attendance_percentage:.2f}%\")\n",
    "\n",
    "if attendance_percentage >= 75 or medical_cause == 'Y':\n",
    "    print(\"Allowed to sit in exam\")\n",
    "else:\n",
    "    print(\"Not allowed to sit in exam\")"
   ]
  },
  {
   "cell_type": "markdown",
   "metadata": {},
   "source": [
    "16) Write a program to check if a year is leap year or not.\n",
    "\n",
    "If a year is divisible by 4 then it is leap year but if the year is century year like 2000, 1900, 2100 then it must be divisible by 400."
   ]
  },
  {
   "cell_type": "code",
   "execution_count": 118,
   "metadata": {},
   "outputs": [
    {
     "name": "stdin",
     "output_type": "stream",
     "text": [
      "Enter the year 1900\n"
     ]
    },
    {
     "name": "stdout",
     "output_type": "stream",
     "text": [
      "Leap year:  1900\n"
     ]
    }
   ],
   "source": [
    "leap_year = int(input(\"Enter the year\"))\n",
    "\n",
    "if (leap_year % 4 == 0 or leap_year % 400 == 0):\n",
    "    print(\"Leap year: \",leap_year)\n",
    "else:\n",
    "    print(\"Not a Leap year: \",leap_year)"
   ]
  },
  {
   "cell_type": "markdown",
   "metadata": {},
   "source": [
    "17) Ask user to enter age, gender ( M or F ), marital status ( Y or N ) and then using following rules print their place of service.\n",
    "\n",
    "if employee is female, then she will work only in urban areas.\n",
    "\n",
    "if employee is a male and age is in between 20 to 40 then he may work in anywhere\n",
    "\n",
    "if employee is male and age is in between 40 t0 60 then he will work in urban areas only.\n",
    "\n",
    "And any other input of age should print \"ERROR\""
   ]
  },
  {
   "cell_type": "code",
   "execution_count": 191,
   "metadata": {},
   "outputs": [
    {
     "name": "stdin",
     "output_type": "stream",
     "text": [
      "Enter your age:  22\n",
      "Enter your gender (M/F):  M\n",
      "Are you married? (Y/N):  Y\n"
     ]
    },
    {
     "name": "stdout",
     "output_type": "stream",
     "text": [
      "You may work anywhere.\n"
     ]
    }
   ],
   "source": [
    "age = int(input(\"Enter your age: \"))\n",
    "gender = input(\"Enter your gender (M/F): \").strip().upper()\n",
    "marital_status = input(\"Are you married? (Y/N): \").strip().upper()\n",
    "\n",
    "if gender == 'F':\n",
    "    print(\"You will work only in urban areas.\")\n",
    "elif gender == 'M':\n",
    "    if 20 <= age <= 40:\n",
    "        print(\"You may work anywhere.\")\n",
    "    elif 40 < age <= 60:\n",
    "        print(\"You will work only in urban areas.\")\n",
    "    else:\n",
    "        print(\"ERROR: Invalid age range.\")\n",
    "else:\n",
    "    print(\"ERROR: Invalid gender input.\")\n",
    "\n"
   ]
  },
  {
   "cell_type": "markdown",
   "metadata": {},
   "source": [
    "6) Write a program to calculate the electricity bill (accept number of unit from user) according to the following criteria :\n",
    "     Unit                                                     Price  \n",
    "uptp 100 units                                             no charge\n",
    "Next 200 units                                              Rs 5 per unit\n",
    "After 200 units                                             Rs 10 per unit\n",
    "(For example if input unit is 350 than total bill amount is Rs.3500\n",
    "(For example if input unit is 97 than total bill amount is Rs.0\n",
    "(For example if input unit is 150 than total bill amount is Rs.750"
   ]
  },
  {
   "cell_type": "code",
   "execution_count": 207,
   "metadata": {},
   "outputs": [
    {
     "name": "stdin",
     "output_type": "stream",
     "text": [
      "Enter the number of units consumed:  300\n"
     ]
    },
    {
     "name": "stdout",
     "output_type": "stream",
     "text": [
      "Total bill amount is Rs. 1000\n"
     ]
    }
   ],
   "source": [
    "units = int(input(\"Enter the number of units consumed: \"))\n",
    "bill = 0\n",
    "\n",
    "if units > 300:\n",
    "    bill += (units - 300) * 10\n",
    "    units = 300\n",
    "if units > 100:\n",
    "    bill += (units - 100) * 5\n",
    "\n",
    "print(\"Total bill amount is Rs.\",bill)"
   ]
  },
  {
   "cell_type": "markdown",
   "metadata": {},
   "source": [
    "13) Take input of age of 3 people by user and determine oldest and youngest among them."
   ]
  },
  {
   "cell_type": "code",
   "execution_count": 205,
   "metadata": {},
   "outputs": [
    {
     "name": "stdin",
     "output_type": "stream",
     "text": [
      "Enter the age of Person 1:  17\n",
      "Enter the age of Person 2:  8\n",
      "Enter the age of Person 3:  19\n"
     ]
    },
    {
     "name": "stdout",
     "output_type": "stream",
     "text": [
      "The oldest person is 19 years old.\n",
      "The youngest person is 8 years old.\n"
     ]
    }
   ],
   "source": [
    "age1 = int(input(\"Enter the age of Person 1: \"))\n",
    "age2 = int(input(\"Enter the age of Person 2: \"))\n",
    "age3 = int(input(\"Enter the age of Person 3: \"))\n",
    "\n",
    "oldest = max(age1, age2, age3)\n",
    "youngest = min(age1, age2, age3)\n",
    "\n",
    "print(f\"The oldest person is {oldest} years old.\")\n",
    "print(f\"The youngest person is {youngest} years old.\")"
   ]
  },
  {
   "cell_type": "code",
   "execution_count": null,
   "metadata": {},
   "outputs": [],
   "source": []
  }
 ],
 "metadata": {
  "kernelspec": {
   "display_name": "Python 3 (ipykernel)",
   "language": "python",
   "name": "python3"
  },
  "language_info": {
   "codemirror_mode": {
    "name": "ipython",
    "version": 3
   },
   "file_extension": ".py",
   "mimetype": "text/x-python",
   "name": "python",
   "nbconvert_exporter": "python",
   "pygments_lexer": "ipython3",
   "version": "3.12.7"
  }
 },
 "nbformat": 4,
 "nbformat_minor": 4
}
