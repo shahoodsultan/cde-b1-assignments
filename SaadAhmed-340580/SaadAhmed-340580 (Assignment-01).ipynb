{
 "cells": [
  {
   "cell_type": "markdown",
   "metadata": {},
   "source": [
    "# Part -1 Python Basics (Variables)"
   ]
  },
  {
   "cell_type": "markdown",
   "metadata": {},
   "source": [
    "1. Print Your Name with your Father name and Date of birth using suitable escape sequence charactor"
   ]
  },
  {
   "cell_type": "code",
   "execution_count": 28,
   "metadata": {},
   "outputs": [
    {
     "name": "stdout",
     "output_type": "stream",
     "text": [
      "Father's Name: Mr. Richard Doe\n",
      "Date of Birth: 01/01/1990\n"
     ]
    }
   ],
   "source": [
    "# Write your code here\n",
    "# Name : John Doe\n",
    "print(\"Father's Name: Mr. Richard Doe\")\n",
    "print(\"Date of Birth: 01/01/1990\")\n",
    "\n"
   ]
  },
  {
   "cell_type": "markdown",
   "metadata": {},
   "source": [
    "2. Write your small bio using variables and print it using print function"
   ]
  },
  {
   "cell_type": "code",
   "execution_count": 24,
   "metadata": {},
   "outputs": [
    {
     "name": "stdout",
     "output_type": "stream",
     "text": [
      "Bio:\n",
      "Name: John Doe\n",
      "Father's Name: Richard Doe\n",
      "Date of Birth: 01/01/1990\n",
      "Profession: Software Engineer\n",
      "Hobbies: reading, coding, and hiking\n"
     ]
    }
   ],
   "source": [
    "# Write your code here\n",
    "# Defining variables for the bio\n",
    "name = \"John Doe\"\n",
    "father_name = \"Richard Doe\"\n",
    "dob = \"01/01/1990\"\n",
    "profession = \"Software Engineer\"\n",
    "hobbies = \"reading, coding, and hiking\"\n",
    "\n",
    "# Printing the bio\n",
    "print(\"Bio:\")\n",
    "print(f\"Name: {name}\")\n",
    "print(f\"Father's Name: {father_name}\")\n",
    "print(f\"Date of Birth: {dob}\")\n",
    "print(f\"Profession: {profession}\")\n",
    "print(f\"Hobbies: {hobbies}\")\n"
   ]
  },
  {
   "cell_type": "markdown",
   "metadata": {},
   "source": [
    "3. Write a program in which use all the operators we can use in Python"
   ]
  },
  {
   "cell_type": "code",
   "execution_count": 23,
   "metadata": {},
   "outputs": [
    {
     "name": "stdout",
     "output_type": "stream",
     "text": [
      "Arithmetic Operators:\n",
      "Addition: 10 + 3 = 13\n",
      "Subtraction: 10 - 3 = 7\n",
      "Multiplication: 10 * 3 = 30\n",
      "Division: 10 / 3 = 3.3333333333333335\n",
      "Floor Division: 10 // 3 = 3\n",
      "Modulus: 10 % 3 = 1\n",
      "Exponentiation: 10 ** 3 = 1000\n",
      "\n",
      "Comparison Operators:\n",
      "10 == 3: False\n",
      "10 != 3: True\n",
      "10 > 3: True\n",
      "10 < 3: False\n",
      "10 >= 3: True\n",
      "10 <= 3: False\n",
      "\n",
      "Logical Operators:\n",
      "x and y: False\n",
      "x or y: True\n",
      "not x: False\n",
      "\n",
      "Bitwise Operators:\n",
      "a & b: 2\n",
      "a | b: 11\n",
      "a ^ b: 9\n",
      "~a: -11\n",
      "a << 2: 40\n",
      "a >> 2: 2\n",
      "\n",
      "Assignment Operators:\n",
      "c += 2: 7\n",
      "c -= 1: 6\n",
      "c *= 2: 12\n",
      "c /= 2: 6.0\n",
      "c %= 3: 0.0\n",
      "c //= 2: 0.0\n",
      "c **= 2: 0.0\n",
      "\n",
      "Membership Operators:\n",
      "3 in lst: True\n",
      "6 not in lst: True\n",
      "\n",
      "Identity Operators:\n",
      "x is y: False\n",
      "x is z: True\n",
      "x is not y: True\n",
      "\n",
      "Ternary Operator:\n",
      "Max of 10 and 3: 10\n",
      "\n"
     ]
    }
   ],
   "source": [
    "# Write your code here\n",
    "# Arithmetic Operators\n",
    "a, b = 10, 3\n",
    "print(\"Arithmetic Operators:\")\n",
    "print(f\"Addition: {a} + {b} = {a + b}\")\n",
    "print(f\"Subtraction: {a} - {b} = {a - b}\")\n",
    "print(f\"Multiplication: {a} * {b} = {a * b}\")\n",
    "print(f\"Division: {a} / {b} = {a / b}\")\n",
    "print(f\"Floor Division: {a} // {b} = {a // b}\")\n",
    "print(f\"Modulus: {a} % {b} = {a % b}\")\n",
    "print(f\"Exponentiation: {a} ** {b} = {a ** b}\\n\")\n",
    "\n",
    "# Comparison Operators\n",
    "print(\"Comparison Operators:\")\n",
    "print(f\"{a} == {b}: {a == b}\")\n",
    "print(f\"{a} != {b}: {a != b}\")\n",
    "print(f\"{a} > {b}: {a > b}\")\n",
    "print(f\"{a} < {b}: {a < b}\")\n",
    "print(f\"{a} >= {b}: {a >= b}\")\n",
    "print(f\"{a} <= {b}: {a <= b}\\n\")\n",
    "\n",
    "# Logical Operators\n",
    "x, y = True, False\n",
    "print(\"Logical Operators:\")\n",
    "print(f\"x and y: {x and y}\")\n",
    "print(f\"x or y: {x or y}\")\n",
    "print(f\"not x: {not x}\\n\")\n",
    "\n",
    "# Bitwise Operators\n",
    "print(\"Bitwise Operators:\")\n",
    "print(f\"a & b: {a & b}\")\n",
    "print(f\"a | b: {a | b}\")\n",
    "print(f\"a ^ b: {a ^ b}\")\n",
    "print(f\"~a: {~a}\")\n",
    "print(f\"a << 2: {a << 2}\")\n",
    "print(f\"a >> 2: {a >> 2}\\n\")\n",
    "\n",
    "# Assignment Operators\n",
    "c = 5\n",
    "print(\"Assignment Operators:\")\n",
    "c += 2\n",
    "print(f\"c += 2: {c}\")\n",
    "c -= 1\n",
    "print(f\"c -= 1: {c}\")\n",
    "c *= 2\n",
    "print(f\"c *= 2: {c}\")\n",
    "c /= 2\n",
    "print(f\"c /= 2: {c}\")\n",
    "c %= 3\n",
    "print(f\"c %= 3: {c}\")\n",
    "c //= 2\n",
    "print(f\"c //= 2: {c}\")\n",
    "c **= 2\n",
    "print(f\"c **= 2: {c}\\n\")\n",
    "\n",
    "# Membership Operators\n",
    "lst = [1, 2, 3, 4, 5]\n",
    "print(\"Membership Operators:\")\n",
    "print(f\"3 in lst: {3 in lst}\")\n",
    "print(f\"6 not in lst: {6 not in lst}\\n\")\n",
    "\n",
    "# Identity Operators\n",
    "x = [1, 2, 3]\n",
    "y = [1, 2, 3]\n",
    "z = x\n",
    "print(\"Identity Operators:\")\n",
    "print(f\"x is y: {x is y}\")  # False, different objects\n",
    "print(f\"x is z: {x is z}\")  # True, same object\n",
    "print(f\"x is not y: {x is not y}\\n\")\n",
    "\n",
    "# Special Operator - Ternary\n",
    "max_val = a if a > b else b\n",
    "print(\"Ternary Operator:\")\n",
    "print(f\"Max of {a} and {b}: {max_val}\\n\")\n"
   ]
  },
  {
   "cell_type": "markdown",
   "metadata": {},
   "source": [
    "4. Completes the following steps of small task:\n",
    "    - Mention Marks of English , Islamiat and Maths out of 100 in 3 different variables\n",
    "    - Mention Variable of Total Marks and assign 300 to it\n",
    "    - Calculate Percentage"
   ]
  },
  {
   "cell_type": "code",
   "execution_count": 1,
   "metadata": {},
   "outputs": [
    {
     "name": "stdout",
     "output_type": "stream",
     "text": [
      "Marks:\n",
      "English: 85\n",
      "Islamiat: 90\n",
      "Maths: 95\n",
      "Total Marks: 300\n",
      "Obtained Marks: 270\n",
      "Percentage: 90.00%\n"
     ]
    }
   ],
   "source": [
    "# Write your code here\n",
    "# Step 1: Mention marks of English, Islamiat, and Maths\n",
    "english_marks = 85\n",
    "islamiat_marks = 90\n",
    "maths_marks = 95\n",
    "\n",
    "# Step 2: Mention the variable for total marks\n",
    "total_marks = 300\n",
    "\n",
    "# Step 3: Calculate percentage\n",
    "obtained_marks = english_marks + islamiat_marks + maths_marks\n",
    "percentage = (obtained_marks / total_marks) * 100\n",
    "\n",
    "# Step 4: Print the results\n",
    "print(\"Marks:\")\n",
    "print(f\"English: {english_marks}\")\n",
    "print(f\"Islamiat: {islamiat_marks}\")\n",
    "print(f\"Maths: {maths_marks}\")\n",
    "print(f\"Total Marks: {total_marks}\")\n",
    "print(f\"Obtained Marks: {obtained_marks}\")\n",
    "print(f\"Percentage: {percentage:.2f}%\")\n"
   ]
  },
  {
   "cell_type": "markdown",
   "metadata": {},
   "source": [
    "# Part -2 Python Basics (Conditional Statements)"
   ]
  },
  {
   "cell_type": "markdown",
   "metadata": {},
   "source": [
    "1) A company decided to give bonus of 5% to employee if his/her year of service is more than 5 years.\n",
    "Ask user for their salary and year of service and print the net bonus amount."
   ]
  },
  {
   "cell_type": "code",
   "execution_count": 11,
   "metadata": {},
   "outputs": [
    {
     "ename": "SyntaxError",
     "evalue": "invalid syntax (2189562646.py, line 2)",
     "output_type": "error",
     "traceback": [
      "\u001b[1;36m  Cell \u001b[1;32mIn[11], line 2\u001b[1;36m\u001b[0m\n\u001b[1;33m    Enter your salary: 50000\u001b[0m\n\u001b[1;37m          ^\u001b[0m\n\u001b[1;31mSyntaxError\u001b[0m\u001b[1;31m:\u001b[0m invalid syntax\n"
     ]
    }
   ],
   "source": [
    "#Type your code here\n",
    "Enter your salary: 50000\n",
    "Enter your years of service: 6\n",
    "Congratulations! You are eligible for a bonus of: 2500.00\n",
    "Net bonus amount: 2500.00\n"
   ]
  },
  {
   "cell_type": "markdown",
   "metadata": {},
   "source": [
    "\n",
    "2) Write a program to check whether a person is eligible for voting or not. (accept age from user) if age is greater than 17 eligible otherwise not eligible"
   ]
  },
  {
   "cell_type": "code",
   "execution_count": 10,
   "metadata": {},
   "outputs": [
    {
     "name": "stdout",
     "output_type": "stream",
     "text": [
      "You are not eligible for voting.\n"
     ]
    }
   ],
   "source": [
    "#Type your code here\n",
    "# Get user input for age\n",
    "age = int(input(\"Enter your age: \"))\n",
    "\n",
    "# Check voting eligibility\n",
    "if age > 17:\n",
    "    print(\"You are eligible for voting.\")\n",
    "else:\n",
    "    print(\"You are not eligible for voting.\")\n"
   ]
  },
  {
   "cell_type": "markdown",
   "metadata": {},
   "source": [
    "\n",
    "3) Write a program to check whether a number entered by user is even or odd."
   ]
  },
  {
   "cell_type": "code",
   "execution_count": 9,
   "metadata": {},
   "outputs": [
    {
     "name": "stdout",
     "output_type": "stream",
     "text": [
      "The number 4 is even.\n"
     ]
    }
   ],
   "source": [
    "#Type your code here\n",
    "# Get user input for the number\n",
    "number = int(input(\"Enter a number: \"))\n",
    "\n",
    "# Check if the number is even or odd\n",
    "if number % 2 == 0:\n",
    "    print(f\"The number {number} is even.\")\n",
    "else:\n",
    "    print(f\"The number {number} is odd.\")\n"
   ]
  },
  {
   "cell_type": "markdown",
   "metadata": {},
   "source": [
    "4) Write a program to check whether a number is divisible by 7 or not.\n",
    "Show Answer"
   ]
  },
  {
   "cell_type": "code",
   "execution_count": 8,
   "metadata": {},
   "outputs": [
    {
     "name": "stdout",
     "output_type": "stream",
     "text": [
      "The number 3 is not divisible by 7.\n"
     ]
    }
   ],
   "source": [
    "# Get user input for the number\n",
    "number = int(input(\"Enter a number: \"))\n",
    "\n",
    "# Check if the number is divisible by 7\n",
    "if number % 7 == 0:\n",
    "    print(f\"The number {number} is divisible by 7.\")\n",
    "else:\n",
    "    print(f\"The number {number} is not divisible by 7.\")\n"
   ]
  },
  {
   "cell_type": "markdown",
   "metadata": {},
   "source": []
  },
  {
   "cell_type": "code",
   "execution_count": 9,
   "metadata": {},
   "outputs": [],
   "source": [
    "#Type your code here"
   ]
  },
  {
   "cell_type": "markdown",
   "metadata": {},
   "source": [
    "5) Write a program to display \n",
    "\"Hello\" if a number entered by user is a multiple of five , otherwise print \"Bye\"."
   ]
  },
  {
   "cell_type": "code",
   "execution_count": 7,
   "metadata": {},
   "outputs": [
    {
     "name": "stdout",
     "output_type": "stream",
     "text": [
      "Hello\n"
     ]
    }
   ],
   "source": [
    "#Type your code here\n",
    "# Get user input for the number\n",
    "number = int(input(\"Enter a number: \"))\n",
    "\n",
    "# Check if the number is a multiple of 5\n",
    "if number % 5 == 0:\n",
    "    print(\"Hello\")\n",
    "else:\n",
    "    print(\"Bye\")\n"
   ]
  },
  {
   "cell_type": "markdown",
   "metadata": {},
   "source": [
    "7) Write a program to display the last digit of a number.\n"
   ]
  },
  {
   "cell_type": "code",
   "execution_count": 6,
   "metadata": {},
   "outputs": [
    {
     "name": "stdout",
     "output_type": "stream",
     "text": [
      "The last digit of the number is: 2\n"
     ]
    }
   ],
   "source": [
    "#Type your code here\n",
    "# Get user input for the number\n",
    "number = int(input(\"Enter a number: \"))\n",
    "\n",
    "# Get the last digit of the number\n",
    "last_digit = number % 10\n",
    "\n",
    "# Display the last digit\n",
    "print(f\"The last digit of the number is: {last_digit}\")\n"
   ]
  },
  {
   "cell_type": "markdown",
   "metadata": {},
   "source": [
    "9) Take values of length and breadth of a rectangle from user and print if it is square or rectangle."
   ]
  },
  {
   "cell_type": "code",
   "execution_count": 5,
   "metadata": {},
   "outputs": [
    {
     "name": "stdout",
     "output_type": "stream",
     "text": [
      "Invalid input. Please enter a valid number.\n",
      "Invalid input. Please enter a valid number.\n",
      "It is a rectangle.\n"
     ]
    }
   ],
   "source": [
    "# Function to get a valid float input from the user\n",
    "def get_valid_input(prompt):\n",
    "    while True:\n",
    "        try:\n",
    "            value = float(input(prompt))\n",
    "            if value <= 0:\n",
    "                print(\"Please enter a positive number.\")\n",
    "            else:\n",
    "                return value\n",
    "        except ValueError:\n",
    "            print(\"Invalid input. Please enter a valid number.\")\n",
    "\n",
    "# Get user input for length and breadth with validation\n",
    "length = get_valid_input(\"Enter the length of the rectangle: \")\n",
    "breadth = get_valid_input(\"Enter the breadth of the rectangle: \")\n",
    "\n",
    "# Check if the shape is square or rectangle\n",
    "if length == breadth:\n",
    "    print(\"It is a square.\")\n",
    "else:\n",
    "    print(\"It is a rectangle.\")\n",
    "\n",
    "\n"
   ]
  },
  {
   "cell_type": "markdown",
   "metadata": {},
   "source": [
    "10) Take two int values from user and print greatest among them."
   ]
  },
  {
   "cell_type": "code",
   "execution_count": 12,
   "metadata": {},
   "outputs": [
    {
     "name": "stdout",
     "output_type": "stream",
     "text": [
      "The greatest number is: 2\n"
     ]
    }
   ],
   "source": [
    "# Type your code here\n",
    "# Get user input for two integers\n",
    "num1 = int(input(\"Enter the first number: \"))\n",
    "num2 = int(input(\"Enter the second number: \"))\n",
    "\n",
    "# Check which number is greater\n",
    "if num1 > num2:\n",
    "    print(f\"The greatest number is: {num1}\")\n",
    "elif num2 > num1:\n",
    "    print(f\"The greatest number is: {num2}\")\n",
    "else:\n",
    "    print(\"Both numbers are equal.\")\n"
   ]
  },
  {
   "cell_type": "markdown",
   "metadata": {},
   "source": [
    "11) A shop will give discount of 10% if the cost of purchased quantity is more than 1000.\n",
    "Ask user for quantity\n",
    "Suppose, one unit will cost 100.\n",
    "Judge and print total cost for user."
   ]
  },
  {
   "cell_type": "code",
   "execution_count": 15,
   "metadata": {},
   "outputs": [
    {
     "name": "stdout",
     "output_type": "stream",
     "text": [
      "No discount applied. Your total cost is: 700.00\n"
     ]
    }
   ],
   "source": [
    "#Type your code here\n",
    "# Get user input for quantity\n",
    "quantity = int(input(\"Enter the quantity of items purchased: \"))\n",
    "\n",
    "# Price per unit\n",
    "price_per_unit = 100\n",
    "\n",
    "# Calculate total cost\n",
    "total_cost = quantity * price_per_unit\n",
    "\n",
    "# Apply discount if the total cost is more than 1000\n",
    "if total_cost > 1000:\n",
    "    discount = total_cost * 0.10  # 10% discount\n",
    "    total_cost -= discount\n",
    "    print(f\"Discount applied! Your total cost after 10% discount is: {total_cost:.2f}\")\n",
    "else:\n",
    "    print(f\"No discount applied. Your total cost is: {total_cost:.2f}\")\n"
   ]
  },
  {
   "cell_type": "markdown",
   "metadata": {},
   "source": [
    "12) A school has following rules for grading system:\n",
    "\n",
    "a. Below 25 - F\n",
    "\n",
    "b. 25 to 45 - E\n",
    "\n",
    "c. 45 to 50 - D\n",
    "\n",
    "d. 50 to 60 - C\n",
    "\n",
    "e. 60 to 80 - B\n",
    "\n",
    "f. Above 80 - A\n",
    "\n",
    "Ask user to enter marks and print the corresponding grade."
   ]
  },
  {
   "cell_type": "code",
   "execution_count": 16,
   "metadata": {},
   "outputs": [
    {
     "name": "stdout",
     "output_type": "stream",
     "text": [
      "The grade for 46.0 marks is: D\n"
     ]
    }
   ],
   "source": [
    "#Type your code here\n",
    "# Get user input for marks\n",
    "marks = float(input(\"Enter the marks: \"))\n",
    "\n",
    "# Determine the grade based on the rules\n",
    "if marks < 25:\n",
    "    grade = 'F'\n",
    "elif 25 <= marks < 45:\n",
    "    grade = 'E'\n",
    "elif 45 <= marks < 50:\n",
    "    grade = 'D'\n",
    "elif 50 <= marks < 60:\n",
    "    grade = 'C'\n",
    "elif 60 <= marks < 80:\n",
    "    grade = 'B'\n",
    "else:  # marks above 80\n",
    "    grade = 'A'\n",
    "\n",
    "# Print the grade\n",
    "print(f\"The grade for {marks} marks is: {grade}\")\n"
   ]
  },
  {
   "cell_type": "markdown",
   "metadata": {},
   "source": [
    "14)A student will not be allowed to sit in exam if his/her attendence is less than 75%.\n",
    "\n",
    "Take following input from user\n",
    "\n",
    "- Number of classes held\n",
    "\n",
    "- Number of classes attended.\n",
    "\n",
    "And print\n",
    "\n",
    "- percentage of class attended\n",
    "\n",
    "- Is student is allowed to sit in exam or not.\n"
   ]
  },
  {
   "cell_type": "code",
   "execution_count": 17,
   "metadata": {},
   "outputs": [
    {
     "name": "stdout",
     "output_type": "stream",
     "text": [
      "Attendance Percentage: 41.07%\n",
      "The student is not allowed to sit in the exam.\n"
     ]
    }
   ],
   "source": [
    "#Type your code here\n",
    "# Get user input for number of classes held and attended\n",
    "classes_held = int(input(\"Enter the number of classes held: \"))\n",
    "classes_attended = int(input(\"Enter the number of classes attended: \"))\n",
    "\n",
    "# Calculate the attendance percentage\n",
    "attendance_percentage = (classes_attended / classes_held) * 100\n",
    "\n",
    "# Print the attendance percentage\n",
    "print(f\"Attendance Percentage: {attendance_percentage:.2f}%\")\n",
    "\n",
    "# Check if the student is allowed to sit in the exam\n",
    "if attendance_percentage >= 75:\n",
    "    print(\"The student is allowed to sit in the exam.\")\n",
    "else:\n",
    "    print(\"The student is not allowed to sit in the exam.\")\n"
   ]
  },
  {
   "cell_type": "markdown",
   "metadata": {},
   "source": [
    "15) Modify the above question to allow student to sit if he/she has medical cause. Ask user if he/she has medical cause or not ( 'Y' or 'N' ) and print accordingly."
   ]
  },
  {
   "cell_type": "code",
   "execution_count": 18,
   "metadata": {},
   "outputs": [
    {
     "name": "stdout",
     "output_type": "stream",
     "text": [
      "Attendance Percentage: 76.92%\n",
      "The student is allowed to sit in the exam.\n"
     ]
    }
   ],
   "source": [
    "#Type your code here\n",
    "# Get user input for number of classes held and attended\n",
    "classes_held = int(input(\"Enter the number of classes held: \"))\n",
    "classes_attended = int(input(\"Enter the number of classes attended: \"))\n",
    "\n",
    "# Calculate the attendance percentage\n",
    "attendance_percentage = (classes_attended / classes_held) * 100\n",
    "\n",
    "# Ask if the student has a medical cause\n",
    "medical_cause = input(\"Do you have a medical cause for your absence? (Y/N): \").upper()\n",
    "\n",
    "# Print the attendance percentage\n",
    "print(f\"Attendance Percentage: {attendance_percentage:.2f}%\")\n",
    "\n",
    "# Check if the student is allowed to sit in the exam\n",
    "if attendance_percentage >= 75 or medical_cause == 'Y':\n",
    "    print(\"The student is allowed to sit in the exam.\")\n",
    "else:\n",
    "    print(\"The student is not allowed to sit in the exam.\")\n"
   ]
  },
  {
   "cell_type": "markdown",
   "metadata": {},
   "source": [
    "16) Write a program to check if a year is leap year or not.\n",
    "\n",
    "If a year is divisible by 4 then it is leap year but if the year is century year like 2000, 1900, 2100 then it must be divisible by 400."
   ]
  },
  {
   "cell_type": "code",
   "execution_count": 19,
   "metadata": {},
   "outputs": [
    {
     "name": "stdout",
     "output_type": "stream",
     "text": [
      "56 is a leap year.\n"
     ]
    }
   ],
   "source": [
    "#Type your code here\n",
    "# Get user input for the year\n",
    "year = int(input(\"Enter a year: \"))\n",
    "\n",
    "# Check if the year is a leap year\n",
    "if (year % 4 == 0 and year % 100 != 0) or (year % 400 == 0):\n",
    "    print(f\"{year} is a leap year.\")\n",
    "else:\n",
    "    print(f\"{year} is not a leap year.\")\n"
   ]
  },
  {
   "cell_type": "markdown",
   "metadata": {},
   "source": [
    "17) Ask user to enter age, gender ( M or F ), marital status ( Y or N ) and then using following rules print their place of service.\n",
    "\n",
    "if employee is female, then she will work only in urban areas.\n",
    "\n",
    "if employee is a male and age is in between 20 to 40 then he may work in anywhere\n",
    "\n",
    "if employee is male and age is in between 40 t0 60 then he will work in urban areas only.\n",
    "\n",
    "And any other input of age should print \"ERROR\""
   ]
  },
  {
   "cell_type": "code",
   "execution_count": 20,
   "metadata": {},
   "outputs": [
    {
     "name": "stdout",
     "output_type": "stream",
     "text": [
      "The employee will work in urban areas.\n"
     ]
    }
   ],
   "source": [
    "#Type your code here\n",
    "# Get user input for age, gender, and marital status\n",
    "age = int(input(\"Enter your age: \"))\n",
    "gender = input(\"Enter your gender (M/F): \").upper()\n",
    "marital_status = input(\"Enter your marital status (Y/N): \").upper()\n",
    "\n",
    "# Check conditions based on gender and age\n",
    "if gender == 'F':\n",
    "    print(\"The employee will work in urban areas.\")\n",
    "elif gender == 'M':\n",
    "    if 20 <= age <= 40:\n",
    "        print(\"The employee may work anywhere.\")\n",
    "    elif 40 < age <= 60:\n",
    "        print(\"The employee will work in urban areas.\")\n",
    "    else:\n",
    "        print(\"ERROR\")\n",
    "else:\n",
    "    print(\"ERROR\")\n"
   ]
  },
  {
   "cell_type": "markdown",
   "metadata": {},
   "source": [
    "6) Write a program to calculate the electricity bill (accept number of unit from user) according to the following criteria :\n",
    "     Unit                                                     Price  \n",
    "uptp 100 units                                             no charge\n",
    "Next 200 units                                              Rs 5 per unit\n",
    "After 200 units                                             Rs 10 per unit\n",
    "(For example if input unit is 350 than total bill amount is Rs.3500\n",
    "(For example if input unit is 97 than total bill amount is Rs.0\n",
    "(For example if input unit is 150 than total bill amount is Rs.750"
   ]
  },
  {
   "cell_type": "code",
   "execution_count": 21,
   "metadata": {},
   "outputs": [
    {
     "name": "stdout",
     "output_type": "stream",
     "text": [
      "The total bill amount is: Rs 725\n"
     ]
    }
   ],
   "source": [
    "# Get user input for the number of units\n",
    "units = int(input(\"Enter the number of units consumed: \"))\n",
    "\n",
    "# Initialize the total bill amount\n",
    "bill_amount = 0\n",
    "\n",
    "# Calculate the bill based on the units consumed\n",
    "if units <= 100:\n",
    "    bill_amount = 0  # No charge for up to 100 units\n",
    "elif units <= 300:\n",
    "    bill_amount = (units - 100) * 5  # Rs 5 per unit for the next 200 units\n",
    "else:\n",
    "    bill_amount = 200 * 5 + (units - 300) * 10  # Rs 10 per unit for units beyond 300\n",
    "\n",
    "# Print the total bill amount\n",
    "print(f\"The total bill amount is: Rs {bill_amount}\")\n"
   ]
  },
  {
   "cell_type": "markdown",
   "metadata": {},
   "source": [
    "13) Take input of age of 3 people by user and determine oldest and youngest among them."
   ]
  },
  {
   "cell_type": "code",
   "execution_count": 22,
   "metadata": {},
   "outputs": [
    {
     "name": "stdout",
     "output_type": "stream",
     "text": [
      "The oldest person is 47 years old.\n",
      "The youngest person is 45 years old.\n"
     ]
    }
   ],
   "source": [
    "#Type your code here\n",
    "# Get user input for the ages of three people\n",
    "age1 = int(input(\"Enter the age of the first person: \"))\n",
    "age2 = int(input(\"Enter the age of the second person: \"))\n",
    "age3 = int(input(\"Enter the age of the third person: \"))\n",
    "\n",
    "# Find the oldest and youngest person\n",
    "oldest = max(age1, age2, age3)\n",
    "youngest = min(age1, age2, age3)\n",
    "\n",
    "# Print the results\n",
    "print(f\"The oldest person is {oldest} years old.\")\n",
    "print(f\"The youngest person is {youngest} years old.\")\n"
   ]
  },
  {
   "cell_type": "code",
   "execution_count": null,
   "metadata": {},
   "outputs": [],
   "source": []
  }
 ],
 "metadata": {
  "kernelspec": {
   "display_name": "Python 3",
   "language": "python",
   "name": "python3"
  },
  "language_info": {
   "codemirror_mode": {
    "name": "ipython",
    "version": 3
   },
   "file_extension": ".py",
   "mimetype": "text/x-python",
   "name": "python",
   "nbconvert_exporter": "python",
   "pygments_lexer": "ipython3",
   "version": "3.13.0"
  }
 },
 "nbformat": 4,
 "nbformat_minor": 2
}
