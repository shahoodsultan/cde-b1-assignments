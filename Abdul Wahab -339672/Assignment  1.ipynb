{
 "cells": [
  {
   "cell_type": "code",
   "execution_count": 38,
   "id": "dce78a4f",
   "metadata": {},
   "outputs": [],
   "source": [
    "#Print Your Name with your Father name and Date of birth using suitable escape sequence charactor\n",
    "#add, commit , push\n",
    "\n"
   ]
  },
  {
   "cell_type": "code",
   "execution_count": null,
   "id": "38251d25",
   "metadata": {},
   "outputs": [],
   "source": [
    "print(\"Abdul-Wahab  S/O Abdul Ghaffar DOB  1996 \")\n"
   ]
  },
  {
   "cell_type": "code",
   "execution_count": 28,
   "id": "b74e7963",
   "metadata": {},
   "outputs": [],
   "source": [
    "#Write your small bio using variables and print it using print function\n"
   ]
  },
  {
   "cell_type": "code",
   "execution_count": 31,
   "id": "d291237d",
   "metadata": {},
   "outputs": [
    {
     "name": "stdout",
     "output_type": "stream",
     "text": [
      "Hi , Here Abdul Wahab , Done Gradute in 2022 from KU\n"
     ]
    }
   ],
   "source": [
    "a = \"Hi , Here Abdul Wahab , Done Gradute in 2022 from KU\"\n",
    "print(a)"
   ]
  },
  {
   "cell_type": "code",
   "execution_count": 32,
   "id": "4edb4ea9",
   "metadata": {},
   "outputs": [],
   "source": [
    "#Write a program in which use all the operators we can use in Python\n"
   ]
  },
  {
   "cell_type": "code",
   "execution_count": 35,
   "id": "c5a88d1b",
   "metadata": {},
   "outputs": [
    {
     "name": "stdout",
     "output_type": "stream",
     "text": [
      "3\n"
     ]
    }
   ],
   "source": [
    "a = 1\n",
    "b=2 \n",
    "add = a+b\n",
    "sub= a-b\n",
    "divide =a/b\n",
    "Mult = a*b\n",
    "print (add)"
   ]
  },
  {
   "cell_type": "code",
   "execution_count": 37,
   "id": "7395e437",
   "metadata": {},
   "outputs": [],
   "source": [
    "#Completes the following steps of small task:\n",
    "#Mention Marks of English , Islamiat and Maths out of 100 in 3 different variables\n",
    "#Mention Variable of Total Marks and assign 300 to it\n",
    "#Calculate Percentage\n"
   ]
  },
  {
   "cell_type": "code",
   "execution_count": 48,
   "id": "29d8b7ee",
   "metadata": {},
   "outputs": [
    {
     "name": "stdout",
     "output_type": "stream",
     "text": [
      "71.66666666666667\n"
     ]
    }
   ],
   "source": [
    "English = 70\n",
    "Islamiat =75\n",
    "Maths = 70\n",
    "Total_Marks = 300\n",
    "obtain = English +Islamiat +Maths\n",
    "Per = (obtain /Total_Marks)*100\n",
    "\n",
    "print(Per)"
   ]
  },
  {
   "cell_type": "code",
   "execution_count": 49,
   "id": "36a5b347",
   "metadata": {},
   "outputs": [],
   "source": [
    "#Part -2 Python Basics (Conditional Statements)\n"
   ]
  },
  {
   "cell_type": "code",
   "execution_count": 51,
   "id": "c3ec0da6",
   "metadata": {},
   "outputs": [],
   "source": [
    "#A company decided to give bonus of 5% to employee if his/her year of service is more than 5 years. Ask user for their salary and year of service and print the net bonus amount.\n"
   ]
  },
  {
   "cell_type": "code",
   "execution_count": 52,
   "id": "cfa905cb",
   "metadata": {},
   "outputs": [
    {
     "name": "stdout",
     "output_type": "stream",
     "text": [
      "Write your working experience 4\n",
      "you are not eligible for bonus\n"
     ]
    }
   ],
   "source": [
    "yearOfExperience = int(input('Write your working experience '))\n",
    "\n",
    "if(yearOfExperience > 5):\n",
    "    salary = int(input('what is your salary '))\n",
    "    print('Your Bonus will be ', 0.05 * salary)\n",
    "else:\n",
    "    print('you are not eligible for bonus')"
   ]
  },
  {
   "cell_type": "code",
   "execution_count": 53,
   "id": "f493737b",
   "metadata": {},
   "outputs": [],
   "source": [
    "#Write a program to check whether a person is eligible for voting or not. (accept age from user) if age is greater than 17 eligible otherwise not eligible\n"
   ]
  },
  {
   "cell_type": "code",
   "execution_count": 54,
   "id": "8fc2efab",
   "metadata": {},
   "outputs": [
    {
     "name": "stdout",
     "output_type": "stream",
     "text": [
      "Enter your age: 19\n",
      "Yes, You're eligible\n"
     ]
    }
   ],
   "source": [
    "age = int(input(\"Enter your age: \"))\n",
    "\n",
    "if age >=18:\n",
    "    print(\"Yes, You're eligible\")\n",
    "else:\n",
    "    print(\"Nope, You're not eligible\")"
   ]
  },
  {
   "cell_type": "code",
   "execution_count": 58,
   "id": "6bc2d5a6",
   "metadata": {},
   "outputs": [],
   "source": [
    "#Write a program to check whether a number entered by user is even or odd.\n"
   ]
  },
  {
   "cell_type": "code",
   "execution_count": 60,
   "id": "b650ac3a",
   "metadata": {},
   "outputs": [
    {
     "name": "stdout",
     "output_type": "stream",
     "text": [
      "Enter any number for even odd chk wheter is even or odd: 2\n",
      "even\n"
     ]
    }
   ],
   "source": [
    "number = int(input(\"Enter any number for even odd chk wheter is even or odd: \"))\n",
    "\n",
    "if number % 2 == 0:\n",
    "    print(\"even\")\n",
    "else:\n",
    "    print(\"odd\")\n"
   ]
  },
  {
   "cell_type": "code",
   "execution_count": null,
   "id": "27be275b",
   "metadata": {},
   "outputs": [],
   "source": [
    "#Write a program to check whether a number is divisible by 7 or not. Show Answer\n"
   ]
  },
  {
   "cell_type": "code",
   "execution_count": 61,
   "id": "4684a5c1",
   "metadata": {},
   "outputs": [
    {
     "name": "stdout",
     "output_type": "stream",
     "text": [
      "Enter any number that is divisible by 7: 3\n",
      "Not Divisible by 7\n"
     ]
    }
   ],
   "source": [
    "number = int(input(\"Enter any number that is divisible by 7: \"))\n",
    "\n",
    "if number % 7 == 0:\n",
    "    print(\"Divisible by 7\")\n",
    "else:\n",
    "    print(\"Not Divisible by 7\")\n"
   ]
  },
  {
   "cell_type": "code",
   "execution_count": null,
   "id": "3d0808bb",
   "metadata": {},
   "outputs": [],
   "source": [
    "#Write a program to display \"Hello\" if a number entered by user is a multiple of five , otherwise print \"Bye\".\n"
   ]
  },
  {
   "cell_type": "code",
   "execution_count": 62,
   "id": "8499d25b",
   "metadata": {},
   "outputs": [
    {
     "name": "stdout",
     "output_type": "stream",
     "text": [
      "Enter any number that is divisible by 5: 2\n",
      "bye\n"
     ]
    }
   ],
   "source": [
    "number = int(input(\"Enter any number that is divisible by 5: \"))\n",
    "\n",
    "if number % 5 == 0:\n",
    "    print(\"hello\")\n",
    "else:\n",
    "    print(\"bye\")\n"
   ]
  },
  {
   "cell_type": "code",
   "execution_count": null,
   "id": "874f24c1",
   "metadata": {},
   "outputs": [],
   "source": [
    "#Write a program to display the last digit of a number.\n"
   ]
  },
  {
   "cell_type": "code",
   "execution_count": 71,
   "id": "fb4764be",
   "metadata": {},
   "outputs": [
    {
     "name": "stdout",
     "output_type": "stream",
     "text": [
      "9\n"
     ]
    }
   ],
   "source": [
    "number  = 56789\n",
    "lastdigit = int(repr(n)[-1])\n",
    "print (lastdigit)"
   ]
  },
  {
   "cell_type": "code",
   "execution_count": 72,
   "id": "52178b27",
   "metadata": {},
   "outputs": [],
   "source": [
    "#Take two int values from user and print greatest among them.\n"
   ]
  },
  {
   "cell_type": "code",
   "execution_count": 81,
   "id": "bc4c2371",
   "metadata": {},
   "outputs": [
    {
     "name": "stdout",
     "output_type": "stream",
     "text": [
      "Enter any 1st number  2\n",
      "Enter any 2nd number  3\n",
      "3\n"
     ]
    }
   ],
   "source": [
    "number1 = int(input(\"Enter any 1st number  \"))\n",
    "number2 = int(input(\"Enter any 2nd number  \"))\n",
    "if number1>number2:\n",
    "    print (number1)\n",
    "else:\n",
    "    print (number2)\n",
    "\n"
   ]
  },
  {
   "cell_type": "code",
   "execution_count": 83,
   "id": "55fa2e1b",
   "metadata": {},
   "outputs": [],
   "source": [
    "#Take values of length and breadth of a rectangle from user and print if it is square or rectangle.\n"
   ]
  },
  {
   "cell_type": "code",
   "execution_count": 85,
   "id": "725e324a",
   "metadata": {},
   "outputs": [
    {
     "name": "stdout",
     "output_type": "stream",
     "text": [
      "Enter any Length  2\n",
      "Enter any Breadth  3\n",
      "Rectangle\n"
     ]
    }
   ],
   "source": [
    "number1 = int(input(\"Enter any Length  \"))\n",
    "number2 = int(input(\"Enter any Breadth  \"))\n",
    "if number1 == number2:\n",
    "    print (\"Squre \")\n",
    "else:\n",
    "    print (\"Rectangle\")"
   ]
  },
  {
   "cell_type": "code",
   "execution_count": 86,
   "id": "74ea0bfb",
   "metadata": {},
   "outputs": [],
   "source": [
    "#Take two int values from user and print greatest among them.\n"
   ]
  },
  {
   "cell_type": "code",
   "execution_count": 87,
   "id": "f1324582",
   "metadata": {},
   "outputs": [],
   "source": [
    "#A shop will give discount of 10% if the cost of purchased quantity is more than 1000. \n",
    "#Ask user for quantity Suppose, one unit will cost 100. Judge and print total cost for user.\n"
   ]
  },
  {
   "cell_type": "code",
   "execution_count": 88,
   "id": "cf322525",
   "metadata": {},
   "outputs": [
    {
     "data": {
      "text/plain": [
       "\"'/A school has following rules for grading system:/''\\nb. 25 to 45 - E\\n\\nc. 45 to 50 - D\\n\\nd. 50 to 60 - C\\n\\ne. 60 to 80 - B\\n\\nf. Above 80 - A\\n\\nAsk user to enter marks and print the corresponding grade.\\n\""
      ]
     },
     "execution_count": 88,
     "metadata": {},
     "output_type": "execute_result"
    }
   ],
   "source": [
    "\"\"\"'/A school has following rules for grading system:/''\n",
    "b. 25 to 45 - E\n",
    "\n",
    "c. 45 to 50 - D\n",
    "\n",
    "d. 50 to 60 - C\n",
    "\n",
    "e. 60 to 80 - B\n",
    "\n",
    "f. Above 80 - A\n",
    "\n",
    "Ask user to enter marks and print the corresponding grade.\n",
    "\"\"\"\n"
   ]
  },
  {
   "cell_type": "code",
   "execution_count": 90,
   "id": "92c00c9d",
   "metadata": {},
   "outputs": [
    {
     "name": "stdout",
     "output_type": "stream",
     "text": [
      "Enter your marks: 57\n",
      "Grade: C\n"
     ]
    }
   ],
   "source": [
    "marks = int(input(\"Enter your marks: \"))\n",
    "\n",
    "if marks > 80 and marks <= 100:\n",
    "    print(\"Grade: A\")\n",
    "elif marks >= 60 and marks <= 80:\n",
    "    print(\"Grade: B\")\n",
    "elif marks >= 50 and marks < 60:\n",
    "    print(\"Grade: C\")\n",
    "elif marks >= 45 and marks < 50:\n",
    "    print(\"Grade: D\")\n",
    "elif marks >= 25 and marks < 45:\n",
    "    print(\"Grade: E\")\n",
    "elif marks <25 and marks >= 0:\n",
    "    print(\"Grade: F\")\n",
    "else:\n",
    "    print(\"Invalid Input\")\n"
   ]
  },
  {
   "cell_type": "markdown",
   "id": "2ae3fb38",
   "metadata": {},
   "source": [
    "'''14)A student will not be allowed to sit in exam if his/her attendence is less than 75%.\n",
    "\n",
    "Take following input from user\n",
    "\n",
    "Number of classes held\n",
    "\n",
    "Number of classes attended.\n",
    "\n",
    "And print\n",
    "\n",
    "percentage of class attended\n",
    "\n",
    "Is student is allowed to sit in exam or not.\n",
    "\n",
    "'''"
   ]
  },
  {
   "cell_type": "code",
   "execution_count": null,
   "id": "5b2ff350",
   "metadata": {},
   "outputs": [],
   "source": [
    "class_held = int(input(\"Enter your number of class: \"))\n",
    "attend = int(input(\"Enter your number of attend: \"))\n",
    "per = (attend/class_held)*100\n",
    "if per < 75:\n",
    "    print(\"Not Allowed Student to sit in exam \")\n",
    "else:\n",
    "    print(\" Allowed Student to sit in exam \")\n",
    "print(\"Class held :\" ,class_held)\n",
    "\n",
    "print(\"Class attend :\" ,attend)\n",
    "print(\"Class held :\" ,class_held)\n",
    "print(\"Percentage of Class held :\" ,per)\n",
    "\n"
   ]
  },
  {
   "cell_type": "code",
   "execution_count": null,
   "id": "8214d388",
   "metadata": {},
   "outputs": [],
   "source": []
  },
  {
   "cell_type": "code",
   "execution_count": null,
   "id": "7971474a",
   "metadata": {},
   "outputs": [],
   "source": []
  },
  {
   "cell_type": "markdown",
   "id": "b3118000",
   "metadata": {},
   "source": [
    "# Modify the above question to allow student to sit if he/she has medical cause. Ask user if he/she has medical cause or not ( 'Y' or 'N' ) and print accordingly.\n"
   ]
  },
  {
   "cell_type": "code",
   "execution_count": null,
   "id": "f715ca24",
   "metadata": {},
   "outputs": [],
   "source": [
    "Medical = input(\"Medical Issue enter Y OR N\")\n",
    "if Medical == \"N\":\n",
    "    print(\"Not Allowed Student to sit in exam \")\n",
    "else:\n",
    "    print(\" Allowed Student to sit in exam becuase of medical cause \")\n"
   ]
  },
  {
   "cell_type": "markdown",
   "id": "40243918",
   "metadata": {},
   "source": [
    "# \"Write a program to check if a year is leap year or not.\n",
    "If a year is divisible by 4 then it is leap year but if the year is century year like 2000, 1900, 2100 then it must be divisible by 400.\n",
    "\"\n"
   ]
  },
  {
   "cell_type": "code",
   "execution_count": null,
   "id": "19ceb40a",
   "metadata": {},
   "outputs": [],
   "source": []
  },
  {
   "cell_type": "code",
   "execution_count": 117,
   "id": "42a36751",
   "metadata": {},
   "outputs": [
    {
     "name": "stdout",
     "output_type": "stream",
     "text": [
      "Enter a year: 2100\n",
      "2100 is not a leap year\n"
     ]
    }
   ],
   "source": [
    "year = int(input(\"Enter a year: \"))\n",
    "\n",
    "if (year % 400 == 0):\n",
    "    print(\"{0} is a leap year\".format(year))\n",
    "\n",
    "else:\n",
    "    print(\"{0} is not a leap year\".format(year))\n"
   ]
  },
  {
   "cell_type": "markdown",
   "id": "0592cd58",
   "metadata": {},
   "source": [
    "# Ask user to enter age, gender ( M or F ), marital status ( Y or N ) and then using following rules print their place of service.\n",
    "if employee is female, then she will work only in urban areas.\n",
    "\n",
    "if employee is a male and age is in between 20 to 40 then he may work in anywhere\n",
    "\n",
    "if employee is male and age is in between 40 t0 60 then he will work in urban areas only.\n",
    "\n",
    "And any other input of age should print \"ERROR\"\n",
    "\n"
   ]
  },
  {
   "cell_type": "code",
   "execution_count": null,
   "id": "b5128b20",
   "metadata": {},
   "outputs": [],
   "source": []
  },
  {
   "cell_type": "code",
   "execution_count": null,
   "id": "f4fcac4f",
   "metadata": {},
   "outputs": [],
   "source": []
  }
 ],
 "metadata": {
  "kernelspec": {
   "display_name": "Python 3",
   "language": "python",
   "name": "python3"
  },
  "language_info": {
   "codemirror_mode": {
    "name": "ipython",
    "version": 3
   },
   "file_extension": ".py",
   "mimetype": "text/x-python",
   "name": "python",
   "nbconvert_exporter": "python",
   "pygments_lexer": "ipython3",
   "version": "3.8.8"
  }
 },
 "nbformat": 4,
 "nbformat_minor": 5
}
