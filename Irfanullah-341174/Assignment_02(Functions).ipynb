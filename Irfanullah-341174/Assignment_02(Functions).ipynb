{
  "cells": [
    {
      "cell_type": "markdown",
      "metadata": {
        "id": "WbWe2auqg3ZE"
      },
      "source": [
        "\n",
        "# **Question No 01**\n",
        "\n",
        "Write a function called create_word_count that takes a list of strings and returns a dictionary where:\n",
        "\n",
        "Keys are unique words from the list.\n",
        "Values are the count of occurrences of each word.\n",
        "\n",
        "**Exmple:**\n",
        "words = ['apple', 'banana', 'apple', 'cherry', 'banana', 'apple']\n",
        "result = create_word_count(words)\n",
        "print(result)  # {'apple': 3, 'banana': 2, 'cherry': 1}\n",
        "\n"
      ]
    },
    {
      "cell_type": "code",
      "execution_count": 4,
      "metadata": {
        "id": "Y7n-RlA-iywL"
      },
      "outputs": [
        {
          "name": "stdout",
          "output_type": "stream",
          "text": [
            "{'apple': 2, 'banana': 4, 'cherry': 2}\n"
          ]
        }
      ],
      "source": [
        "def create_word_count(words):\n",
        "    dict = {}\n",
        "    for word in words:\n",
        "        if not dict.__contains__(word):\n",
        "            dict[word] = 1\n",
        "        else:\n",
        "            dict[word]+=1\n",
        "    return dict\n",
        "\n",
        "list = ['apple','banana','apple','banana','cherry','banana','cherry','banana']\n",
        "print(create_word_count(list))"
      ]
    },
    {
      "cell_type": "markdown",
      "metadata": {
        "id": "CWDqnzRRg3br"
      },
      "source": [
        "# **Question No 02**\n",
        "\n",
        "Write a function called sort_by_key that takes a list of dictionaries and a key to sort by.\n",
        "\n",
        "The function should return a new list sorted by the given key in ascending order.\n",
        "If the key doesn’t exist in a dictionary, ignore that dictionary.\n",
        "\n",
        "**Exmple:**\n",
        "\n",
        "data = [{'name': 'Alice', 'age': 25}, {'name': 'Bob', 'age': 22}, {'name': 'Charlie', 'age': 30}]\n",
        "sorted_data = sort_by_key(data, 'age')\n",
        "print(sorted_data)  \n",
        "# [{'name': 'Bob', 'age': 22}, {'name': 'Alice', 'age': 25}, {'name': 'Charlie', 'age': 30}]\n",
        "\n"
      ]
    },
    {
      "cell_type": "code",
      "execution_count": 19,
      "metadata": {
        "id": "y_7uTIbbi1fu"
      },
      "outputs": [
        {
          "name": "stdout",
          "output_type": "stream",
          "text": [
            "[{'name': 'Alice', 'age': 25}, {'name': 'Bob', 'age': 22}, {'name': 'Charlie', 'age': 30}, {'name': 'Eve'}]\n"
          ]
        }
      ],
      "source": [
        "def sort_by_key(dict_list, key):\n",
        "    valid_dicts = []\n",
        "    \n",
        "    # Filter out dictionaries where the key exists\n",
        "    for d in dict_list:\n",
        "        if key in d:\n",
        "            valid_dicts.append(d)\n",
        "    \n",
        "    # Sort the valid dictionaries by the given key\n",
        "    for i in range(len(valid_dicts)):\n",
        "        for j in range(i + 1, len(valid_dicts)):\n",
        "            if valid_dicts[i][key] > valid_dicts[j][key]:\n",
        "                valid_dicts[i], valid_dicts[j] = valid_dicts[j], valid_dicts[i]\n",
        "    \n",
        "    return valid_dicts\n",
        "\n",
        "\n",
        "data = [\n",
        "    {'name': 'Alice', 'age': 25},\n",
        "    {'name': 'Bob', 'age': 22},\n",
        "    {'name': 'Charlie', 'age': 30},\n",
        "    {'name': 'Eve'} \n",
        "]\n",
        "\n",
        "sorted_data = sort_by_key(data, 'name')\n",
        "print(sorted_data)"
      ]
    },
    {
      "cell_type": "markdown",
      "metadata": {
        "id": "CzVcAI2jg3ei"
      },
      "source": [
        "# **Question No 03**\n",
        "\n",
        "Write a function called filter_dict that takes a dictionary and a value threshold as arguments.\n",
        "\n",
        "The function should return a new dictionary containing only the key-value pairs where the value is greater than the threshold.\n",
        "\n",
        "**Exmple:**\n",
        "\n",
        "scores = {'Alice': 85, 'Bob': 90, 'Charlie': 78, 'David': 92}\n",
        "filtered_scores = filter_dict(scores, 80)\n",
        "print(filtered_scores)  # {'Alice': 85, 'Bob': 90, 'David': 92}\n",
        "\n"
      ]
    },
    {
      "cell_type": "code",
      "execution_count": 8,
      "metadata": {
        "id": "Y1fBZTKWi2wq"
      },
      "outputs": [
        {
          "name": "stdout",
          "output_type": "stream",
          "text": [
            "{'Bob': 90, 'David': 92}\n"
          ]
        }
      ],
      "source": [
        "def filter_dict(input_dict, threshold):\n",
        "    return {key: value for key, value in input_dict.items() if value >= threshold}\n",
        "scores = {'Alice': 85, 'Bob': 90, 'Charlie': 78, 'David': 92}\n",
        "filtered_scores = filter_dict(scores, 90)\n",
        "print(filtered_scores) "
      ]
    },
    {
      "cell_type": "markdown",
      "metadata": {
        "id": "sKZLjKbog3jw"
      },
      "source": [
        "# **Question No 04**\n",
        "\n",
        "Write a function called find_common_keys that takes two dictionaries and returns a list of keys that are common to both.\n",
        "\n",
        "\n",
        "**Exmple:**\n",
        "\n",
        "dict1 = {'a': 1, 'b': 2, 'c': 3}\n",
        "dict2 = {'b': 4, 'c': 5, 'd': 6}\n",
        "common_keys = find_common_keys(dict1, dict2)\n",
        "print(common_keys)  # ['b', 'c']\n"
      ]
    },
    {
      "cell_type": "code",
      "execution_count": 11,
      "metadata": {
        "id": "IRSWbYvfi3cg"
      },
      "outputs": [
        {
          "name": "stdout",
          "output_type": "stream",
          "text": [
            "['a', 'b', 'c']\n"
          ]
        }
      ],
      "source": [
        "def find_common_keys(dict1, dict2):\n",
        "    common_keys = []\n",
        "    for i in dict1.keys():\n",
        "        for j in dict2.keys():\n",
        "            if i==j:\n",
        "                common_keys.append(i)\n",
        "    return common_keys\n",
        "\n",
        "\n",
        "dict1 = {'a':1,\n",
        "         'b':2,\n",
        "         'c':3\n",
        "         }\n",
        "dict2 = {'a':6,\n",
        "         'b':4,\n",
        "         'c':5\n",
        "         }\n",
        "print(find_common_keys(dict1,dict2))\n",
        "\n",
        "\n"
      ]
    },
    {
      "cell_type": "markdown",
      "metadata": {
        "id": "xBNyzbF6i41L"
      },
      "source": [
        "# **Question No 5**\n",
        "\n",
        "Write a function called update_grades that takes a list of dictionaries (representing students with their grades) and updates the grade of a student if their name matches the given name.\n",
        "\n",
        "\n",
        "**Exmple:**\n",
        "\n",
        "students = [{'name': 'Alice', 'grade': 85}, {'name': 'Bob', 'grade': 90}]\n",
        "updated_students = update_grades(students, 'Bob', 95)\n",
        "print(updated_students)  \n",
        "# [{'name': 'Alice', 'grade': 85}, {'name': 'Bob', 'grade': 95}]\n",
        "\n"
      ]
    },
    {
      "cell_type": "code",
      "execution_count": 16,
      "metadata": {
        "id": "dM8_HJcPi5wH"
      },
      "outputs": [
        {
          "name": "stdout",
          "output_type": "stream",
          "text": [
            "[{'name': 'Alice', 'grade': 85}, {'name': 'Bob', 'grade': 66}]\n"
          ]
        }
      ],
      "source": [
        "def update_grades(students,name,grade):\n",
        "    for stud in students:\n",
        "        if stud['name'] == name:\n",
        "            stud['grade'] = grade\n",
        "students = [{'name': 'Alice', 'grade': 85}, {'name': 'Bob', 'grade': 90}]\n",
        "update_grades(students,'Bob',66)\n",
        "print(students)  \n"
      ]
    },
    {
      "cell_type": "markdown",
      "metadata": {
        "id": "LVPjDOqojosu"
      },
      "source": [
        "# **Question No 6**\n",
        "\n",
        "Write a function called merge_lists_to_dict that takes two lists of equal length:\n",
        "\n",
        "The first list contains keys.\n",
        "The second list contains values.\n",
        "The function should return a dictionary created by merging these lists.\n",
        "\n",
        "**Exmple:**\n",
        "keys = ['name', 'age', 'city']\n",
        "values = ['Alice', 25, 'New York']\n",
        "result = merge_lists_to_dict(keys, values)\n",
        "print(result)  # {'name': 'Alice', 'age': 25, 'city': 'New York'}\n",
        "\n"
      ]
    },
    {
      "cell_type": "code",
      "execution_count": 17,
      "metadata": {
        "id": "WXCP48lRjyET"
      },
      "outputs": [
        {
          "name": "stdout",
          "output_type": "stream",
          "text": [
            "{'name': 'Irfanullah', 'designation': 'CEO', 'age': 25}\n"
          ]
        }
      ],
      "source": [
        "def merge_lists(keys,values):\n",
        "    merge_dict = {}\n",
        "    for i in range(0,len(keys)):\n",
        "        merge_dict[keys[i]] = values[i]\n",
        "    return merge_dict\n",
        "\n",
        "list1 = ['name','designation','age']\n",
        "list2 = ['Irfanullah','CEO',25]\n",
        "print(merge_lists(list1,list2))"
      ]
    }
  ],
  "metadata": {
    "colab": {
      "provenance": []
    },
    "kernelspec": {
      "display_name": "Python 3",
      "name": "python3"
    },
    "language_info": {
      "codemirror_mode": {
        "name": "ipython",
        "version": 3
      },
      "file_extension": ".py",
      "mimetype": "text/x-python",
      "name": "python",
      "nbconvert_exporter": "python",
      "pygments_lexer": "ipython3",
      "version": "3.12.2"
    }
  },
  "nbformat": 4,
  "nbformat_minor": 0
}
