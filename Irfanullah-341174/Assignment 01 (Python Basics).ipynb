{
 "cells": [
  {
   "cell_type": "markdown",
   "metadata": {},
   "source": [
    "# Part -1 Python Basics (Variables)"
   ]
  },
  {
   "cell_type": "markdown",
   "metadata": {},
   "source": [
    "1. Print Your Name with your Father name and Date of birth using suitable escape sequence charactor"
   ]
  },
  {
   "cell_type": "code",
   "execution_count": null,
   "metadata": {},
   "outputs": [],
   "source": [
    "# Write your code here\n",
    "Name = \"Irfanullah\"\n",
    "f_name = \"Muhammad Awais\"\n",
    "dob = \"18-12-2005\"\n",
    "print(Name,f_name,\"\\nDOB :\",dob )"
   ]
  },
  {
   "cell_type": "markdown",
   "metadata": {},
   "source": [
    "2. Write your small bio using variables and print it using print function"
   ]
  },
  {
   "cell_type": "code",
   "execution_count": null,
   "metadata": {},
   "outputs": [],
   "source": [
    "# Write your code here\n",
    "name = \"Irfanullah\"\n",
    "f_name = \"Muhammad Awais\"\n",
    "age = 19\n",
    "dob = \"18-12-2005\"\n",
    "education = \"Undergradute\"\n",
    "gender = 'M'\n",
    "address = \"Gulshan e Iqbal\"\n",
    "married = False\n",
    "print(\"Hi there! this is my Bio\")\n",
    "print(\"Name:\", name)\n",
    "print(\"Father's Name:\", f_name)\n",
    "print(\"Age:\", age)\n",
    "print(\"Date of Birth:\", dob)\n",
    "print(\"Education:\", education)\n",
    "print(\"Gender:\", gender)\n",
    "print(\"Address:\", address)\n",
    "print(\"Married:\", married)"
   ]
  },
  {
   "cell_type": "markdown",
   "metadata": {},
   "source": [
    "3. Write a program in which use all the operators we can use in Python"
   ]
  },
  {
   "cell_type": "code",
   "execution_count": null,
   "metadata": {},
   "outputs": [],
   "source": [
    "# Write your code here\n",
    "a = 7 \n",
    "b=2\n",
    "print(\"Sum :\",a + b)\n",
    "print(\"Subtract:\",a - b)\n",
    "print(\"Multiply :\",a * b)\n",
    "print(\"Division :\",a / b)\n",
    "print(\"Power :\",a ** b)\n",
    "print(\"Remainder \",a % b)\n",
    "print(\"A is greater than B :\",a > b)\n",
    "print(\"B is greater than A :\",a < b)\n",
    "print(\"A is equal to B :\",a == b)\n",
    "print(\"A is not equal to B:\",a != b)\n",
    "print(\"And operator :\",a != b and b>a)\n",
    "print(\"Or operator :\",a != b or b>a)"
   ]
  },
  {
   "cell_type": "markdown",
   "metadata": {},
   "source": [
    "4. Completes the following steps of small task:\n",
    "    - Mention Marks of English , Islamiat and Maths out of 100 in 3 different variables\n",
    "    - Mention Variable of Total Marks and assign 300 to it\n",
    "    - Calculate Percentage"
   ]
  },
  {
   "cell_type": "code",
   "execution_count": null,
   "metadata": {},
   "outputs": [],
   "source": [
    "# Write your code here\n",
    "englishMarks = 78\n",
    "islamiyatMarks = 65\n",
    "mathMarks = 96\n",
    "TotalMarks = 300\n",
    "\n",
    "obtainedMarks = (englishMarks+islamiyatMarks+mathMarks)\n",
    "percentage = (obtainedMarks/TotalMarks) * 100\n",
    "print (\"Obt marks :\",obtainedMarks,\"\\n Percentage :\",percentage)"
   ]
  },
  {
   "cell_type": "markdown",
   "metadata": {},
   "source": [
    "# Part -2 Python Basics (Conditional Statements)"
   ]
  },
  {
   "cell_type": "markdown",
   "metadata": {},
   "source": [
    "1) A company decided to give bonus of 5% to employee if his/her year of service is more than 5 years.\n",
    "Ask user for their salary and year of service and print the net bonus amount."
   ]
  },
  {
   "cell_type": "code",
   "execution_count": null,
   "metadata": {},
   "outputs": [],
   "source": [
    "#Type your code here\n",
    "salary = int(input(\"Enter your salary :\"))\n",
    "year_of_service  = int(input(\"Enter year of service :\"))\n",
    "if (year_of_service <= 5):\n",
    "    print(\"You are not eligible for bonus\")\n",
    "else:\n",
    "    bonus = salary * 0.05\n",
    "    print(\"Your bonus amount is :\",bonus)"
   ]
  },
  {
   "cell_type": "markdown",
   "metadata": {},
   "source": [
    "\n",
    "2) Write a program to check whether a person is eligible for voting or not. (accept age from user) if age is greater than 17 eligible otherwise not eligible"
   ]
  },
  {
   "cell_type": "code",
   "execution_count": null,
   "metadata": {},
   "outputs": [],
   "source": [
    "#Type your code here\n",
    "age = int(input(\"Enter your age :\"))\n",
    "if(age > 17):\n",
    "    print(\"You can cast vote\")\n",
    "else:\n",
    "    print(\"You are not elgible for voting\")"
   ]
  },
  {
   "cell_type": "markdown",
   "metadata": {},
   "source": [
    "\n",
    "3) Write a program to check whether a number entered by user is even or odd."
   ]
  },
  {
   "cell_type": "code",
   "execution_count": null,
   "metadata": {},
   "outputs": [],
   "source": [
    "#Type your code here\n",
    "num = int(input(\"Enter any  number :\"))\n",
    "if(num % 2 == 0):\n",
    "    print(\"The number you entered is Even\")\n",
    "else:\n",
    "    print(\"The number you entered is odd\")"
   ]
  },
  {
   "cell_type": "markdown",
   "metadata": {},
   "source": [
    "4) Write a program to check whether a number is divisible by 7 or not.\n",
    "Show Answer"
   ]
  },
  {
   "cell_type": "code",
   "execution_count": null,
   "metadata": {},
   "outputs": [],
   "source": [
    "#Type your code here\n",
    "num = int(input(\"Enter a number :\"))\n",
    "if(num % 7 ==0):\n",
    "    print(\"Number is divisible by 7\")\n",
    "else:\n",
    "    print(\"Number is not divisible by 7\")"
   ]
  },
  {
   "cell_type": "markdown",
   "metadata": {},
   "source": [
    "5) Write a program to display \n",
    "\"Hello\" if a number entered by user is a multiple of five , otherwise print \"Bye\"."
   ]
  },
  {
   "cell_type": "code",
   "execution_count": null,
   "metadata": {},
   "outputs": [],
   "source": [
    "#Type your code here\n",
    "num = int(input(\"Enter a number :\"))\n",
    "if(num % 5 ==0):\n",
    "    print(\"Hello\")\n",
    "else:\n",
    "    print(\"Bye\")\n"
   ]
  },
  {
   "cell_type": "markdown",
   "metadata": {},
   "source": [
    "7) Write a program to display the last digit of a number.\n"
   ]
  },
  {
   "cell_type": "code",
   "execution_count": null,
   "metadata": {},
   "outputs": [],
   "source": [
    "#Type your code here\n",
    "num = int(input(\"Enter a number :\"))\n",
    "print(\"Last digit is :\", (num % 10))"
   ]
  },
  {
   "cell_type": "markdown",
   "metadata": {},
   "source": [
    "9) Take values of length and breadth of a rectangle from user and print if it is square or rectangle."
   ]
  },
  {
   "cell_type": "code",
   "execution_count": null,
   "metadata": {},
   "outputs": [],
   "source": [
    "#Type your code here \n",
    "length = int(input(\"Enter length :\"))\n",
    "breadth = int(input(\"Enter breadth :\"))\n",
    "if(length == breadth):\n",
    "    print(\"Its a square\")\n",
    "else:\n",
    "    print(\"Its a rectangle\")"
   ]
  },
  {
   "cell_type": "markdown",
   "metadata": {},
   "source": [
    "10) Take two int values from user and print greatest among them."
   ]
  },
  {
   "cell_type": "code",
   "execution_count": null,
   "metadata": {},
   "outputs": [],
   "source": [
    "# Type your code here\n",
    "num1 = int(input(\"Enter 1st number :\"))\n",
    "num2 = int(input(\"Enter 2nd number :\"))\n",
    "if(num1 > num2):\n",
    "    print(num1,\"is greater\")\n",
    "else:\n",
    "    print(num2,\"is greater\")"
   ]
  },
  {
   "cell_type": "markdown",
   "metadata": {},
   "source": [
    "11) A shop will give discount of 10% if the cost of purchased quantity is more than 1000.\n",
    "Ask user for quantity\n",
    "Suppose, one unit will cost 100.\n",
    "Judge and print total cost for user."
   ]
  },
  {
   "cell_type": "code",
   "execution_count": 34,
   "metadata": {},
   "outputs": [
    {
     "name": "stdout",
     "output_type": "stream",
     "text": [
      "Your Total bill :  1080.0\n"
     ]
    }
   ],
   "source": [
    "#Type your code here\n",
    "unitsOfPurchasedProduct = int(input(\"Enter quantity of product :\"))\n",
    "total_cost  = unitsOfPurchasedProduct * 100\n",
    "if total_cost > 1000:\n",
    "    total_cost -= (10*total_cost)/100\n",
    "\n",
    "print(\"Your Total bill : \",total_cost)"
   ]
  },
  {
   "cell_type": "markdown",
   "metadata": {},
   "source": [
    "12) A school has following rules for grading system:\n",
    "\n",
    "a. Below 25 - F\n",
    "\n",
    "b. 25 to 45 - E\n",
    "\n",
    "c. 45 to 50 - D\n",
    "\n",
    "d. 50 to 60 - C\n",
    "\n",
    "e. 60 to 80 - B\n",
    "\n",
    "f. Above 80 - A\n",
    "\n",
    "Ask user to enter marks and print the corresponding grade."
   ]
  },
  {
   "cell_type": "code",
   "execution_count": null,
   "metadata": {},
   "outputs": [],
   "source": [
    "#Type your code here\n",
    "marks = int(input(\"Enter your marks :\"))\n",
    "if(marks < 25):\n",
    "    print(\"Grade : F\")\n",
    "elif( marks>= 25 and marks<45):\n",
    "    print(\"Grade : E\")\n",
    "elif( marks>= 45 and marks<50):\n",
    "    print(\"Grade : D\")\n",
    "elif( marks>= 50 and marks<60):\n",
    "    print(\"Grade : C\")\n",
    "elif( marks>= 60 and marks<=80):\n",
    "    print(\"Grade : B\")\n",
    "else:\n",
    "    print(\"Grade : A\")"
   ]
  },
  {
   "cell_type": "markdown",
   "metadata": {},
   "source": [
    "14)A student will not be allowed to sit in exam if his/her attendence is less than 75%.\n",
    "\n",
    "Take following input from user\n",
    "\n",
    "- Number of classes held\n",
    "\n",
    "- Number of classes attended.\n",
    "\n",
    "And print\n",
    "\n",
    "- percentage of class attended\n",
    "\n",
    "- Is student is allowed to sit in exam or not.\n"
   ]
  },
  {
   "cell_type": "code",
   "execution_count": null,
   "metadata": {},
   "outputs": [],
   "source": [
    "#Type your code here\n",
    "classesHeld = int(input(\"Enter total classes :\"))\n",
    "classesAttend = int(input(\"Enter attended classes :\"))\n",
    "percentage = (classesAttend/classesHeld)*100\n",
    "print(percentage)\n",
    "if(percentage >= 75.0):\n",
    "    print(\"Allowed in examination\")\n",
    "else:\n",
    "    print(\"Not Allowed bcz attendence is short\")"
   ]
  },
  {
   "cell_type": "markdown",
   "metadata": {},
   "source": [
    "15) Modify the above question to allow student to sit if he/she has medical cause. Ask user if he/she has medical cause or not ( 'Y' or 'N' ) and print accordingly."
   ]
  },
  {
   "cell_type": "code",
   "execution_count": null,
   "metadata": {},
   "outputs": [
    {
     "name": "stdout",
     "output_type": "stream",
     "text": [
      "44.44444444444444\n",
      "AAllowed bcz medical cause is approved\n"
     ]
    }
   ],
   "source": [
    "#Type your code here\n",
    "#Type your code here\n",
    "classesHeld = int(input(\"Enter total classes :\"))\n",
    "classesAttend = int(input(\"Enter attended classes :\"))\n",
    "percentage = (classesAttend/classesHeld)*100\n",
    "print(percentage)\n",
    "if(percentage >= 75.0):\n",
    "    print(\"Allowed in examination bcz Attendence is ok\")\n",
    "else:\n",
    "    isMedicalCause = input(\"Any medical cause for attendence shortage (Y/N):\")\n",
    "    if(isMedicalCause == \"Y\"):\n",
    "        print(\"Allowed bcz medical cause is approved\")\n",
    "    else:\n",
    "        print(\"Not Allowed bcz attendence is short\")"
   ]
  },
  {
   "cell_type": "markdown",
   "metadata": {},
   "source": [
    "16) Write a program to check if a year is leap year or not.\n",
    "\n",
    "If a year is divisible by 4 then it is leap year but if the year is century year like 2000, 1900, 2100 then it must be divisible by 400."
   ]
  },
  {
   "cell_type": "code",
   "execution_count": null,
   "metadata": {},
   "outputs": [],
   "source": [
    "# Type your code here\n",
    "year = int(input(\"Enter year: \"))\n",
    "if year % 4 == 0 and year % 100 != 0:\n",
    "    print(year, \"is a Leap Year\")\n",
    "elif year % 100 == 0:\n",
    "    if year % 400 == 0:\n",
    "        print(year, \"is a Leap Year\")\n",
    "    else:\n",
    "        print(year, \"is Not a Leap Year\")\n",
    "else:\n",
    "    print(year, \"is Not a Leap Year\")\n"
   ]
  },
  {
   "cell_type": "markdown",
   "metadata": {},
   "source": [
    "17) Ask user to enter age, gender ( M or F ), marital status ( Y or N ) and then using following rules print their place of service.\n",
    "\n",
    "if employee is female, then she will work only in urban areas.\n",
    "\n",
    "if employee is a male and age is in between 20 to 40 then he may work in anywhere\n",
    "\n",
    "if employee is male and age is in between 40 t0 60 then he will work in urban areas only.\n",
    "\n",
    "And any other input of age should print \"ERROR\""
   ]
  },
  {
   "cell_type": "code",
   "execution_count": null,
   "metadata": {},
   "outputs": [],
   "source": [
    "#Type your code here\n",
    "age = int(input(\"Enter age :\"))\n",
    "gender = input(\"Enter gender(M/F) :\")\n",
    "maritialstatus = input(\"Are you married (Y/N):\")\n",
    "\n",
    "print(\"Age \",age,\"\\nGender \",gender,\"\\nMarried \",maritialstatus )\n",
    "if(gender == \"F\"):\n",
    "    print(\"work in urban area\")\n",
    "else:\n",
    "    if(age >= 20 and age <= 40):\n",
    "        print(\"work anywhere\")\n",
    "    elif(age > 40 and age<=60):\n",
    "        print(\"work in urban areas only\")"
   ]
  },
  {
   "cell_type": "markdown",
   "metadata": {},
   "source": [
    "6) Write a program to calculate the electricity bill (accept number of unit from user) according to the following criteria :\n",
    "     Unit                                                     Price  \n",
    "uptp 100 units                                             no charge\n",
    "Next 200 units                                              Rs 5 per unit\n",
    "After 200 units                                             Rs 10 per unit\n",
    "(For example if input unit is 350 than total bill amount is Rs.3500\n",
    "(For example if input unit is 97 than total bill amount is Rs.0\n",
    "(For example if input unit is 150 than total bill amount is Rs.750"
   ]
  },
  {
   "cell_type": "code",
   "execution_count": null,
   "metadata": {},
   "outputs": [],
   "source": [
    "#Type your code here\n",
    "units = int(input(\"Enter units used :\"))\n",
    "if(units <= 100):\n",
    "    charges = 0\n",
    "elif(units > 100 and units <= 200):\n",
    "    charges = units*5\n",
    "elif(units > 200):\n",
    "    charges = units * 10\n",
    "\n",
    "print(\"Your electricity bill charges :\",charges)\n"
   ]
  },
  {
   "cell_type": "markdown",
   "metadata": {},
   "source": [
    "13) Take input of age of 3 people by user and determine oldest and youngest among them."
   ]
  },
  {
   "cell_type": "code",
   "execution_count": null,
   "metadata": {},
   "outputs": [],
   "source": [
    "#Type your code here\n",
    "age1 = int(input(\"Enter the first age: \"))\n",
    "age2 = int(input(\"Enter the second age: \"))\n",
    "age3 = int(input(\"Enter the third age: \"))\n",
    "\n",
    "if age1 >= age2 and age1 >= age3:\n",
    "    greatest = age1\n",
    "elif age2 >= age1 and age2 >= age3:\n",
    "    greatest = age2\n",
    "else:\n",
    "    greatest = age3\n",
    "\n",
    "if age1 <= age2 and age1 <= age3:\n",
    "    smallest = age1\n",
    "elif age2 <= age1 and age2 <= age3:\n",
    "    smallest = age2\n",
    "else:\n",
    "    smallest = age3\n",
    "\n",
    "print(\"The greatest age is:\", greatest)\n",
    "print(\"The smallest age is:\", smallest)\n"
   ]
  }
 ],
 "metadata": {
  "kernelspec": {
   "display_name": "Python 3",
   "language": "python",
   "name": "python3"
  },
  "language_info": {
   "codemirror_mode": {
    "name": "ipython",
    "version": 3
   },
   "file_extension": ".py",
   "mimetype": "text/x-python",
   "name": "python",
   "nbconvert_exporter": "python",
   "pygments_lexer": "ipython3",
   "version": "3.12.2"
  }
 },
 "nbformat": 4,
 "nbformat_minor": 2
}
