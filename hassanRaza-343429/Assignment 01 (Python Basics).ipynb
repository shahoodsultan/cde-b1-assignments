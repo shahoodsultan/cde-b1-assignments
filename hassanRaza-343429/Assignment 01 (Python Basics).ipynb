{
 "cells": [
  {
   "cell_type": "markdown",
   "metadata": {},
   "source": [
    "# Part -1 Python Basics (Variables)"
   ]
  },
  {
   "cell_type": "markdown",
   "metadata": {},
   "source": [
    "1. Print Your Name with your Father name and Date of birth using suitable escape sequence charactor"
   ]
  },
  {
   "cell_type": "code",
   "execution_count": 1,
   "metadata": {},
   "outputs": [
    {
     "name": "stdout",
     "output_type": "stream",
     "text": [
      "Name:  Hassan\n",
      "Father's Name:  Asif\n",
      "Date of Birth:  12-12-2002\n"
     ]
    }
   ],
   "source": [
    "name = \"Hassan\"\n",
    "fName = \"Asif\"\n",
    "dateOfBirth = \"12-12-2002\"\n",
    "\n",
    "print(\"Name: \", name)\n",
    "print(\"Father's Name: \", fName)\n",
    "print(\"Date of Birth: \", dateOfBirth)"
   ]
  },
  {
   "cell_type": "markdown",
   "metadata": {},
   "source": [
    "2. Write your small bio using variables and print it using print function"
   ]
  },
  {
   "cell_type": "code",
   "execution_count": 3,
   "metadata": {},
   "outputs": [
    {
     "name": "stdout",
     "output_type": "stream",
     "text": [
      "I'm Hassan, a passionate software engineer with expertise in backend development using Node.js, Express.js, and MongoDB. I also work with front-end technologies like React.js, making me a versatile full-stack developer. I love building scalable REST APIs, working on real-time systems, and contributing to open-source projects. Currently working at Sybex Lab on dynamic web applications and real-time solutions.\n"
     ]
    }
   ],
   "source": [
    "bio = \"I'm Hassan, a passionate software engineer with expertise in backend development using Node.js, Express.js, and MongoDB. I also work with front-end technologies like React.js, making me a versatile full-stack developer. I love building scalable REST APIs, working on real-time systems, and contributing to open-source projects. Currently working at Sybex Lab on dynamic web applications and real-time solutions.\"\n",
    "\n",
    "print(bio)"
   ]
  },
  {
   "cell_type": "markdown",
   "metadata": {},
   "source": [
    "3. Write a program in which use all the operators we can use in Python"
   ]
  },
  {
   "cell_type": "code",
   "execution_count": 4,
   "metadata": {},
   "outputs": [
    {
     "name": "stdout",
     "output_type": "stream",
     "text": [
      "Addition:  30\n",
      "Subtraction:  -10\n",
      "Multiplication:  200\n",
      "Division:  0.5\n",
      "Modulus:  10\n",
      "Exponentiation:  100000000000000000000\n",
      "Floor Division:  0\n",
      "Equal:  False\n",
      "Not Equal:  True\n",
      "Greater Than:  False\n",
      "Less Than:  True\n",
      "Greater Than or Equal:  False\n",
      "Less Than or Equal:  True\n",
      "AND:  True\n",
      "OR:  True\n",
      "NOT:  False\n",
      "Addition Assignment:  30\n",
      "Subtraction Assignment:  10\n",
      "Multiplication Assignment:  200\n",
      "Division Assignment:  10.0\n",
      "Modulus Assignment:  10.0\n",
      "Exponentiation Assignment:  1e+20\n",
      "Floor Division Assignment:  5e+18\n",
      "IS:  False\n",
      "IS NOT:  True\n",
      "IN:  True\n",
      "NOT IN:  True\n"
     ]
    }
   ],
   "source": [
    "\n",
    "a = 10\n",
    "b = 20\n",
    "\n",
    "# Arithmetic Operators\n",
    "print(\"Addition: \", a + b)\n",
    "print(\"Subtraction: \", a - b)\n",
    "print(\"Multiplication: \", a * b)\n",
    "print(\"Division: \", a / b)\n",
    "print(\"Modulus: \", a % b)\n",
    "print(\"Exponentiation: \", a ** b)\n",
    "print(\"Floor Division: \", a // b)\n",
    "\n",
    "# Comparison Operators\n",
    "print(\"Equal: \", a == b)\n",
    "print(\"Not Equal: \", a != b)\n",
    "print(\"Greater Than: \", a > b)\n",
    "print(\"Less Than: \", a < b)\n",
    "print(\"Greater Than or Equal: \", a >= b)\n",
    "print(\"Less Than or Equal: \", a <= b)\n",
    "\n",
    "# Logical Operators\n",
    "print(\"AND: \", a > 5 and b < 30)\n",
    "print(\"OR: \", a > 5 or b < 30)\n",
    "print(\"NOT: \", not(a > 5))\n",
    "\n",
    "# Assignment Operators\n",
    "a += b\n",
    "print(\"Addition Assignment: \", a)\n",
    "a -= b\n",
    "print(\"Subtraction Assignment: \", a)\n",
    "a *= b\n",
    "print(\"Multiplication Assignment: \", a)\n",
    "a /= b\n",
    "print(\"Division Assignment: \", a)\n",
    "a %= b\n",
    "print(\"Modulus Assignment: \", a)\n",
    "a **= b\n",
    "print(\"Exponentiation Assignment: \", a)\n",
    "a //= b\n",
    "print(\"Floor Division Assignment: \", a)\n",
    "\n",
    "# Identity Operators\n",
    "print(\"IS: \", a is b)\n",
    "print(\"IS NOT: \", a is not b)\n",
    "\n",
    "# Membership Operators\n",
    "arr = [1, 2, 3, 4, 5]\n",
    "print(\"IN: \", 1 in arr)\n",
    "print(\"NOT IN: \", 6 not in arr)\n",
    "\n",
    "\n"
   ]
  },
  {
   "cell_type": "markdown",
   "metadata": {},
   "source": [
    "4. Completes the following steps of small task:\n",
    "    - Mention Marks of English , Islamiat and Maths out of 100 in 3 different variables\n",
    "    - Mention Variable of Total Marks and assign 300 to it\n",
    "    - Calculate Percentage"
   ]
  },
  {
   "cell_type": "code",
   "execution_count": 11,
   "metadata": {},
   "outputs": [
    {
     "name": "stdout",
     "output_type": "stream",
     "text": [
      "Total Marks: 300\n",
      "Obtained Marks: 240\n",
      "Percentage: 80.0%\n"
     ]
    }
   ],
   "source": [
    "# Write your code here\n",
    "eng = 80\n",
    "math = 90\n",
    "isl = 70\n",
    "\n",
    "totalMarks = 300\n",
    "\n",
    "obtainedMarks = eng + math + isl\n",
    "percentage = (obtainedMarks / totalMarks) * 100\n",
    "\n",
    "print(\"Total Marks:\", totalMarks)\n",
    "print(\"Obtained Marks:\", obtainedMarks)\n",
    "print(\"Percentage:\", str(percentage)+\"%\")\n",
    "\n"
   ]
  },
  {
   "cell_type": "markdown",
   "metadata": {},
   "source": [
    "# Part -2 Python Basics (Conditional Statements)"
   ]
  },
  {
   "cell_type": "markdown",
   "metadata": {},
   "source": [
    "1) A company decided to give bonus of 5% to employee if his/her year of service is more than 5 years.\n",
    "Ask user for their salary and year of service and print the net bonus amount."
   ]
  },
  {
   "cell_type": "code",
   "execution_count": 13,
   "metadata": {},
   "outputs": [
    {
     "name": "stdout",
     "output_type": "stream",
     "text": [
      "No Bonus\n"
     ]
    }
   ],
   "source": [
    "yearOfServices = int(input(\"Enter your years of services: \"))\n",
    "basicSalary = int(input(\"Enter your basic salary: \"))\n",
    "\n",
    "if yearOfServices > 5:\n",
    "    bonus = 0.05 * basicSalary\n",
    "    print(\"Bonus: \", bonus)\n",
    "else:\n",
    "    print(\"No Bonus\")\n"
   ]
  },
  {
   "cell_type": "markdown",
   "metadata": {},
   "source": [
    "\n",
    "2) Write a program to check whether a person is eligible for voting or not. (accept age from user) if age is greater than 17 eligible otherwise not eligible"
   ]
  },
  {
   "cell_type": "code",
   "execution_count": 15,
   "metadata": {},
   "outputs": [
    {
     "name": "stdout",
     "output_type": "stream",
     "text": [
      "You are eligible to vote\n"
     ]
    }
   ],
   "source": [
    "age = int(input(\"Enter your age: \"))\n",
    "if age > 17:\n",
    "    print(\"You are eligible to vote\")\n",
    "else:\n",
    "    print(\"You are not eligible to vote\")    "
   ]
  },
  {
   "cell_type": "markdown",
   "metadata": {},
   "source": [
    "\n",
    "3) Write a program to check whether a number entered by user is even or odd."
   ]
  },
  {
   "cell_type": "code",
   "execution_count": 17,
   "metadata": {},
   "outputs": [
    {
     "name": "stdout",
     "output_type": "stream",
     "text": [
      "Even Number\n"
     ]
    }
   ],
   "source": [
    "number = int(input(\"Enter a number: \"))\n",
    "if number % 2 == 0:\n",
    "    print(\"Even Number\")\n",
    "else:\n",
    "    print(\"Odd Number\")    "
   ]
  },
  {
   "cell_type": "markdown",
   "metadata": {},
   "source": [
    "4) Write a program to check whether a number is divisible by 7 or not.\n",
    "Show Answer"
   ]
  },
  {
   "cell_type": "code",
   "execution_count": null,
   "metadata": {},
   "outputs": [],
   "source": [
    "number = int(input(\"Enter a number: \"))\n",
    "if number % 7 == 0:\n",
    "    print(\"Divisible by 7\")\n",
    "else:\n",
    "    print(\"Not Divisible by 7\")    "
   ]
  },
  {
   "cell_type": "markdown",
   "metadata": {},
   "source": [
    "5) Write a program to display \n",
    "\"Hello\" if a number entered by user is a multiple of five , otherwise print \"Bye\"."
   ]
  },
  {
   "cell_type": "code",
   "execution_count": 21,
   "metadata": {},
   "outputs": [
    {
     "name": "stdout",
     "output_type": "stream",
     "text": [
      "Hello\n"
     ]
    }
   ],
   "source": [
    "number = int(input(\"Enter a number: \"))\n",
    "\n",
    "if number % 5 == 0:\n",
    "    print(\"Hello\")\n",
    "else:\n",
    "    print(\"Bye\")    "
   ]
  },
  {
   "cell_type": "markdown",
   "metadata": {},
   "source": [
    "7) Write a program to display the last digit of a number.\n"
   ]
  },
  {
   "cell_type": "code",
   "execution_count": 24,
   "metadata": {},
   "outputs": [
    {
     "name": "stdout",
     "output_type": "stream",
     "text": [
      "Last Digit of number 8743298 is 8\n"
     ]
    }
   ],
   "source": [
    "number = int(input(\"Enter a number: \"))\n",
    "print(\"Last Digit of number\", number, \"is\", number % 10)"
   ]
  },
  {
   "cell_type": "markdown",
   "metadata": {},
   "source": [
    "9) Take values of length and breadth of a rectangle from user and print if it is square or rectangle."
   ]
  },
  {
   "cell_type": "code",
   "execution_count": null,
   "metadata": {},
   "outputs": [],
   "source": [
    "length = int(input(\"Enter the length of rectangle: \"))\n",
    "breadth = int(input(\"Enter the breadth of rectangle: \"))\n",
    "\n",
    "if length == breadth:\n",
    "    print(\"It's a square\")\n",
    "else:\n",
    "    print(\"It's a rectangle\")    "
   ]
  },
  {
   "cell_type": "markdown",
   "metadata": {},
   "source": [
    "10) Take two int values from user and print greatest among them."
   ]
  },
  {
   "cell_type": "code",
   "execution_count": null,
   "metadata": {},
   "outputs": [],
   "source": [
    "# Type your code here\n",
    "num1 = int(input(\"Enter first number: \"))\n",
    "num2 = int(input(\"Enter second number: \"))\n",
    "\n",
    "if num1 > num2:\n",
    "    print(\"First number is greater\")\n",
    "elif num1 < num2:\n",
    "    print(\"Second number is greater\")\n",
    "else:\n",
    "    print(\"Both numbers are equal\")"
   ]
  },
  {
   "cell_type": "markdown",
   "metadata": {},
   "source": [
    "11) A shop will give discount of 10% if the cost of purchased quantity is more than 1000.\n",
    "Ask user for quantity\n",
    "Suppose, one unit will cost 100.\n",
    "Judge and print total cost for user."
   ]
  },
  {
   "cell_type": "code",
   "execution_count": 27,
   "metadata": {},
   "outputs": [
    {
     "name": "stdout",
     "output_type": "stream",
     "text": [
      "Total Cost:  1600\n",
      "10% Discount:  160.0\n",
      "Final Cost:  1440.0\n"
     ]
    }
   ],
   "source": [
    "#Type your code here\n",
    "quantity = int(input(\"Enter the quantity: \"))\n",
    "costPrice = 100\n",
    "totalCost = quantity * costPrice\n",
    "\n",
    "print(\"Total Cost: \", totalCost)\n",
    "\n",
    "if totalCost > 1000:\n",
    "    discount = 0.1 * totalCost\n",
    "    print(\"10% Discount: \", discount)\n",
    "    print(\"Final Cost: \", totalCost - discount)\n",
    "else:\n",
    "    print(\"Final Cost: \", totalCost)       "
   ]
  },
  {
   "cell_type": "markdown",
   "metadata": {},
   "source": [
    "12) A school has following rules for grading system:\n",
    "\n",
    "a. Below 25 - F\n",
    "\n",
    "b. 25 to 45 - E\n",
    "\n",
    "c. 45 to 50 - D\n",
    "\n",
    "d. 50 to 60 - C\n",
    "\n",
    "e. 60 to 80 - B\n",
    "\n",
    "f. Above 80 - A\n",
    "\n",
    "Ask user to enter marks and print the corresponding grade."
   ]
  },
  {
   "cell_type": "code",
   "execution_count": null,
   "metadata": {},
   "outputs": [],
   "source": [
    "#Type your code here\n",
    "marks = int(input(\"Enter your marks: \"))\n",
    "if marks >= 80:\n",
    "    print(\"Grade A\")\n",
    "elif marks >= 60:\n",
    "    print(\"Grade B\")\n",
    "elif marks >= 50:\n",
    "    print(\"Grade C\")\n",
    "elif marks >= 45:\n",
    "    print(\"Grade D\")\n",
    "elif marks >= 25:\n",
    "    print(\"Grade E\")\n",
    "elif marks >= 0:\n",
    "    print(\"Grade F\")\n",
    "else:\n",
    "    print(\"Invalid Marks\")   \n"
   ]
  },
  {
   "cell_type": "markdown",
   "metadata": {},
   "source": [
    "14)A student will not be allowed to sit in exam if his/her attendence is less than 75%.\n",
    "\n",
    "Take following input from user\n",
    "\n",
    "- Number of classes held\n",
    "\n",
    "- Number of classes attended.\n",
    "\n",
    "And print\n",
    "\n",
    "- percentage of class attended\n",
    "\n",
    "- Is student is allowed to sit in exam or not.\n"
   ]
  },
  {
   "cell_type": "code",
   "execution_count": 30,
   "metadata": {},
   "outputs": [
    {
     "name": "stdout",
     "output_type": "stream",
     "text": [
      "Your attendance is 75.0  & You are allowed to sit in the exam\n"
     ]
    }
   ],
   "source": [
    "#Type your code here\n",
    "noOfClasses = int(input(\"Enter the number of classes held: \"))\n",
    "noOfAttended = int(input(\"Enter the number of classes attended: \"))\n",
    "attendance = (noOfAttended / noOfClasses) * 100\n",
    "\n",
    "if attendance >= 75:\n",
    "    print(\"Your attendance is\", attendance, \" & You are allowed to sit in the exam\")\n",
    "else:\n",
    "    print(\"Your attendance is\", attendance, \" & You are not allowed\")    "
   ]
  },
  {
   "cell_type": "markdown",
   "metadata": {},
   "source": [
    "15) Modify the above question to allow student to sit if he/she has medical cause. Ask user if he/she has medical cause or not ( 'Y' or 'N' ) and print accordingly."
   ]
  },
  {
   "cell_type": "code",
   "execution_count": null,
   "metadata": {},
   "outputs": [],
   "source": [
    "#Type your code here\n",
    "noOfClasses = int(input(\"Enter the number of classes held: \"))\n",
    "noOfAttended = int(input(\"Enter the number of classes attended: \"))\n",
    "attendance = (noOfAttended / noOfClasses) * 100\n",
    "medicalCause = input(\"Do you have a medical cause? (Y/N): \")\n",
    "\n",
    "if attendance >= 75:\n",
    "    print(\"Your attendance is\", attendance, \" & You are allowed to sit in the exam\")\n",
    "elif medicalCause == \"Y\":\n",
    "    print(\"Your attendance is\", attendance, \"But you are allowed to sit in the exam due to medical cause\")\n",
    "elif medicalCause == \"N\":\n",
    "    print(\"Your attendance is\", attendance, \" & You are not allowed\")\n",
    "else:\n",
    "    print(\"Invalid Input\")    \n"
   ]
  },
  {
   "cell_type": "markdown",
   "metadata": {},
   "source": [
    "16) Write a program to check if a year is leap year or not.\n",
    "\n",
    "If a year is divisible by 4 then it is leap year but if the year is century year like 2000, 1900, 2100 then it must be divisible by 400."
   ]
  },
  {
   "cell_type": "code",
   "execution_count": 35,
   "metadata": {},
   "outputs": [
    {
     "name": "stdout",
     "output_type": "stream",
     "text": [
      "Leap Year\n"
     ]
    }
   ],
   "source": [
    "#Type your code here\n",
    "year = int(input(\"Enter the year: \"))\n",
    "if year % 4 == 0 or year % 400 == 0:\n",
    "    print(\"Leap Year\")\n",
    "else:\n",
    "    print(\"Not a Leap Year\")"
   ]
  },
  {
   "cell_type": "markdown",
   "metadata": {},
   "source": [
    "17) Ask user to enter age, gender ( M or F ), marital status ( Y or N ) and then using following rules print their place of service.\n",
    "\n",
    "if employee is female, then she will work only in urban areas.\n",
    "\n",
    "if employee is a male and age is in between 20 to 40 then he may work in anywhere\n",
    "\n",
    "if employee is male and age is in between 40 t0 60 then he will work in urban areas only.\n",
    "\n",
    "And any other input of age should print \"ERROR\""
   ]
  },
  {
   "cell_type": "code",
   "execution_count": 45,
   "metadata": {},
   "outputs": [
    {
     "name": "stdout",
     "output_type": "stream",
     "text": [
      "You can work anywhere\n"
     ]
    }
   ],
   "source": [
    "#Type your code here\n",
    "gender = input(\"Enter your gender (M/F): \")\n",
    "\n",
    "if gender == \"F\":\n",
    "    print(\"You will work only in urban areas\")\n",
    "elif gender == \"M\":\n",
    "    age = int(input(\"Enter your age: \"))\n",
    "    if age >= 20 and age <= 40:\n",
    "        print(\"You can work anywhere\")\n",
    "    elif age >= 40 and age <= 60:\n",
    "        print(\"You will work only in urban areas\")\n",
    "    else:\n",
    "        print(\"you are not eligible\")\n",
    "else:\n",
    "    print(\"Invalid Input\")           "
   ]
  },
  {
   "cell_type": "markdown",
   "metadata": {},
   "source": [
    "6) Write a program to calculate the electricity bill (accept number of unit from user) according to the following criteria :\n",
    "     Unit                                                     Price  \n",
    "uptp 100 units                                             no charge\n",
    "Next 200 units                                              Rs 5 per unit\n",
    "After 200 units                                             Rs 10 per unit\n",
    "(For example if input unit is 350 than total bill amount is Rs.3500\n",
    "(For example if input unit is 97 than total bill amount is Rs.0\n",
    "(For example if input unit is 150 than total bill amount is Rs.750"
   ]
  },
  {
   "cell_type": "markdown",
   "metadata": {},
   "source": [
    "13) Take input of age of 3 people by user and determine oldest and youngest among them."
   ]
  },
  {
   "cell_type": "code",
   "execution_count": 47,
   "metadata": {},
   "outputs": [
    {
     "name": "stdout",
     "output_type": "stream",
     "text": [
      "No charges\n"
     ]
    }
   ],
   "source": [
    "#Type your code here\n",
    "noOfUnits = int(input(\"Enter the number of units: \"))\n",
    "\n",
    "if noOfUnits < 100:\n",
    "    print(\"No charges\")\n",
    "elif noOfUnits >= 100 and noOfUnits <= 300:\n",
    "    print(\"Charges: \", noOfUnits * 5) \n",
    "elif noOfUnits > 300:\n",
    "    print(\"Charges: \", noOfUnits * 10)\n",
    "else:\n",
    "    print(\"Invalid Input\")    \n",
    "\n",
    "\n"
   ]
  },
  {
   "cell_type": "code",
   "execution_count": 49,
   "metadata": {},
   "outputs": [
    {
     "name": "stdout",
     "output_type": "stream",
     "text": [
      "Person 2 is the oldest\n",
      "Person 1 is the youngest\n"
     ]
    }
   ],
   "source": [
    "ages = [int(input(f\"Enter age of person {i+1}: \")) for i in range(3)]\n",
    "\n",
    "oldest_age = max(ages)\n",
    "youngest_age = min(ages)\n",
    "\n",
    "if ages.count(oldest_age) == 3:\n",
    "    print(\"All are of the same age\")\n",
    "else:\n",
    "    oldest_person = ages.index(oldest_age) + 1\n",
    "    youngest_person = ages.index(youngest_age) + 1\n",
    "    print(f\"Person {oldest_person} is the oldest\")\n",
    "    print(f\"Person {youngest_person} is the youngest\")\n"
   ]
  }
 ],
 "metadata": {
  "kernelspec": {
   "display_name": "Python 3",
   "language": "python",
   "name": "python3"
  },
  "language_info": {
   "codemirror_mode": {
    "name": "ipython",
    "version": 3
   },
   "file_extension": ".py",
   "mimetype": "text/x-python",
   "name": "python",
   "nbconvert_exporter": "python",
   "pygments_lexer": "ipython3",
   "version": "3.13.0"
  }
 },
 "nbformat": 4,
 "nbformat_minor": 2
}
