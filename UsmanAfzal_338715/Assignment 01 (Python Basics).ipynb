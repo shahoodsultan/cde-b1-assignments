{
 "cells": [
  {
   "cell_type": "markdown",
   "metadata": {},
   "source": [
    "# Part -1 Python Basics (Variables)"
   ]
  },
  {
   "cell_type": "markdown",
   "metadata": {},
   "source": [
    "1. Print Your Name with your Father name and Date of birth using suitable escape sequence charactor"
   ]
  },
  {
   "cell_type": "code",
   "execution_count": 1,
   "metadata": {},
   "outputs": [
    {
     "name": "stdout",
     "output_type": "stream",
     "text": [
      "Usman Afzal\n",
      "30-06-2001\n"
     ]
    }
   ],
   "source": [
    "print (\"Usman Afzal\")\n",
    "print (\"30-06-2001\")"
   ]
  },
  {
   "cell_type": "markdown",
   "metadata": {},
   "source": [
    "2. Write your small bio using variables and print it using print function"
   ]
  },
  {
   "cell_type": "code",
   "execution_count": 1,
   "metadata": {},
   "outputs": [
    {
     "name": "stdout",
     "output_type": "stream",
     "text": [
      "My name is Usman Afzal. Recently completed my bachlors in Software\n"
     ]
    }
   ],
   "source": [
    "print(\"My name is Usman Afzal. Recently completed my bachlors in Software\")"
   ]
  },
  {
   "cell_type": "markdown",
   "metadata": {},
   "source": [
    "3. Write a program in which use all the operators we can use in Python"
   ]
  },
  {
   "cell_type": "code",
   "execution_count": 2,
   "metadata": {},
   "outputs": [
    {
     "name": "stdout",
     "output_type": "stream",
     "text": [
      "Arithmetic Operators:\n",
      "a + b = 13\n",
      "a - b = 7\n",
      "a * b = 30\n",
      "a / b = 3.3333333333333335\n",
      "a // b = 3\n",
      "a % b = 1\n",
      "a ** b = 1000\n",
      "\n",
      "Assignment Operators:\n",
      "c += 2: 7\n",
      "c -= 1: 6\n",
      "c *= 3: 18\n",
      "c /= 2: 9.0\n",
      "c %= 3: 0.0\n",
      "c **= 2: 0.0\n",
      "c //= 2: 0.0\n",
      "\n",
      "Comparison Operators:\n",
      "a == b: False\n",
      "a != b: True\n",
      "a > b: True\n",
      "a < b: False\n",
      "a >= b: True\n",
      "a <= b: False\n",
      "\n",
      "Logical Operators:\n",
      "x and y: False\n",
      "x or y: True\n",
      "not x: False\n",
      "\n",
      "Bitwise Operators:\n",
      "a & b: 2\n",
      "a | b: 11\n",
      "a ^ b: 9\n",
      "~a: -11\n",
      "a << 2: 40\n",
      "a >> 2: 2\n",
      "\n",
      "Identity Operators:\n",
      "a is d: True\n",
      "a is not b: True\n",
      "\n",
      "Membership Operators:\n",
      "3 in list_example: True\n",
      "6 not in list_example: True\n",
      "\n",
      "Ternary Operator:\n",
      "Max of a and b: 10\n",
      "\n",
      "Operator Precedence:\n",
      "a + b * 2 - 1 = 15\n"
     ]
    }
   ],
   "source": [
    "\n",
    "a, b = 10, 3\n",
    "print(\"Arithmetic Operators:\")\n",
    "print(f\"a + b = {a + b}\")  \n",
    "print(f\"a - b = {a - b}\")  \n",
    "print(f\"a * b = {a * b}\")  \n",
    "print(f\"a / b = {a / b}\")  \n",
    "print(f\"a // b = {a // b}\")  \n",
    "print(f\"a % b = {a % b}\")  \n",
    "print(f\"a ** b = {a ** b}\")  \n",
    "c = 5\n",
    "print(\"\\nAssignment Operators:\")\n",
    "c += 2  # c = c + 2\n",
    "print(f\"c += 2: {c}\")\n",
    "c -= 1  # c = c - 1\n",
    "print(f\"c -= 1: {c}\")\n",
    "c *= 3  # c = c * 3\n",
    "print(f\"c *= 3: {c}\")\n",
    "c /= 2  # c = c / 2\n",
    "print(f\"c /= 2: {c}\")\n",
    "c %= 3  # c = c % 3\n",
    "print(f\"c %= 3: {c}\")\n",
    "c **= 2  # c = c ** 2\n",
    "print(f\"c **= 2: {c}\")\n",
    "c //= 2  # c = c // 2\n",
    "print(f\"c //= 2: {c}\")\n",
    "\n",
    "print(\"\\nComparison Operators:\")\n",
    "print(f\"a == b: {a == b}\")  # Equal to\n",
    "print(f\"a != b: {a != b}\")  # Not equal to\n",
    "print(f\"a > b: {a > b}\")  # Greater than\n",
    "print(f\"a < b: {a < b}\")  # Less than\n",
    "print(f\"a >= b: {a >= b}\")  # Greater than or equal to\n",
    "print(f\"a <= b: {a <= b}\")  # Less than or equal to\n",
    "\n",
    "# Logical Operators\n",
    "x, y = True, False\n",
    "print(\"\\nLogical Operators:\")\n",
    "print(f\"x and y: {x and y}\")  # Logical AND\n",
    "print(f\"x or y: {x or y}\")  # Logical OR\n",
    "print(f\"not x: {not x}\")  # Logical NOT\n",
    "\n",
    "# Bitwise Operators\n",
    "print(\"\\nBitwise Operators:\")\n",
    "print(f\"a & b: {a & b}\")  # Bitwise AND\n",
    "print(f\"a | b: {a | b}\")  # Bitwise OR\n",
    "print(f\"a ^ b: {a ^ b}\")  # Bitwise XOR\n",
    "print(f\"~a: {~a}\")  # Bitwise NOT\n",
    "print(f\"a << 2: {a << 2}\")  # Bitwise left shift\n",
    "print(f\"a >> 2: {a >> 2}\")  # Bitwise right shift\n",
    "\n",
    "# Identity Operators\n",
    "d = a\n",
    "print(\"\\nIdentity Operators:\")\n",
    "print(f\"a is d: {a is d}\")  # Identity is\n",
    "print(f\"a is not b: {a is not b}\")  # Identity is not\n",
    "\n",
    "# Membership Operators\n",
    "list_example = [1, 2, 3, 4, 5]\n",
    "print(\"\\nMembership Operators:\")\n",
    "print(f\"3 in list_example: {3 in list_example}\")  # Membership in\n",
    "print(f\"6 not in list_example: {6 not in list_example}\")  # Membership not in\n",
    "\n",
    "# Ternary Operator (Conditional Expression)\n",
    "print(\"\\nTernary Operator:\")\n",
    "max_value = a if a > b else b\n",
    "print(f\"Max of a and b: {max_value}\")\n",
    "\n",
    "# Example of Operator Precedence\n",
    "print(\"\\nOperator Precedence:\")\n",
    "result = a + b * 2 - 1\n",
    "print(f\"a + b * 2 - 1 = {result}\")  # Multiplication has higher precedence than addition and subtraction\n"
   ]
  },
  {
   "cell_type": "markdown",
   "metadata": {},
   "source": [
    "4. Completes the following steps of small task:\n",
    "    - Mention Marks of English , Islamiat and Maths out of 100 in 3 different variables\n",
    "    - Mention Variable of Total Marks and assign 300 to it\n",
    "    - Calculate Percentage"
   ]
  },
  {
   "cell_type": "code",
   "execution_count": 4,
   "metadata": {},
   "outputs": [
    {
     "name": "stdout",
     "output_type": "stream",
     "text": [
      "Total Obtained Marks: 270\n",
      "Percentage: 90.00%\n"
     ]
    }
   ],
   "source": [
    "\n",
    "english_marks = 85  \n",
    "islamiat_marks = 90  \n",
    "maths_marks = 95  \n",
    "\n",
    "total_marks = 300  \n",
    "\n",
    "obtained_marks = english_marks + islamiat_marks + maths_marks\n",
    "percentage = (obtained_marks / total_marks) * 100\n",
    "\n",
    "print(f\"Total Obtained Marks: {obtained_marks}\")\n",
    "print(f\"Percentage: {percentage:.2f}%\")\n"
   ]
  },
  {
   "cell_type": "markdown",
   "metadata": {},
   "source": [
    "# Part -2 Python Basics (Conditional Statements)"
   ]
  },
  {
   "cell_type": "markdown",
   "metadata": {},
   "source": [
    "1) A company decided to give bonus of 5% to employee if his/her year of service is more than 5 years.\n",
    "Ask user for their salary and year of service and print the net bonus amount."
   ]
  },
  {
   "cell_type": "code",
   "execution_count": 5,
   "metadata": {},
   "outputs": [
    {
     "name": "stdin",
     "output_type": "stream",
     "text": [
      "Enter your current salary:  50000\n",
      "Enter your years of service:  10\n"
     ]
    },
    {
     "name": "stdout",
     "output_type": "stream",
     "text": [
      "Congratulations! You are eligible for a bonus of 2500.00.\n",
      "Net Bonus Amount: 2500.00\n"
     ]
    }
   ],
   "source": [
    "\n",
    "salary = float(input(\"Enter your current salary: \"))\n",
    "years_of_service = int(input(\"Enter your years of service: \"))\n",
    "\n",
    "if years_of_service > 5:\n",
    "    bonus = salary * 0.05  \n",
    "    print(f\"Congratulations! You are eligible for a bonus of {bonus:.2f}.\")\n",
    "else:\n",
    "    bonus = 0\n",
    "    print(\"Sorry, you are not eligible for a bonus.\")\n",
    "\n",
    "print(f\"Net Bonus Amount: {bonus:.2f}\")\n"
   ]
  },
  {
   "cell_type": "markdown",
   "metadata": {},
   "source": [
    "\n",
    "2) Write a program to check whether a person is eligible for voting or not. (accept age from user) if age is greater than 17 eligible otherwise not eligible"
   ]
  },
  {
   "cell_type": "code",
   "execution_count": 6,
   "metadata": {},
   "outputs": [
    {
     "name": "stdin",
     "output_type": "stream",
     "text": [
      "Enter your age:  18\n"
     ]
    },
    {
     "name": "stdout",
     "output_type": "stream",
     "text": [
      "You are eligible to vote.\n"
     ]
    }
   ],
   "source": [
    "\n",
    "age = int(input(\"Enter your age: \"))\n",
    "\n",
    "if age > 17:\n",
    "    print(\"You are eligible to vote.\")\n",
    "else:\n",
    "    print(\"You are not eligible to vote.\")\n"
   ]
  },
  {
   "cell_type": "markdown",
   "metadata": {},
   "source": [
    "\n",
    "3) Write a program to check whether a number entered by user is even or odd."
   ]
  },
  {
   "cell_type": "code",
   "execution_count": 7,
   "metadata": {},
   "outputs": [
    {
     "name": "stdin",
     "output_type": "stream",
     "text": [
      "Enter a number:  7\n"
     ]
    },
    {
     "name": "stdout",
     "output_type": "stream",
     "text": [
      "The number 7 is odd.\n"
     ]
    }
   ],
   "source": [
    "\n",
    "number = int(input(\"Enter a number: \"))\n",
    "\n",
    "if number % 2 == 0:\n",
    "    print(f\"The number {number} is even.\")\n",
    "else:\n",
    "    print(f\"The number {number} is odd.\")\n"
   ]
  },
  {
   "cell_type": "markdown",
   "metadata": {},
   "source": [
    "4) Write a program to check whether a number is divisible by 7 or not.\n",
    "Show Answer"
   ]
  },
  {
   "cell_type": "code",
   "execution_count": 8,
   "metadata": {},
   "outputs": [
    {
     "name": "stdin",
     "output_type": "stream",
     "text": [
      "Enter a number:  5\n"
     ]
    },
    {
     "name": "stdout",
     "output_type": "stream",
     "text": [
      "The number 5 is not divisible by 7.\n"
     ]
    }
   ],
   "source": [
    "\n",
    "number = int(input(\"Enter a number: \"))\n",
    "\n",
    "if number % 7 == 0:\n",
    "    print(f\"The number {number} is divisible by 7.\")\n",
    "else:\n",
    "    print(f\"The number {number} is not divisible by 7.\")\n"
   ]
  },
  {
   "cell_type": "markdown",
   "metadata": {},
   "source": [
    "5) Write a program to display \n",
    "\"Hello\" if a number entered by user is a multiple of five , otherwise print \"Bye\"."
   ]
  },
  {
   "cell_type": "code",
   "execution_count": 9,
   "metadata": {},
   "outputs": [
    {
     "name": "stdin",
     "output_type": "stream",
     "text": [
      "Enter a number:  5\n"
     ]
    },
    {
     "name": "stdout",
     "output_type": "stream",
     "text": [
      "Hello\n"
     ]
    }
   ],
   "source": [
    "\n",
    "number = int(input(\"Enter a number: \"))\n",
    "if number % 5 == 0:\n",
    "    print(\"Hello\")\n",
    "else:\n",
    "    print(\"Bye\")\n"
   ]
  },
  {
   "cell_type": "markdown",
   "metadata": {},
   "source": [
    "7) Write a program to display the last digit of a number.\n"
   ]
  },
  {
   "cell_type": "code",
   "execution_count": 10,
   "metadata": {},
   "outputs": [
    {
     "name": "stdin",
     "output_type": "stream",
     "text": [
      "Enter a number:  123456\n"
     ]
    },
    {
     "name": "stdout",
     "output_type": "stream",
     "text": [
      "The last digit of 123456 is 6.\n"
     ]
    }
   ],
   "source": [
    "\n",
    "number = int(input(\"Enter a number: \"))\n",
    "\n",
    "last_digit = number % 10\n",
    "\n",
    "print(f\"The last digit of {number} is {last_digit}.\")\n"
   ]
  },
  {
   "cell_type": "markdown",
   "metadata": {},
   "source": [
    "9) Take values of length and breadth of a rectangle from user and print if it is square or rectangle."
   ]
  },
  {
   "cell_type": "code",
   "execution_count": 12,
   "metadata": {},
   "outputs": [
    {
     "name": "stdin",
     "output_type": "stream",
     "text": [
      "Enter the length of the rectangle:  7.98\n",
      "Enter the breadth of the rectangle:  9\n"
     ]
    },
    {
     "name": "stdout",
     "output_type": "stream",
     "text": [
      "It is a rectangle.\n"
     ]
    }
   ],
   "source": [
    "\n",
    "length = float(input(\"Enter the length of the rectangle: \"))\n",
    "breadth = float(input(\"Enter the breadth of the rectangle: \"))\n",
    "\n",
    "\n",
    "if length == breadth:\n",
    "    print(\"It is a square.\")\n",
    "else:\n",
    "    print(\"It is a rectangle.\")\n"
   ]
  },
  {
   "cell_type": "markdown",
   "metadata": {},
   "source": [
    "10) Take two int values from user and print greatest among them."
   ]
  },
  {
   "cell_type": "code",
   "execution_count": 13,
   "metadata": {},
   "outputs": [
    {
     "name": "stdin",
     "output_type": "stream",
     "text": [
      "Enter the first number:  23\n",
      "Enter the second number:  34\n"
     ]
    },
    {
     "name": "stdout",
     "output_type": "stream",
     "text": [
      "The greatest number is 34.\n"
     ]
    }
   ],
   "source": [
    "\n",
    "num1 = int(input(\"Enter the first number: \"))\n",
    "num2 = int(input(\"Enter the second number: \"))\n",
    "\n",
    "if num1 > num2:\n",
    "    print(f\"The greatest number is {num1}.\")\n",
    "elif num2 > num1:\n",
    "    print(f\"The greatest number is {num2}.\")\n",
    "else:\n",
    "    print(\"Both numbers are equal.\")\n"
   ]
  },
  {
   "cell_type": "markdown",
   "metadata": {},
   "source": [
    "11) A shop will give discount of 10% if the cost of purchased quantity is more than 1000.\n",
    "Ask user for quantity\n",
    "Suppose, one unit will cost 100.\n",
    "Judge and print total cost for user."
   ]
  },
  {
   "cell_type": "code",
   "execution_count": 16,
   "metadata": {},
   "outputs": [
    {
     "name": "stdin",
     "output_type": "stream",
     "text": [
      "Enter the quantity purchased:  2000\n"
     ]
    },
    {
     "name": "stdout",
     "output_type": "stream",
     "text": [
      "Total cost before discount: 200000\n",
      "Discount applied: 20000.0\n",
      "Total cost after discount: 180000.0\n"
     ]
    }
   ],
   "source": [
    "\n",
    "quantity = int(input(\"Enter the quantity purchased: \"))\n",
    "cost_per_unit = 100\n",
    "\n",
    "total_cost = quantity * cost_per_unit\n",
    "\n",
    "if total_cost > 1000:\n",
    "    discount = total_cost * 0.10 \n",
    "    total_cost_after_discount = total_cost - discount\n",
    "    print(f\"Total cost before discount: {total_cost}\")\n",
    "    print(f\"Discount applied: {discount}\")\n",
    "    print(f\"Total cost after discount: {total_cost_after_discount}\")\n",
    "else:\n",
    "    print(f\"Total cost: {total_cost}\")\n"
   ]
  },
  {
   "cell_type": "markdown",
   "metadata": {},
   "source": [
    "12) A school has following rules for grading system:\n",
    "\n",
    "a. Below 25 - F\n",
    "\n",
    "b. 25 to 45 - E\n",
    "\n",
    "c. 45 to 50 - D\n",
    "\n",
    "d. 50 to 60 - C\n",
    "\n",
    "e. 60 to 80 - B\n",
    "\n",
    "f. Above 80 - A\n",
    "\n",
    "Ask user to enter marks and print the corresponding grade."
   ]
  },
  {
   "cell_type": "code",
   "execution_count": 17,
   "metadata": {},
   "outputs": [
    {
     "name": "stdin",
     "output_type": "stream",
     "text": [
      "Enter your marks:  78\n"
     ]
    },
    {
     "name": "stdout",
     "output_type": "stream",
     "text": [
      "Your grade is: B\n"
     ]
    }
   ],
   "source": [
    "\n",
    "marks = float(input(\"Enter your marks: \"))\n",
    "\n",
    "if marks < 25:\n",
    "    grade = \"F\"\n",
    "elif 25 <= marks < 45:\n",
    "    grade = \"E\"\n",
    "elif 45 <= marks < 50:\n",
    "    grade = \"D\"\n",
    "elif 50 <= marks < 60:\n",
    "    grade = \"C\"\n",
    "elif 60 <= marks < 80:\n",
    "    grade = \"B\"\n",
    "else:\n",
    "    grade = \"A\"\n",
    "\n",
    "print(f\"Your grade is: {grade}\")\n"
   ]
  },
  {
   "cell_type": "markdown",
   "metadata": {},
   "source": [
    "14)A student will not be allowed to sit in exam if his/her attendence is less than 75%.\n",
    "\n",
    "Take following input from user\n",
    "\n",
    "- Number of classes held\n",
    "\n",
    "- Number of classes attended.\n",
    "\n",
    "And print\n",
    "\n",
    "- percentage of class attended\n",
    "\n",
    "- Is student is allowed to sit in exam or not.\n"
   ]
  },
  {
   "cell_type": "code",
   "execution_count": 18,
   "metadata": {},
   "outputs": [
    {
     "name": "stdin",
     "output_type": "stream",
     "text": [
      "Enter the total number of classes held:  67\n",
      "Enter the number of classes attended:  45\n"
     ]
    },
    {
     "name": "stdout",
     "output_type": "stream",
     "text": [
      "Attendance Percentage: 67.16%\n",
      "The student is not allowed to sit in the exam.\n"
     ]
    }
   ],
   "source": [
    "\n",
    "total_classes = int(input(\"Enter the total number of classes held: \"))\n",
    "attended_classes = int(input(\"Enter the number of classes attended: \"))\n",
    "attendance_percentage = (attended_classes / total_classes) * 100\n",
    "\n",
    "print(f\"Attendance Percentage: {attendance_percentage:.2f}%\")\n",
    "\n",
    "if attendance_percentage >= 75:\n",
    "    print(\"The student is allowed to sit in the exam.\")\n",
    "else:\n",
    "    print(\"The student is not allowed to sit in the exam.\")\n"
   ]
  },
  {
   "cell_type": "markdown",
   "metadata": {},
   "source": [
    "15) Modify the above question to allow student to sit if he/she has medical cause. Ask user if he/she has medical cause or not ( 'Y' or 'N' ) and print accordingly."
   ]
  },
  {
   "cell_type": "code",
   "execution_count": 19,
   "metadata": {},
   "outputs": [
    {
     "name": "stdin",
     "output_type": "stream",
     "text": [
      "Enter the total number of classes held:  16\n",
      "Enter the number of classes attended:  7\n",
      "Do you have a medical cause? (Y/N):  y\n"
     ]
    },
    {
     "name": "stdout",
     "output_type": "stream",
     "text": [
      "Attendance Percentage: 43.75%\n",
      "The student is allowed to sit in the exam due to medical cause.\n"
     ]
    }
   ],
   "source": [
    "\n",
    "total_classes = int(input(\"Enter the total number of classes held: \"))\n",
    "attended_classes = int(input(\"Enter the number of classes attended: \"))\n",
    "\n",
    "attendance_percentage = (attended_classes / total_classes) * 100\n",
    "\n",
    "medical_cause = input(\"Do you have a medical cause? (Y/N): \").upper()\n",
    "\n",
    "print(f\"Attendance Percentage: {attendance_percentage:.2f}%\")\n",
    "\n",
    "if attendance_percentage >= 75:\n",
    "    print(\"The student is allowed to sit in the exam.\")\n",
    "elif medical_cause == 'Y':\n",
    "    print(\"The student is allowed to sit in the exam due to medical cause.\")\n",
    "else:\n",
    "    print(\"The student is not allowed to sit in the exam.\")\n"
   ]
  },
  {
   "cell_type": "markdown",
   "metadata": {},
   "source": [
    "16) Write a program to check if a year is leap year or not.\n",
    "\n",
    "If a year is divisible by 4 then it is leap year but if the year is century year like 2000, 1900, 2100 then it must be divisible by 400."
   ]
  },
  {
   "cell_type": "code",
   "execution_count": 20,
   "metadata": {},
   "outputs": [
    {
     "name": "stdin",
     "output_type": "stream",
     "text": [
      "Enter a year:  2020\n"
     ]
    },
    {
     "name": "stdout",
     "output_type": "stream",
     "text": [
      "2020 is a leap year.\n"
     ]
    }
   ],
   "source": [
    "\n",
    "year = int(input(\"Enter a year: \"))\n",
    "if (year % 4 == 0 and year % 100 != 0) or (year % 400 == 0):\n",
    "    print(f\"{year} is a leap year.\")\n",
    "else:\n",
    "    print(f\"{year} is not a leap year.\")\n"
   ]
  },
  {
   "cell_type": "markdown",
   "metadata": {},
   "source": [
    "17) Ask user to enter age, gender ( M or F ), marital status ( Y or N ) and then using following rules print their place of service.\n",
    "\n",
    "if employee is female, then she will work only in urban areas.\n",
    "\n",
    "if employee is a male and age is in between 20 to 40 then he may work in anywhere\n",
    "\n",
    "if employee is male and age is in between 40 t0 60 then he will work in urban areas only.\n",
    "\n",
    "And any other input of age should print \"ERROR\""
   ]
  },
  {
   "cell_type": "code",
   "execution_count": 21,
   "metadata": {},
   "outputs": [
    {
     "name": "stdin",
     "output_type": "stream",
     "text": [
      "Enter your age:  23\n",
      "Enter your gender (M/F):  m\n",
      "Enter your marital status (Y/N):  n\n"
     ]
    },
    {
     "name": "stdout",
     "output_type": "stream",
     "text": [
      "He may work anywhere.\n"
     ]
    }
   ],
   "source": [
    "\n",
    "age = int(input(\"Enter your age: \"))\n",
    "gender = input(\"Enter your gender (M/F): \").upper()\n",
    "marital_status = input(\"Enter your marital status (Y/N): \").upper()\n",
    "\n",
    "\n",
    "if gender == 'F':\n",
    "    print(\"She will work only in urban areas.\")\n",
    "elif gender == 'M':\n",
    "    if 20 <= age <= 40:\n",
    "        print(\"He may work anywhere.\")\n",
    "    elif 40 < age <= 60:\n",
    "        print(\"He will work in urban areas only.\")\n",
    "    else:\n",
    "        print(\"ERROR\")\n",
    "else:\n",
    "    print(\"ERROR\")\n"
   ]
  },
  {
   "cell_type": "markdown",
   "metadata": {},
   "source": [
    "6) Write a program to calculate the electricity bill (accept number of unit from user) according to the following criteria :\n",
    "     Unit                                                     Price  \n",
    "uptp 100 units                                             no charge\n",
    "Next 200 units                                              Rs 5 per unit\n",
    "After 200 units                                             Rs 10 per unit\n",
    "(For example if input unit is 350 than total bill amount is Rs.3500\n",
    "(For example if input unit is 97 than total bill amount is Rs.0\n",
    "(For example if input unit is 150 than total bill amount is Rs.750"
   ]
  },
  {
   "cell_type": "code",
   "execution_count": 22,
   "metadata": {},
   "outputs": [
    {
     "name": "stdin",
     "output_type": "stream",
     "text": [
      "Enter the number of units consumed:  67\n"
     ]
    },
    {
     "name": "stdout",
     "output_type": "stream",
     "text": [
      "Total bill amount: Rs.0\n"
     ]
    }
   ],
   "source": [
    "\n",
    "units = int(input(\"Enter the number of units consumed: \"))\n",
    "\n",
    "bill_amount = 0\n",
    "\n",
    "if units <= 100:\n",
    "    bill_amount = 0\n",
    "elif units <= 300:\n",
    "    bill_amount = (units - 100) * 5\n",
    "else:\n",
    "    bill_amount = (200 * 5) + (units - 300) * 10\n",
    "\n",
    "# Print the total bill amount\n",
    "print(f\"Total bill amount: Rs.{bill_amount}\")\n"
   ]
  },
  {
   "cell_type": "markdown",
   "metadata": {},
   "source": [
    "13) Take input of age of 3 people by user and determine oldest and youngest among them."
   ]
  },
  {
   "cell_type": "code",
   "execution_count": 23,
   "metadata": {},
   "outputs": [
    {
     "name": "stdin",
     "output_type": "stream",
     "text": [
      "Enter the age of the first person:  23\n",
      "Enter the age of the second person:  34\n",
      "Enter the age of the third person:  33\n"
     ]
    },
    {
     "name": "stdout",
     "output_type": "stream",
     "text": [
      "The oldest person is 34 years old.\n",
      "The youngest person is 23 years old.\n"
     ]
    }
   ],
   "source": [
    "\n",
    "age1 = int(input(\"Enter the age of the first person: \"))\n",
    "age2 = int(input(\"Enter the age of the second person: \"))\n",
    "age3 = int(input(\"Enter the age of the third person: \"))\n",
    "\n",
    "oldest = max(age1, age2, age3)\n",
    "youngest = min(age1, age2, age3)\n",
    "\n",
    "\n",
    "print(f\"The oldest person is {oldest} years old.\")\n",
    "print(f\"The youngest person is {youngest} years old.\")\n"
   ]
  },
  {
   "cell_type": "code",
   "execution_count": null,
   "metadata": {},
   "outputs": [],
   "source": []
  }
 ],
 "metadata": {
  "kernelspec": {
   "display_name": "Python 3 (ipykernel)",
   "language": "python",
   "name": "python3"
  },
  "language_info": {
   "codemirror_mode": {
    "name": "ipython",
    "version": 3
   },
   "file_extension": ".py",
   "mimetype": "text/x-python",
   "name": "python",
   "nbconvert_exporter": "python",
   "pygments_lexer": "ipython3",
   "version": "3.12.7"
  }
 },
 "nbformat": 4,
 "nbformat_minor": 4
}
