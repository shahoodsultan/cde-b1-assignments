{
 "cells": [
  {
   "cell_type": "markdown",
   "metadata": {},
   "source": [
    "# Part -1 Python Basics (Variables)"
   ]
  },
  {
   "cell_type": "markdown",
   "metadata": {},
   "source": [
    "1. Print Your Name with your Father name and Date of birth using suitable escape sequence charactor"
   ]
  },
  {
   "cell_type": "code",
   "execution_count": 17,
   "metadata": {},
   "outputs": [
    {
     "name": "stdout",
     "output_type": "stream",
     "text": [
      "Name: abdul hameed \n",
      " f_Name: javed ali \n",
      " Date of birth: 15-11-2005\n"
     ]
    }
   ],
   "source": [
    "print(\"Name: abdul hameed \\n f_Name: javed ali \\n Date of birth: 15-11-2005\")"
   ]
  },
  {
   "cell_type": "markdown",
   "metadata": {},
   "source": [
    "2. Write your small bio using variables and print it using print function"
   ]
  },
  {
   "cell_type": "code",
   "execution_count": 3,
   "metadata": {},
   "outputs": [
    {
     "name": "stdout",
     "output_type": "stream",
     "text": [
      "my name is abdul hameed i am pursuing a cloud dtaat engineering course in SMIT.\n"
     ]
    }
   ],
   "source": [
    "bio = \"my name is abdul hameed i am pursuing a cloud dtaat engineering course in SMIT.\"\n",
    "print(bio)"
   ]
  },
  {
   "cell_type": "markdown",
   "metadata": {},
   "source": [
    "3. Write a program in which use all the operators we can use in Python"
   ]
  },
  {
   "cell_type": "code",
   "execution_count": 7,
   "metadata": {},
   "outputs": [
    {
     "name": "stdout",
     "output_type": "stream",
     "text": [
      "200\n"
     ]
    }
   ],
   "source": [
    "num1 = 10\n",
    "num2 = 20\n",
    "addition = num1+num2\n",
    "subtraction = num1-num2\n",
    "multiplication = num1*num2\n",
    "division = num1/num2\n",
    "print(multiplication)\n"
   ]
  },
  {
   "cell_type": "markdown",
   "metadata": {},
   "source": [
    "4. Completes the following steps of small task:\n",
    "    - Mention Marks of English , Islamiat and Maths out of 100 in 3 different variables\n",
    "    - Mention Variable of Total Marks and assign 300 to it\n",
    "    - Calculate Percentage"
   ]
  },
  {
   "cell_type": "code",
   "execution_count": 13,
   "metadata": {},
   "outputs": [
    {
     "name": "stdout",
     "output_type": "stream",
     "text": [
      "52.33333333333333\n"
     ]
    }
   ],
   "source": [
    "english = 70\n",
    "islamiat = 80\n",
    "maths = 7\n",
    "total = 300\n",
    "sum_the_num = english + islamiat + maths\n",
    "percentage = (sum_the_num)/300 *100\n",
    "print(percentage)\n"
   ]
  },
  {
   "cell_type": "markdown",
   "metadata": {},
   "source": [
    "# Part -2 Python Basics (Conditional Statements)"
   ]
  },
  {
   "cell_type": "markdown",
   "metadata": {},
   "source": [
    "1) A company decided to give bonus of 5% to employee if his/her year of service is more than 5 years.\n",
    "Ask user for their salary and year of service and print the net bonus amount."
   ]
  },
  {
   "cell_type": "code",
   "execution_count": 22,
   "metadata": {},
   "outputs": [
    {
     "name": "stdout",
     "output_type": "stream",
     "text": [
      "your bonous will be 394.5\n"
     ]
    }
   ],
   "source": [
    "salary = float(input(\"enter your salary\"))\n",
    "year_of_service = float(input(\"enter your experience\"))\n",
    "if year_of_service > 5:\n",
    "    bonous = salary * 0.05\n",
    "    print(\"your bonous will be\",bonous)\n",
    "else:\n",
    "    print(\"no bonus for you\")"
   ]
  },
  {
   "cell_type": "markdown",
   "metadata": {},
   "source": [
    "\n",
    "2) Write a program to check whether a person is eligible for voting or not. (accept age from user) if age is greater than 17 eligible otherwise not eligible"
   ]
  },
  {
   "cell_type": "code",
   "execution_count": 25,
   "metadata": {},
   "outputs": [
    {
     "name": "stdout",
     "output_type": "stream",
     "text": [
      "you are not eligible for voting\n"
     ]
    }
   ],
   "source": [
    "user_age = int(input(\"enter your age.\"))\n",
    "if user_age > 17 and user_age<= 60:\n",
    "    print(\"you are eleigible for voting\")\n",
    "else:\n",
    "    print(\"you are not eligible for voting\")    "
   ]
  },
  {
   "cell_type": "markdown",
   "metadata": {},
   "source": [
    "\n",
    "3) Write a program to check whether a number entered by user is even or odd."
   ]
  },
  {
   "cell_type": "code",
   "execution_count": 28,
   "metadata": {},
   "outputs": [
    {
     "name": "stdout",
     "output_type": "stream",
     "text": [
      "5 number is odd\n"
     ]
    }
   ],
   "source": [
    "num = int(input(\"enter a number\"))\n",
    "if num %2 == 0:\n",
    "    print(f\"{num} number is even\")\n",
    "else:\n",
    "    print(f\"{num} number is odd\")\n",
    "    "
   ]
  },
  {
   "cell_type": "markdown",
   "metadata": {},
   "source": [
    "4) Write a program to check whether a number is divisible by 7 or not.\n",
    "Show Answer"
   ]
  },
  {
   "cell_type": "code",
   "execution_count": 31,
   "metadata": {},
   "outputs": [
    {
     "name": "stdout",
     "output_type": "stream",
     "text": [
      "70 dividiblr by 7\n"
     ]
    }
   ],
   "source": [
    "num = int(input(\"enter a number\"))\n",
    "if num %7 == 0:\n",
    "    print(f\"{num} dividiblr by 7\")\n",
    "else:\n",
    "    print(f\"{num} not divisible by 7\")"
   ]
  },
  {
   "cell_type": "markdown",
   "metadata": {},
   "source": [
    "5) Write a program to display \n",
    "\"Hello\" if a number entered by user is a multiple of five , otherwise print \"Bye\"."
   ]
  },
  {
   "cell_type": "code",
   "execution_count": 33,
   "metadata": {},
   "outputs": [
    {
     "name": "stdout",
     "output_type": "stream",
     "text": [
      "Bye\n"
     ]
    }
   ],
   "source": [
    "num = int(input(\"enter a number\"))\n",
    "if num %5 == 0:\n",
    "    print(\"Hello\")\n",
    "else:\n",
    "    print(\"Bye\")"
   ]
  },
  {
   "cell_type": "markdown",
   "metadata": {},
   "source": [
    "7) Write a program to display the last digit of a number.\n"
   ]
  },
  {
   "cell_type": "code",
   "execution_count": 35,
   "metadata": {},
   "outputs": [
    {
     "name": "stdout",
     "output_type": "stream",
     "text": [
      "2\n"
     ]
    }
   ],
   "source": [
    "num = int(input(\"enter a number\"))\n",
    "last_digit = num %10\n",
    "print(last_digit)"
   ]
  },
  {
   "cell_type": "markdown",
   "metadata": {},
   "source": [
    "9) Take values of length and breadth of a rectangle from user and print if it is square or rectangle."
   ]
  },
  {
   "cell_type": "code",
   "execution_count": 39,
   "metadata": {},
   "outputs": [
    {
     "name": "stdout",
     "output_type": "stream",
     "text": [
      "its a rectangle\n"
     ]
    }
   ],
   "source": [
    "length = int(input(\"enetr a length number\"))\n",
    "breath  = int(input(\"netr a breath number\"))\n",
    "if length == breath:\n",
    "    print(\"its a square\")\n",
    "else:\n",
    "    print(\"its a rectangle\")\n"
   ]
  },
  {
   "cell_type": "markdown",
   "metadata": {},
   "source": [
    "10) Take two int values from user and print greatest among them."
   ]
  },
  {
   "cell_type": "code",
   "execution_count": 43,
   "metadata": {},
   "outputs": [
    {
     "name": "stdout",
     "output_type": "stream",
     "text": [
      "the greatest number is 55\n"
     ]
    }
   ],
   "source": [
    "num1 = int(input(\"enter a number\"))\n",
    "num2 = int(input(\"enter a number\"))\n",
    "if num1>num2:\n",
    "    print(\"the greatest number is {}\".format(num1))\n",
    "elif num2>num1:\n",
    "    print(\"the greatest number is {}\".format(num2))\n",
    "else:\n",
    "    print(\"invalid number\")"
   ]
  },
  {
   "cell_type": "markdown",
   "metadata": {},
   "source": [
    "11) A shop will give discount of 10% if the cost of purchased quantity is more than 1000.\n",
    "Ask user for quantity\n",
    "Suppose, one unit will cost 100.\n",
    "Judge and print total cost for user."
   ]
  },
  {
   "cell_type": "code",
   "execution_count": null,
   "metadata": {},
   "outputs": [
    {
     "data": {
      "text/plain": [
       "0"
      ]
     },
     "execution_count": 56,
     "metadata": {},
     "output_type": "execute_result"
    }
   ],
   "source": [
    "purchase_quantity  = int(input(\"enter the quantity of purchasing items. \"))\n",
    "discount = purchase_quantity * 100\n",
    "print(discount)\n",
    "if discount > 1000:\n",
    "    total = discount * 0.9\n",
    "    print(\"The total cost after discount is: \", total)\n",
    "else:\n",
    "    print(\"no cost for you\")"
   ]
  },
  {
   "cell_type": "markdown",
   "metadata": {},
   "source": [
    "12) A school has following rules for grading system:\n",
    "\n",
    "a. Below 25 - F\n",
    "\n",
    "b. 25 to 45 - E\n",
    "\n",
    "c. 45 to 50 - D\n",
    "\n",
    "d. 50 to 60 - C\n",
    "\n",
    "e. 60 to 80 - B\n",
    "\n",
    "f. Above 80 - A\n",
    "\n",
    "Ask user to enter marks and print the corresponding grade."
   ]
  },
  {
   "cell_type": "code",
   "execution_count": 3,
   "metadata": {},
   "outputs": [
    {
     "name": "stdout",
     "output_type": "stream",
     "text": [
      "A+ grade excellent \n"
     ]
    }
   ],
   "source": [
    "mark = int(input(\"enter your marks between 0 to 100 : \"))\n",
    "if (mark >= 90 and mark<100):\n",
    "    print(\"A+ grade excellent \")\n",
    "elif mark >=80 and mark<90:\n",
    "    print(\"A grade excellent\")\n",
    "elif mark >= 70 and mark <80:\n",
    "    print(\"B grade very good\")\n",
    "elif mark >= 60 and mark <70:\n",
    "    print(\"B grade  good\")\n",
    "elif mark >= 50 and mark <60:\n",
    "    print(\"B grade fairly good\")\n",
    "elif mark >= 40 and mark <50:\n",
    "    print(\"B grade chal jaiga\")\n",
    "else:\n",
    "    print(\"you are fail\")"
   ]
  },
  {
   "cell_type": "markdown",
   "metadata": {},
   "source": [
    "14)A student will not be allowed to sit in exam if his/her attendence is less than 75%.\n",
    "\n",
    "Take following input from user\n",
    "\n",
    "- Number of classes held\n",
    "\n",
    "- Number of classes attended.\n",
    "\n",
    "And print\n",
    "\n",
    "- percentage of class attended\n",
    "\n",
    "- Is student is allowed to sit in exam or not.\n"
   ]
  },
  {
   "cell_type": "code",
   "execution_count": 11,
   "metadata": {},
   "outputs": [
    {
     "name": "stdout",
     "output_type": "stream",
     "text": [
      "34.0\n",
      "you are not allowed to attend the class\n"
     ]
    }
   ],
   "source": [
    "num_of_class_attend = int(input(\"enter how many classes you attend.\"))\n",
    "num_of_class_held = 100\n",
    "percentage = num_of_class_attend/100*100\n",
    "print(percentage)\n",
    "if percentage >= 75:\n",
    "    print(\"you are allowed to attend the exam\")\n",
    "else:\n",
    "    print(\"you are not allowed to attend the exam\")\n",
    "    "
   ]
  },
  {
   "cell_type": "markdown",
   "metadata": {},
   "source": [
    "15) Modify the above question to allow student to sit if he/she has medical cause. Ask user if he/she has medical cause or not ( 'Y' or 'N' ) and print accordingly."
   ]
  },
  {
   "cell_type": "code",
   "execution_count": 18,
   "metadata": {},
   "outputs": [
    {
     "name": "stdout",
     "output_type": "stream",
     "text": [
      "56.00000000000001\n",
      "you are not allowed to attend the exam\n"
     ]
    }
   ],
   "source": [
    "num_of_class_attend = int(input(\"enter how many classes you attend.\"))\n",
    "num_of_class_held = 100\n",
    "percentage = num_of_class_attend/100*100\n",
    "problem = input(\"Do you have a medical cause?.(only request acceept yes or no)\")\n",
    "print(percentage)\n",
    "if percentage >= 75:\n",
    "    print(\"you are allowed to attend the exam\")\n",
    "    if problem.lower() == \"yes\" or problem.lower() ==\"no\":\n",
    "        print(\"you are allow\")\n",
    "    else:\n",
    "        print(\"you are not allow\")\n",
    "else:\n",
    "    print(\"you are not allowed to attend the exam\")"
   ]
  },
  {
   "cell_type": "markdown",
   "metadata": {},
   "source": [
    "16) Write a program to check if a year is leap year or not.\n",
    "\n",
    "If a year is divisible by 4 then it is leap year but if the year is century year like 2000, 1900, 2100 then it must be divisible by 400."
   ]
  },
  {
   "cell_type": "code",
   "execution_count": 21,
   "metadata": {},
   "outputs": [
    {
     "name": "stdout",
     "output_type": "stream",
     "text": [
      "it's a aleap year\n"
     ]
    }
   ],
   "source": [
    "year = int(input(\"ente a leap year\"))\n",
    "if (year %4 == 0 and year % 1000 != 0)  or( year % 400 == 0):\n",
    "    print(\"it's a aleap year\")\n",
    "else:\n",
    "    print(\"this is not a leap year\")"
   ]
  },
  {
   "cell_type": "markdown",
   "metadata": {},
   "source": [
    "17) Ask user to enter age, gender ( M or F ), marital status ( Y or N ) and then using following rules print their place of service.\n",
    "\n",
    "if employee is female, then she will work only in urban areas.\n",
    "\n",
    "if employee is a male and age is in between 20 to 40 then he may work in anywhere\n",
    "\n",
    "if employee is male and age is in between 40 t0 60 then he will work in urban areas only.\n",
    "\n",
    "And any other input of age should print \"ERROR\""
   ]
  },
  {
   "cell_type": "code",
   "execution_count": 33,
   "metadata": {},
   "outputs": [
    {
     "name": "stdout",
     "output_type": "stream",
     "text": [
      "you work anywhere\n"
     ]
    }
   ],
   "source": [
    "user_age = int(input(\"enter your age.\"))\n",
    "gender = input(\"enter your gender (only accept M/F).\")\n",
    "martial = input(\"enter martial status (only accept y/n).\")\n",
    "if gender.lower() == \"f\":\n",
    "    print(\"female only work in urban reas\")\n",
    "elif gender.lower() == \"m\" and user_age >=20 and user_age<=40:\n",
    "    print(\"you work anywhere\")\n",
    "elif gender.lower() == \"m\" and user_age >=40 and user_age<=60:\n",
    "    print(\"you on work in urban areas\")\n",
    "else:\n",
    "    print(\"errror\") "
   ]
  },
  {
   "cell_type": "markdown",
   "metadata": {},
   "source": [
    "6) Write a program to calculate the electricity bill (accept number of unit from user) according to the following criteria :\n",
    "     Unit                                                     Price  \n",
    "uptp 100 units                                             no charge\n",
    "Next 200 units                                              Rs 5 per unit\n",
    "After 200 units                                             Rs 10 per unit\n",
    "(For example if input unit is 350 than total bill amount is Rs.3500\n",
    "(For example if input unit is 97 than total bill amount is Rs.0\n",
    "(For example if input unit is 150 than total bill amount is Rs.750"
   ]
  },
  {
   "cell_type": "markdown",
   "metadata": {},
   "source": []
  },
  {
   "cell_type": "markdown",
   "metadata": {},
   "source": [
    "13) Take input of age of 3 people by user and determine oldest and youngest among them."
   ]
  },
  {
   "cell_type": "code",
   "execution_count": 18,
   "metadata": {},
   "outputs": [],
   "source": [
    "#Type your code here"
   ]
  }
 ],
 "metadata": {
  "kernelspec": {
   "display_name": "Python 3",
   "language": "python",
   "name": "python3"
  },
  "language_info": {
   "codemirror_mode": {
    "name": "ipython",
    "version": 3
   },
   "file_extension": ".py",
   "mimetype": "text/x-python",
   "name": "python",
   "nbconvert_exporter": "python",
   "pygments_lexer": "ipython3",
   "version": "3.13.0"
  }
 },
 "nbformat": 4,
 "nbformat_minor": 2
}
