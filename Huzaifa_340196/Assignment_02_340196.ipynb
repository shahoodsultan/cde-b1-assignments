{
 "cells": [
  {
   "cell_type": "markdown",
   "metadata": {
    "id": "1E5r3wPNed0G"
   },
   "source": [
    "\n",
    "\n",
    "# **Question No 01**\n",
    "\n",
    "Use a for loop to count the number of occurrences of the word in the list and return all indices where the word occurs.\n",
    "\n",
    "**Exmple:**\n",
    "\n",
    "Input: ['apple', 'banana', 'apple', 'cherry', 'apple'], Search: 'apple'  \n",
    "Output: 'apple' found 3 times at indices: 0, 2, 4\n",
    "\n"
   ]
  },
  {
   "cell_type": "code",
   "execution_count": 1,
   "metadata": {
    "id": "tHrz4YilefTD"
   },
   "outputs": [
    {
     "name": "stdout",
     "output_type": "stream",
     "text": [
      "'apple' found 3 times at indices: 0, 2, 4\n"
     ]
    }
   ],
   "source": [
    "def find_word_occurrences(word_list, search_word):\n",
    "    count = 0\n",
    "    indices = []\n",
    "    \n",
    "    for i in range(len(word_list)):\n",
    "        if word_list[i] == search_word:\n",
    "            count += 1\n",
    "            indices.append(i)\n",
    "    \n",
    "    return f\"'{search_word}' found {count} times at indices: {', '.join(map(str, indices))}\"\n",
    "\n",
    "\n",
    "word_list = ['apple', 'banana', 'apple', 'cherry', 'apple']\n",
    "search_word = 'apple'\n",
    "result = find_word_occurrences(word_list, search_word)\n",
    "print(result)"
   ]
  },
  {
   "cell_type": "markdown",
   "metadata": {
    "id": "fN_U0nnCeeAF"
   },
   "source": [
    "\n",
    "# **Question No 02**\n",
    "\n",
    "Create a program to find all unique pairs of numbers in a list that add up to a target sum.\n",
    "\n",
    "Use a single list and a for loop (nested if necessary) to iterate through and find pairs without duplicates.\n",
    "Avoid repeating pairs like [3, 5] and [5, 3].\n",
    "\n",
    "**Example:**\n",
    "\n",
    "Input list: [2, 4, 3, 5, 7, 8, 1]  \n",
    "Target sum: 9  \n",
    "Output: [(2, 7), (4, 5), (1, 8)]\n"
   ]
  },
  {
   "cell_type": "code",
   "execution_count": 11,
   "metadata": {
    "id": "AfsJP7KTef3T"
   },
   "outputs": [
    {
     "name": "stdout",
     "output_type": "stream",
     "text": [
      "Unique pairs that add up to 9: [[2, 7], [4, 5], [8, 1]]\n"
     ]
    }
   ],
   "source": [
    "def find_unique_pairs(nums, target_sum):\n",
    "    pairs = []  \n",
    "    \n",
    "    for i in range(len(nums)):\n",
    "        for j in range(i + 1, len(nums)): \n",
    "            if nums[i] + nums[j] == target_sum: \n",
    "                pairs.append((nums[i], nums[j]))\n",
    "    \n",
    "    return pairs\n",
    "nums = [2, 4, 3, 5, 7, 8, 1]\n",
    "target_sum = 9\n",
    "result = find_pairs(nums, target_sum)\n",
    "\n",
    "print(f\"Unique pairs that add up to {target_sum}: {result}\")\n",
    "\n"
   ]
  },
  {
   "cell_type": "markdown",
   "metadata": {
    "id": "d8ZH6VPNewLh"
   },
   "source": [
    "# **Question No 03**\n",
    "\n",
    "Write a program to calculate the cumulative product of elements in a list.\n",
    "\n",
    "Use a single list and update it in place to store the cumulative product at each index.\n",
    "Use only a for loop.\n",
    "\n",
    "**Example:**\n",
    "\n",
    "Input: [2, 3, 4, 5]  \n",
    "Output: [2, 6, 24, 120]  \n"
   ]
  },
  {
   "cell_type": "code",
   "execution_count": 13,
   "metadata": {
    "id": "pYPfUitge7nW"
   },
   "outputs": [
    {
     "name": "stdout",
     "output_type": "stream",
     "text": [
      "Cumulative product: [2, 6, 24, 120]\n"
     ]
    }
   ],
   "source": [
    "def cumulative_product(nums):\n",
    "    for i in range(1, len(nums)):\n",
    "        nums[i] *= nums[i - 1]  \n",
    "    return nums\n",
    "\n",
    "\n",
    "input_list = [2, 3, 4, 5]\n",
    "result = cumulative_product(input_list)\n",
    "print(\"Cumulative product:\", result)"
   ]
  },
  {
   "cell_type": "markdown",
   "metadata": {
    "id": "jEtwOjpEfAYA"
   },
   "source": [
    "# **Question No 04**\n",
    "\n",
    "Write a program to reshape a 1D list into a 2D grid.\n",
    "\n",
    "Accept a list of numbers and the number of rows as input.\n",
    "Use for loops to split the list into sublists, each representing a row.\n",
    "If the list cannot be evenly divided into rows, pad it with None.\n",
    "\n",
    "**Example:**\n",
    "Input: [1, 2, 3, 4, 5, 6, 7], Rows: 3  \n",
    "Output: [[1, 2, 3], [4, 5, 6], [7, None, None]]  \n",
    "\n"
   ]
  },
  {
   "cell_type": "code",
   "execution_count": 15,
   "metadata": {
    "id": "tGRxqt0pfRql"
   },
   "outputs": [
    {
     "name": "stdout",
     "output_type": "stream",
     "text": [
      "Reshaped grid: [[1, 2, 3], [4, 5, 6], [7, None, None]]\n"
     ]
    }
   ],
   "source": [
    "def reshape_list_to_grid(lst, rows):\n",
    "    cols = -(-len(lst) // rows) \n",
    "    grid = []\n",
    "    index = 0\n",
    "\n",
    "    for i in range(rows):\n",
    "        row = []\n",
    "        for j in range(cols):\n",
    "            if index < len(lst):\n",
    "                row.append(lst[index])\n",
    "            else:\n",
    "                row.append(None)  \n",
    "            index += 1\n",
    "        grid.append(row)\n",
    "    \n",
    "    return grid\n",
    "input_list = [1, 2, 3, 4, 5, 6, 7]\n",
    "rows = 3\n",
    "result = reshape_list_to_grid(input_list, rows)\n",
    "print(\"Reshaped grid:\", result)\n"
   ]
  },
  {
   "cell_type": "markdown",
   "metadata": {
    "id": "iBPZVHDsfwpm"
   },
   "source": [
    "# **Question No 05**\n",
    "\n",
    "Write a program to sort a list of numbers into two separate lists:\n",
    "\n",
    "One list for all odd numbers (in ascending order).\n",
    "One list for all even numbers (in descending order).\n",
    "Use for loops for the entire process.\n",
    "\n",
    "**Example:**\n",
    "\n",
    "\n",
    "Input: [5, 8, 3, 10, 2, 7, 1, 6]  \n",
    "Output:  \n",
    "Odd: [1, 3, 5, 7]  \n",
    "Even: [10, 8, 6, 2]  \n"
   ]
  },
  {
   "cell_type": "code",
   "execution_count": 19,
   "metadata": {
    "id": "y8dyGGNAf42S"
   },
   "outputs": [
    {
     "name": "stdout",
     "output_type": "stream",
     "text": [
      "Odd: [1, 3, 5, 7]\n",
      "Even: [10, 8, 6, 2]\n"
     ]
    }
   ],
   "source": [
    "def separate_and_sort(numbers):\n",
    "    odd = []\n",
    "    even = []\n",
    "\n",
    "    for num in numbers:\n",
    "        if num % 2 == 0:\n",
    "            even.append(num)\n",
    "        else:\n",
    "            odd.append(num)\n",
    "        for i in range(len(odd)):\n",
    "             for j in range(i + 1, len(odd)):\n",
    "                 if odd[i] > odd[j]:\n",
    "                      odd[i], odd[j] = odd[j], odd[i]\n",
    "    \n",
    "    for i in range(len(even)):\n",
    "        for j in range(i + 1, len(even)):\n",
    "            if even[i] < even[j]:\n",
    "                even[i], even[j] = even[j], even[i]\n",
    "\n",
    "    return odd, even\n",
    "\n",
    "\n",
    "input_list = [5, 8, 3, 10, 2, 7, 1, 6]\n",
    "odd, even = separate_and_sort(input_list)\n",
    "print(\"Odd:\", odd)\n",
    "print(\"Even:\", even)\n"
   ]
  },
  {
   "cell_type": "markdown",
   "metadata": {
    "id": "X_LfOnqskNTe"
   },
   "source": [
    "# **Question No 06**\n",
    "\n",
    "Write a program that uses a for loop to count the frequency of each character in a given string and stores the result in a dictionary.\n",
    "\n",
    "The program should ignore spaces and be case-insensitive.\n",
    "Display the dictionary as the final output.\n",
    "\n",
    "**Example:**\n",
    "\n",
    "Input: \"Programming is fun\"  \n",
    "Output: {'p': 1, 'r': 2, 'o': 1, 'g': 2, 'a': 1, 'm': 2, 'i': 2, 'n': 2, 's': 1, 'f': 1, 'u': 1}\n",
    "\n"
   ]
  },
  {
   "cell_type": "code",
   "execution_count": 4,
   "metadata": {
    "id": "1_-djYt-kW8F"
   },
   "outputs": [
    {
     "name": "stdout",
     "output_type": "stream",
     "text": [
      "{'P': 1, 'r': 2, 'o': 1, 'g': 2, 'a': 1, 'm': 2, 'i': 2, 'n': 2, 's': 1, 'f': 1, 'u': 1}\n"
     ]
    }
   ],
   "source": [
    "word_str = (\"Programming is fun\")\n",
    "word={}\n",
    "\n",
    "for i in word_str:\n",
    "   if i != ' ': \n",
    "    if i in word:\n",
    "        word[i]+=1\n",
    "    else:\n",
    "        word[i]=1\n",
    "\n",
    "print(word)"
   ]
  },
  {
   "cell_type": "code",
   "execution_count": null,
   "metadata": {},
   "outputs": [],
   "source": []
  }
 ],
 "metadata": {
  "colab": {
   "provenance": []
  },
  "kernelspec": {
   "display_name": "Python 3 (ipykernel)",
   "language": "python",
   "name": "python3"
  },
  "language_info": {
   "codemirror_mode": {
    "name": "ipython",
    "version": 3
   },
   "file_extension": ".py",
   "mimetype": "text/x-python",
   "name": "python",
   "nbconvert_exporter": "python",
   "pygments_lexer": "ipython3",
   "version": "3.12.7"
  }
 },
 "nbformat": 4,
 "nbformat_minor": 4
}
