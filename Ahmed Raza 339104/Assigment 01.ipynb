{
 "cells": [
  {
   "cell_type": "code",
   "execution_count": 1,
   "metadata": {},
   "outputs": [
    {
     "name": "stdout",
     "output_type": "stream",
     "text": [
      "Ahmed Raza Muhammad Nadeem 25 October 2005\n"
     ]
    }
   ],
   "source": [
    "print(\"Ahmed Raza Muhammad Nadeem 25 October 2005\")"
   ]
  },
  {
   "cell_type": "code",
   "execution_count": 3,
   "metadata": {},
   "outputs": [
    {
     "name": "stdout",
     "output_type": "stream",
     "text": [
      "My name is Ahmed Raza\n"
     ]
    }
   ],
   "source": [
    "bio = \"My name is Ahmed Raza\"\n",
    "print(bio)"
   ]
  },
  {
   "cell_type": "code",
   "execution_count": null,
   "metadata": {},
   "outputs": [
    {
     "name": "stdout",
     "output_type": "stream",
     "text": [
      "-11\n",
      "-11\n",
      "-11\n"
     ]
    }
   ],
   "source": [
    "a = 11\n",
    "b = 22\n",
    "print(a-b)\n",
    "print(a+b)\n",
    "print(a**b)\n",
    "print(a/b)\n",
    "print(a%b)"
   ]
  },
  {
   "cell_type": "code",
   "execution_count": 6,
   "metadata": {},
   "outputs": [
    {
     "name": "stdout",
     "output_type": "stream",
     "text": [
      "Percentage 63.66666666666667\n"
     ]
    }
   ],
   "source": [
    "English = 34\n",
    "Islamiat = 67\n",
    "Maths = 90\n",
    "total_Marks = 300\n",
    "obtainmarks = English + Islamiat + Maths\n",
    "percetage = (obtainmarks / total_Marks ) * 100\n",
    "print(f\"Percentage {percetage}\")"
   ]
  },
  {
   "cell_type": "code",
   "execution_count": null,
   "metadata": {},
   "outputs": [],
   "source": []
  }
 ],
 "metadata": {
  "kernelspec": {
   "display_name": "Python 3",
   "language": "python",
   "name": "python3"
  },
  "language_info": {
   "codemirror_mode": {
    "name": "ipython",
    "version": 3
   },
   "file_extension": ".py",
   "mimetype": "text/x-python",
   "name": "python",
   "nbconvert_exporter": "python",
   "pygments_lexer": "ipython3",
   "version": "3.12.4"
  }
 },
 "nbformat": 4,
 "nbformat_minor": 2
}
