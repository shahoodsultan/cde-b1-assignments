{
 "cells": [
  {
   "cell_type": "markdown",
   "metadata": {
    "id": "1E5r3wPNed0G"
   },
   "source": [
    "\n",
    "\n",
    "# **Question No 01**\n",
    "\n",
    "Use a for loop to count the number of occurrences of the word in the list and return all indices where the word occurs.\n",
    "\n",
    "**Exmple:**\n",
    "\n",
    "Input: ['apple', 'banana', 'apple', 'cherry', 'apple'], Search: 'apple'  \n",
    "Output: 'apple' found 3 times at indices: 0, 2, 4\n",
    "\n"
   ]
  },
  {
   "cell_type": "code",
   "execution_count": null,
   "metadata": {},
   "outputs": [],
   "source": [
    "input_list =  ['apple', 'banana', 'apple', 'cherry', 'apple']\n",
    "count = 0\n",
    "count_index = []\n",
    "for index, value in enumerate(input_list):\n",
    "    print(i)\n",
    "    if value == 'apple':\n",
    "        count_index.append(index)\n",
    "        count+=1\n",
    "print(f\"Apple found {count} time at {count_index}\")\n"
   ]
  },
  {
   "cell_type": "markdown",
   "metadata": {
    "id": "fN_U0nnCeeAF"
   },
   "source": [
    "\n",
    "# **Question No 02**\n",
    "\n",
    "Create a program to find all unique pairs of numbers in a list that add up to a target sum.\n",
    "\n",
    "Use a single list and a for loop (nested if necessary) to iterate through and find pairs without duplicates.\n",
    "Avoid repeating pairs like [3, 5] and [5, 3].\n",
    "\n",
    "**Example:**\n",
    "\n",
    "Input list: [2, 4, 3, 5, 7, 8, 1]  \n",
    "Target sum: 9  \n",
    "Output: [(2, 7), (4, 5), (1, 8)]\n"
   ]
  },
  {
   "cell_type": "code",
   "execution_count": null,
   "metadata": {
    "id": "AfsJP7KTef3T"
   },
   "outputs": [],
   "source": [
    "nums = [2, 4, 3, 5, 7, 8, 1]\n",
    "target = 9\n",
    "\n",
    "pairs = set()  # To store unique pair\n",
    "for i in range(len(nums)):\n",
    "    for j in range(i + 1, len(nums)):\n",
    "        if nums[i] + nums[j] == target:\n",
    "            pairs.add(tuple(sorted([nums[i], nums[j]])))\n",
    "print(pairs)\n",
    "\n",
    "# out put \n",
    "#  {(4, 5), (1, 8), (2, 7)}\n"
   ]
  },
  {
   "cell_type": "markdown",
   "metadata": {
    "id": "d8ZH6VPNewLh"
   },
   "source": [
    "# **Question No 03**\n",
    "\n",
    "Write a program to calculate the cumulative product of elements in a list.\n",
    "\n",
    "Use a single list and update it in place to store the cumulative product at each index.\n",
    "Use only a for loop.\n",
    "\n",
    "**Example:**\n",
    "\n",
    "Input: [2, 3, 4, 5]  \n",
    "Output: [2, 6, 24, 120]  \n"
   ]
  },
  {
   "cell_type": "code",
   "execution_count": null,
   "metadata": {
    "id": "pYPfUitge7nW"
   },
   "outputs": [],
   "source": [
    "nums = [1, 2, 3, 4, 5]\n",
    "for i in range(1, len(nums)):\n",
    "    nums[i] *= nums[i - 1] \n",
    "print(nums)  # Output: [1, 2, 6, 24, 120]"
   ]
  },
  {
   "cell_type": "markdown",
   "metadata": {
    "id": "jEtwOjpEfAYA"
   },
   "source": [
    "# **Question No 04**\n",
    "\n",
    "Write a program to reshape a 1D list into a 2D grid.\n",
    "\n",
    "Accept a list of numbers and the number of rows as input.\n",
    "Use for loops to split the list into sublists, each representing a row.\n",
    "If the list cannot be evenly divided into rows, pad it with None.\n",
    "\n",
    "**Example:**\n",
    "Input: [1, 2, 3, 4, 5, 6, 7], Rows: 3  \n",
    "Output: [[1, 2, 3], [4, 5, 6], [7, None, None]]  \n",
    "\n"
   ]
  },
  {
   "cell_type": "code",
   "execution_count": null,
   "metadata": {
    "id": "tGRxqt0pfRql"
   },
   "outputs": [],
   "source": [
    "def reshape_to_2d(nums, rows):\n",
    "    # Calculate the number of elements per row\n",
    "    cols = len(nums) // rows\n",
    "    if len(nums) % rows != 0:\n",
    "        cols += 1  # If the list doesn't divide evenly, add an extra column\n",
    "    \n",
    "    # Initialize the 2D grid\n",
    "    grid = []\n",
    "    \n",
    "    # Fill the grid row by row\n",
    "    for i in range(rows):\n",
    "        row = []\n",
    "        for j in range(cols):\n",
    "            index = i * cols + j\n",
    "            if index < len(nums):\n",
    "                row.append(nums[index])\n",
    "            else:\n",
    "                row.append(None)  # Padding with None if we go past the end of the list\n",
    "        grid.append(row)\n",
    "    \n",
    "    return grid\n",
    "\n",
    "# Example usage\n",
    "nums = [1, 2, 3, 4, 5, 6, 7]\n",
    "rows = 3\n",
    "result = reshape_to_2d(nums, rows)\n",
    "for row in result:\n",
    "    print(row)"
   ]
  },
  {
   "cell_type": "markdown",
   "metadata": {
    "id": "iBPZVHDsfwpm"
   },
   "source": [
    "# **Question No 05**\n",
    "\n",
    "Write a program to sort a list of numbers into two separate lists:\n",
    "\n",
    "One list for all odd numbers (in ascending order).\n",
    "One list for all even numbers (in descending order).\n",
    "Use for loops for the entire process.\n",
    "\n",
    "**Example:**\n",
    "\n",
    "\n",
    "Input: [5, 8, 3, 10, 2, 7, 1, 6]  \n",
    "Output:  \n",
    "Odd: [1, 3, 5, 7]  \n",
    "Even: [10, 8, 6, 2]  \n"
   ]
  },
  {
   "cell_type": "code",
   "execution_count": null,
   "metadata": {
    "id": "y8dyGGNAf42S"
   },
   "outputs": [],
   "source": [
    "nums = [5, 8, 3, 10, 2, 7, 1, 6]\n",
    "odd_numbers = []\n",
    "even_numbers = []\n",
    "for num in nums:\n",
    "    if num % 2 == 0:\n",
    "        even_numbers.append(num)\n",
    "    else:\n",
    "        odd_numbers.append(num)\n",
    "# Sort odd numbers in ascending order\n",
    "odd_numbers.sort()\n",
    "    \n",
    "    # Sort even numbers in descending order\n",
    "even_numbers.sort(reverse=True)\n",
    "print(\"Odd numbers (ascending):\",odd_numbers)\n",
    "print(\"Even numbers (descending):\", even_numbers)\n",
    "\n",
    "#output \n",
    "# Odd numbers (ascending): [1, 3, 5, 7]\n",
    "# Even numbers (descending): [10, 8, 6, 2]"
   ]
  },
  {
   "cell_type": "markdown",
   "metadata": {
    "id": "X_LfOnqskNTe"
   },
   "source": [
    "# **Question No 06**\n",
    "\n",
    "Write a program that uses a for loop to count the frequency of each character in a given string and stores the result in a dictionary.\n",
    "\n",
    "The program should ignore spaces and be case-insensitive.\n",
    "Display the dictionary as the final output.\n",
    "\n",
    "**Example:**\n",
    "\n",
    "Input: \"Programming is fun\"  \n",
    "Output: {'p': 1, 'r': 2, 'o': 1, 'g': 2, 'a': 1, 'm': 2, 'i': 2, 'n': 2, 's': 1, 'f': 1, 'u': 1}\n",
    "\n"
   ]
  },
  {
   "cell_type": "code",
   "execution_count": null,
   "metadata": {
    "id": "1_-djYt-kW8F"
   },
   "outputs": [],
   "source": [
    "input_string = \"Programming is fun\"\n",
    "s = input_string.replace(\" \", \"\").lower()\n",
    "frequency = {}\n",
    "\n",
    "for char in s:\n",
    "    if char in frequency:\n",
    "        frequency[char] += 1  # Increment the frequency if the character is already in the dictionary\n",
    "    else:\n",
    "        frequency[char] = 1 \n",
    "\n",
    "print(frequency)\n",
    "\n",
    "#output {'p': 1, 'r': 2, 'o': 1, 'g': 2, 'a': 1, 'm': 2, 'i': 2, 'n': 2, 's': 1, 'f': 1, 'u': 1}"
   ]
  }
 ],
 "metadata": {
  "colab": {
   "provenance": []
  },
  "kernelspec": {
   "display_name": "Python 3",
   "name": "python3"
  },
  "language_info": {
   "name": "python"
  }
 },
 "nbformat": 4,
 "nbformat_minor": 0
}
