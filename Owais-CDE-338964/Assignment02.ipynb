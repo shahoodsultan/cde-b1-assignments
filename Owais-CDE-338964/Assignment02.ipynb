{
 "cells": [
  {
   "cell_type": "markdown",
   "metadata": {
    "id": "1E5r3wPNed0G"
   },
   "source": [
    "\n",
    "\n",
    "# **Question No 01**\n",
    "\n",
    "Use a for loop to count the number of occurrences of the word in the list and return all indices where the word occurs.\n",
    "\n",
    "**Exmple:**\n",
    "\n",
    "Input: ['apple', 'banana', 'apple', 'cherry', 'apple'], Search: 'apple'  \n",
    "Output: 'apple' found 3 times at indices: 0, 2, 4\n",
    "\n"
   ]
  },
  {
   "cell_type": "code",
   "execution_count": 7,
   "metadata": {
    "id": "tHrz4YilefTD"
   },
   "outputs": [
    {
     "name": "stdout",
     "output_type": "stream",
     "text": [
      "'apple' found 3 times at indices: 0, 2, 4\n"
     ]
    }
   ],
   "source": [
    "def count_word_occurrences(word_list, search_word):\n",
    "    indices = []\n",
    "    for i in range(len(word_list)):\n",
    "        if word_list[i] == search_word:\n",
    "            indices.append(i)\n",
    "    print(f\"'{search_word}' found {len(indices)} times at indices: {', '.join(map(str, indices))}\")\n",
    "word_list = ['apple', 'banana', 'apple', 'cherry', 'apple']\n",
    "search_word = 'apple'\n",
    "count_word_occurrences(word_list, search_word)"
   ]
  },
  {
   "cell_type": "markdown",
   "metadata": {
    "id": "fN_U0nnCeeAF"
   },
   "source": [
    "\n",
    "# **Question No 02**\n",
    "\n",
    "Create a program to find all unique pairs of numbers in a list that add up to a target sum.\n",
    "\n",
    "Use a single list and a for loop (nested if necessary) to iterate through and find pairs without duplicates.\n",
    "Avoid repeating pairs like [3, 5] and [5, 3].\n",
    "\n",
    "**Example:**\n",
    "\n",
    "Input list: [2, 4, 3, 5, 7, 8, 1]  \n",
    "Target sum: 9  \n",
    "Output: [(2, 7), (4, 5), (1, 8)]\n"
   ]
  },
  {
   "cell_type": "code",
   "execution_count": 1,
   "metadata": {
    "id": "AfsJP7KTef3T"
   },
   "outputs": [
    {
     "name": "stdout",
     "output_type": "stream",
     "text": [
      "[(2, 7), (4, 5), (8, 1)]\n"
     ]
    }
   ],
   "source": [
    "def find_pairs(nums,target_sum):\n",
    "    pairs = []\n",
    "    \n",
    "    for i in range(len(nums)):\n",
    "        for j in range(i + 1, len(nums)):\n",
    "            if nums[i] + nums[j] == target_sum:\n",
    "                pairs.append((nums[i], nums[j]))    \n",
    "    return pairs\n",
    "\n",
    "input_list = [2, 4, 3, 5, 7, 8, 1]\n",
    "target_sum = 9\n",
    "result = find_pairs(input_list, target_sum)\n",
    "print(result)"
   ]
  },
  {
   "cell_type": "markdown",
   "metadata": {
    "id": "d8ZH6VPNewLh"
   },
   "source": [
    "# **Question No 03**\n",
    "\n",
    "Write a program to calculate the cumulative product of elements in a list.\n",
    "\n",
    "Use a single list and update it in place to store the cumulative product at each index.\n",
    "Use only a for loop.\n",
    "\n",
    "**Example:**\n",
    "\n",
    "Input: [2, 3, 4, 5]  \n",
    "Output: [2, 6, 24, 120]  \n"
   ]
  },
  {
   "cell_type": "code",
   "execution_count": 2,
   "metadata": {
    "id": "pYPfUitge7nW"
   },
   "outputs": [
    {
     "name": "stdout",
     "output_type": "stream",
     "text": [
      "[2, 6, 24, 120]\n"
     ]
    }
   ],
   "source": [
    "def cumulative_product(number):\n",
    "    for i in range(1, len(number)):\n",
    "        number[i] *= number[i - 1]\n",
    "    return number\n",
    "\n",
    "input_list = [2, 3, 4, 5]\n",
    "output_list = cumulative_product(input_list)\n",
    "print(output_list)"
   ]
  },
  {
   "cell_type": "markdown",
   "metadata": {
    "id": "jEtwOjpEfAYA"
   },
   "source": [
    "# **Question No 04**\n",
    "\n",
    "Write a program to reshape a 1D list into a 2D grid.\n",
    "\n",
    "Accept a list of numbers and the number of rows as input.\n",
    "Use for loops to split the list into sublists, each representing a row.\n",
    "If the list cannot be evenly divided into rows, pad it with None.\n",
    "\n",
    "**Example:**\n",
    "Input: [1, 2, 3, 4, 5, 6, 7], Rows: 3  \n",
    "Output: [[1, 2, 3], [4, 5, 6], [7, None, None]]  \n",
    "\n"
   ]
  },
  {
   "cell_type": "code",
   "execution_count": 5,
   "metadata": {
    "id": "tGRxqt0pfRql"
   },
   "outputs": [
    {
     "name": "stdout",
     "output_type": "stream",
     "text": [
      "[[1, 2, 3], [4, 5, 6], [7, None, None]]\n"
     ]
    }
   ],
   "source": [
    "def reshape_list(input_list, rows):\n",
    "    cols = (len(input_list) + rows - 1) // rows\n",
    "    result = []\n",
    "    for i in range(rows):\n",
    "        start = i * cols\n",
    "        end = start + cols\n",
    "        row = input_list[start:end]\n",
    "        while len(row) < cols:\n",
    "            row.append(None)\n",
    "        result.append(row)\n",
    "\n",
    "    return result\n",
    "input_list = [1, 2, 3, 4, 5, 6, 7]\n",
    "rows = 3\n",
    "output = reshape_list(input_list, rows)\n",
    "print(output)"
   ]
  },
  {
   "cell_type": "markdown",
   "metadata": {
    "id": "iBPZVHDsfwpm"
   },
   "source": [
    "# **Question No 05**\n",
    "\n",
    "Write a program to sort a list of numbers into two separate lists:\n",
    "\n",
    "One list for all odd numbers (in ascending order).\n",
    "One list for all even numbers (in descending order).\n",
    "Use for loops for the entire process.\n",
    "\n",
    "**Example:**\n",
    "\n",
    "\n",
    "Input: [5, 8, 3, 10, 2, 7, 1, 6]  \n",
    "Output:  \n",
    "Odd: [1, 3, 5, 7]  \n",
    "Even: [10, 8, 6, 2]  \n"
   ]
  },
  {
   "cell_type": "code",
   "execution_count": 10,
   "metadata": {
    "id": "y8dyGGNAf42S"
   },
   "outputs": [
    {
     "name": "stdout",
     "output_type": "stream",
     "text": [
      "Odd: [1, 3, 5, 7]\n",
      "Even: [10, 8, 6, 2]\n"
     ]
    }
   ],
   "source": [
    "def separate_and_sort_numbers(input_list):\n",
    "    odd_numbers = []\n",
    "    even_numbers = []\n",
    "    for num in input_list:\n",
    "        if num % 2 == 0:\n",
    "            even_numbers.append(num)\n",
    "        else:\n",
    "            odd_numbers.append(num)\n",
    "    odd_numbers.sort()\n",
    "    even_numbers.sort(reverse=True)\n",
    "\n",
    "    return odd_numbers, even_numbers\n",
    "\n",
    "input_list = [5, 8, 3, 10, 2, 7, 1, 6]\n",
    "odd, even = separate_and_sort_numbers(input_list)\n",
    "print(\"Odd:\", odd)\n",
    "print(\"Even:\", even)"
   ]
  },
  {
   "cell_type": "markdown",
   "metadata": {
    "id": "X_LfOnqskNTe"
   },
   "source": [
    "# **Question No 06**\n",
    "\n",
    "Write a program that uses a for loop to count the frequency of each character in a given string and stores the result in a dictionary.\n",
    "\n",
    "The program should ignore spaces and be case-insensitive.\n",
    "Display the dictionary as the final output.\n",
    "\n",
    "**Example:**\n",
    "\n",
    "Input: \"Programming is fun\"  \n",
    "Output: {'p': 1, 'r': 2, 'o': 1, 'g': 2, 'a': 1, 'm': 2, 'i': 2, 'n': 2, 's': 1, 'f': 1, 'u': 1}\n",
    "\n"
   ]
  },
  {
   "cell_type": "code",
   "execution_count": 11,
   "metadata": {
    "id": "1_-djYt-kW8F"
   },
   "outputs": [
    {
     "name": "stdout",
     "output_type": "stream",
     "text": [
      "{'p': 1, 'r': 2, 'o': 1, 'g': 2, 'a': 1, 'm': 2, 'i': 2, 'n': 2, 's': 1, 'f': 1, 'u': 1}\n"
     ]
    }
   ],
   "source": [
    "def count_char_frequency(input_string):\n",
    "    input_string = input_string.replace(\" \", \"\").lower()\n",
    "    frequency_dict = {}\n",
    "    for char in input_string:\n",
    "        if char in frequency_dict:\n",
    "            frequency_dict[char] += 1\n",
    "        else:\n",
    "            frequency_dict[char] = 1\n",
    "    return frequency_dict\n",
    "input_string = \"Programming is fun\"\n",
    "result = count_char_frequency(input_string)\n",
    "print(result)"
   ]
  },
  {
   "cell_type": "code",
   "execution_count": null,
   "metadata": {},
   "outputs": [],
   "source": []
  }
 ],
 "metadata": {
  "colab": {
   "provenance": []
  },
  "kernelspec": {
   "display_name": "Python 3 (ipykernel)",
   "language": "python",
   "name": "python3"
  },
  "language_info": {
   "codemirror_mode": {
    "name": "ipython",
    "version": 3
   },
   "file_extension": ".py",
   "mimetype": "text/x-python",
   "name": "python",
   "nbconvert_exporter": "python",
   "pygments_lexer": "ipython3",
   "version": "3.12.7"
  }
 },
 "nbformat": 4,
 "nbformat_minor": 4
}
