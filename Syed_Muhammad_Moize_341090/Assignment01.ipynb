{
 "cells": [
  {
   "cell_type": "markdown",
   "metadata": {},
   "source": [
    "# Part -1 Python Basics (Variables)"
   ]
  },
  {
   "cell_type": "markdown",
   "metadata": {},
   "source": [
    "1. Print Your Name with your Father name and Date of birth using suitable escape sequence charactor"
   ]
  },
  {
   "cell_type": "code",
   "execution_count": 5,
   "metadata": {},
   "outputs": [
    {
     "name": "stdout",
     "output_type": "stream",
     "text": [
      "Name = Syed Muhammad Moize \n",
      "Father Name = Syed Muhammad Khalid \n",
      "Date of Birth = 9th December 1997.\n"
     ]
    }
   ],
   "source": [
    "# Write your code here\n",
    "Name = 'Syed Muhammad Moize'\n",
    "FatherName = 'Syed Muhammad Khalid'\n",
    "DOB = '9th December 1997'\n",
    "print(f'Name = {Name} \\nFather Name = {FatherName} \\nDate of Birth = {DOB}.')"
   ]
  },
  {
   "cell_type": "markdown",
   "metadata": {},
   "source": [
    "2. Write your small bio using variables and print it using print function"
   ]
  },
  {
   "cell_type": "code",
   "execution_count": 6,
   "metadata": {},
   "outputs": [
    {
     "name": "stdout",
     "output_type": "stream",
     "text": [
      "My Name is Syed Muhammad Moize and My Father Name is Syed Muhammad Khalid and My Date of Birth is 9th December 1997.\n"
     ]
    }
   ],
   "source": [
    "# Write your code here\n",
    "Name = 'Syed Muhammad Moize'\n",
    "FatherName = 'Syed Muhammad Khalid'\n",
    "DOB = '9th December 1997'\n",
    "print(f'My Name is {Name} and My Father Name is {FatherName} and My Date of Birth is {DOB}.')"
   ]
  },
  {
   "cell_type": "markdown",
   "metadata": {},
   "source": [
    "3. Write a program in which use all the operators we can use in Python"
   ]
  },
  {
   "cell_type": "code",
   "execution_count": 8,
   "metadata": {},
   "outputs": [
    {
     "name": "stdout",
     "output_type": "stream",
     "text": [
      "All operator that I have used till now\n"
     ]
    }
   ],
   "source": [
    "# Write your code here\n",
    "number = 10\n",
    "if number > 10 or number < 10 or number >= 10 or number <= 10 or number %2==0 or number // 2:\n",
    "    print('All operator that I have used till now')\n",
    "else:\n",
    "    print('Sorry for those operator which I have not used.')\n",
    "    "
   ]
  },
  {
   "cell_type": "markdown",
   "metadata": {},
   "source": [
    "4. Completes the following steps of small task:\n",
    "    - Mention Marks of English , Islamiat and Maths out of 100 in 3 different variables\n",
    "    - Mention Variable of Total Marks and assign 300 to it\n",
    "    - Calculate Percentage"
   ]
  },
  {
   "cell_type": "code",
   "execution_count": 12,
   "metadata": {},
   "outputs": [
    {
     "name": "stdout",
     "output_type": "stream",
     "text": [
      "Your percentage is:  92.0\n"
     ]
    }
   ],
   "source": [
    "# Write your code here\n",
    "English = 80\n",
    "Islamiat = 99\n",
    "Math = 97\n",
    "Total_Marks = 300\n",
    "percentage = float(((English+Islamiat+Math) / Total_Marks) * 100)\n",
    "print('Your percentage is: ', percentage)\n"
   ]
  },
  {
   "cell_type": "markdown",
   "metadata": {},
   "source": [
    "# Part -2 Python Basics (Conditional Statements)"
   ]
  },
  {
   "cell_type": "markdown",
   "metadata": {},
   "source": [
    "1) A company decided to give bonus of 5% to employee if his/her year of service is more than 5 years.\n",
    "Ask user for their salary and year of service and print the net bonus amount."
   ]
  },
  {
   "cell_type": "code",
   "execution_count": 14,
   "metadata": {},
   "outputs": [
    {
     "name": "stdin",
     "output_type": "stream",
     "text": [
      "Please Enter your salary:  1000\n",
      "Please Enter your year of service:  5\n"
     ]
    },
    {
     "name": "stdout",
     "output_type": "stream",
     "text": [
      "you are eligible for bonus\n",
      "your salary after bonus will be:  1050.0\n"
     ]
    }
   ],
   "source": [
    "#Type your code here\n",
    "salary = int(input('Please Enter your salary: '))\n",
    "service = int(input('Please Enter your year of service: '))\n",
    "if service == 5:\n",
    "    print('you are eligible for bonus')\n",
    "    bonus = salary * 0.05\n",
    "    salary_after_adding_bonus = salary + bonus\n",
    "    print('your salary after bonus will be: ', salary_after_adding_bonus)\n",
    "else:\n",
    "    print('Sorry you are not elgibile for bonus')"
   ]
  },
  {
   "cell_type": "markdown",
   "metadata": {},
   "source": [
    "\n",
    "2) Write a program to check whether a person is eligible for voting or not. (accept age from user) if age is greater than 17 eligible otherwise not eligible"
   ]
  },
  {
   "cell_type": "code",
   "execution_count": 15,
   "metadata": {},
   "outputs": [
    {
     "name": "stdin",
     "output_type": "stream",
     "text": [
      "Please Enter your age:  18\n"
     ]
    },
    {
     "name": "stdout",
     "output_type": "stream",
     "text": [
      "you are elgibile for voting\n"
     ]
    }
   ],
   "source": [
    "#Type your code here\n",
    "age = int(input('Please Enter your age: '))\n",
    "if age > 17:\n",
    "    print('you are elgibile for voting')\n",
    "else:\n",
    "    print('Sorry you are not elgibile for voting')"
   ]
  },
  {
   "cell_type": "markdown",
   "metadata": {},
   "source": [
    "\n",
    "3) Write a program to check whether a number entered by user is even or odd."
   ]
  },
  {
   "cell_type": "code",
   "execution_count": 16,
   "metadata": {},
   "outputs": [
    {
     "name": "stdin",
     "output_type": "stream",
     "text": [
      "Please Enter Number:  9\n"
     ]
    },
    {
     "name": "stdout",
     "output_type": "stream",
     "text": [
      "odd\n"
     ]
    }
   ],
   "source": [
    "#Type your code here\n",
    "number = int(input('Please Enter Number: '))\n",
    "if number %2 == 0:\n",
    "    print('even')\n",
    "else:\n",
    "    print('odd')"
   ]
  },
  {
   "cell_type": "markdown",
   "metadata": {},
   "source": [
    "4) Write a program to check whether a number is divisible by 7 or not.\n",
    "Show Answer"
   ]
  },
  {
   "cell_type": "code",
   "execution_count": 18,
   "metadata": {},
   "outputs": [
    {
     "name": "stdout",
     "output_type": "stream",
     "text": [
      "7 will be divisible\n"
     ]
    }
   ],
   "source": [
    "#Type your code here\n",
    "number = 7\n",
    "if number %7 ==0:\n",
    "    print(f'{number} will be divisible')\n",
    "else:\n",
    "    print(f'{number} will not be divisible')\n"
   ]
  },
  {
   "cell_type": "markdown",
   "metadata": {},
   "source": [
    "5) Write a program to display \n",
    "\"Hello\" if a number entered by user is a multiple of five , otherwise print \"Bye\"."
   ]
  },
  {
   "cell_type": "code",
   "execution_count": 19,
   "metadata": {},
   "outputs": [
    {
     "name": "stdin",
     "output_type": "stream",
     "text": [
      "Please Enter Number:  5\n"
     ]
    },
    {
     "name": "stdout",
     "output_type": "stream",
     "text": [
      "hello\n"
     ]
    }
   ],
   "source": [
    "#Type your code here\n",
    "number = int(input('Please Enter Number: '))\n",
    "if number == 5:\n",
    "    print('hello')\n",
    "else:\n",
    "    print('Bye')"
   ]
  },
  {
   "cell_type": "markdown",
   "metadata": {},
   "source": [
    "7) Write a program to display the last digit of a number.\n"
   ]
  },
  {
   "cell_type": "code",
   "execution_count": 41,
   "metadata": {},
   "outputs": [
    {
     "name": "stdout",
     "output_type": "stream",
     "text": [
      "5\n"
     ]
    }
   ],
   "source": [
    "#Type your code here\n",
    "a = 45\n",
    "b = a % 10\n",
    "print(b)"
   ]
  },
  {
   "cell_type": "markdown",
   "metadata": {},
   "source": [
    "9) Take values of length and breadth of a rectangle from user and print if it is square or rectangle."
   ]
  },
  {
   "cell_type": "code",
   "execution_count": 42,
   "metadata": {},
   "outputs": [
    {
     "name": "stdin",
     "output_type": "stream",
     "text": [
      "Please Enter Length of Rectange:  5\n",
      "Please Enter Breadth of Rectange:  5\n"
     ]
    },
    {
     "name": "stdout",
     "output_type": "stream",
     "text": [
      "Square\n"
     ]
    }
   ],
   "source": [
    "#Type your code here \n",
    "length = int(input('Please Enter Length of Rectange: '))\n",
    "Breadth = int(input('Please Enter Breadth of Rectange: '))\n",
    "if length == Breadth and Breadth == length:\n",
    "    print('Square')\n",
    "else:\n",
    "    print('Rectangle')"
   ]
  },
  {
   "cell_type": "markdown",
   "metadata": {},
   "source": [
    "10) Take two int values from user and print greatest among them."
   ]
  },
  {
   "cell_type": "code",
   "execution_count": 45,
   "metadata": {},
   "outputs": [
    {
     "name": "stdin",
     "output_type": "stream",
     "text": [
      "Please Enter Number:  5\n",
      "Please Enter Number:  4\n"
     ]
    },
    {
     "name": "stdout",
     "output_type": "stream",
     "text": [
      "5 is greates among them\n"
     ]
    }
   ],
   "source": [
    "# Type your code here\n",
    "num1 = int(input('Please Enter Number: '))\n",
    "num2 = int(input('Please Enter Number: '))\n",
    "if num1 > num2:\n",
    "    print(f'{num1} is greates among them')\n",
    "else:\n",
    "    print(f'{num2}is greates among them')"
   ]
  },
  {
   "cell_type": "markdown",
   "metadata": {},
   "source": [
    "11) A shop will give discount of 10% if the cost of purchased quantity is more than 1000.\n",
    "Ask user for quantity\n",
    "Suppose, one unit will cost 100.\n",
    "Judge and print total cost for user."
   ]
  },
  {
   "cell_type": "code",
   "execution_count": 47,
   "metadata": {},
   "outputs": [
    {
     "name": "stdin",
     "output_type": "stream",
     "text": [
      "Please Enter Number of Quantity:  11\n"
     ]
    },
    {
     "name": "stdout",
     "output_type": "stream",
     "text": [
      "you are eligible for Discount\n"
     ]
    }
   ],
   "source": [
    "#Type your code here\n",
    "quantity = int(input('Please Enter Number of Quantity: '))\n",
    "cost = quantity * 100\n",
    "if cost >= 1000:\n",
    "    print('you are eligible for Discount')\n",
    "else:\n",
    "    print('you are not eligible for Discount')"
   ]
  },
  {
   "cell_type": "markdown",
   "metadata": {},
   "source": [
    "12) A school has following rules for grading system:\n",
    "\n",
    "a. Below 25 - F\n",
    "\n",
    "b. 25 to 45 - E\n",
    "\n",
    "c. 45 to 50 - D\n",
    "\n",
    "d. 50 to 60 - C\n",
    "\n",
    "e. 60 to 80 - B\n",
    "\n",
    "f. Above 80 - A\n",
    "\n",
    "Ask user to enter marks and print the corresponding grade."
   ]
  },
  {
   "cell_type": "code",
   "execution_count": 2,
   "metadata": {},
   "outputs": [],
   "source": [
    "#Type your code here\n",
    "per = int(input('Please Enter Your Number: '))\n",
    "if per >= 80 and per <= 100:\n",
    "    print('Grade A')\n",
    "elif per >= 60 and per < 80:\n",
    "    print('Grade B')\n",
    "elif per >= 50 and per < 60:\n",
    "    print('Grade C')\n",
    "elif per >= 45 and per < 50:\n",
    "    print('Grade D')\n",
    "elif per >= 25 and per < 45:\n",
    "    print('Grade E')\n",
    "elif per < 25:\n",
    "    print('Grade F')\n",
    "else:\n",
    "    print('Please Enter Valid Number')"
   ]
  },
  {
   "cell_type": "markdown",
   "metadata": {},
   "source": [
    "14)A student will not be allowed to sit in exam if his/her attendence is less than 75%.\n",
    "\n",
    "Take following input from user\n",
    "\n",
    "- Number of classes held\n",
    "\n",
    "- Number of classes attended.\n",
    "\n",
    "And print\n",
    "\n",
    "- percentage of class attended\n",
    "\n",
    "- Is student is allowed to sit in exam or not.\n"
   ]
  },
  {
   "cell_type": "code",
   "execution_count": 48,
   "metadata": {},
   "outputs": [
    {
     "name": "stdin",
     "output_type": "stream",
     "text": [
      "Please Enter of Number of classes Held:  100\n",
      "Please Enter of Number of Classes Attended:  70\n"
     ]
    },
    {
     "name": "stdout",
     "output_type": "stream",
     "text": [
      "student is not eligible for exames\n"
     ]
    }
   ],
   "source": [
    "#Type your code here\n",
    "classes_held = int(input('Please Enter of Number of classes Held: '))\n",
    "classes_attend = int(input('Please Enter of Number of Classes Attended: '))\n",
    "percentage = ((classes_attend / classes_held) * 100)\n",
    "if percentage >= 75:\n",
    "    print('student is eligile for exams')\n",
    "else:\n",
    "    print('student is not eligible for exames')"
   ]
  },
  {
   "cell_type": "markdown",
   "metadata": {},
   "source": [
    "15) Modify the above question to allow student to sit if he/she has medical cause. Ask user if he/she has medical cause or not ( 'Y' or 'N' ) and print accordingly."
   ]
  },
  {
   "cell_type": "code",
   "execution_count": 51,
   "metadata": {},
   "outputs": [
    {
     "name": "stdin",
     "output_type": "stream",
     "text": [
      "Please Enter of Number of classes Held:  100\n",
      "Please Enter of Number of Classes Attended:  70\n",
      "Do you have medical Cause?: Y/N?:  Y\n"
     ]
    },
    {
     "name": "stdout",
     "output_type": "stream",
     "text": [
      "student is eligile for exams\n"
     ]
    }
   ],
   "source": [
    "#Type your code here\n",
    "classes_held = int(input('Please Enter of Number of classes Held: '))\n",
    "classes_attend = int(input('Please Enter of Number of Classes Attended: '))\n",
    "percentage = ((classes_attend / classes_held) * 100)\n",
    "cause = input('Do you have medical Cause?: Y/N?: ')\n",
    "if percentage >= 75 or cause == 'Y':\n",
    "    print('student is eligile for exams')\n",
    "else:\n",
    "    print('student is not eligible for exames')"
   ]
  },
  {
   "cell_type": "markdown",
   "metadata": {},
   "source": [
    "16) Write a program to check if a year is leap year or not.\n",
    "\n",
    "If a year is divisible by 4 then it is leap year but if the year is century year like 2000, 1900, 2100 then it must be divisible by 400."
   ]
  },
  {
   "cell_type": "code",
   "execution_count": 52,
   "metadata": {},
   "outputs": [
    {
     "name": "stdin",
     "output_type": "stream",
     "text": [
      "Please Enter Year:  2024\n"
     ]
    },
    {
     "name": "stdout",
     "output_type": "stream",
     "text": [
      "2024 is leap year\n"
     ]
    }
   ],
   "source": [
    "#Type your code here\n",
    "year = int(input('Please Enter Year: '))\n",
    "if year%4 ==0:\n",
    "    print(f'{year} is leap year')\n",
    "else:\n",
    "    print(f'{year} is not leap year')"
   ]
  },
  {
   "cell_type": "markdown",
   "metadata": {},
   "source": [
    "17) Ask user to enter age, gender ( M or F ), marital status ( Y or N ) and then using following rules print their place of service.\n",
    "\n",
    "if employee is female, then she will work only in urban areas.\n",
    "\n",
    "if employee is a male and age is in between 20 to 40 then he may work in anywhere\n",
    "\n",
    "if employee is male and age is in between 40 t0 60 then he will work in urban areas only.\n",
    "\n",
    "And any other input of age should print \"ERROR\""
   ]
  },
  {
   "cell_type": "code",
   "execution_count": 54,
   "metadata": {},
   "outputs": [
    {
     "name": "stdin",
     "output_type": "stream",
     "text": [
      "Please Enter Your age:  21\n",
      "Please Enter Your Gender:  M\n",
      "Please Enter your marital Status. Y or N?:  Y\n"
     ]
    },
    {
     "name": "stdout",
     "output_type": "stream",
     "text": [
      "he may work anywhere\n"
     ]
    }
   ],
   "source": [
    "#Type your code here\n",
    "age = int(input('Please Enter Your age: '))\n",
    "gender = input('Please Enter Your Gender: ')\n",
    "m_status = input('Please Enter your marital Status. Y or N?: ')\n",
    "if gender == 'F':\n",
    "    print('She will work only in urban areas')\n",
    "elif gender == 'M' and age >= 20 and age <= 40:\n",
    "    print('he may work anywhere')\n",
    "elif gender == 'M' and age >= 40 and age <= 60:\n",
    "    print('he will only work in urban areas only')\n",
    "else:\n",
    "    print('Please Enter Valid age')"
   ]
  },
  {
   "cell_type": "markdown",
   "metadata": {},
   "source": [
    "6) Write a program to calculate the electricity bill (accept number of unit from user) according to the following criteria :\n",
    "     Unit                                                     Price  \n",
    "uptp 100 units                                             no charge\n",
    "Next 200 units                                              Rs 5 per unit\n",
    "After 200 units                                             Rs 10 per unit\n",
    "(For example if input unit is 350 than total bill amount is Rs.3500\n",
    "(For example if input unit is 97 than total bill amount is Rs.0\n",
    "(For example if input unit is 150 than total bill amount is Rs.750"
   ]
  },
  {
   "cell_type": "markdown",
   "metadata": {},
   "source": [
    "13) Take input of age of 3 people by user and determine oldest and youngest among them."
   ]
  },
  {
   "cell_type": "code",
   "execution_count": 58,
   "metadata": {},
   "outputs": [
    {
     "name": "stdin",
     "output_type": "stream",
     "text": [
      "Please Enter Number of units:  350\n"
     ]
    },
    {
     "name": "stdout",
     "output_type": "stream",
     "text": [
      "Your Bill_Amount is : 3500\n"
     ]
    }
   ],
   "source": [
    "#Type your code here\n",
    "unit = int(input('Please Enter Number of units: '))\n",
    "if unit < 200:\n",
    "    print('No Charge')\n",
    "    bill_amount = 0\n",
    "    print('Your Bill_Amount is :', bill_amount)\n",
    "elif unit == 200:\n",
    "    bill_amount = unit * 5\n",
    "    print('Your Bill_Amount is :', bill_amount)\n",
    "elif unit > 200:\n",
    "    bill_amount = unit * 10\n",
    "    print('Your Bill_Amount is :', bill_amount)\n",
    "else:\n",
    "    print('Please Enter Valid Units')\n",
    "    \n",
    "    \n"
   ]
  },
  {
   "cell_type": "code",
   "execution_count": null,
   "metadata": {},
   "outputs": [],
   "source": []
  }
 ],
 "metadata": {
  "kernelspec": {
   "display_name": "Python 3 (ipykernel)",
   "language": "python",
   "name": "python3"
  },
  "language_info": {
   "codemirror_mode": {
    "name": "ipython",
    "version": 3
   },
   "file_extension": ".py",
   "mimetype": "text/x-python",
   "name": "python",
   "nbconvert_exporter": "python",
   "pygments_lexer": "ipython3",
   "version": "3.12.7"
  }
 },
 "nbformat": 4,
 "nbformat_minor": 4
}
