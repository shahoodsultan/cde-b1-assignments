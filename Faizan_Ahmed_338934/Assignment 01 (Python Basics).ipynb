{
 "cells": [
  {
   "cell_type": "markdown",
   "metadata": {},
   "source": [
    "# Part -1 Python Basics (Variables)"
   ]
  },
  {
   "cell_type": "markdown",
   "metadata": {},
   "source": [
    "1. Print Your Name with your Father name and Date of birth using suitable escape sequence charactor"
   ]
  },
  {
   "cell_type": "code",
   "execution_count": 1,
   "metadata": {},
   "outputs": [
    {
     "name": "stdout",
     "output_type": "stream",
     "text": [
      "My name is Faizan and my age is 20\n"
     ]
    }
   ],
   "source": [
    "# Write your code here\n",
    "name =\"Faizan\"\n",
    "age = 20\n",
    "print(f\"My name is {name} and my age is {age}\")"
   ]
  },
  {
   "cell_type": "markdown",
   "metadata": {},
   "source": [
    "2. Write your small bio using variables and print it using print function"
   ]
  },
  {
   "cell_type": "code",
   "execution_count": 3,
   "metadata": {},
   "outputs": [
    {
     "name": "stdout",
     "output_type": "stream",
     "text": [
      "My name is Faizan Ahmed and I am UnderGrad student\n"
     ]
    }
   ],
   "source": [
    "# Write your code here\n",
    "F_name=\"Faizan\"\n",
    "L_name=\"Ahmed\"\n",
    "Education=\"UnderGrad\"\n",
    "print(\"My name is\",F_name,L_name,\"and I am\",Education,\"student\")"
   ]
  },
  {
   "cell_type": "markdown",
   "metadata": {},
   "source": [
    "3. Write a program in which use all the operators we can use in Python"
   ]
  },
  {
   "cell_type": "code",
   "execution_count": 5,
   "metadata": {},
   "outputs": [
    {
     "name": "stdout",
     "output_type": "stream",
     "text": [
      "Random numbers: a = 8, b = 10\n",
      "Addition: a + b = 18\n",
      "Subtraction: a - b = -2\n",
      "Multiplication: a * b = 80\n",
      "Division: a / b = 0.8\n",
      "Floor Division: a // b = 0\n",
      "Modulus: a % b = 8\n",
      "Exponentiation: a ** b = 1073741824\n",
      "\n",
      "Comparison Operators:\n",
      "a == b: False\n",
      "a != b: True\n",
      "a > b: False\n",
      "a < b: True\n",
      "a >= b: False\n",
      "a <= b: True\n",
      "\n",
      "Logical Operators:\n",
      "x and y: False\n",
      "x or y: True\n",
      "not x: False\n",
      "\n",
      "Bitwise Operators:\n",
      "c & d: 1\n",
      "c | d: 7\n",
      "c ^ d: 6\n",
      "~c: -6\n",
      "c << 1: 10\n",
      "c >> 1: 2\n",
      "\n",
      "Assignment Operators:\n",
      "e += 5: 15\n",
      "e -= 3: 12\n",
      "e *= 2: 24\n",
      "e /= 4: 6.0\n",
      "\n",
      "Identity Operators:\n",
      "f is g: True\n",
      "f is h: False\n",
      "f is not h: True\n",
      "\n",
      "Membership Operators:\n",
      "2 in f: True\n",
      "4 not in f: True\n",
      "\n",
      "Using math module:\n",
      "Square root of a: 2.8284271247461903\n",
      "Factorial of b: 3628800\n",
      "Cosine of 0: 1.0\n",
      "Value of pi: 3.141592653589793\n"
     ]
    }
   ],
   "source": [
    "\n",
    "import math\n",
    "import random\n",
    "\n",
    "# Function to demonstrate various operators\n",
    "def operator_demo():\n",
    "    # Arithmetic Operators\n",
    "    a = random.randint(1, 10)\n",
    "    b = random.randint(1, 10)\n",
    "    \n",
    "    print(f\"Random numbers: a = {a}, b = {b}\")\n",
    "    print(f\"Addition: a + b = {a + b}\")\n",
    "    print(f\"Subtraction: a - b = {a - b}\")\n",
    "    print(f\"Multiplication: a * b = {a * b}\")\n",
    "    print(f\"Division: a / b = {a / b}\")\n",
    "    print(f\"Floor Division: a // b = {a // b}\")\n",
    "    print(f\"Modulus: a % b = {a % b}\")\n",
    "    print(f\"Exponentiation: a ** b = {a ** b}\")\n",
    "\n",
    "    # Comparison Operators\n",
    "    print(f\"\\nComparison Operators:\")\n",
    "    print(f\"a == b: {a == b}\")\n",
    "    print(f\"a != b: {a != b}\")\n",
    "    print(f\"a > b: {a > b}\")\n",
    "    print(f\"a < b: {a < b}\")\n",
    "    print(f\"a >= b: {a >= b}\")\n",
    "    print(f\"a <= b: {a <= b}\")\n",
    "\n",
    "    # Logical Operators\n",
    "    x = True\n",
    "    y = False\n",
    "    print(f\"\\nLogical Operators:\")\n",
    "    print(f\"x and y: {x and y}\")\n",
    "    print(f\"x or y: {x or y}\")\n",
    "    print(f\"not x: {not x}\")\n",
    "\n",
    "    # Bitwise Operators\n",
    "    c = 5  # 0101 in binary\n",
    "    d = 3  # 0011 in binary\n",
    "    print(f\"\\nBitwise Operators:\")\n",
    "    print(f\"c & d: {c & d}\")  # AND\n",
    "    print(f\"c | d: {c | d}\")  # OR\n",
    "    print(f\"c ^ d: {c ^ d}\")  # XOR\n",
    "    print(f\"~c: {~c}\")        # NOT\n",
    "    print(f\"c << 1: {c << 1}\")  # Left Shift\n",
    "    print(f\"c >> 1: {c >> 1}\")  # Right Shift\n",
    "\n",
    "    # Assignment Operators\n",
    "    e = 10\n",
    "    print(f\"\\nAssignment Operators:\")\n",
    "    e += 5  # e = e + 5\n",
    "    print(f\"e += 5: {e}\")\n",
    "    e -= 3  # e = e - 3\n",
    "    print(f\"e -= 3: {e}\")\n",
    "    e *= 2  # e = e * 2\n",
    "    print(f\"e *= 2: {e}\")\n",
    "    e /= 4  # e = e / 4\n",
    "    print(f\"e /= 4: {e}\")\n",
    "\n",
    "    # Identity Operators\n",
    "    f = [1, 2, 3]\n",
    "    g = f\n",
    "    h = f[:]\n",
    "    print(f\"\\nIdentity Operators:\")\n",
    "    print(f\"f is g: {f is g}\")\n",
    "    print(f\"f is h: {f is h}\")\n",
    "    print(f\"f is not h: {f is not h}\")\n",
    "\n",
    "    # Membership Operators\n",
    "    print(f\"\\nMembership Operators:\")\n",
    "    print(f\"2 in f: {2 in f}\")\n",
    "    print(f\"4 not in f: {4 not in f}\")\n",
    "\n",
    "    # Using math module\n",
    "    print(f\"\\nUsing math module:\")\n",
    "    print(f\"Square root of a: {math.sqrt(a)}\")\n",
    "    print(f\"Factorial of b: {math.factorial(b)}\")\n",
    "    print(f\"Cosine of 0: {math.cos(0)}\")\n",
    "    print(f\"Value of pi: {math.pi}\")\n",
    "\n",
    "# Run the operator demonstration\n",
    "operator_demo()"
   ]
  },
  {
   "cell_type": "markdown",
   "metadata": {},
   "source": [
    "4. Completes the following steps of small task:\n",
    "    - Mention Marks of English , Islamiat and Maths out of 100 in 3 different variables\n",
    "    - Mention Variable of Total Marks and assign 300 to it\n",
    "    - Calculate Percentage"
   ]
  },
  {
   "cell_type": "code",
   "execution_count": 7,
   "metadata": {},
   "outputs": [
    {
     "name": "stdout",
     "output_type": "stream",
     "text": [
      "Obtained Marks: 250\n",
      "Percentage: 83.33333333333334\n"
     ]
    }
   ],
   "source": [
    "# Write your code here\n",
    "# Step 1: Declare marks for each subject\n",
    "english_marks = 85  # Example marks out of 100\n",
    "islamiat_marks = 90  # Example marks out of 100\n",
    "maths_marks = 75  # Example marks out of 100\n",
    "\n",
    "# Step 2: Total marks\n",
    "total_marks = 300\n",
    "\n",
    "# Step 3: Calculate obtained marks\n",
    "obtained_marks = english_marks + islamiat_marks + maths_marks\n",
    "\n",
    "# Step 4: Calculate percentage\n",
    "percentage = (obtained_marks / total_marks) * 100\n",
    "\n",
    "# Step 5: Print results\n",
    "print(\"Obtained Marks:\", obtained_marks)\n",
    "print(\"Percentage:\", percentage)\n"
   ]
  },
  {
   "cell_type": "markdown",
   "metadata": {},
   "source": [
    "# Part -2 Python Basics (Conditional Statements)"
   ]
  },
  {
   "cell_type": "markdown",
   "metadata": {},
   "source": [
    "1) A company decided to give bonus of 5% to employee if his/her year of service is more than 5 years.\n",
    "Ask user for their salary and year of service and print the net bonus amount."
   ]
  },
  {
   "cell_type": "code",
   "execution_count": 9,
   "metadata": {},
   "outputs": [
    {
     "name": "stdin",
     "output_type": "stream",
     "text": [
      "Enter your salary:  25000\n",
      "Enter your years of service:  6\n"
     ]
    },
    {
     "name": "stdout",
     "output_type": "stream",
     "text": [
      "Net Bonus Amount: $1250.00\n"
     ]
    }
   ],
   "source": [
    "# Ask user for their salary and years of service\n",
    "salary = float(input(\"Enter your salary: \"))\n",
    "years_of_service = int(input(\"Enter your years of service: \"))\n",
    "\n",
    "# Calculate the bonus using a single line\n",
    "bonus = salary * 0.05 if years_of_service > 5 else 0\n",
    "\n",
    "# Print the net bonus amount\n",
    "print(f\"Net Bonus Amount: ${bonus:.2f}\")"
   ]
  },
  {
   "cell_type": "markdown",
   "metadata": {},
   "source": [
    "\n",
    "2) Write a program to check whether a person is eligible for voting or not. (accept age from user) if age is greater than 17 eligible otherwise not eligible"
   ]
  },
  {
   "cell_type": "code",
   "execution_count": 11,
   "metadata": {},
   "outputs": [
    {
     "name": "stdin",
     "output_type": "stream",
     "text": [
      "Enter your age:  19\n"
     ]
    },
    {
     "name": "stdout",
     "output_type": "stream",
     "text": [
      "You are eligible to vote.\n"
     ]
    }
   ],
   "source": [
    "# Ask user for their age\n",
    "age = int(input(\"Enter your age: \"))\n",
    "\n",
    "# Check eligibility for voting\n",
    "if age > 17:\n",
    "    print(\"You are eligible to vote.\")\n",
    "else:\n",
    "    print(\"You are not eligible to vote.\")"
   ]
  },
  {
   "cell_type": "markdown",
   "metadata": {},
   "source": [
    "\n",
    "3) Write a program to check whether a number entered by user is even or odd."
   ]
  },
  {
   "cell_type": "code",
   "execution_count": 13,
   "metadata": {},
   "outputs": [
    {
     "name": "stdin",
     "output_type": "stream",
     "text": [
      "Enter the number 44\n"
     ]
    },
    {
     "name": "stdout",
     "output_type": "stream",
     "text": [
      "numbe is even\n"
     ]
    }
   ],
   "source": [
    "#Type your code here\n",
    "\n",
    "number=int(input(\"Enter the number\"))\n",
    "if number%2==0:\n",
    "    print('numbe is even')\n",
    "else:\n",
    "    print(\"number is odd\")\n",
    "\n"
   ]
  },
  {
   "cell_type": "markdown",
   "metadata": {},
   "source": [
    "4) Write a program to check whether a number is divisible by 7 or not.\n",
    "Show Answer"
   ]
  },
  {
   "cell_type": "code",
   "execution_count": 19,
   "metadata": {},
   "outputs": [
    {
     "name": "stdin",
     "output_type": "stream",
     "text": [
      "Enter the number 56\n"
     ]
    },
    {
     "name": "stdout",
     "output_type": "stream",
     "text": [
      "numbe is divisible by 7 \n"
     ]
    }
   ],
   "source": [
    "#Type your code here\n",
    "number=int(input(\"Enter the number\"))\n",
    "if number%7 ==0:\n",
    "    print('numbe is divisible by 7 ')\n",
    "else:\n",
    "    print(\"number is not divisible by seven\")\n"
   ]
  },
  {
   "cell_type": "markdown",
   "metadata": {},
   "source": [
    "5) Write a program to display \n",
    "\"Hello\" if a number entered by user is a multiple of five , otherwise print \"Bye\"."
   ]
  },
  {
   "cell_type": "code",
   "execution_count": 21,
   "metadata": {},
   "outputs": [
    {
     "name": "stdin",
     "output_type": "stream",
     "text": [
      "Enter the number 25\n"
     ]
    },
    {
     "name": "stdout",
     "output_type": "stream",
     "text": [
      "hello \n"
     ]
    }
   ],
   "source": [
    "#Type your code here\n",
    "number=int(input(\"Enter the number\"))\n",
    "if number%5==0:\n",
    "    print('hello ')\n",
    "else:\n",
    "    print(\"bye\")\n"
   ]
  },
  {
   "cell_type": "markdown",
   "metadata": {},
   "source": [
    "7) Write a program to display the last digit of a number.\n"
   ]
  },
  {
   "cell_type": "code",
   "execution_count": 23,
   "metadata": {},
   "outputs": [
    {
     "name": "stdin",
     "output_type": "stream",
     "text": [
      "enter a number 333455\n"
     ]
    },
    {
     "name": "stdout",
     "output_type": "stream",
     "text": [
      "5\n"
     ]
    }
   ],
   "source": [
    "#Type your code here\n",
    "number=input('enter a number')\n",
    "print(number[-1])"
   ]
  },
  {
   "cell_type": "markdown",
   "metadata": {},
   "source": [
    "9) Take values of length and breadth of a rectangle from user and print if it is square or rectangle."
   ]
  },
  {
   "cell_type": "code",
   "execution_count": 25,
   "metadata": {},
   "outputs": [
    {
     "name": "stdin",
     "output_type": "stream",
     "text": [
      "enter length 55\n",
      "enter breadth 55\n"
     ]
    },
    {
     "name": "stdout",
     "output_type": "stream",
     "text": [
      "it is a square\n"
     ]
    }
   ],
   "source": [
    "#Type your code here \n",
    "length=int(input('enter length'))\n",
    "breadth=int(input('enter breadth'))\n",
    "if length==breadth:\n",
    "    print('it is a square')\n",
    "else:\n",
    "    print('it is a rectangle')\n"
   ]
  },
  {
   "cell_type": "markdown",
   "metadata": {},
   "source": [
    "10) Take two int values from user and print greatest among them."
   ]
  },
  {
   "cell_type": "code",
   "execution_count": 27,
   "metadata": {},
   "outputs": [
    {
     "name": "stdin",
     "output_type": "stream",
     "text": [
      "Enter first number 22\n",
      "Enter second number 34\n"
     ]
    },
    {
     "name": "stdout",
     "output_type": "stream",
     "text": [
      "34\n"
     ]
    }
   ],
   "source": [
    "# Type your code here\n",
    "number1=int(input('Enter first number'))\n",
    "number2=int(input('Enter second number'))\n",
    "if number1>number2:\n",
    "    print(number1)\n",
    "else:\n",
    "    print(number2)"
   ]
  },
  {
   "cell_type": "markdown",
   "metadata": {},
   "source": [
    "11) A shop will give discount of 10% if the cost of purchased quantity is more than 1000.\n",
    "Ask user for quantity\n",
    "Suppose, one unit will cost 100.\n",
    "Judge and print total cost for user."
   ]
  },
  {
   "cell_type": "code",
   "execution_count": 29,
   "metadata": {},
   "outputs": [
    {
     "name": "stdin",
     "output_type": "stream",
     "text": [
      "Enter the quantity of items you want to purchase:  2\n"
     ]
    },
    {
     "name": "stdout",
     "output_type": "stream",
     "text": [
      "The total cost for your purchase is: 200.00\n"
     ]
    }
   ],
   "source": [
    "#Type your code here\n",
    "# Constants\n",
    "unit_cost = 100\n",
    "discount_threshold = 1000\n",
    "discount_rate = 0.10\n",
    "\n",
    "# Ask user for quantity\n",
    "quantity = int(input(\"Enter the quantity of items you want to purchase: \"))\n",
    "\n",
    "# Calculate total cost\n",
    "total_cost = quantity * unit_cost\n",
    "\n",
    "# Apply discount if applicable\n",
    "if total_cost > discount_threshold:\n",
    "    total_cost -= total_cost * discount_rate  # Apply 10% discount\n",
    "\n",
    "# Print the total cost\n",
    "print(f\"The total cost for your purchase is: {total_cost:.2f}\")"
   ]
  },
  {
   "cell_type": "markdown",
   "metadata": {},
   "source": [
    "12) A school has following rules for grading system:\n",
    "\n",
    "a. Below 25 - F\n",
    "\n",
    "b. 25 to 45 - E\n",
    "\n",
    "c. 45 to 50 - D\n",
    "\n",
    "d. 50 to 60 - C\n",
    "\n",
    "e. 60 to 80 - B\n",
    "\n",
    "f. Above 80 - A\n",
    "\n",
    "Ask user to enter marks and print the corresponding grade."
   ]
  },
  {
   "cell_type": "code",
   "execution_count": 33,
   "metadata": {},
   "outputs": [
    {
     "name": "stdin",
     "output_type": "stream",
     "text": [
      "Enter the marks obtained:  98\n"
     ]
    },
    {
     "name": "stdout",
     "output_type": "stream",
     "text": [
      "The corresponding grade is: A\n"
     ]
    }
   ],
   "source": [
    "#Type your code here\n",
    "# Function to determine the grade based on marks\n",
    "def determine_grade(marks):\n",
    "    if marks < 25:\n",
    "        return 'F'\n",
    "    elif 25 <= marks < 45:\n",
    "        return 'E'\n",
    "    elif 45 <= marks < 50:\n",
    "        return 'D'\n",
    "    elif 50 <= marks < 60:\n",
    "        return 'C'\n",
    "    elif 60 <= marks < 80:\n",
    "        return 'B'\n",
    "    elif marks > 80:\n",
    "        return 'A'\n",
    "    else:\n",
    "        return 'Invalid marks'\n",
    "\n",
    "# Ask user to enter marks\n",
    "try:\n",
    "    marks = float(input(\"Enter the marks obtained: \"))\n",
    "    \n",
    "    # Determine and print the corresponding grade\n",
    "    grade = determine_grade(marks)\n",
    "    print(f\"The corresponding grade is: {grade}\")\n",
    "except ValueError:\n",
    "    print(\"Please enter a valid number for marks.\")"
   ]
  },
  {
   "cell_type": "markdown",
   "metadata": {},
   "source": [
    "14)A student will not be allowed to sit in exam if his/her attendence is less than 75%.\n",
    "\n",
    "Take following input from user\n",
    "\n",
    "- Number of classes held\n",
    "\n",
    "- Number of classes attended.\n",
    "\n",
    "And print\n",
    "\n",
    "- percentage of class attended\n",
    "\n",
    "- Is student is allowed to sit in exam or not.\n"
   ]
  },
  {
   "cell_type": "code",
   "execution_count": 35,
   "metadata": {},
   "outputs": [
    {
     "name": "stdin",
     "output_type": "stream",
     "text": [
      "Enter the number of classes held:  33\n",
      "Enter the number of classes attended:  30\n"
     ]
    },
    {
     "name": "stdout",
     "output_type": "stream",
     "text": [
      "Percentage of classes attended: 90.91%\n",
      "The student is allowed to sit in the exam.\n"
     ]
    }
   ],
   "source": [
    "#Type your code here\n",
    "\n",
    "# Function to calculate attendance percentage\n",
    "def calculate_attendance_percentage(classes_held, classes_attended):\n",
    "    if classes_held == 0:  # To avoid division by zero\n",
    "        return 0\n",
    "    return (classes_attended / classes_held) * 100\n",
    "\n",
    "# Take input from user\n",
    "try:\n",
    "    classes_held = int(input(\"Enter the number of classes held: \"))\n",
    "    classes_attended = int(input(\"Enter the number of classes attended: \"))\n",
    "\n",
    "    # Calculate attendance percentage\n",
    "    attendance_percentage = calculate_attendance_percentage(classes_held, classes_attended)\n",
    "\n",
    "    # Print attendance percentage\n",
    "    print(f\"Percentage of classes attended: {attendance_percentage:.2f}%\")\n",
    "\n",
    "    # Check if the student is allowed to sit in the exam\n",
    "    if attendance_percentage < 75:\n",
    "        print(\"The student is NOT allowed to sit in the exam.\")\n",
    "    else:\n",
    "        print(\"The student is allowed to sit in the exam.\")\n",
    "\n",
    "except ValueError:\n",
    "    print(\"Please enter valid numbers for classes held and attended.\")"
   ]
  },
  {
   "cell_type": "markdown",
   "metadata": {},
   "source": [
    "15) Modify the above question to allow student to sit if he/she has medical cause. Ask user if he/she has medical cause or not ( 'Y' or 'N' ) and print accordingly."
   ]
  },
  {
   "cell_type": "code",
   "execution_count": 37,
   "metadata": {},
   "outputs": [
    {
     "name": "stdin",
     "output_type": "stream",
     "text": [
      "Enter the number of classes held:  33\n",
      "Enter the number of classes attended:  21\n"
     ]
    },
    {
     "name": "stdout",
     "output_type": "stream",
     "text": [
      "Percentage of classes attended: 63.64%\n"
     ]
    },
    {
     "name": "stdin",
     "output_type": "stream",
     "text": [
      "Do you have a medical cause? (Y/N):  Y\n"
     ]
    },
    {
     "name": "stdout",
     "output_type": "stream",
     "text": [
      "The student is allowed to sit in the exam.\n"
     ]
    }
   ],
   "source": [
    "# Function to calculate attendance percentage\n",
    "def calculate_attendance_percentage(classes_held, classes_attended):\n",
    "    if classes_held == 0:  # To avoid division by zero\n",
    "        return 0\n",
    "    return (classes_attended / classes_held) * 100\n",
    "\n",
    "# Main program\n",
    "def main():\n",
    "    try:\n",
    "        # Input for classes held and attended\n",
    "        classes_held = int(input(\"Enter the number of classes held: \"))\n",
    "        classes_attended = int(input(\"Enter the number of classes attended: \"))\n",
    "\n",
    "        # Calculate attendance percentage\n",
    "        attendance_percentage = calculate_attendance_percentage(classes_held, classes_attended)\n",
    "\n",
    "        # Print attendance percentage\n",
    "        print(f\"Percentage of classes attended: {attendance_percentage:.2f}%\")\n",
    "\n",
    "        # Check if the student has a medical cause\n",
    "        medical_cause = input(\"Do you have a medical cause? (Y/N): \").strip().upper()\n",
    "\n",
    "        # Determine if the student is allowed to sit in the exam\n",
    "        if attendance_percentage < 75 and medical_cause != 'Y':\n",
    "            print(\"The student is NOT allowed to sit in the exam.\")\n",
    "        else:\n",
    "            print(\"The student is allowed to sit in the exam.\")\n",
    "\n",
    "    except ValueError:\n",
    "        print(\"Please enter valid numbers for classes held and attended.\")\n",
    "\n",
    "# Run the main program\n",
    "if __name__ == \"__main__\":\n",
    "    main()"
   ]
  },
  {
   "cell_type": "markdown",
   "metadata": {},
   "source": [
    "16) Write a program to check if a year is leap year or not.\n",
    "\n",
    "If a year is divisible by 4 then it is leap year but if the year is century year like 2000, 1900, 2100 then it must be divisible by 400."
   ]
  },
  {
   "cell_type": "code",
   "execution_count": 43,
   "metadata": {},
   "outputs": [
    {
     "name": "stdin",
     "output_type": "stream",
     "text": [
      "Enter a year:  2000\n"
     ]
    },
    {
     "name": "stdout",
     "output_type": "stream",
     "text": [
      "2000 is a leap year.\n"
     ]
    }
   ],
   "source": [
    "#Type your code here\n",
    "# Function to check if a year is a leap year\n",
    "def is_leap_year(year):\n",
    "    # Check if the year is divisible by 4\n",
    "    if year % 4 == 0:\n",
    "        # Check if the year is a century year\n",
    "        if year % 100 == 0:\n",
    "            # If it's a century year, it must be divisible by 400\n",
    "            if year % 400 == 0:\n",
    "                return True  # It's a leap year\n",
    "            else:\n",
    "                return False  # It's not a leap year\n",
    "        else:\n",
    "            return True  # It's a leap year\n",
    "    else:\n",
    "        return False  # It's not a leap year\n",
    "\n",
    "# Main program\n",
    "def main():\n",
    "    try:\n",
    "        # Input year from the user\n",
    "        year = int(input(\"Enter a year: \"))\n",
    "        \n",
    "        # Check if the year is a leap year\n",
    "        if is_leap_year(year):\n",
    "            print(f\"{year} is a leap year.\")\n",
    "        else:\n",
    "            print(f\"{year} is not a leap year.\")\n",
    "    \n",
    "    except ValueError:\n",
    "        print(\"Please enter a valid year.\")\n",
    "\n",
    "# Run the main program\n",
    "if __name__ == \"__main__\":\n",
    "    main()"
   ]
  },
  {
   "cell_type": "markdown",
   "metadata": {},
   "source": [
    "17) Ask user to enter age, gender ( M or F ), marital status ( Y or N ) and then using following rules print their place of service.\n",
    "\n",
    "if employee is female, then she will work only in urban areas.\n",
    "\n",
    "if employee is a male and age is in between 20 to 40 then he may work in anywhere\n",
    "\n",
    "if employee is male and age is in between 40 t0 60 then he will work in urban areas only.\n",
    "\n",
    "And any other input of age should print \"ERROR\""
   ]
  },
  {
   "cell_type": "code",
   "execution_count": 47,
   "metadata": {},
   "outputs": [
    {
     "name": "stdin",
     "output_type": "stream",
     "text": [
      "Enter your age:  22\n",
      "Enter your gender (M or F):  F\n",
      "Enter your marital status (Y or N):  N\n"
     ]
    },
    {
     "name": "stdout",
     "output_type": "stream",
     "text": [
      "She will work only in urban areas.\n"
     ]
    }
   ],
   "source": [
    "#Type your code here\n",
    "# Function to determine place of service\n",
    "def determine_place_of_service(age, gender):\n",
    "    if gender == 'F':\n",
    "        return \"She will work only in urban areas.\"\n",
    "    elif gender == 'M':\n",
    "        if 20 <= age <= 40:\n",
    "            return \"He may work anywhere.\"\n",
    "        elif 40 < age <= 60:\n",
    "            return \"He will work in urban areas only.\"\n",
    "        else:\n",
    "            return \"ERROR\"\n",
    "    else:\n",
    "        return \"ERROR\"\n",
    "\n",
    "# Main program\n",
    "def main():\n",
    "    try:\n",
    "        # Input from the user\n",
    "        age = int(input(\"Enter your age: \"))\n",
    "        gender = input(\"Enter your gender (M or F): \").strip().upper()\n",
    "        marital_status = input(\"Enter your marital status (Y or N): \").strip().upper()\n",
    "\n",
    "        # Determine place of service based on age and gender\n",
    "        result = determine_place_of_service(age, gender)\n",
    "        print(result)\n",
    "\n",
    "    except ValueError:\n",
    "        print(\"Please enter a valid age.\")\n",
    "\n",
    "# Run the main program\n",
    "if __name__ == \"__main__\":\n",
    "    main()"
   ]
  },
  {
   "cell_type": "markdown",
   "metadata": {},
   "source": [
    "6) Write a program to calculate the electricity bill (accept number of unit from user) according to the following criteria :\n",
    "     Unit                                                     Price  \n",
    "uptp 100 units                                             no charge\n",
    "Next 200 units                                              Rs 5 per unit\n",
    "After 200 units                                             Rs 10 per unit\n",
    "(For example if input unit is 350 than total bill amount is Rs.3500\n",
    "(For example if input unit is 97 than total bill amount is Rs.0\n",
    "(For example if input unit is 150 than total bill amount is Rs.750"
   ]
  },
  {
   "cell_type": "code",
   "execution_count": 53,
   "metadata": {},
   "outputs": [
    {
     "name": "stdin",
     "output_type": "stream",
     "text": [
      "Enter the number of units consumed:  666\n"
     ]
    },
    {
     "name": "stdout",
     "output_type": "stream",
     "text": [
      "The total electricity bill is: Rs. 4660.00\n"
     ]
    }
   ],
   "source": [
    "def calculate_electricity_bill(units):\n",
    "    if units <= 100:\n",
    "        bill = 0\n",
    "    elif units <= 300:\n",
    "        bill = (units - 100) * 5\n",
    "    else:\n",
    "        bill = (200 * 5) + ((units - 300) * 10)\n",
    "    \n",
    "    return bill\n",
    "\n",
    "# Accept number of units from the user\n",
    "units_input = input(\"Enter the number of units consumed: \")\n",
    "\n",
    "# Check if the input is a valid number\n",
    "if units_input.isdigit():\n",
    "    units = float(units_input)\n",
    "    if units < 0:\n",
    "        print(\"Please enter a valid number of units (non-negative).\")\n",
    "    else:\n",
    "        total_bill = calculate_electricity_bill(units)\n",
    "        print(f\"The total electricity bill is: Rs. {total_bill:.2f}\")\n",
    "else:\n",
    "    print(\"Invalid input! Please enter a numeric value.\")"
   ]
  },
  {
   "cell_type": "markdown",
   "metadata": {},
   "source": [
    "13) Take input of age of 3 people by user and determine oldest and youngest among them."
   ]
  },
  {
   "cell_type": "code",
   "execution_count": 55,
   "metadata": {},
   "outputs": [
    {
     "name": "stdin",
     "output_type": "stream",
     "text": [
      "Enter the age of person 1:  21\n",
      "Enter the age of person 2:  214\n",
      "Enter the age of person 3:  3333\n"
     ]
    },
    {
     "name": "stdout",
     "output_type": "stream",
     "text": [
      "The oldest age is: 3333\n",
      "The youngest age is: 21\n"
     ]
    }
   ],
   "source": [
    "#Type your code here\n",
    "\n",
    "# Function to determine the oldest and youngest\n",
    "def find_oldest_and_youngest(ages):\n",
    "    oldest = max(ages)\n",
    "    youngest = min(ages)\n",
    "    return oldest, youngest\n",
    "\n",
    "# Main program\n",
    "def main():\n",
    "    ages = []\n",
    "    \n",
    "    # Input ages from the user\n",
    "    for i in range(3):\n",
    "        while True:\n",
    "            try:\n",
    "                age = int(input(f\"Enter the age of person {i + 1}: \"))\n",
    "                if age < 0:\n",
    "                    print(\"Please enter a valid age (non-negative).\")\n",
    "                else:\n",
    "                    ages.append(age)\n",
    "                    break\n",
    "            except ValueError:\n",
    "                print(\"Please enter a valid number.\")\n",
    "\n",
    "    # Find the oldest and youngest\n",
    "    oldest, youngest = find_oldest_and_youngest(ages)\n",
    "\n",
    "    # Print the results\n",
    "    print(f\"The oldest age is: {oldest}\")\n",
    "    print(f\"The youngest age is: {youngest}\")\n",
    "\n",
    "# Run the main program\n",
    "if __name__ == \"__main__\":\n",
    "    main()"
   ]
  }
 ],
 "metadata": {
  "kernelspec": {
   "display_name": "Python 3 (ipykernel)",
   "language": "python",
   "name": "python3"
  },
  "language_info": {
   "codemirror_mode": {
    "name": "ipython",
    "version": 3
   },
   "file_extension": ".py",
   "mimetype": "text/x-python",
   "name": "python",
   "nbconvert_exporter": "python",
   "pygments_lexer": "ipython3",
   "version": "3.12.4"
  }
 },
 "nbformat": 4,
 "nbformat_minor": 4
}
