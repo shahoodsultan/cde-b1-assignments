{
 "cells": [
  {
   "cell_type": "markdown",
   "metadata": {},
   "source": [
    "# Part -1 Python Basics (Variables)"
   ]
  },
  {
   "cell_type": "markdown",
   "metadata": {},
   "source": [
    "1. Print Your Name with your Father name and Date of birth using suitable escape sequence charactor"
   ]
  },
  {
   "cell_type": "code",
   "execution_count": null,
   "metadata": {},
   "outputs": [],
   "source": [
    "name = \"rafeh\"\n",
    "father_name = \"muhammad Qasim\"\n",
    "DOB = \"5/jan/2005\"\n",
    "print(name,father_name,DOB)"
   ]
  },
  {
   "cell_type": "markdown",
   "metadata": {},
   "source": [
    "2. Write your small bio using variables and print it using print function"
   ]
  },
  {
   "cell_type": "code",
   "execution_count": null,
   "metadata": {},
   "outputs": [],
   "source": [
    "\n",
    "name = \"John Doe\"\n",
    "age = 22\n",
    "university = \"Fuuast\"\n",
    "major = \"Computer Science\"\n",
    "hobby = \"coding\"\n",
    "\n",
    "# Print the bio\n",
    "print(f\"My name is {name}. I am {age} years old, studying {major} at {university}. In my free time, I enjoy {hobby}.\")\n"
   ]
  },
  {
   "cell_type": "markdown",
   "metadata": {},
   "source": [
    "3. Write a program in which use all the operators we can use in Python"
   ]
  },
  {
   "cell_type": "code",
   "execution_count": null,
   "metadata": {},
   "outputs": [],
   "source": [
    "\n",
    "x = True\n",
    "y = False\n",
    "print(\"Logical Operators:\")\n",
    "print(\"AND (x and y):\", x and y)  \n",
    "print(\"OR (x or y):\", x or y)    \n",
    "print(\"NOT (not x):\", not x)     \n",
    "\n",
    "\n",
    "a = 15\n",
    "b = 4\n",
    "print(\"\\nArithmetic Operators:\")\n",
    "print(\"Addition (a + b):\", a + b)\n",
    "print(\"Subtraction (a - b):\", a - b)     \n",
    "print(\"Multiplication (a * b):\", a * b)  \n",
    "print(\"Division (a / b):\", a / b)        \n",
    "print(\"Floor Division (a // b):\", a // b)  \n",
    "print(\"Modulus (a % b):\", a % b)         \n",
    "print(\"Exponentiation (a ** b):\", a ** b)  \n"
   ]
  },
  {
   "cell_type": "markdown",
   "metadata": {},
   "source": [
    "4. Completes the following steps of small task:\n",
    "    - Mention Marks of English , Islamiat and Maths out of 100 in 3 different variables\n",
    "    - Mention Variable of Total Marks and assign 300 to it\n",
    "    - Calculate Percentage"
   ]
  },
  {
   "cell_type": "code",
   "execution_count": null,
   "metadata": {},
   "outputs": [],
   "source": [
    "\n",
    "english_marks = 85\n",
    "islamiat_marks = 90\n",
    "maths_marks = 80\n",
    "\n",
    "\n",
    "total_marks = 300\n",
    "\n",
    "\n",
    "obtained_marks = english_marks + islamiat_marks + maths_marks\n",
    "percentage = (obtained_marks / total_marks) * 100\n",
    "\n",
    "\n",
    "print(\"Obtained Marks:\", obtained_marks)\n",
    "print(\"Total Marks:\", total_marks)\n",
    "print(\"Percentage:\", percentage, \"%\")\n"
   ]
  },
  {
   "cell_type": "markdown",
   "metadata": {},
   "source": [
    "# Part -2 Python Basics (Conditional Statements)"
   ]
  },
  {
   "cell_type": "markdown",
   "metadata": {},
   "source": [
    "1) A company decided to give bonus of 5% to employee if his/her year of service is more than 5 years.\n",
    "Ask user for their salary and year of service and print the net bonus amount."
   ]
  },
  {
   "cell_type": "code",
   "execution_count": null,
   "metadata": {},
   "outputs": [],
   "source": [
    "\n",
    "salary = float(input(\"Enter your salary: \"))\n",
    "years_of_service = int(input(\"Enter your years of service: \"))\n",
    "\n",
    "\n",
    "if years_of_service > 5:\n",
    "    bonus = salary * 0.05\n",
    "    print(\"Your net bonus amount is:\", bonus)\n",
    "else:\n",
    "    print(\"You are not eligible for a bonus.\")\n"
   ]
  },
  {
   "cell_type": "markdown",
   "metadata": {},
   "source": [
    "\n",
    "2) Write a program to check whether a person is eligible for voting or not. (accept age from user) if age is greater than 17 eligible otherwise not eligible"
   ]
  },
  {
   "cell_type": "code",
   "execution_count": null,
   "metadata": {},
   "outputs": [],
   "source": [
    "\n",
    "age = int(input(\"Enter your age: \"))\n",
    "if age > 17:\n",
    "    print(\"You are eligible to vote.\")\n",
    "else:\n",
    "    print(\"You are not eligible to vote.\")\n"
   ]
  },
  {
   "cell_type": "markdown",
   "metadata": {},
   "source": [
    "\n",
    "3) Write a program to check whether a number entered by user is even or odd."
   ]
  },
  {
   "cell_type": "code",
   "execution_count": null,
   "metadata": {},
   "outputs": [],
   "source": [
    "\n",
    "number = int(input(\"Enter a number: \"))\n",
    "\n",
    "if number % 2 == 0:\n",
    "    print(\"The number is even.\")\n",
    "else:\n",
    "    print(\"The number is odd.\")\n"
   ]
  },
  {
   "cell_type": "markdown",
   "metadata": {},
   "source": [
    "4) Write a program to check whether a number is divisible by 7 or not.\n",
    "Show Answer"
   ]
  },
  {
   "cell_type": "code",
   "execution_count": null,
   "metadata": {},
   "outputs": [],
   "source": [
    "number = int(input(\"Enter a number: \"))\n",
    "if number % 7 == 0:\n",
    "    print(\"The number is divisible by 7.\")\n",
    "else:\n",
    "    print(\"The number is not divisible by 7.\")\n"
   ]
  },
  {
   "cell_type": "markdown",
   "metadata": {},
   "source": [
    "5) Write a program to display \n",
    "\"Hello\" if a number entered by user is a multiple of five , otherwise print \"Bye\"."
   ]
  },
  {
   "cell_type": "code",
   "execution_count": null,
   "metadata": {},
   "outputs": [],
   "source": [
    "number = int(input(\"Enter a number: \"))\n",
    "if number % 5 == 0:\n",
    "    print(\"Hello\")\n",
    "else:\n",
    "    print(\"Bye\")\n"
   ]
  },
  {
   "cell_type": "markdown",
   "metadata": {},
   "source": [
    "7) Write a program to display the last digit of a number.\n"
   ]
  },
  {
   "cell_type": "code",
   "execution_count": null,
   "metadata": {},
   "outputs": [],
   "source": [
    "number = int(input(\"Enter a number: \"))\n",
    "last_digit = number % 10\n",
    "print(\"The last digit is:\", last_digit)\n"
   ]
  },
  {
   "cell_type": "markdown",
   "metadata": {},
   "source": [
    "9) Take values of length and breadth of a rectangle from user and print if it is square or rectangle."
   ]
  },
  {
   "cell_type": "code",
   "execution_count": null,
   "metadata": {},
   "outputs": [],
   "source": [
    "length = float(input(\"Enter the length of the rectangle: \"))\n",
    "breadth = float(input(\"Enter the breadth of the rectangle: \"))\n",
    "\n",
    "if length == breadth:\n",
    "    print(\"It is a square.\")\n",
    "else:\n",
    "    print(\"It is a rectangle.\")\n"
   ]
  },
  {
   "cell_type": "markdown",
   "metadata": {},
   "source": [
    "10) Take two int values from user and print greatest among them."
   ]
  },
  {
   "cell_type": "code",
   "execution_count": null,
   "metadata": {},
   "outputs": [],
   "source": [
    "num1 = int(input(\"Enter the first number: \"))\n",
    "num2 = int(input(\"Enter the second number: \"))\n",
    "\n",
    "if num1 > num2:\n",
    "    print(\"The greatest number is:\", num1)\n",
    "else:\n",
    "    print(\"The greatest number is:\", num2)\n"
   ]
  },
  {
   "cell_type": "markdown",
   "metadata": {},
   "source": [
    "11) A shop will give discount of 10% if the cost of purchased quantity is more than 1000.\n",
    "Ask user for quantity\n",
    "Suppose, one unit will cost 100.\n",
    "Judge and print total cost for user."
   ]
  },
  {
   "cell_type": "code",
   "execution_count": null,
   "metadata": {},
   "outputs": [],
   "source": [
    "quantity = int(input(\"Enter the quantity: \"))\n",
    "unit_cost = 100\n",
    "total_cost = quantity * unit_cost\n",
    "\n",
    "if total_cost > 1000:\n",
    "    total_cost -= total_cost * 0.10\n",
    "\n",
    "print(\"The total cost is:\", total_cost)\n"
   ]
  },
  {
   "cell_type": "markdown",
   "metadata": {},
   "source": [
    "12) A school has following rules for grading system:\n",
    "\n",
    "a. Below 25 - F\n",
    "\n",
    "b. 25 to 45 - E\n",
    "\n",
    "c. 45 to 50 - D\n",
    "\n",
    "d. 50 to 60 - C\n",
    "\n",
    "e. 60 to 80 - B\n",
    "\n",
    "f. Above 80 - A\n",
    "\n",
    "Ask user to enter marks and print the corresponding grade."
   ]
  },
  {
   "cell_type": "code",
   "execution_count": null,
   "metadata": {},
   "outputs": [],
   "source": [
    "marks = int(input(\"Enter the marks: \"))\n",
    "\n",
    "if marks < 25:\n",
    "    grade = \"F\"\n",
    "elif 25 <= marks < 45:\n",
    "    grade = \"E\"\n",
    "elif 45 <= marks < 50:\n",
    "    grade = \"D\"\n",
    "elif 50 <= marks < 60:\n",
    "    grade = \"C\"\n",
    "elif 60 <= marks < 80:\n",
    "    grade = \"B\"\n",
    "else:\n",
    "    grade = \"A\"\n",
    "\n",
    "print(\"The grade is:\", grade)\n"
   ]
  },
  {
   "cell_type": "markdown",
   "metadata": {},
   "source": [
    "14)A student will not be allowed to sit in exam if his/her attendence is less than 75%.\n",
    "\n",
    "Take following input from user\n",
    "\n",
    "- Number of classes held\n",
    "\n",
    "- Number of classes attended.\n",
    "\n",
    "And print\n",
    "\n",
    "- percentage of class attended\n",
    "\n",
    "- Is student is allowed to sit in exam or not.\n"
   ]
  },
  {
   "cell_type": "code",
   "execution_count": null,
   "metadata": {},
   "outputs": [],
   "source": [
    "classes_held = int(input(\"Enter the number of classes held: \"))\n",
    "classes_attended = int(input(\"Enter the number of classes attended: \"))\n",
    "\n",
    "attendance_percentage = (classes_attended / classes_held) * 100\n",
    "\n",
    "print(\"Attendance Percentage:\", attendance_percentage)\n",
    "\n",
    "if attendance_percentage >= 75:\n",
    "    print(\"The student is allowed to sit in the exam.\")\n",
    "else:\n",
    "    print(\"The student is not allowed to sit in the exam.\")\n"
   ]
  },
  {
   "cell_type": "markdown",
   "metadata": {},
   "source": [
    "15) Modify the above question to allow student to sit if he/she has medical cause. Ask user if he/she has medical cause or not ( 'Y' or 'N' ) and print accordingly."
   ]
  },
  {
   "cell_type": "code",
   "execution_count": null,
   "metadata": {},
   "outputs": [],
   "source": [
    "classes_held = int(input(\"Enter the number of classes held: \"))\n",
    "classes_attended = int(input(\"Enter the number of classes attended: \"))\n",
    "medical_cause = input(\"Do you have a medical cause (Y/N)? \").upper()\n",
    "\n",
    "attendance_percentage = (classes_attended / classes_held) * 100\n",
    "\n",
    "print(\"Attendance Percentage:\", attendance_percentage)\n",
    "\n",
    "if attendance_percentage >= 75 or medical_cause == 'Y':\n",
    "    print(\"The student is allowed to sit in the exam.\")\n",
    "else:\n",
    "    print(\"The student is not allowed to sit in the exam.\")\n"
   ]
  },
  {
   "cell_type": "markdown",
   "metadata": {},
   "source": [
    "16) Write a program to check if a year is leap year or not.\n",
    "\n",
    "If a year is divisible by 4 then it is leap year but if the year is century year like 2000, 1900, 2100 then it must be divisible by 400."
   ]
  },
  {
   "cell_type": "code",
   "execution_count": null,
   "metadata": {},
   "outputs": [],
   "source": [
    "year = int(input(\"Enter a year: \"))\n",
    "\n",
    "if (year % 4 == 0 and year % 100 != 0) or (year % 400 == 0):\n",
    "    print(year, \"is a leap year.\")\n",
    "else:\n",
    "    print(year, \"is not a leap year.\")\n"
   ]
  },
  {
   "cell_type": "markdown",
   "metadata": {},
   "source": [
    "17) Ask user to enter age, gender ( M or F ), marital status ( Y or N ) and then using following rules print their place of service.\n",
    "\n",
    "if employee is female, then she will work only in urban areas.\n",
    "\n",
    "if employee is a male and age is in between 20 to 40 then he may work in anywhere\n",
    "\n",
    "if employee is male and age is in between 40 t0 60 then he will work in urban areas only.\n",
    "\n",
    "And any other input of age should print \"ERROR\""
   ]
  },
  {
   "cell_type": "code",
   "execution_count": null,
   "metadata": {},
   "outputs": [],
   "source": [
    "age = int(input(\"Enter your age: \"))\n",
    "gender = input(\"Enter your gender (M/F): \").upper()\n",
    "marital_status = input(\"Enter your marital status (Y/N): \").upper()\n",
    "\n",
    "if gender == 'F':\n",
    "    print(\"She will work in urban areas.\")\n",
    "elif gender == 'M':\n",
    "    if 20 <= age <= 40:\n",
    "        print(\"He may work anywhere.\")\n",
    "    elif 40 < age <= 60:\n",
    "        print(\"He will work in urban areas only.\")\n",
    "    else:\n",
    "        print(\"ERROR\")\n",
    "else:\n",
    "    print(\"ERROR\")\n"
   ]
  },
  {
   "cell_type": "markdown",
   "metadata": {},
   "source": [
    "6) Write a program to calculate the electricity bill (accept number of unit from user) according to the following criteria :\n",
    "     Unit                                                     Price  \n",
    "uptp 100 units                                             no charge\n",
    "Next 200 units                                              Rs 5 per unit\n",
    "After 200 units                                             Rs 10 per unit\n",
    "(For example if input unit is 350 than total bill amount is Rs.3500\n",
    "(For example if input unit is 97 than total bill amount is Rs.0\n",
    "(For example if input unit is 150 than total bill amount is Rs.750"
   ]
  },
  {
   "cell_type": "markdown",
   "metadata": {},
   "source": [
    "13) Take input of age of 3 people by user and determine oldest and youngest among them."
   ]
  },
  {
   "cell_type": "code",
   "execution_count": null,
   "metadata": {},
   "outputs": [],
   "source": [
    "age1 = int(input(\"Enter the age of the first person: \"))\n",
    "age2 = int(input(\"Enter the age of the second person: \"))\n",
    "age3 = int(input(\"Enter the age of the third person: \"))\n",
    "\n",
    "oldest = max(age1, age2, age3)\n",
    "youngest = min(age1, age2, age3)\n",
    "\n",
    "print(\"The oldest person is:\", oldest)\n",
    "print(\"The youngest person is:\", youngest)\n"
   ]
  }
 ],
 "metadata": {
  "kernelspec": {
   "display_name": "Python 3 (ipykernel)",
   "language": "python",
   "name": "python3"
  },
  "language_info": {
   "codemirror_mode": {
    "name": "ipython",
    "version": 3
   },
   "file_extension": ".py",
   "mimetype": "text/x-python",
   "name": "python",
   "nbconvert_exporter": "python",
   "pygments_lexer": "ipython3",
   "version": "3.12.7"
  }
 },
 "nbformat": 4,
 "nbformat_minor": 4
}
