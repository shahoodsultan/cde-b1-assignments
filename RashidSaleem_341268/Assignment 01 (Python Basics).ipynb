{
 "cells": [
  {
   "cell_type": "markdown",
   "metadata": {},
   "source": [
    "# Part -1 Python Basics (Variables)"
   ]
  },
  {
   "cell_type": "markdown",
   "metadata": {},
   "source": [
    "1. Print Your Name with your Father name and Date of birth using suitable escape sequence charactor"
   ]
  },
  {
   "cell_type": "code",
   "execution_count": 2,
   "metadata": {},
   "outputs": [
    {
     "name": "stdout",
     "output_type": "stream",
     "text": [
      "Name : Rashid Saleem\n",
      "F name : Muhammad Saleem\n",
      "DOB : 01-11-1999\n"
     ]
    }
   ],
   "source": [
    "# Write your code here\n",
    "print(\"Name : Rashid Saleem\\nF name : Muhammad Saleem\\nDOB : 01-11-1999\")"
   ]
  },
  {
   "cell_type": "markdown",
   "metadata": {},
   "source": [
    "2. Write your small bio using variables and print it using print function"
   ]
  },
  {
   "cell_type": "code",
   "execution_count": 3,
   "metadata": {},
   "outputs": [
    {
     "name": "stdout",
     "output_type": "stream",
     "text": [
      "My name is Rashid Saleem, I have completed my graqduation in 2022, currently I am studying cloud data engineer in Saylani Mass IT Program\n"
     ]
    }
   ],
   "source": [
    "# Write your code here\n",
    "print(\"My name is Rashid Saleem, I have completed my graqduation in 2022, currently I am studying cloud data engineer in Saylani Mass IT Program\")"
   ]
  },
  {
   "cell_type": "markdown",
   "metadata": {},
   "source": [
    "3. Write a program in which use all the operators we can use in Python"
   ]
  },
  {
   "cell_type": "code",
   "execution_count": 7,
   "metadata": {},
   "outputs": [
    {
     "name": "stdout",
     "output_type": "stream",
     "text": [
      "addition :  8\n",
      "substraction :  -2\n",
      "multiplication :  15\n",
      "division :  0.6\n",
      "remainder :  2\n"
     ]
    }
   ],
   "source": [
    "# Write your code here\n",
    "num1 = 3\n",
    "num2 = 5\n",
    "\n",
    "print(\"addition : \",num1+num2)\n",
    "print(\"substraction : \", num1-num2)\n",
    "print(\"multiplication : \", num1*num2)\n",
    "print(\"division : \", num1/num2)\n",
    "print(\"remainder : \", num2%num1)"
   ]
  },
  {
   "cell_type": "markdown",
   "metadata": {},
   "source": [
    "4. Completes the following steps of small task:\n",
    "    - Mention Marks of English , Islamiat and Maths out of 100 in 3 different variables\n",
    "    - Mention Variable of Total Marks and assign 300 to it\n",
    "    - Calculate Percentage"
   ]
  },
  {
   "cell_type": "code",
   "execution_count": 10,
   "metadata": {},
   "outputs": [
    {
     "name": "stdout",
     "output_type": "stream",
     "text": [
      "Percentage :  85.66666666666667\n"
     ]
    }
   ],
   "source": [
    "# Write your code here\n",
    "\n",
    "englishMarks = 75\n",
    "mathsMarsk = 94\n",
    "islamiatMarks = 88\n",
    "totalMarks = 300\n",
    "percentage = ((englishMarks + mathsMarsk + islamiatMarks)*100)/totalMarks\n",
    "print(\"Percentage : \", percentage)\n"
   ]
  },
  {
   "cell_type": "markdown",
   "metadata": {},
   "source": [
    "# Part -2 Python Basics (Conditional Statements)"
   ]
  },
  {
   "cell_type": "markdown",
   "metadata": {},
   "source": [
    "1) A company decided to give bonus of 5% to employee if his/her year of service is more than 5 years.\n",
    "Ask user for their salary and year of service and print the net bonus amount."
   ]
  },
  {
   "cell_type": "code",
   "execution_count": 12,
   "metadata": {},
   "outputs": [
    {
     "name": "stdin",
     "output_type": "stream",
     "text": [
      "Enter your experience :  5\n",
      "Enter your salary :  100\n"
     ]
    },
    {
     "name": "stdout",
     "output_type": "stream",
     "text": [
      "your salary with bonus is : 105.0\n"
     ]
    }
   ],
   "source": [
    "#Type your code here\n",
    "yearOfExperience = int(input(\"Enter your experience : \"))\n",
    "if yearOfExperience >= 5:\n",
    "    salary = float(input(\"Enter your salary : \"))\n",
    "    print(\"your salary with bonus is :\", salary + 500/salary)\n",
    "else:\n",
    "    print(\"you aren't eligible for bonus\")"
   ]
  },
  {
   "cell_type": "markdown",
   "metadata": {},
   "source": [
    "\n",
    "2) Write a program to check whether a person is eligible for voting or not. (accept age from user) if age is greater than 17 eligible otherwise not eligible"
   ]
  },
  {
   "cell_type": "code",
   "execution_count": 13,
   "metadata": {},
   "outputs": [
    {
     "name": "stdin",
     "output_type": "stream",
     "text": [
      "Enter your age :  18\n"
     ]
    },
    {
     "name": "stdout",
     "output_type": "stream",
     "text": [
      "you are eligible for voting\n"
     ]
    }
   ],
   "source": [
    "#Type your code here\n",
    "\n",
    "ageOfPerson = int(input(\"Enter your age : \"))\n",
    "if ageOfPerson > 17:\n",
    "    print(\"you are eligible for voting\")\n",
    "else:\n",
    "    print(\"you can't cast vote this year\")"
   ]
  },
  {
   "cell_type": "markdown",
   "metadata": {},
   "source": [
    "\n",
    "3) Write a program to check whether a number entered by user is even or odd."
   ]
  },
  {
   "cell_type": "code",
   "execution_count": 15,
   "metadata": {},
   "outputs": [
    {
     "name": "stdin",
     "output_type": "stream",
     "text": [
      "Enter a number :  19\n"
     ]
    },
    {
     "name": "stdout",
     "output_type": "stream",
     "text": [
      "odd number\n"
     ]
    }
   ],
   "source": [
    "#Type your code here\n",
    "num1fromUser = int(input(\"Enter a number : \"))\n",
    "if num1fromUser%2 == 0:\n",
    "    print(\"even number\")\n",
    "else:\n",
    "    print(\"odd number\")"
   ]
  },
  {
   "cell_type": "markdown",
   "metadata": {},
   "source": [
    "4) Write a program to check whether a number is divisible by 7 or not.\n",
    "Show Answer"
   ]
  },
  {
   "cell_type": "code",
   "execution_count": 18,
   "metadata": {},
   "outputs": [
    {
     "name": "stdin",
     "output_type": "stream",
     "text": [
      "Enter a number :  7\n"
     ]
    },
    {
     "name": "stdout",
     "output_type": "stream",
     "text": [
      "number is divisible by 7\n"
     ]
    }
   ],
   "source": [
    "#Type your code here\n",
    "\n",
    "num2fromUser = int(input(\"Enter a number : \"))\n",
    "if num2fromUser%7 == 0:\n",
    "    print(\"number is divisible by 7\")\n",
    "else:\n",
    "    print(\"number isn't divisible by 7\")"
   ]
  },
  {
   "cell_type": "markdown",
   "metadata": {},
   "source": [
    "5) Write a program to display \n",
    "\"Hello\" if a number entered by user is a multiple of five , otherwise print \"Bye\"."
   ]
  },
  {
   "cell_type": "code",
   "execution_count": 19,
   "metadata": {},
   "outputs": [
    {
     "name": "stdin",
     "output_type": "stream",
     "text": [
      "Enter a number :  10\n"
     ]
    },
    {
     "name": "stdout",
     "output_type": "stream",
     "text": [
      "Hello\n"
     ]
    }
   ],
   "source": [
    "#Type your code here\n",
    "\n",
    "num3fromUser = int(input(\"Enter a number : \"))\n",
    "if num3fromUser%5 == 0:\n",
    "    print(\"Hello\")\n",
    "else:\n",
    "    print(\"Bye\")"
   ]
  },
  {
   "cell_type": "markdown",
   "metadata": {},
   "source": [
    "7) Write a program to display the last digit of a number.\n"
   ]
  },
  {
   "cell_type": "code",
   "execution_count": 21,
   "metadata": {},
   "outputs": [
    {
     "name": "stdin",
     "output_type": "stream",
     "text": [
      "Enter a number :  19\n"
     ]
    },
    {
     "name": "stdout",
     "output_type": "stream",
     "text": [
      "last digit :  9\n"
     ]
    }
   ],
   "source": [
    "#Type your code here\n",
    "\n",
    "num4fromUser = int(input(\"Enter a number : \"))\n",
    "print(\"last digit : \", num4fromUser%10)"
   ]
  },
  {
   "cell_type": "markdown",
   "metadata": {},
   "source": [
    "9) Take values of length and breadth of a rectangle from user and print if it is square or rectangle."
   ]
  },
  {
   "cell_type": "code",
   "execution_count": 22,
   "metadata": {},
   "outputs": [
    {
     "name": "stdin",
     "output_type": "stream",
     "text": [
      "Enter a length :  10\n",
      "Enter a breadth :  17\n"
     ]
    },
    {
     "name": "stdout",
     "output_type": "stream",
     "text": [
      "it is rectangle\n"
     ]
    }
   ],
   "source": [
    "#Type your code here \n",
    "\n",
    "length = int(input(\"Enter a length : \"))\n",
    "breadth = int(input(\"Enter a breadth : \"))\n",
    "\n",
    "if length == breadth:\n",
    "    print(\"it is square\")\n",
    "else:\n",
    "    print(\"it is rectangle\")"
   ]
  },
  {
   "cell_type": "markdown",
   "metadata": {},
   "source": [
    "10) Take two int values from user and print greatest among them."
   ]
  },
  {
   "cell_type": "code",
   "execution_count": 23,
   "metadata": {},
   "outputs": [
    {
     "name": "stdin",
     "output_type": "stream",
     "text": [
      "Enter first number :  10\n",
      "Enter second number :  16\n"
     ]
    },
    {
     "name": "stdout",
     "output_type": "stream",
     "text": [
      "16\n"
     ]
    }
   ],
   "source": [
    "# Type your code here\n",
    "\n",
    "input1FromUser = int(input(\"Enter first number : \"))\n",
    "input2FromUser = int(input(\"Enter second number : \"))\n",
    "\n",
    "if input1FromUser > input2FromUser:\n",
    "    print(input1FromUser)\n",
    "elif input2FromUser > input1FromUser:\n",
    "    print(input2FromUser)\n",
    "else:\n",
    "    print(\"both numbers are equal\")"
   ]
  },
  {
   "cell_type": "markdown",
   "metadata": {},
   "source": [
    "11) A shop will give discount of 10% if the cost of purchased quantity is more than 1000.\n",
    "Ask user for quantity\n",
    "Suppose, one unit will cost 100.\n",
    "Judge and print total cost for user."
   ]
  },
  {
   "cell_type": "code",
   "execution_count": 26,
   "metadata": {},
   "outputs": [
    {
     "name": "stdin",
     "output_type": "stream",
     "text": [
      "Enter quantity :  1000\n"
     ]
    },
    {
     "name": "stdout",
     "output_type": "stream",
     "text": [
      "total cost with discount :  99999.99\n"
     ]
    }
   ],
   "source": [
    "#Type your code here\n",
    "\n",
    "inputQuantityFromUser = int(input(\"Enter quantity : \"))\n",
    "if inputQuantityFromUser >= 1000:\n",
    "    print(\"total cost with discount : \", (inputQuantityFromUser * 100) - (1000/(inputQuantityFromUser * 100)))"
   ]
  },
  {
   "cell_type": "markdown",
   "metadata": {},
   "source": [
    "12) A school has following rules for grading system:\n",
    "\n",
    "a. Below 25 - F\n",
    "\n",
    "b. 25 to 45 - E\n",
    "\n",
    "c. 45 to 50 - D\n",
    "\n",
    "d. 50 to 60 - C\n",
    "\n",
    "e. 60 to 80 - B\n",
    "\n",
    "f. Above 80 - A\n",
    "\n",
    "Ask user to enter marks and print the corresponding grade."
   ]
  },
  {
   "cell_type": "code",
   "execution_count": 1,
   "metadata": {},
   "outputs": [
    {
     "name": "stdin",
     "output_type": "stream",
     "text": [
      "Enter a the obtained marks :  75\n"
     ]
    },
    {
     "name": "stdout",
     "output_type": "stream",
     "text": [
      "Grade : B\n"
     ]
    }
   ],
   "source": [
    "#Type your code here\n",
    "\n",
    "obtainedMarks = float(input(\"Enter a the obtained marks : \"))\n",
    "\n",
    "if obtainedMarks < 25 and obtainedMarks >= 0:\n",
    "    print(\"Grade : F\")\n",
    "elif obtainedMarks >= 25 and obtainedMarks <= 45:\n",
    "    print(\"Grade : E\")    \n",
    "elif obtainedMarks >= 45 and obtainedMarks <= 50:\n",
    "    print(\"Grade : D\")    \n",
    "elif obtainedMarks >= 50 and obtainedMarks < 60:\n",
    "    print(\"Grade : C\")    \n",
    "elif obtainedMarks >= 60 and obtainedMarks <= 80:\n",
    "    print(\"Grade : B\")    \n",
    "elif obtainedMarks > 80 and obtainedMarks <= 100:\n",
    "    print(\"Grade : A\")\n",
    "else:\n",
    "    print(\"Invalid input\")"
   ]
  },
  {
   "cell_type": "markdown",
   "metadata": {},
   "source": [
    "14)A student will not be allowed to sit in exam if his/her attendence is less than 75%.\n",
    "\n",
    "Take following input from user\n",
    "\n",
    "- Number of classes held\n",
    "\n",
    "- Number of classes attended.\n",
    "\n",
    "And print\n",
    "\n",
    "- percentage of class attended\n",
    "\n",
    "- Is student is allowed to sit in exam or not.\n"
   ]
  },
  {
   "cell_type": "code",
   "execution_count": 4,
   "metadata": {},
   "outputs": [
    {
     "name": "stdin",
     "output_type": "stream",
     "text": [
      "Enter number of classes held :  20\n",
      "Enter number of classes attend :  12\n"
     ]
    },
    {
     "name": "stdout",
     "output_type": "stream",
     "text": [
      "60.0\n",
      "You can't sit in exam\n"
     ]
    }
   ],
   "source": [
    "#Type your code here\n",
    "\n",
    "numberOfClassesHeld = int(input(\"Enter number of classes held : \"))\n",
    "numberOfClassesAttend = int(input(\"Enter number of classes attend : \"))\n",
    "percentageOfAttendance = numberOfClassesAttend*100/numberOfClassesHeld\n",
    "print(percentageOfAttendance)\n",
    "if percentageOfAttendance >= 75:\n",
    "    print(\"You can sit in exam\")\n",
    "else:\n",
    "    print(\"You can't sit in exam\")"
   ]
  },
  {
   "cell_type": "markdown",
   "metadata": {},
   "source": [
    "15) Modify the above question to allow student to sit if he/she has medical cause. Ask user if he/she has medical cause or not ( 'Y' or 'N' ) and print accordingly."
   ]
  },
  {
   "cell_type": "code",
   "execution_count": 6,
   "metadata": {},
   "outputs": [
    {
     "name": "stdin",
     "output_type": "stream",
     "text": [
      "was your cause medical? :  Y\n"
     ]
    },
    {
     "name": "stdout",
     "output_type": "stream",
     "text": [
      "You can sit in class\n"
     ]
    }
   ],
   "source": [
    "#Type your code here\n",
    "if percentageOfAttendance < 75:\n",
    "    causeOfAttendance = input(\"was your cause medical? : \")\n",
    "    if causeOfAttendance == \"Y\":\n",
    "        print(\"You can sit in class\")"
   ]
  },
  {
   "cell_type": "markdown",
   "metadata": {},
   "source": [
    "16) Write a program to check if a year is leap year or not.\n",
    "\n",
    "If a year is divisible by 4 then it is leap year but if the year is century year like 2000, 1900, 2100 then it must be divisible by 400."
   ]
  },
  {
   "cell_type": "code",
   "execution_count": 7,
   "metadata": {},
   "outputs": [
    {
     "name": "stdin",
     "output_type": "stream",
     "text": [
      "Enter a year :  2022\n"
     ]
    },
    {
     "name": "stdout",
     "output_type": "stream",
     "text": [
      "Not a leap year\n"
     ]
    }
   ],
   "source": [
    "#Type your code here\n",
    "\n",
    "yearFromUser = int(input(\"Enter a year : \"))\n",
    "if yearFromUser%4 == 0:\n",
    "    if yearFromUser%100 == 0:\n",
    "        if yearFromUser%400 == 0:\n",
    "            print(\"Leap Year\")\n",
    "        else:\n",
    "            print(\"Not a leap year\")\n",
    "    else:\n",
    "        print(\"Leap year\")\n",
    "else:\n",
    "    print(\"Not a leap year\")"
   ]
  },
  {
   "cell_type": "markdown",
   "metadata": {},
   "source": [
    "17) Ask user to enter age, gender ( M or F ), marital status ( Y or N ) and then using following rules print their place of service.\n",
    "\n",
    "if employee is female, then she will work only in urban areas.\n",
    "\n",
    "if employee is a male and age is in between 20 to 40 then he may work in anywhere\n",
    "\n",
    "if employee is male and age is in between 40 t0 60 then he will work in urban areas only.\n",
    "\n",
    "And any other input of age should print \"ERROR\""
   ]
  },
  {
   "cell_type": "code",
   "execution_count": 8,
   "metadata": {},
   "outputs": [
    {
     "name": "stdin",
     "output_type": "stream",
     "text": [
      "Enter your gender M or F :  F\n"
     ]
    },
    {
     "name": "stdout",
     "output_type": "stream",
     "text": [
      "You can work in urban areas\n"
     ]
    }
   ],
   "source": [
    "#Type your code here\n",
    "\n",
    "Gender = input(\"Enter your gender M or F : \")\n",
    "\n",
    "if Gender == \"F\":\n",
    "    print(\"You can work in urban areas\")\n",
    "elif Gender == \"M\":\n",
    "    age = int(input(\"Enter your age : \"))\n",
    "    if age >= 20 and age < 40:\n",
    "        print(\"You can work anywhere\")\n",
    "    elif age >= 40 and age <= 60:\n",
    "        print(\"You can work in urban areas\")\n",
    "    else:\n",
    "        print(\"ERROR: You can't work\")\n",
    "else:\n",
    "    print(\"ERROR: Gender is invalid\")"
   ]
  },
  {
   "cell_type": "markdown",
   "metadata": {},
   "source": [
    "6) Write a program to calculate the electricity bill (accept number of unit from user) according to the following criteria :\n",
    "     Unit                                                     Price  \n",
    "uptp 100 units                                             no charge\n",
    "Next 200 units                                              Rs 5 per unit\n",
    "After 200 units                                             Rs 10 per unit\n",
    "(For example if input unit is 350 than total bill amount is Rs.3500\n",
    "(For example if input unit is 97 than total bill amount is Rs.0\n",
    "(For example if input unit is 150 than total bill amount is Rs.750"
   ]
  },
  {
   "cell_type": "code",
   "execution_count": 10,
   "metadata": {},
   "outputs": [
    {
     "name": "stdin",
     "output_type": "stream",
     "text": [
      "Number of units :  104\n"
     ]
    },
    {
     "name": "stdout",
     "output_type": "stream",
     "text": [
      "total bill amount is Rs. 520\n"
     ]
    }
   ],
   "source": [
    "numberOfUnit = int(input(\"Number of units : \"))\n",
    "if numberOfUnit <= 100:\n",
    "    print(\"total bill amount is Rs.0\")\n",
    "elif numberOfUnit > 100 and numberOfUnit <=200:\n",
    "    print(\"total bill amount is Rs.\", numberOfUnit*5)\n",
    "else:\n",
    "    print(\"total bill amount is Rs.\", numberOfUnit*10)"
   ]
  },
  {
   "cell_type": "markdown",
   "metadata": {},
   "source": [
    "13) Take input of age of 3 people by user and determine oldest and youngest among them."
   ]
  },
  {
   "cell_type": "code",
   "execution_count": 11,
   "metadata": {},
   "outputs": [
    {
     "name": "stdin",
     "output_type": "stream",
     "text": [
      "Enter age 1 : 68\n",
      "Enter age 2 : 64\n",
      "Enter age 3 : 82\n"
     ]
    },
    {
     "name": "stdout",
     "output_type": "stream",
     "text": [
      "Person 3 is oldest with age 82\n",
      "Person 2 is youngest with age 64\n"
     ]
    }
   ],
   "source": [
    "#Type your code here\n",
    "\n",
    "people1 = int(input(\"Enter age 1 :\"))\n",
    "people2 = int(input(\"Enter age 2 :\"))\n",
    "people3 = int(input(\"Enter age 3 :\"))\n",
    "\n",
    "if people1 > people2 and people1 > people3:\n",
    "    print(\"Person 1 is oldest with age\",people1)\n",
    "elif people2 > people1 and people2 > people3:\n",
    "    print(\"Person 2 is oldest with age\",people2)\n",
    "elif people3 > people2 and people3 > people1:\n",
    "    print(\"Person 3 is oldest with age\",people3)\n",
    "\n",
    "if people1 < people2 and people1 < people3:\n",
    "    print(\"Person 1 is youngest with age\",people1)\n",
    "elif people2 < people1 and people2 < people3:\n",
    "    print(\"Person 2 is youngest with age\",people2)\n",
    "elif people3 < people2 and people3 < people1:\n",
    "    print(\"Person 3 is youngest with age\",people3)"
   ]
  },
  {
   "cell_type": "code",
   "execution_count": null,
   "metadata": {},
   "outputs": [],
   "source": []
  }
 ],
 "metadata": {
  "kernelspec": {
   "display_name": "Python 3 (ipykernel)",
   "language": "python",
   "name": "python3"
  },
  "language_info": {
   "codemirror_mode": {
    "name": "ipython",
    "version": 3
   },
   "file_extension": ".py",
   "mimetype": "text/x-python",
   "name": "python",
   "nbconvert_exporter": "python",
   "pygments_lexer": "ipython3",
   "version": "3.12.7"
  }
 },
 "nbformat": 4,
 "nbformat_minor": 4
}
