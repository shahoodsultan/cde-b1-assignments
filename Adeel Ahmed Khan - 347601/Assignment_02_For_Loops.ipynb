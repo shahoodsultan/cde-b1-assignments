{
 "cells": [
  {
   "cell_type": "markdown",
   "id": "3436b6ea-ea62-43a0-9a78-4db12fc996db",
   "metadata": {},
   "source": [
    "### Question No 01\n",
    "- Use a for loop to count the number of occurrences of the word in the list and return all indices where the word occurs.\n",
    "\n",
    "### Exmple:\n",
    "\n",
    "- Input: ['apple', 'banana', 'apple', 'cherry', 'apple'], Search: 'apple'\n",
    "- Output: 'apple' found 3 times at indices: 0, 2, 4"
   ]
  },
  {
   "cell_type": "code",
   "execution_count": 61,
   "id": "1c26bd00-38cc-4703-8853-375fc32bf050",
   "metadata": {},
   "outputs": [
    {
     "name": "stdout",
     "output_type": "stream",
     "text": [
      "0\n",
      "2\n",
      "4\n"
     ]
    }
   ],
   "source": [
    "arr = ['apple', 'banana', 'apple', 'cherry', 'apple']\n",
    "for i in range(len(arr)):\n",
    "    if arr[i] == 'apple':\n",
    "        print(i)"
   ]
  },
  {
   "cell_type": "markdown",
   "id": "5a825a0d-88b6-4299-8428-4e3cfd7b1049",
   "metadata": {},
   "source": [
    "## Question No 02\n",
    "Create a program to find all unique pairs of numbers in a list that add up to a target sum.\n",
    "\n",
    "Use a single list and a for loop (nested if necessary) to iterate through and find pairs without duplicates. Avoid repeating pairs like [3, 5] and [5, 3].\n",
    "\n",
    "### Example:\n",
    "\n",
    "- Input list: [2, 4, 3, 5, 7, 8, 1]\n",
    "- Target sum: 9\n",
    "- Output: [(2, 7), (4, 5), (1, 8)]"
   ]
  },
  {
   "cell_type": "code",
   "execution_count": 77,
   "id": "7987156b-26ff-4363-8d41-6ad1b7dda470",
   "metadata": {},
   "outputs": [
    {
     "name": "stdout",
     "output_type": "stream",
     "text": [
      "[(2, 7), (4, 5), (8, 1)]\n"
     ]
    }
   ],
   "source": [
    "unique_list = []\n",
    "my_list = [2, 4, 3, 5, 7, 8, 1]\n",
    "target_sum = 9\n",
    "for i in range(len(my_list)):\n",
    "    for j in range(i + 1, len(my_list)):\n",
    "        if my_list[i] + my_list[j] == target_sum:\n",
    "            unique_list.append((my_list[i], my_list[j]))\n",
    "\n",
    "print(unique_list)\n",
    "        "
   ]
  },
  {
   "cell_type": "markdown",
   "id": "256e8f89-c4b8-41b1-9aaa-2b0e8910efd4",
   "metadata": {},
   "source": [
    "## Question No 03\n",
    "Write a program to calculate the cumulative product of elements in a list.\n",
    "Use a single list and update it in place to store the cumulative product at each index. Use only a for loop.\n",
    "\n",
    "### Example:\n",
    "\n",
    "- Input: [2, 3, 4, 5]\n",
    "- Output: [2, 6, 24, 120]"
   ]
  },
  {
   "cell_type": "code",
   "execution_count": 128,
   "id": "43b4e834-20fd-48dd-94fe-d5519974cecf",
   "metadata": {},
   "outputs": [
    {
     "name": "stdout",
     "output_type": "stream",
     "text": [
      "[2, 6, 24, 120]\n"
     ]
    }
   ],
   "source": [
    "Input_arr = [2, 3, 4, 5]\n",
    "num = 1\n",
    "test_list = []\n",
    "for i in range(len(Input_arr)):\n",
    "    num *= Input_arr[i]\n",
    "    test_list.append(num)\n",
    "print(test_list)"
   ]
  },
  {
   "cell_type": "markdown",
   "id": "da264a2e-a861-4af1-b3f4-5246b9b8e60a",
   "metadata": {},
   "source": [
    "### Question No 04\n",
    "Write a program to reshape a 1D list into a 2D grid.\n",
    "\n",
    "Accept a list of numbers and the number of rows as input. Use for loops to split the list into sublists, each representing a row. If the list cannot be evenly divided into rows, pad it with None.\n",
    "\n",
    "- Example: Input: [1, 2, 3, 4, 5, 6, 7], Rows: 3\n",
    "- Output: [[1, 2, 3], [4, 5, 6], [7, None, None]]"
   ]
  },
  {
   "cell_type": "code",
   "execution_count": 155,
   "id": "fd97fd46-459e-40ab-8ac9-603438188a7e",
   "metadata": {},
   "outputs": [
    {
     "name": "stdout",
     "output_type": "stream",
     "text": [
      "[[1, 2, 3], [4, 5, 6], [7, None, None]]\n"
     ]
    }
   ],
   "source": [
    "oned_arr = [1, 2, 3, 4, 5, 6, 7]\n",
    "Rows = 3\n",
    "num_columns = (len(oned_arr) + Rows - 1) // Rows\n",
    "new_grid = []  \n",
    "\n",
    "for i in range(Rows):\n",
    "    row = []  \n",
    "    for j in range(num_columns):\n",
    "        index = i * num_columns + j \n",
    "        if index < len(oned_arr):\n",
    "            row.append(oned_arr[index])\n",
    "        else:\n",
    "            row.append(None)  \n",
    "    new_grid.append(row) \n",
    "print(new_grid)"
   ]
  },
  {
   "cell_type": "markdown",
   "id": "6a271bce-c066-4a5d-9531-279378a707d6",
   "metadata": {},
   "source": [
    "### Question No 05\n",
    "#### Write a program to sort a list of numbers into two separate lists: One list for all odd numbers (in ascending order). One list for all even numbers (in descending order). Use for loops for the entire process.\n",
    "\n",
    "#### Example:\n",
    "\n",
    "- Input: [5, 8, 3, 10, 2, 7, 1, 6]\n",
    "- Output:\n",
    "- Odd: [1, 3, 5, 7]\n",
    "- Even: [10, 8, 6, 2]"
   ]
  },
  {
   "cell_type": "code",
   "execution_count": 19,
   "id": "92056fc6-365d-416d-a5ee-d0970f4258eb",
   "metadata": {},
   "outputs": [
    {
     "name": "stdout",
     "output_type": "stream",
     "text": [
      "Even List:  [5, 3, 2, 1]\n",
      "Odd List:  [8, 10, 7, 6]\n"
     ]
    }
   ],
   "source": [
    "main_list = [5, 8, 3, 10, 2, 7, 1, 6]\n",
    "Even = []\n",
    "Odd = []\n",
    "for i in range(len(main_list)):\n",
    "    if (i % 2) == 0:\n",
    "        Even.append(main_list[i])\n",
    "    elif (i % 2) == 1:\n",
    "        Odd.append(main_list[i])\n",
    "    else:\n",
    "        print(\"None\")\n",
    "print(\"Even List: \",Even)\n",
    "print(\"Odd List: \", Odd)"
   ]
  },
  {
   "cell_type": "markdown",
   "id": "aa41ab7b-b7e8-4b3e-92e4-b6ef3845ac93",
   "metadata": {},
   "source": [
    "### Question No 06\n",
    "#### Write a program that uses a for loop to count the frequency of each character in a given string and stores the result in a dictionary. The program should ignore spaces and be case-insensitive. Display the dictionary as the final output.\n",
    "\n",
    "#### Example:\n",
    "\n",
    "- Input: \"Programming is fun\"\n",
    "- Output: {'p': 1, 'r': 2, 'o': 1, 'g': 2, 'a': 1, 'm': 2, 'i': 2, 'n': 2, 's': 1, 'f': 1, 'u': 1}"
   ]
  },
  {
   "cell_type": "code",
   "execution_count": 22,
   "id": "b15285d6-b2cc-46fe-b9ca-d3f4b9f337d5",
   "metadata": {},
   "outputs": [
    {
     "name": "stdout",
     "output_type": "stream",
     "text": [
      "{'p': 1, 'r': 2, 'o': 1, 'g': 2, 'a': 1, 'm': 2, 'i': 2, 'n': 2, 's': 1, 'f': 1, 'u': 1}\n"
     ]
    }
   ],
   "source": [
    "input_string = \"Programming is fun\"\n",
    "frequency_dict = {}\n",
    "\n",
    "for char in input_string.lower():\n",
    "    if char != \" \": \n",
    "        frequency_dict[char] = frequency_dict.get(char, 0) + 1\n",
    "\n",
    "print(frequency_dict)"
   ]
  },
  {
   "cell_type": "code",
   "execution_count": null,
   "id": "5c6fc9a1-252b-48cf-a814-1bca50e94c17",
   "metadata": {},
   "outputs": [],
   "source": []
  }
 ],
 "metadata": {
  "kernelspec": {
   "display_name": "Python 3 (ipykernel)",
   "language": "python",
   "name": "python3"
  },
  "language_info": {
   "codemirror_mode": {
    "name": "ipython",
    "version": 3
   },
   "file_extension": ".py",
   "mimetype": "text/x-python",
   "name": "python",
   "nbconvert_exporter": "python",
   "pygments_lexer": "ipython3",
   "version": "3.12.7"
  }
 },
 "nbformat": 4,
 "nbformat_minor": 5
}
