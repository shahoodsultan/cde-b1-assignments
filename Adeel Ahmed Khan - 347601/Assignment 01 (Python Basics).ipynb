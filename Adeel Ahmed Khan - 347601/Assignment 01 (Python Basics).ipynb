{
  "metadata": {
    "kernelspec": {
      "name": "python",
      "display_name": "Python (Pyodide)",
      "language": "python"
    },
    "language_info": {
      "codemirror_mode": {
        "name": "python",
        "version": 3
      },
      "file_extension": ".py",
      "mimetype": "text/x-python",
      "name": "python",
      "nbconvert_exporter": "python",
      "pygments_lexer": "ipython3",
      "version": "3.8"
    }
  },
  "nbformat_minor": 4,
  "nbformat": 4,
  "cells": [
    {
      "cell_type": "markdown",
      "source": "# Part -1 Python Basics (Variables)",
      "metadata": {}
    },
    {
      "cell_type": "markdown",
      "source": "1. Print Your Name with your Father name and Date of birth using suitable escape sequence charactor",
      "metadata": {}
    },
    {
      "cell_type": "code",
      "source": "# Write your code here\nprint(\"Name: Adeel Ahmed Khan\" \"\\nFather's Name: Abdul Hameed Khan\\nDate of Birth:29-10-1996 \")\n",
      "metadata": {
        "trusted": true
      },
      "outputs": [
        {
          "name": "stdout",
          "text": "Name: Adeel Ahmed Khan\nFather's Name: Abdul Hameed Khan\nDate of Birth:29-10-1996 \n",
          "output_type": "stream"
        }
      ],
      "execution_count": 1
    },
    {
      "cell_type": "markdown",
      "source": "2. Write your small bio using variables and print it using print function",
      "metadata": {}
    },
    {
      "cell_type": "code",
      "source": "# Write your code here\nname=\"Adeel Ahmed Khan\"\nage=28\njob=\"SOftware Developer\"\nskills=\"javascript, pyhton, php\"\nprint(\"Name: \" + name + \"\\nAge: \" + str(age) + \"\\nJob: \" + job + \"\\nSkills: \" + skills)\n",
      "metadata": {
        "trusted": true
      },
      "outputs": [
        {
          "name": "stdout",
          "text": "Name: Adeel Ahmed Khan\nAge: 28\nJob: SOftware Developer\nSkills: javascript, pyhton, php\n",
          "output_type": "stream"
        }
      ],
      "execution_count": 5
    },
    {
      "cell_type": "markdown",
      "source": "3. Write a program in which use all the operators we can use in Python",
      "metadata": {}
    },
    {
      "cell_type": "code",
      "source": "a=5\nb=2\nsum=a+b\nsubtract=a-b\nmultiply=a*b\ndivide=a/b\nint_divide=a//b\nmod=a%b\npower=a**b\n\nprint(\"Sum\",sum)\nprint(\"Subtraction\",subtract)\nprint(\"Multiplication\",multiply)\nprint(\"Division\",divide)\nprint(\"Integer Division\",int_divide)\nprint(\"Modulus\",mod)\nprint(\"Exponentiation\",power)",
      "metadata": {
        "trusted": true
      },
      "outputs": [
        {
          "name": "stdout",
          "text": "Sum 7\nSubtraction 3\nMultiplication 10\nDivision 2.5\nInteger Division 2\nModulus 1\nExponentiation 25\n",
          "output_type": "stream"
        }
      ],
      "execution_count": 26
    },
    {
      "cell_type": "markdown",
      "source": "4. Completes the following steps of small task:\n    - Mention Marks of English , Islamiat and Maths out of 100 in 3 different variables\n    - Mention Variable of Total Marks and assign 300 to it\n    - Calculate Percentage",
      "metadata": {}
    },
    {
      "cell_type": "code",
      "source": "eng_marks=70\nisl_marks=75\nmath_marks=90\ntotal=300\npercentage=((eng_marks+isl_marks+math_marks)/total)*100\nprint(\"Your result is \",f\"{percentage:.2f}\")",
      "metadata": {
        "trusted": true
      },
      "outputs": [
        {
          "name": "stdout",
          "text": "Your result is  78.33\n",
          "output_type": "stream"
        }
      ],
      "execution_count": 10
    },
    {
      "cell_type": "markdown",
      "source": "# Part -2 Python Basics (Conditional Statements)",
      "metadata": {}
    },
    {
      "cell_type": "markdown",
      "source": "1) A company decided to give bonus of 5% to employee if his/her year of service is more than 5 years.\nAsk user for their salary and year of service and print the net bonus amount.",
      "metadata": {}
    },
    {
      "cell_type": "code",
      "source": "salary=int(input(\"Enter Your Salary: \"))\nyears=int(input (\"Year of Service: \"))\n# salary=50000\n# years=6\nif(years>5):\n    bonus=salary*(5/100)\n    print(\"The total salary is\",salary+bonus)",
      "metadata": {
        "trusted": true
      },
      "outputs": [
        {
          "name": "stdout",
          "text": "The total salary is 52500.0\n",
          "output_type": "stream"
        }
      ],
      "execution_count": 47
    },
    {
      "cell_type": "markdown",
      "source": "\n2) Write a program to check whether a person is eligible for voting or not. (accept age from user) if age is greater than 17 eligible otherwise not eligible",
      "metadata": {}
    },
    {
      "cell_type": "code",
      "source": "age=int(input(\"Enter Your Age: \"))\n# age=18\nif(age>17):\n    print(\"Your are eligible for voting\")\nelse:\n    print(\"Sorry, you are not eligible for voting\")",
      "metadata": {
        "trusted": true
      },
      "outputs": [
        {
          "name": "stdout",
          "text": "Your are eligible for voting\n",
          "output_type": "stream"
        }
      ],
      "execution_count": 50
    },
    {
      "cell_type": "markdown",
      "source": "\n3) Write a program to check whether a number entered by user is even or odd.",
      "metadata": {}
    },
    {
      "cell_type": "code",
      "source": "num=int(input(\"Enter any number: \"))\n# num=17\nif(num % 2==0):\n    print(\"Its an even number\")\nelse:\n    print(\"Its an odd number\")",
      "metadata": {
        "trusted": true
      },
      "outputs": [
        {
          "name": "stdout",
          "text": "Its an odd number\n",
          "output_type": "stream"
        }
      ],
      "execution_count": 52
    },
    {
      "cell_type": "markdown",
      "source": "4) Write a program to check whether a number is divisible by 7 or not.\nShow Answer",
      "metadata": {}
    },
    {
      "cell_type": "code",
      "source": "num=int(input(\"Enter any number: \"))\n# num=63\nif(num % 7==0):\n    print(\"Its divisible of 7\")\nelse:\n    print(\"Its not divisible of 7\")",
      "metadata": {
        "trusted": true
      },
      "outputs": [
        {
          "name": "stdout",
          "text": "Its not divisible of 7\n",
          "output_type": "stream"
        }
      ],
      "execution_count": 57
    },
    {
      "cell_type": "markdown",
      "source": "5) Write a program to display \n\"Hello\" if a number entered by user is a multiple of five , otherwise print \"Bye\".",
      "metadata": {}
    },
    {
      "cell_type": "code",
      "source": "num=int(input(\"Enter any number: \"))\n# num=555\nif(num % 5==0):\n    print(\"Hello! its multiple of 5\")\nelse:\n    print(\"Bye!, its not multiple of 5\")",
      "metadata": {
        "trusted": true
      },
      "outputs": [
        {
          "name": "stdout",
          "text": "Hello! its multiple of 5\n",
          "output_type": "stream"
        }
      ],
      "execution_count": 60
    },
    {
      "cell_type": "markdown",
      "source": "7) Write a program to display the last digit of a number.\n",
      "metadata": {}
    },
    {
      "cell_type": "code",
      "source": "number = int(input(\"Enter a number: \"))\n\n# Get the last digit by using the modulus operator\nlast_digit = number % 10\n\nprint(f\"The last digit of the number is: {last_digit}\")\n",
      "metadata": {},
      "outputs": [],
      "execution_count": 12
    },
    {
      "cell_type": "markdown",
      "source": "9) Take values of length and breadth of a rectangle from user and print if it is square or rectangle.",
      "metadata": {}
    },
    {
      "cell_type": "code",
      "source": "length = float(input(\"Enter the length of the rectangle: \"))\nbreadth = float(input(\"Enter the breadth of the rectangle: \"))\n\nif length == breadth:\n    print(\"It is a square.\")\nelse:\n    print(\"It is a rectangle.\")\n",
      "metadata": {},
      "outputs": [],
      "execution_count": 14
    },
    {
      "cell_type": "markdown",
      "source": "10) Take two int values from user and print greatest among them.",
      "metadata": {}
    },
    {
      "cell_type": "code",
      "source": "num1=int(input(\"Enter any number: \"))\nnum2=int(input(\"Enter any number: \"))\n# num1=55\n# num2=222\nif(num1 > num2 ):\n    print(\"The greatest number is\",num1)\nelse:\n    print(\"The greatest number is\",num2)",
      "metadata": {
        "trusted": true
      },
      "outputs": [
        {
          "name": "stdout",
          "text": "The greatest number is 222\n",
          "output_type": "stream"
        }
      ],
      "execution_count": 65
    },
    {
      "cell_type": "markdown",
      "source": "11) A shop will give discount of 10% if the cost of purchased quantity is more than 1000.\nAsk user for quantity\nSuppose, one unit will cost 100.\nJudge and print total cost for user.",
      "metadata": {}
    },
    {
      "cell_type": "code",
      "source": "# quantity=int(input(\"Enter quantity of goods purchased: \"))\nquantity=11\ntotal_cost=quantity*100\nif(total_cost>1000):\n    discount=total_cost-(total_cost*0.1)\n    print(\"Hurray!, you got a discout! now you have to pay only\", discount, \"from\",total_cost)\nelse:\n    print(\"You have to pay\",total_cost)",
      "metadata": {
        "trusted": true
      },
      "outputs": [
        {
          "name": "stdout",
          "text": "Hurray!, you got a discout! now you have to pay only 990.0 from 1100\n",
          "output_type": "stream"
        }
      ],
      "execution_count": 72
    },
    {
      "cell_type": "markdown",
      "source": "12) A school has following rules for grading system:\n\na. Below 25 - F\n\nb. 25 to 45 - E\n\nc. 45 to 50 - D\n\nd. 50 to 60 - C\n\ne. 60 to 80 - B\n\nf. Above 80 - A\n\nAsk user to enter marks and print the corresponding grade.",
      "metadata": {}
    },
    {
      "cell_type": "code",
      "source": "\nmarks = int(input(\"Enter marks: \"))\n\nif marks < 25:\n    grade = 'F'\nelif 25 <= marks < 45:\n    grade = 'E'\nelif 45 <= marks < 50:\n    grade = 'D'\nelif 50 <= marks < 60:\n    grade = 'C'\nelif 60 <= marks < 80:\n    grade = 'B'\nelse:\n    grade = 'A'\n\nprint(\"The grade is:\", grade)\n",
      "metadata": {},
      "outputs": [],
      "execution_count": 2
    },
    {
      "cell_type": "markdown",
      "source": "14)A student will not be allowed to sit in exam if his/her attendence is less than 75%.\n\nTake following input from user\n\n- Number of classes held\n\n- Number of classes attended.\n\nAnd print\n\n- percentage of class attended\n\n- Is student is allowed to sit in exam or not.\n",
      "metadata": {}
    },
    {
      "cell_type": "code",
      "source": "classes_held = int(input(\"Enter the number of classes held: \"))\nclasses_attended = int(input(\"Enter the number of classes attended: \"))\n\nattendance_percentage = (classes_attended / classes_held) * 100\n\nprint(\"Attendance percentage: {:.2f}%\".format(attendance_percentage))\n\nif attendance_percentage >= 75:\n    print(\"The student is allowed to sit in the exam.\")\nelse:\n    print(\"The student is not allowed to sit in the exam.\")\n",
      "metadata": {},
      "outputs": [],
      "execution_count": 19
    },
    {
      "cell_type": "markdown",
      "source": "15) Modify the above question to allow student to sit if he/she has medical cause. Ask user if he/she has medical cause or not ( 'Y' or 'N' ) and print accordingly.",
      "metadata": {}
    },
    {
      "cell_type": "code",
      "source": "classes_held = int(input(\"Enter the number of classes held: \"))\nclasses_attended = int(input(\"Enter the number of classes attended: \"))\nmedical_cause = (input(\"Medial Cause (Y/N): \"))\n# classes_held = 10\n# classes_attended = 7\n# medical_cause=\"Y\"\n\nattendance_percentage = (classes_attended / classes_held) * 100\n\nprint(\"Attendance percentage: {:.2f}%\".format(attendance_percentage))\n\nif attendance_percentage >= 75:\n    print(\"The student is allowed to sit in the exam.\")\nelse:\n    if medical_cause==\"Y\":\n        print(\"The student is allowed to sit in the exam.\")\n    else:\n        print(\"The student is not allowed to sit in the exam.\")\n",
      "metadata": {
        "trusted": true
      },
      "outputs": [
        {
          "name": "stdout",
          "text": "Attendance percentage: 80.00%\nThe student is allowed to sit in the exam.\n",
          "output_type": "stream"
        }
      ],
      "execution_count": 78
    },
    {
      "cell_type": "markdown",
      "source": "16) Write a program to check if a year is leap year or not.\n\nIf a year is divisible by 4 then it is leap year but if the year is century year like 2000, 1900, 2100 then it must be divisible by 400.",
      "metadata": {}
    },
    {
      "cell_type": "code",
      "source": "year = int(input(\"Enter a year: \"))\n# year = 1998\n\nif (year % 4 == 0 and year % 100 != 0) or (year % 400 == 0):\n    print(f\"{year} is a leap year.\")\nelse:\n    print(f\"{year} is not a leap year.\")\n",
      "metadata": {
        "trusted": true
      },
      "outputs": [
        {
          "name": "stdout",
          "text": "1998 is not a leap year.\n",
          "output_type": "stream"
        }
      ],
      "execution_count": 81
    },
    {
      "cell_type": "markdown",
      "source": "17) Ask user to enter age, gender ( M or F ), marital status ( Y or N ) and then using following rules print their place of service.\n\nif employee is female, then she will work only in urban areas.\n\nif employee is a male and age is in between 20 to 40 then he may work in anywhere\n\nif employee is male and age is in between 40 t0 60 then he will work in urban areas only.\n\nAnd any other input of age should print \"ERROR\"",
      "metadata": {}
    },
    {
      "cell_type": "code",
      "source": "age = int(input(\"Enter age: \"))\ngender = input(\"Enter gender (M or F): \").upper()\nmarital_status = input(\"Enter marital status (Y or N): \").upper()\n\nif age < 0:\n    print(\"ERROR\")\nelse:\n    if gender == 'F':\n        print(\"The employee will only work in urban areas.\")\n    elif gender == 'M':\n        if 20 <= age <= 40:\n            print(\"The employee may work anywhere.\")\n        elif 40 < age <= 60:\n            print(\"The employee will work in urban areas only.\")\n        else:\n            print(\"ERROR\")\n    else:\n        print(\"ERROR\")\n",
      "metadata": {},
      "outputs": [],
      "execution_count": 22
    },
    {
      "cell_type": "markdown",
      "source": "6) Write a program to calculate the electricity bill (accept number of unit from user) according to the following criteria :\n     Unit                                                     Price  \nuptp 100 units                                             no charge\nNext 200 units                                              Rs 5 per unit\nAfter 200 units                                             Rs 10 per unit\n(For example if input unit is 350 than total bill amount is Rs.3500\n(For example if input unit is 97 than total bill amount is Rs.0\n(For example if input unit is 150 than total bill amount is Rs.750",
      "metadata": {}
    },
    {
      "cell_type": "code",
      "source": "units = int(input(\"Enter the number of units: \"))\n\nbill = 0\n\nif units <= 100:\n    bill = 0  # No charge for up to 100 units\nelif units <= 300:\n    bill = (units - 100) * 5  # Rs 5 per unit for the next 200 units\nelse:\n    bill = (200 * 5) + (units - 300) * 10  # Rs 10 per unit for units above 300\n\n# Print the total bill amount\nprint(f\"The total electricity bill is Rs.{bill}\")\n",
      "metadata": {},
      "outputs": [],
      "execution_count": 18
    },
    {
      "cell_type": "markdown",
      "source": "13) Take input of age of 3 people by user and determine oldest and youngest among them.",
      "metadata": {}
    },
    {
      "cell_type": "code",
      "source": "age1 = int(input(\"Enter the age of person 1: \"))\nage2 = int(input(\"Enter the age of person 2: \"))\nage3 = int(input(\"Enter the age of person 3: \"))\n\noldest = max(age1, age2, age3)\nyoungest = min(age1, age2, age3)\n\nprint(f\"The oldest age is: {oldest}\")\nprint(f\"The youngest age is: {youngest}\")\n",
      "metadata": {},
      "outputs": [],
      "execution_count": 18
    }
  ]
}