{
 "cells": [
  {
   "cell_type": "markdown",
   "metadata": {},
   "source": [
    "# Part -1 Python Basics (Variables)"
   ]
  },
  {
   "cell_type": "markdown",
   "metadata": {},
   "source": [
    "1. Print Your Name with your Father name and Date of birth using suitable escape sequence charactor"
   ]
  },
  {
   "cell_type": "code",
   "execution_count": 1,
   "metadata": {},
   "outputs": [
    {
     "name": "stdout",
     "output_type": "stream",
     "text": [
      "Name: Tehseen Mukhtiar\n",
      "Father's Name: Mukhtiar Hussain\n",
      "Date of Birth: 06-05-2000\n"
     ]
    }
   ],
   "source": [
    "# Write your code here\n",
    "\n",
    "print(\"Name: Tehseen Mukhtiar\")\n",
    "print(\"Father's Name: Mukhtiar Hussain\")\n",
    "print(\"Date of Birth: 06-05-2000\")"
   ]
  },
  {
   "cell_type": "markdown",
   "metadata": {},
   "source": [
    "2. Write your small bio using variables and print it using print function"
   ]
  },
  {
   "cell_type": "code",
   "execution_count": 5,
   "metadata": {},
   "outputs": [
    {
     "name": "stdout",
     "output_type": "stream",
     "text": [
      "Name: Tehseen Mukhtiar\n",
      "Father's Name: Mukhtiar Hussain\n",
      "Date of Birth: 06-05-2000\n",
      "Education: BS(CS)\n",
      "University: Ilma University\n",
      "Work: Flutter Developer @ Grand Digitals\n"
     ]
    }
   ],
   "source": [
    "# Write your code here\n",
    "\n",
    "name = \"Tehseen Mukhtiar\"\n",
    "father_name = \"Mukhtiar Hussain\"\n",
    "dob = \"06-05-2000\"\n",
    "education = \"BS(CS)\"\n",
    "university = \"Ilma University\"\n",
    "work = \"Flutter Developer @ Grand Digitals\"\n",
    "\n",
    "def my_bio(name: str, father_name: str, dob: str, education: str, university: str):\n",
    "    print(f\"Name: {name}\")\n",
    "    print(f\"Father's Name: {father_name}\")\n",
    "    print(f\"Date of Birth: {dob}\")\n",
    "    print(f\"Education: {education}\")\n",
    "    print(f\"University: {university}\")\n",
    "    print(f\"Work: {work}\")\n",
    "\n",
    "my_bio(name, father_name, dob, education, university)"
   ]
  },
  {
   "cell_type": "markdown",
   "metadata": {},
   "source": [
    "3. Write a program in which use all the operators we can use in Python"
   ]
  },
  {
   "cell_type": "code",
   "execution_count": 10,
   "metadata": {},
   "outputs": [
    {
     "name": "stdout",
     "output_type": "stream",
     "text": [
      "Addition: 13\n",
      "Subtraction: 7\n",
      "Multiplication: 30\n",
      "Division: 3.3333333333333335\n",
      "Floor Division: 3\n",
      "Modulus: 1\n",
      "Power: 1000\n"
     ]
    }
   ],
   "source": [
    "# Write your code here\n",
    "\n",
    "# Arithmetic Operators\n",
    "a = 10\n",
    "b = 3\n",
    "print(\"Addition:\", a + b)\n",
    "print(\"Subtraction:\", a - b)\n",
    "print(\"Multiplication:\", a * b)\n",
    "print(\"Division:\", a / b)\n",
    "print(\"Floor Division:\", a // b)\n",
    "print(\"Modulus:\", a % b)\n",
    "print(\"Power:\", a ** b)"
   ]
  },
  {
   "cell_type": "markdown",
   "metadata": {},
   "source": [
    "4. Completes the following steps of small task:\n",
    "    - Mention Marks of English , Islamiat and Maths out of 100 in 3 different variables\n",
    "    - Mention Variable of Total Marks and assign 300 to it\n",
    "    - Calculate Percentage"
   ]
  },
  {
   "cell_type": "code",
   "execution_count": 18,
   "metadata": {},
   "outputs": [
    {
     "name": "stdout",
     "output_type": "stream",
     "text": [
      "Obtained Marks: 245\n",
      "Percentage: 81.66666666666667\n"
     ]
    }
   ],
   "source": [
    "# Write your code here\n",
    "\n",
    "marks = {\n",
    "    \"English\": 75,\n",
    "    \"Islamiat\": 80,\n",
    "    \"Maths\": 90,\n",
    "}\n",
    "\n",
    "total_marks = 300\n",
    "obtained_marks = sum(marks.values())\n",
    "percentage = (obtained_marks / total_marks) * 100\n",
    "\n",
    "print(\"Obtained Marks:\", obtained_marks)\n",
    "print(\"Percentage:\", percentage)"
   ]
  },
  {
   "cell_type": "markdown",
   "metadata": {},
   "source": [
    "# Part -2 Python Basics (Conditional Statements)"
   ]
  },
  {
   "cell_type": "markdown",
   "metadata": {},
   "source": [
    "1) A company decided to give bonus of 5% to employee if his/her year of service is more than 5 years.\n",
    "Ask user for their salary and year of service and print the net bonus amount."
   ]
  },
  {
   "cell_type": "code",
   "execution_count": 29,
   "metadata": {},
   "outputs": [
    {
     "name": "stdout",
     "output_type": "stream",
     "text": [
      "Bonus: 5000.0\n"
     ]
    }
   ],
   "source": [
    "#Type your code here\n",
    "\n",
    "def calculate_bonus(salary: int, year_of_service: int) -> int:\n",
    "    if year_of_service > 5:\n",
    "        bonus = (salary * 10) / 100\n",
    "    else:\n",
    "        bonus = 0\n",
    "    return bonus\n",
    "\n",
    "salary = 50000\n",
    "year_of_service = 7\n",
    "print(\"Bonus:\", calculate_bonus(salary, year_of_service))"
   ]
  },
  {
   "cell_type": "markdown",
   "metadata": {},
   "source": [
    "\n",
    "2) Write a program to check whether a person is eligible for voting or not. (accept age from user) if age is greater than 17 eligible otherwise not eligible"
   ]
  },
  {
   "cell_type": "code",
   "execution_count": 23,
   "metadata": {},
   "outputs": [
    {
     "name": "stdout",
     "output_type": "stream",
     "text": [
      "Vote Eligibility: Eligible\n"
     ]
    }
   ],
   "source": [
    "#Type your code here\n",
    "\n",
    "def vote_eligibility(age: int) -> str:\n",
    "    if age > 17:\n",
    "        return \"Eligible\"\n",
    "    else:\n",
    "        return \"Not Eligible\"\n",
    "    \n",
    "age = 18\n",
    "print(\"Vote Eligibility:\", vote_eligibility(age))"
   ]
  },
  {
   "cell_type": "markdown",
   "metadata": {},
   "source": [
    "\n",
    "3) Write a program to check whether a number entered by user is even or odd."
   ]
  },
  {
   "cell_type": "code",
   "execution_count": 30,
   "metadata": {},
   "outputs": [
    {
     "name": "stdout",
     "output_type": "stream",
     "text": [
      "Number is: Odd\n"
     ]
    }
   ],
   "source": [
    "#Type your code here\n",
    "\n",
    "def check_even_odd(num: int) -> str:\n",
    "    if num % 2 == 0:\n",
    "        return \"Even\"\n",
    "    else:\n",
    "        return \"Odd\"\n",
    "    \n",
    "num = 5\n",
    "print(\"Number is:\", check_even_odd(num))"
   ]
  },
  {
   "cell_type": "markdown",
   "metadata": {},
   "source": [
    "4) Write a program to check whether a number is divisible by 7 or not.\n",
    "Show Answer"
   ]
  },
  {
   "cell_type": "code",
   "execution_count": null,
   "metadata": {},
   "outputs": [
    {
     "name": "stdout",
     "output_type": "stream",
     "text": [
      "Divisible by 7: True\n"
     ]
    }
   ],
   "source": [
    "#Type your code here\n",
    "\n",
    "def divisible_by_seven(num: int) -> bool:\n",
    "    if num % 7 == 0:\n",
    "        return True\n",
    "    else:\n",
    "        return False\n",
    "    \n",
    "num = 14\n",
    "print(\"Divisible by 7:\", divisible_by_seven(num))"
   ]
  },
  {
   "cell_type": "markdown",
   "metadata": {},
   "source": [
    "5) Write a program to display \n",
    "\"Hello\" if a number entered by user is a multiple of five , otherwise print \"Bye\"."
   ]
  },
  {
   "cell_type": "code",
   "execution_count": 36,
   "metadata": {},
   "outputs": [
    {
     "name": "stdout",
     "output_type": "stream",
     "text": [
      "User Input: 165\n",
      "Multiple of 5: Hello\n"
     ]
    }
   ],
   "source": [
    "#Type your code here\n",
    "\n",
    "def multiple_of_five(num: int) -> str:\n",
    "    if num % 5 == 0:\n",
    "        return \"Hello\"\n",
    "    else:\n",
    "        return \"Bye\"\n",
    "    \n",
    "num = int(input(\"Enter a number: \"))\n",
    "print(\"User Input:\", num)\n",
    "print(\"Multiple of 5:\", multiple_of_five(num))"
   ]
  },
  {
   "cell_type": "markdown",
   "metadata": {},
   "source": [
    "7) Write a program to display the last digit of a number.\n"
   ]
  },
  {
   "cell_type": "code",
   "execution_count": 39,
   "metadata": {},
   "outputs": [
    {
     "name": "stdout",
     "output_type": "stream",
     "text": [
      "Last Digit: 5\n"
     ]
    }
   ],
   "source": [
    "#Type your code here\n",
    "\n",
    "def last_digit(num: int) -> int:\n",
    "    return num % 10\n",
    "\n",
    "num = 12345\n",
    "print(\"Last Digit:\", last_digit(num))"
   ]
  },
  {
   "cell_type": "markdown",
   "metadata": {},
   "source": [
    "9) Take values of length and breadth of a rectangle from user and print if it is square or rectangle."
   ]
  },
  {
   "cell_type": "code",
   "execution_count": 40,
   "metadata": {},
   "outputs": [
    {
     "name": "stdout",
     "output_type": "stream",
     "text": [
      "Shape: Square\n",
      "Shape: Rectangle\n"
     ]
    }
   ],
   "source": [
    "#Type your code here \n",
    "\n",
    "def check_shape(lenght: int, breadth: int) -> str:\n",
    "    if lenght == breadth:\n",
    "        return \"Square\"\n",
    "    else:\n",
    "        return \"Rectangle\"\n",
    "    \n",
    "lenght = 5\n",
    "breadth = 5\n",
    "print(\"Shape:\", check_shape(lenght, breadth))\n",
    "\n",
    "length = 4\n",
    "breadth = 5\n",
    "print(\"Shape:\", check_shape(length, breadth))"
   ]
  },
  {
   "cell_type": "markdown",
   "metadata": {},
   "source": [
    "10) Take two int values from user and print greatest among them."
   ]
  },
  {
   "cell_type": "code",
   "execution_count": 41,
   "metadata": {},
   "outputs": [
    {
     "name": "stdout",
     "output_type": "stream",
     "text": [
      "Greatest Number: 20\n"
     ]
    }
   ],
   "source": [
    "# Type your code here\n",
    "\n",
    "def calculate_greatest(num1: int, num2: int) -> int:\n",
    "    return max(num1, num2)\n",
    "\n",
    "num1 = 10\n",
    "num2 = 20\n",
    "print(\"Greatest Number:\", calculate_greatest(num1, num2))"
   ]
  },
  {
   "cell_type": "markdown",
   "metadata": {},
   "source": [
    "11) A shop will give discount of 10% if the cost of purchased quantity is more than 1000.\n",
    "Ask user for quantity\n",
    "Suppose, one unit will cost 100.\n",
    "Judge and print total cost for user."
   ]
  },
  {
   "cell_type": "code",
   "execution_count": 43,
   "metadata": {},
   "outputs": [
    {
     "name": "stdout",
     "output_type": "stream",
     "text": [
      "Discount: 10.0\n",
      "Total Cost: 129990.0\n"
     ]
    }
   ],
   "source": [
    "#Type your code here\n",
    "\n",
    "def calculate_discount(quantity: int) -> int:\n",
    "    if quantity > 1000:\n",
    "        discount = (100 * 10) / 100\n",
    "    else:\n",
    "        discount = 0\n",
    "    return discount\n",
    "\n",
    "quantity = 1200\n",
    "print(\"Discount:\", calculate_discount(quantity))\n",
    "def total_cost(quantity: int) -> int:\n",
    "    unit_cost = 100\n",
    "    cost = quantity * unit_cost\n",
    "    discount = calculate_discount(quantity)\n",
    "    total = cost - discount\n",
    "    return total\n",
    "\n",
    "quantity = int(input(\"Enter the quantity: \"))\n",
    "print(\"Total Cost:\", total_cost(quantity))"
   ]
  },
  {
   "cell_type": "markdown",
   "metadata": {},
   "source": [
    "12) A school has following rules for grading system:\n",
    "\n",
    "a. Below 25 - F\n",
    "\n",
    "b. 25 to 45 - E\n",
    "\n",
    "c. 45 to 50 - D\n",
    "\n",
    "d. 50 to 60 - C\n",
    "\n",
    "e. 60 to 80 - B\n",
    "\n",
    "f. Above 80 - A\n",
    "\n",
    "Ask user to enter marks and print the corresponding grade."
   ]
  },
  {
   "cell_type": "code",
   "execution_count": 44,
   "metadata": {},
   "outputs": [
    {
     "name": "stdout",
     "output_type": "stream",
     "text": [
      "Grade: B\n"
     ]
    }
   ],
   "source": [
    "#Type your code here\n",
    "\n",
    "def calculate_grade(marks: int) -> str:\n",
    "    if marks >= 80:\n",
    "        return \"A\"\n",
    "    elif marks >= 60:\n",
    "        return \"B\"\n",
    "    elif marks >= 50:\n",
    "        return \"C\"\n",
    "    elif marks >= 45:\n",
    "        return \"D\"\n",
    "    elif marks >= 25:\n",
    "        return \"E\"\n",
    "    else:\n",
    "        return \"F\"\n",
    "    \n",
    "marks = 75\n",
    "print(\"Grade:\", calculate_grade(marks))"
   ]
  },
  {
   "cell_type": "markdown",
   "metadata": {},
   "source": [
    "14)A student will not be allowed to sit in exam if his/her attendence is less than 75%.\n",
    "\n",
    "Take following input from user\n",
    "\n",
    "- Number of classes held\n",
    "\n",
    "- Number of classes attended.\n",
    "\n",
    "And print\n",
    "\n",
    "- percentage of class attended\n",
    "\n",
    "- Is student is allowed to sit in exam or not.\n"
   ]
  },
  {
   "cell_type": "code",
   "execution_count": 49,
   "metadata": {},
   "outputs": [
    {
     "name": "stdout",
     "output_type": "stream",
     "text": [
      "Percentage of class attended: 78.57142857142857\n",
      "Exam Status: Allowed\n"
     ]
    }
   ],
   "source": [
    "#Type your code here\n",
    "\n",
    "def is_allowed_in_exam(attendence: int, total_classes: int) -> str:\n",
    "    if attendence >= total_classes * 0.75:\n",
    "        return \"Allowed\"\n",
    "    else:\n",
    "        return \"Not Allowed\"\n",
    "    \n",
    "attendence = int(input(\"Enter the attendence: \"))\n",
    "num_of_classes = int(input(\"Enter the number of classes: \"))\n",
    "\n",
    "attendence_percentage = (attendence / num_of_classes) * 100\n",
    "\n",
    "print(\"Percentage of class attended:\", attendence_percentage)\n",
    "print(\"Exam Status:\", is_allowed_in_exam(attendence, num_of_classes))"
   ]
  },
  {
   "cell_type": "markdown",
   "metadata": {},
   "source": [
    "15) Modify the above question to allow student to sit if he/she has medical cause. Ask user if he/she has medical cause or not ( 'Y' or 'N' ) and print accordingly."
   ]
  },
  {
   "cell_type": "code",
   "execution_count": 50,
   "metadata": {},
   "outputs": [
    {
     "name": "stdout",
     "output_type": "stream",
     "text": [
      "Percentage of class attended: 71.42857142857143\n",
      "Exam Status: Allowed\n"
     ]
    }
   ],
   "source": [
    "#Type your code here\n",
    "\n",
    "def is_allowed_in_exam(attendence: int, total_classes: int, medical_cause: str) -> str:\n",
    "    if attendence >= total_classes * 0.75:\n",
    "        return \"Allowed\"\n",
    "    elif medical_cause == \"Y\":\n",
    "        return \"Allowed\"\n",
    "    else:\n",
    "        return \"Not Allowed\"\n",
    "    \n",
    "attendence = int(input(\"Enter the attendence: \"))\n",
    "num_of_classes = int(input(\"Enter the number of classes: \"))\n",
    "medical_cause = input(\"Medical Cause (Y/N): \")\n",
    "\n",
    "attendence_percentage = (attendence / num_of_classes) * 100\n",
    "\n",
    "print(\"Percentage of class attended:\", attendence_percentage)\n",
    "print(\"Exam Status:\", is_allowed_in_exam(attendence, num_of_classes, medical_cause))"
   ]
  },
  {
   "cell_type": "markdown",
   "metadata": {},
   "source": [
    "16) Write a program to check if a year is leap year or not.\n",
    "\n",
    "If a year is divisible by 4 then it is leap year but if the year is century year like 2000, 1900, 2100 then it must be divisible by 400."
   ]
  },
  {
   "cell_type": "code",
   "execution_count": 52,
   "metadata": {},
   "outputs": [
    {
     "name": "stdout",
     "output_type": "stream",
     "text": [
      "Your Input: 2000\n",
      "Leap Year: True\n"
     ]
    }
   ],
   "source": [
    "#Type your code here\n",
    "\n",
    "def leap_year(year: int) -> bool:\n",
    "    if year % 4 == 0:\n",
    "        if year % 100 == 0:\n",
    "            if year % 400 == 0:\n",
    "                return True\n",
    "            else:\n",
    "                return False\n",
    "        else:\n",
    "            return True\n",
    "    else:\n",
    "        return False\n",
    "    \n",
    "year = int(input(\"Enter the year: \"))\n",
    "\n",
    "print(\"Your Input:\", year)\n",
    "print(\"Leap Year:\", leap_year(year))"
   ]
  },
  {
   "cell_type": "markdown",
   "metadata": {},
   "source": [
    "17) Ask user to enter age, gender ( M or F ), marital status ( Y or N ) and then using following rules print their place of service.\n",
    "\n",
    "if employee is female, then she will work only in urban areas.\n",
    "\n",
    "if employee is a male and age is in between 20 to 40 then he may work in anywhere\n",
    "\n",
    "if employee is male and age is in between 40 t0 60 then he will work in urban areas only.\n",
    "\n",
    "And any other input of age should print \"ERROR\""
   ]
  },
  {
   "cell_type": "code",
   "execution_count": 55,
   "metadata": {},
   "outputs": [
    {
     "name": "stdout",
     "output_type": "stream",
     "text": [
      "Place of Service: Not Allowed to work\n"
     ]
    }
   ],
   "source": [
    "#Type your code here\n",
    "\n",
    "def place_of_service(age: int, gender: str, marital_status: str) -> str:\n",
    "    if gender == 'F':\n",
    "        return \"Urban areas only\"\n",
    "    elif gender == 'M':\n",
    "        if 20 <= age <= 40:\n",
    "            return \"Anywhere\"\n",
    "        elif 40 < age <= 60:\n",
    "            return \"Urban areas only\"\n",
    "        else:\n",
    "            return \"Not Allowed to work\"\n",
    "\n",
    "age = int(input(\"Enter age: \"))\n",
    "gender = input(\"Enter gender (M/F): \")\n",
    "marital_status = input(\"Enter marital status (Y/N): \")\n",
    "\n",
    "print(\"Place of Service:\", place_of_service(age, gender, marital_status))"
   ]
  },
  {
   "cell_type": "markdown",
   "metadata": {},
   "source": [
    "6) Write a program to calculate the electricity bill (accept number of unit from user) according to the following criteria :\n",
    "     Unit                                                     Price  \n",
    "uptp 100 units                                             no charge\n",
    "Next 200 units                                              Rs 5 per unit\n",
    "After 200 units                                             Rs 10 per unit\n",
    "(For example if input unit is 350 than total bill amount is Rs.3500\n",
    "(For example if input unit is 97 than total bill amount is Rs.0\n",
    "(For example if input unit is 150 than total bill amount is Rs.750"
   ]
  },
  {
   "cell_type": "code",
   "execution_count": 60,
   "metadata": {},
   "outputs": [
    {
     "name": "stdout",
     "output_type": "stream",
     "text": [
      "Total Bill Amount: 750\n"
     ]
    }
   ],
   "source": [
    "#Type your code here\n",
    "\n",
    "def calculate_electricity_bill(units: int) -> int:\n",
    "    if units <= 100:\n",
    "        return 0\n",
    "    elif units <= 200:\n",
    "        return units * 5\n",
    "    else:\n",
    "        return units * 10\n",
    "\n",
    "units = int(input(\"Enter the number of units: \"))\n",
    "print(\"Total Bill Amount:\", calculate_electricity_bill(units))"
   ]
  },
  {
   "cell_type": "markdown",
   "metadata": {},
   "source": [
    "13) Take input of age of 3 people by user and determine oldest and youngest among them."
   ]
  },
  {
   "cell_type": "code",
   "execution_count": 61,
   "metadata": {},
   "outputs": [
    {
     "name": "stdout",
     "output_type": "stream",
     "text": [
      "Oldest Person Age: 30\n"
     ]
    }
   ],
   "source": [
    "#Type your code here\n",
    "\n",
    "def oldest_person(age1: int, age2: int, age3: int) -> int:\n",
    "    return max(age1, age2, age3)\n",
    "\n",
    "age1 = 20\n",
    "age2 = 30\n",
    "age3 = 25\n",
    "\n",
    "print(\"Oldest Person Age:\", oldest_person(age1, age2, age3))"
   ]
  }
 ],
 "metadata": {
  "kernelspec": {
   "display_name": ".venv",
   "language": "python",
   "name": "python3"
  },
  "language_info": {
   "codemirror_mode": {
    "name": "ipython",
    "version": 3
   },
   "file_extension": ".py",
   "mimetype": "text/x-python",
   "name": "python",
   "nbconvert_exporter": "python",
   "pygments_lexer": "ipython3",
   "version": "3.12.0"
  }
 },
 "nbformat": 4,
 "nbformat_minor": 4
}
