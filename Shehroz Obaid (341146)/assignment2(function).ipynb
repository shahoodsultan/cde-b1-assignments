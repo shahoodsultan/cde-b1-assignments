{
 "cells": [
  {
   "cell_type": "code",
   "execution_count": null,
   "metadata": {},
   "outputs": [],
   "source": [
    "\n",
    "# **Question No 01**\n",
    "\n",
    "Write a function called create_word_count that takes a list of strings and returns a dictionary where:\n",
    "\n",
    "Keys are unique words from the list.\n",
    "Values are the count of occurrences of each word.\n",
    "\n",
    "**Exmple:**\n",
    "words = ['apple', 'banana', 'apple', 'cherry', 'banana', 'apple']\n",
    "result = create_word_count(words)\n",
    "print(result)  # {'apple': 3, 'banana': 2, 'cherry': 1}\n",
    "\n"
   ]
  },
  {
   "cell_type": "code",
   "execution_count": null,
   "metadata": {},
   "outputs": [],
   "source": [
    "# **Question No 02**\n",
    "\n",
    "Write a function called sort_by_key that takes a list of dictionaries and a key to sort by.\n",
    "\n",
    "The function should return a new list sorted by the given key in ascending order.\n",
    "If the key doesn’t exist in a dictionary, ignore that dictionary.\n",
    "\n",
    "**Exmple:**\n",
    "\n",
    "data = [{'name': 'Alice', 'age': 25}, {'name': 'Bob', 'age': 22}, {'name': 'Charlie', 'age': 30}]\n",
    "sorted_data = sort_by_key(data, 'age')\n",
    "print(sorted_data)  \n",
    " # [{'name': 'Bob', 'age': 22}, {'name': 'Alice', 'age': 25}, {'name': 'Charlie', 'age': 30}]\n",
    "\n"
   ]
  },
  {
   "cell_type": "code",
   "execution_count": null,
   "metadata": {},
   "outputs": [],
   "source": [
    "def sort_by_key(data, key):\n",
    "    result = []\n",
    "    for d in data:\n",
    "        if key in d:\n",
    "            result.append(d)\n",
    "    return sorted(result, key=lambda x: x[key])\n",
    "\n",
    "data = [{'name': 'Alice', 'age': 25}, {'name': 'Bob', 'age': 22}, {'name': 'Charlie', 'age': 30}]\n",
    "sorted_data = sort_by_key(data, 'age')\n",
    "print(sorted_data)\n"
   ]
  },
  {
   "cell_type": "code",
   "execution_count": null,
   "metadata": {},
   "outputs": [],
   "source": [
    "# **Question No 03**\n",
    "\n",
    "Write a function called filter_dict that takes a dictionary and a value threshold as arguments.\n",
    "\n",
    "The function should return a new dictionary containing only the key-value pairs where the value is greater than the threshold.\n",
    "\n",
    "**Exmple:**\n",
    "\n",
    "scores = {'Alice': 85, 'Bob': 90, 'Charlie': 78, 'David': 92}\n",
    "filtered_scores = filter_dict(scores, 80)\n",
    "print(filtered_scores)  # {'Alice': 85, 'Bob': 90, 'David': 92}\n",
    "\n"
   ]
  },
  {
   "cell_type": "code",
   "execution_count": null,
   "metadata": {},
   "outputs": [],
   "source": [
    "def filter_dict(d, threshold):\n",
    "    return {key: value for key, value in d.items() if value > threshold}\n",
    "\n",
    "scores = {'Alice': 85, 'Bob': 90, 'Charlie': 78, 'David': 92}\n",
    "filtered_scores = filter_dict(scores, 80)\n",
    "print(filtered_scores)\n"
   ]
  },
  {
   "cell_type": "code",
   "execution_count": null,
   "metadata": {},
   "outputs": [],
   "source": [
    "# **Question No 04**\n",
    "\n",
    "Write a function called find_common_keys that takes two dictionaries and returns a list of keys that are common to both.\n",
    "\n",
    "\n",
    "**Exmple:**\n",
    "\n",
    "dict1 = {'a': 1, 'b': 2, 'c': 3}\n",
    "dict2 = {'b': 4, 'c': 5, 'd': 6}\n",
    "common_keys = find_common_keys(dict1, dict2)\n",
    "print(common_keys)  # ['b', 'c']\n"
   ]
  },
  {
   "cell_type": "code",
   "execution_count": null,
   "metadata": {},
   "outputs": [],
   "source": [
    "def find_common_keys(dict1, dict2):\n",
    "    return [key for key in dict1 if key in dict2]\n",
    "\n",
    "dict1 = {'a': 1, 'b': 2, 'c': 3}\n",
    "dict2 = {'b': 4, 'c': 5, 'd': 6}\n",
    "common_keys = find_common_keys(dict1, dict2)\n",
    "print(common_keys)\n"
   ]
  },
  {
   "cell_type": "code",
   "execution_count": null,
   "metadata": {},
   "outputs": [],
   "source": [
    "# **Question No 5**\n",
    "\n",
    "Write a function called update_grades that takes a list of dictionaries (representing students with their grades) and updates the grade of a student if their name matches the given name.\n",
    "\n",
    "\n",
    "**Exmple:**\n",
    "\n",
    "students = [{'name': 'Alice', 'grade': 85}, {'name': 'Bob', 'grade': 90}]\n",
    "updated_students = update_grades(students, 'Bob', 95)\n",
    "print(updated_students)  \n",
    "# [{'name': 'Alice', 'grade': 85}, {'name': 'Bob', 'grade': 95}]\n",
    "\n"
   ]
  },
  {
   "cell_type": "code",
   "execution_count": null,
   "metadata": {},
   "outputs": [],
   "source": [
    "def update_grades(students, name, new_grade):\n",
    "    for student in students:\n",
    "        if student['name'] == name:\n",
    "            student['grade'] = new_grade\n",
    "    return students\n",
    "\n",
    "students = [{'name': 'Alice', 'grade': 85}, {'name': 'Bob', 'grade': 90}]\n",
    "updated_students = update_grades(students, 'Bob', 95)\n",
    "print(updated_students)\n"
   ]
  },
  {
   "cell_type": "code",
   "execution_count": null,
   "metadata": {},
   "outputs": [],
   "source": [
    "# **Question No 6**\n",
    "\n",
    "Write a function called merge_lists_to_dict that takes two lists of equal length:\n",
    "\n",
    "The first list contains keys.\n",
    "The second list contains values.\n",
    "The function should return a dictionary created by merging these lists.\n",
    "\n",
    "**Exmple:**\n",
    "keys = ['name', 'age', 'city']\n",
    "values = ['Alice', 25, 'New York']\n",
    "result = merge_lists_to_dict(keys, values)\n",
    "print(result)  # {'name': 'Alice', 'age': 25, 'city': 'New York'}\n",
    "\n"
   ]
  },
  {
   "cell_type": "code",
   "execution_count": null,
   "metadata": {},
   "outputs": [],
   "source": [
    "def merge_lists_to_dict(keys, values):\n",
    "    return dict(zip(keys, values))\n",
    "\n",
    "keys = ['name', 'age', 'city']\n",
    "values = ['Alice', 25, 'New York']\n",
    "result = merge_lists_to_dict(keys, values)\n",
    "print(result)"
   ]
  }
 ],
 "metadata": {
  "kernelspec": {
   "display_name": "Python 3",
   "language": "python",
   "name": "python3"
  },
  "language_info": {
   "name": "python",
   "version": "3.13.0"
  }
 },
 "nbformat": 4,
 "nbformat_minor": 2
}
