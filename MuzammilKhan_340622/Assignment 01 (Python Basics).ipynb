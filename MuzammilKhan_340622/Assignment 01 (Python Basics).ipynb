{
 "cells": [
  {
   "cell_type": "markdown",
   "metadata": {},
   "source": [
    "# Part -1 Python Basics (Variables)"
   ]
  },
  {
   "cell_type": "markdown",
   "metadata": {},
   "source": [
    "1. Print Your Name with your Father name and Date of birth using suitable escape sequence charactor"
   ]
  },
  {
   "cell_type": "code",
   "execution_count": 1,
   "metadata": {},
   "outputs": [
    {
     "name": "stdout",
     "output_type": "stream",
     "text": [
      "Name: \t\t Muzammil khan Doe\n",
      "Father's Name: \t Arif Ahmed Khan \n",
      "Date of Birth: \t07-may-2001\n"
     ]
    }
   ],
   "source": [
    "# Write your code here\n",
    "\n",
    "print(\"Name: \\t\\t Muzammil khan Doe\\nFather's Name: \\t Arif Ahmed Khan \\nDate of Birth: \\t07-may-2001\")\n"
   ]
  },
  {
   "cell_type": "markdown",
   "metadata": {},
   "source": [
    "2. Write your small bio using variables and print it using print function"
   ]
  },
  {
   "cell_type": "code",
   "execution_count": 3,
   "metadata": {},
   "outputs": [
    {
     "name": "stdout",
     "output_type": "stream",
     "text": [
      "Personal Bio:\n",
      "Name: John Doe\n",
      "Father's Name: Robert Doe\n",
      "Date of Birth: 01-Jan-2000\n",
      "Education: B.Sc. in Zoology\n",
      "Hobbies: reading, coding, and hiking\n"
     ]
    }
   ],
   "source": [
    "# Write your code here\n",
    "name = \"John Doe\"\n",
    "father_name = \"Robert Doe\"\n",
    "dob = \"01-Jan-2000\"\n",
    "education = \"B.Sc. in Zoology\"\n",
    "hobbies = \"reading, coding, and hiking\"\n",
    "\n",
    "# Printing the bio\n",
    "print(\"Personal Bio:\")\n",
    "print(f\"Name: {name}\")\n",
    "print(f\"Father's Name: {father_name}\")\n",
    "print(f\"Date of Birth: {dob}\")\n",
    "print(f\"Education: {education}\")\n",
    "print(f\"Hobbies: {hobbies}\")"
   ]
  },
  {
   "cell_type": "markdown",
   "metadata": {},
   "source": [
    "3. Write a program in which use all the operators we can use in Python"
   ]
  },
  {
   "cell_type": "code",
   "execution_count": 2,
   "metadata": {},
   "outputs": [
    {
     "name": "stdout",
     "output_type": "stream",
     "text": [
      "The result of 5 + 2 is: 7\n"
     ]
    }
   ],
   "source": [
    "# Write your code here\n",
    "# Simple Calculator\n",
    "f_number = int(input(\"Enter the first number: \"))\n",
    "operator = input(\"Enter an operator (+, -, *, /, %): \")\n",
    "s_number = int(input(\"Enter the second number: \"))\n",
    "\n",
    "# Perform the operation based on the operator\n",
    "if operator == \"+\":\n",
    "    result = f_number + s_number\n",
    "    print(f\"The result of {f_number} + {s_number} is: {result}\")\n",
    "elif operator == \"-\":\n",
    "    result = f_number - s_number\n",
    "    print(f\"The result of {f_number} - {s_number} is: {result}\")\n",
    "elif operator == \"*\":\n",
    "    result = f_number * s_number\n",
    "    print(f\"The result of {f_number} * {s_number} is: {result}\")\n",
    "elif operator == \"/\":\n",
    "    if s_number != 0:\n",
    "        result = f_number / s_number\n",
    "        print(f\"The result of {f_number} / {s_number} is: {result}\")\n",
    "    else:\n",
    "        print(\"Error: Division by zero is not allowed.\")\n",
    "elif operator == \"%\":\n",
    "    if s_number != 0:\n",
    "        result = f_number % s_number\n",
    "        print(f\"The result of {f_number} % {s_number} is: {result}\")\n",
    "    else:\n",
    "        print(\"Error: Modulus by zero is not allowed.\")\n",
    "else:\n",
    "    print(\"Invalid operator. Please use one of the following: +, -, *, /, %.\")\n",
    "\n"
   ]
  },
  {
   "cell_type": "markdown",
   "metadata": {},
   "source": [
    "4. Completes the following steps of small task:\n",
    "    - Mention Marks of English , Islamiat and Maths out of 100 in 3 different variables\n",
    "    - Mention Variable of Total Marks and assign 300 to it\n",
    "    - Calculate Percentage"
   ]
  },
  {
   "cell_type": "code",
   "execution_count": 5,
   "metadata": {},
   "outputs": [
    {
     "name": "stdout",
     "output_type": "stream",
     "text": [
      "55.0\n"
     ]
    }
   ],
   "source": [
    "# Write your code here\n",
    "English = int(input(\"Enter marks for English\"))\n",
    "Islamiat = int(input(\"Enter marks for Islamiat\"))\n",
    "Maths = int(input(\"Enter marks for Maths\"))\n",
    "Total_marks = 300\n",
    "sum =((English + Islamiat + Maths)*100)\n",
    "sum_of_marks =((sum)/300)\n",
    "print(sum_of_marks)"
   ]
  },
  {
   "cell_type": "markdown",
   "metadata": {},
   "source": [
    "# Part -2 Python Basics (Conditional Statements)"
   ]
  },
  {
   "cell_type": "markdown",
   "metadata": {},
   "source": [
    "1) A company decided to give bonus of 5% to employee if his/her year of service is more than 5 years.\n",
    "Ask user for their salary and year of service and print the net bonus amount."
   ]
  },
  {
   "cell_type": "code",
   "execution_count": 8,
   "metadata": {},
   "outputs": [
    {
     "name": "stdout",
     "output_type": "stream",
     "text": [
      "Your Bonus will be  1250.0\n"
     ]
    }
   ],
   "source": [
    "#Type your code here\n",
    "years = int(input(\"Enter year of service\"))\n",
    "if years >= 5:\n",
    "    salary = int(input(\"enter you salary\"))\n",
    "    print('Your Bonus will be ', 0.05 * salary)\n",
    "else: \n",
    "    print(\"Your not eligible for bonus\")"
   ]
  },
  {
   "cell_type": "markdown",
   "metadata": {},
   "source": [
    "\n",
    "2) Write a program to check whether a person is eligible for voting or not. (accept age from user) if age is greater than 17 eligible otherwise not eligible"
   ]
  },
  {
   "cell_type": "code",
   "execution_count": 10,
   "metadata": {},
   "outputs": [
    {
     "name": "stdout",
     "output_type": "stream",
     "text": [
      "Your are eligible for voting\n"
     ]
    }
   ],
   "source": [
    "#Type your code here\n",
    "Age = int(input(\"Enter age\"))\n",
    "if Age >=17:\n",
    "    print(\"Your are eligible for voting\")\n",
    "else: \n",
    "    print(\"Your not eligible for voting\")"
   ]
  },
  {
   "cell_type": "markdown",
   "metadata": {},
   "source": [
    "\n",
    "3) Write a program to check whether a number entered by user is even or odd."
   ]
  },
  {
   "cell_type": "code",
   "execution_count": 13,
   "metadata": {},
   "outputs": [
    {
     "name": "stdout",
     "output_type": "stream",
     "text": [
      "Your are even number\n"
     ]
    }
   ],
   "source": [
    "#Type your code here\n",
    "number = int(input(\"Enter number\"))\n",
    "if number %2 == 0:\n",
    "    print(\"Your are even number\")\n",
    "else: \n",
    "    print(\"Your are odd number\")\n",
    "    "
   ]
  },
  {
   "cell_type": "markdown",
   "metadata": {},
   "source": [
    "4) Write a program to check whether a number is divisible by 7 or not.\n",
    "Show Answer"
   ]
  },
  {
   "cell_type": "code",
   "execution_count": 15,
   "metadata": {},
   "outputs": [
    {
     "name": "stdout",
     "output_type": "stream",
     "text": [
      "Your are divisible by 7\n"
     ]
    }
   ],
   "source": [
    "#Type your code here\n",
    "number = int(input(\"Enter number\"))\n",
    "if number %7 == 0:\n",
    "    print(\"Your are divisible by 7\")\n",
    "else: \n",
    "    print(\"Your are not divisible by 7\")\n"
   ]
  },
  {
   "cell_type": "markdown",
   "metadata": {},
   "source": [
    "5) Write a program to display \n",
    "\"Hello\" if a number entered by user is a multiple of five , otherwise print \"Bye\"."
   ]
  },
  {
   "cell_type": "code",
   "execution_count": null,
   "metadata": {},
   "outputs": [
    {
     "name": "stdout",
     "output_type": "stream",
     "text": [
      "Hello\n"
     ]
    }
   ],
   "source": [
    "#Type your code here\n",
    "\n",
    "number = int(input(\"Enter number\"))\n",
    "if number %5 == 0:\n",
    "    print(\"Hello\")\n",
    "else: \n",
    "    print(\"Bye\")\n"
   ]
  },
  {
   "cell_type": "markdown",
   "metadata": {},
   "source": [
    "7) Write a program to display the last digit of a number.\n"
   ]
  },
  {
   "cell_type": "code",
   "execution_count": 17,
   "metadata": {},
   "outputs": [
    {
     "data": {
      "text/plain": [
       "5"
      ]
     },
     "execution_count": 17,
     "metadata": {},
     "output_type": "execute_result"
    }
   ],
   "source": [
    "#Type your code here\n",
    "\n",
    "number = [1, 2, 3, 4, 5]\n",
    "number [-1]\n"
   ]
  },
  {
   "cell_type": "markdown",
   "metadata": {},
   "source": [
    "9) Take values of length and breadth of a rectangle from user and print if it is square or rectangle."
   ]
  },
  {
   "cell_type": "code",
   "execution_count": 19,
   "metadata": {},
   "outputs": [
    {
     "name": "stdout",
     "output_type": "stream",
     "text": [
      "Square.\n"
     ]
    }
   ],
   "source": [
    "#Type your code here \n",
    "length = int(input(\"Enter of values length\"))\n",
    "breadth = int(input(\"Enter of values breadth\"))\n",
    "\n",
    "if length == breadth:\n",
    "    print(\"Square.\")\n",
    "else:\n",
    "    print(\"Not a Square.\")"
   ]
  },
  {
   "cell_type": "markdown",
   "metadata": {},
   "source": [
    "10) Take two int values from user and print greatest among them."
   ]
  },
  {
   "cell_type": "code",
   "execution_count": 22,
   "metadata": {},
   "outputs": [
    {
     "name": "stdout",
     "output_type": "stream",
     "text": [
      "Greater than value one 80\n"
     ]
    }
   ],
   "source": [
    "# Type your code here\n",
    "one = int(input(\"Enter of values one\"))\n",
    "second = int(input(\"Enter of values second\"))\n",
    "if (one >= second) :\n",
    "    print(\"Greater than value one\",one)\n",
    "elif (second >=one) :\n",
    "    print(\"Greater than value second\",second)\n",
    "else:\n",
    "    print(\"Less than value\" )"
   ]
  },
  {
   "cell_type": "markdown",
   "metadata": {},
   "source": [
    "11) A shop will give discount of 10% if the cost of purchased quantity is more than 1000.\n",
    "Ask user for quantity\n",
    "Suppose, one unit will cost 100.\n",
    "Judge and print total cost for user."
   ]
  },
  {
   "cell_type": "code",
   "execution_count": 33,
   "metadata": {},
   "outputs": [
    {
     "name": "stdout",
     "output_type": "stream",
     "text": [
      "Discount applied: 10000.00\n",
      "Total cost after discount: 90000.00\n"
     ]
    }
   ],
   "source": [
    "#Type your code here\n",
    "# Input the quantity purchased\n",
    "quantity = int(input(\"Enter the quantity: \"))\n",
    "\n",
    "# Price of one unit\n",
    "price = 100\n",
    "\n",
    "# Calculate total cost\n",
    "if quantity > 0:\n",
    "    total_price = quantity * price\n",
    "    if total_price > 1000:\n",
    "        discount = 0.10 * total_price\n",
    "        final_price = total_price - discount\n",
    "        print(f\"Discount applied: {discount:.2f}\")\n",
    "        print(f\"Total cost after discount: {final_price:.2f}\")\n",
    "    else:\n",
    "        print(f\"No discount. Total cost: {total_price:.2f}\")\n",
    "else:\n",
    "    print(\"Please enter a valid quantity greater than 0.\")\n",
    "\n"
   ]
  },
  {
   "cell_type": "markdown",
   "metadata": {},
   "source": [
    "12) A school has following rules for grading system:\n",
    "\n",
    "a. Below 25 - F\n",
    "\n",
    "b. 25 to 45 - E\n",
    "\n",
    "c. 45 to 50 - D\n",
    "\n",
    "d. 50 to 60 - C\n",
    "\n",
    "e. 60 to 80 - B\n",
    "\n",
    "f. Above 80 - A\n",
    "\n",
    "Ask user to enter marks and print the corresponding grade."
   ]
  },
  {
   "cell_type": "code",
   "execution_count": null,
   "metadata": {},
   "outputs": [],
   "source": [
    "#Type your code here\n",
    "marks = int(input(\"Enter your marks: \"))\n",
    "\n",
    "if marks > 80 and marks <= 100:\n",
    "    print(\"Grade: A\")\n",
    "elif marks >= 60 and marks <= 80:\n",
    "    print(\"Grade: B\")\n",
    "elif marks >= 50 and marks < 60:\n",
    "    print(\"Grade: C\")\n",
    "elif marks >= 45 and marks < 50:\n",
    "    print(\"Grade: D\")\n",
    "elif marks >= 25 and marks < 45:\n",
    "    print(\"Grade: E\")\n",
    "elif marks <25 and marks >= 0:\n",
    "    print(\"Grade: F\")\n",
    "else:\n",
    "    print(\"Invalid Input\")"
   ]
  },
  {
   "cell_type": "markdown",
   "metadata": {},
   "source": [
    "14)A student will not be allowed to sit in exam if his/her attendence is less than 75%.\n",
    "\n",
    "Take following input from user\n",
    "\n",
    "- Number of classes held\n",
    "\n",
    "- Number of classes attended.\n",
    "\n",
    "And print\n",
    "\n",
    "- percentage of class attended\n",
    "\n",
    "- Is student is allowed to sit in exam or not.\n"
   ]
  },
  {
   "cell_type": "code",
   "execution_count": 39,
   "metadata": {},
   "outputs": [
    {
     "name": "stdout",
     "output_type": "stream",
     "text": [
      "Your student is allowed to sit in exam 88.0\n"
     ]
    }
   ],
   "source": [
    "#Type your code here\n",
    "class_held = 25\n",
    "class_Attended = int(input(\"Please enter Only enter exam student attended for class percentage 75% an above\"))\n",
    "\n",
    "percentage = (class_Attended * 100) / (class_held)\n",
    "if percentage >= 75:\n",
    "    print(\"Your student is allowed to sit in exam\" ,percentage)\n",
    "else:\n",
    "    print(\"Your student is not allowed to sit in exam\",percentage)\n"
   ]
  },
  {
   "cell_type": "markdown",
   "metadata": {},
   "source": [
    "15) Modify the above question to allow student to sit if he/she has medical cause. Ask user if he/she has medical cause or not ( 'Y' or 'N' ) and print accordingly."
   ]
  },
  {
   "cell_type": "code",
   "execution_count": 40,
   "metadata": {},
   "outputs": [
    {
     "name": "stdout",
     "output_type": "stream",
     "text": [
      "The student is not allowed to sit without a valid medical reason.\n"
     ]
    }
   ],
   "source": [
    "#Type your code here\n",
    "# Ask the user if the student has a medical cause\n",
    "medical_cause = input(\"Does the student have a medical cause? (Y/N): \")\n",
    "\n",
    "# Check the user's response\n",
    "if medical_cause.upper() == 'Y':\n",
    "    print(\"The student is allowed to sit because they have a medical cause.\")\n",
    "else:\n",
    "    print(\"The student is not allowed to sit without a valid medical reason.\")\n"
   ]
  },
  {
   "cell_type": "markdown",
   "metadata": {},
   "source": [
    "16) Write a program to check if a year is leap year or not.\n",
    "\n",
    "If a year is divisible by 4 then it is leap year but if the year is century year like 2000, 1900, 2100 then it must be divisible by 400."
   ]
  },
  {
   "cell_type": "code",
   "execution_count": 48,
   "metadata": {},
   "outputs": [
    {
     "name": "stdout",
     "output_type": "stream",
     "text": [
      "The not leap years\n"
     ]
    }
   ],
   "source": [
    "#Type your code here\n",
    "years = int(input(\"Place Enter Year\"))\n",
    "if years %4 == 0:\n",
    "    print(\"The leap years\")\n",
    "else:\n",
    "    print(\"The not leap years\")"
   ]
  },
  {
   "cell_type": "markdown",
   "metadata": {},
   "source": [
    "17) Ask user to enter age, gender ( M or F ), marital status ( Y or N ) and then using following rules print their place of service.\n",
    "\n",
    "if employee is female, then she will work only in urban areas.\n",
    "\n",
    "if employee is a male and age is in between 20 to 40 then he may work in anywhere\n",
    "\n",
    "if employee is male and age is in between 40 t0 60 then he will work in urban areas only.\n",
    "\n",
    "And any other input of age should print \"ERROR\""
   ]
  },
  {
   "cell_type": "code",
   "execution_count": 59,
   "metadata": {},
   "outputs": [
    {
     "name": "stdout",
     "output_type": "stream",
     "text": [
      "he work only in urban areas 52\n"
     ]
    }
   ],
   "source": [
    "#Type your code here\n",
    "Age =int(input(\"Enter age\"))\n",
    "gender = input(\"M/F\")\n",
    "maritalStatus = input(\"Y/N\")\n",
    "\n",
    "if gender.upper() == \"F\":\n",
    "    print (\"She work only in urban areas\" ,)\n",
    "else:\n",
    "    if (gender.upper() == \"M\") and (Age >=20 ) and ( Age < 40):\n",
    "     print (\"he may work in anywher\" , Age)\n",
    "    elif(gender.upper() == \"M\") and (Age >=40 )and(Age <= 60):\n",
    "     print (\"he work only in urban areas\", Age)\n",
    "    else:\n",
    "     print (\"ERROR\")"
   ]
  },
  {
   "cell_type": "markdown",
   "metadata": {},
   "source": [
    "6) Write a program to calculate the electricity bill (accept number of unit from user) according to the following criteria :\n",
    "     Unit                                                     Price  \n",
    "uptp 100 units                                             no charge\n",
    "Next 200 units                                              Rs 5 per unit\n",
    "After 200 units                                             Rs 10 per unit\n",
    "(For example if input unit is 350 than total bill amount is Rs.3500\n",
    "(For example if input unit is 97 than total bill amount is Rs.0\n",
    "(For example if input unit is 150 than total bill amount is Rs.750"
   ]
  },
  {
   "cell_type": "markdown",
   "metadata": {},
   "source": [
    "13) Take input of age of 3 people by user and determine oldest and youngest among them."
   ]
  },
  {
   "cell_type": "code",
   "execution_count": 67,
   "metadata": {},
   "outputs": [
    {
     "name": "stdout",
     "output_type": "stream",
     "text": [
      "bill total amount 13125\n"
     ]
    }
   ],
   "source": [
    "#Type your code here\n",
    "Unit = int(input(\"Enter the unit you want\"))\n",
    "\n",
    "if Unit <= 100:\n",
    "    price = 5\n",
    "    print (\"bill total amount\",Unit * price)\n",
    "else:\n",
    "   if (Unit >= 100) and (Unit <= 200):\n",
    "    price = 10\n",
    "    print (\"bill total amount\",Unit * price)\n",
    "   elif (Unit >= 200) and (Unit <= 300):\n",
    "    price = 15\n",
    "    print (\"bill total amount\",Unit * price)\n",
    "   elif (Unit >= 300) and (Unit <=400):\n",
    "     price = 15\n",
    "     print (\"bill total amount\",Unit * price)\n",
    "   elif (Unit >= 500) and (Unit <=1000):\n",
    "     price = 25\n",
    "     print (\"bill total amount\",Unit * price)\n",
    "   else:\n",
    "    print (\"ERROR\")\n"
   ]
  }
 ],
 "metadata": {
  "kernelspec": {
   "display_name": "Python 3",
   "language": "python",
   "name": "python3"
  },
  "language_info": {
   "codemirror_mode": {
    "name": "ipython",
    "version": 3
   },
   "file_extension": ".py",
   "mimetype": "text/x-python",
   "name": "python",
   "nbconvert_exporter": "python",
   "pygments_lexer": "ipython3",
   "version": "3.12.2"
  }
 },
 "nbformat": 4,
 "nbformat_minor": 4
}
