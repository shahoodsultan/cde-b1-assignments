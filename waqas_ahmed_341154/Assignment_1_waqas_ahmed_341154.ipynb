{
 "cells": [
  {
   "cell_type": "markdown",
   "metadata": {},
   "source": [
    "# Part -1 Python Basics (Variables)"
   ]
  },
  {
   "cell_type": "markdown",
   "metadata": {},
   "source": [
    "1. Print Your Name with your Father name and Date of birth using suitable escape sequence charactor"
   ]
  },
  {
   "cell_type": "code",
   "execution_count": 1,
   "metadata": {},
   "outputs": [
    {
     "name": "stdout",
     "output_type": "stream",
     "text": [
      "Name: Waqas Ahmed\n",
      "Father's Name: Orangzaib\n",
      "Date of Birth: 27-09-2000\n"
     ]
    }
   ],
   "source": [
    "print(\"Name: Waqas Ahmed\\nFather's Name: Orangzaib\\nDate of Birth: 27-09-2000\")"
   ]
  },
  {
   "cell_type": "markdown",
   "metadata": {},
   "source": [
    "2. Write your small bio using variables and print it using print function"
   ]
  },
  {
   "cell_type": "code",
   "execution_count": null,
   "metadata": {},
   "outputs": [],
   "source": [
    "name = \"Waqas Ahmed\"\n",
    "f_name = \"Orangzaib\"\n",
    "education = \"Undergraduate\"\n",
    "program = \"BSCS\"\n",
    "uni = \"UBIT\"\n",
    "\n",
    "print(f\"Name: {name}, Father's Name: {f_name}, Education: {education}, Program: {program}, University: {uni}\")\n"
   ]
  },
  {
   "cell_type": "markdown",
   "metadata": {},
   "source": [
    "3. Write a program in which use all the operators we can use in Python"
   ]
  },
  {
   "cell_type": "code",
   "execution_count": null,
   "metadata": {},
   "outputs": [],
   "source": [
    "# Arithmetic Operators\n",
    "a = 10\n",
    "b = 5\n",
    "\n",
    "# Basic arithmetic operations\n",
    "sum_result = a + b            # Addition\n",
    "difference_result = a - b     # Subtraction\n",
    "product_result = a * b        # Multiplication\n",
    "division_result = a / b       # Division\n",
    "modulus_result = a % b        # Modulus (remainder)\n",
    "\n",
    "# Comparison Operators\n",
    "is_equal = a == b            # Equal to\n",
    "is_not_equal = a != b        # Not equal to\n",
    "is_greater = a > b           # Greater than\n",
    "is_less = a < b              # Less than\n",
    "\n",
    "# Logical Operators\n",
    "and_operator = (a > b) and (b > 0)  # AND operator\n",
    "or_operator = (a > b) or (b < 0)    # OR operator\n",
    "not_operator = not (a == b)         # NOT operator\n",
    "\n",
    "# Assignment Operators\n",
    "x = 5\n",
    "x += 2  # Add and assign (x = x + 2)\n",
    "x -= 3  # Subtract and assign (x = x - 3)\n",
    "x *= 4  # Multiply and assign (x = x * 4)\n",
    "x /= 2  # Divide and assign (x = x / 2)\n",
    "\n",
    "# Membership Operators\n",
    "list_example = [1, 2, 3, 4]\n",
    "is_member = 3 in list_example   # Check if 3 is in the list\n",
    "is_not_member = 5 not in list_example  # Check if 5 is not in the list\n",
    "\n",
    "# Identity Operators\n",
    "is_same = a is b              # Check if a and b refer to the same object\n",
    "is_not_same = a is not b      # Check if a and b do not refer to the same object\n",
    "\n",
    "# Printing results\n",
    "print(\"Arithmetic Operators:\")\n",
    "print(f\"a + b = {sum_result}, a - b = {difference_result}, a * b = {product_result}, a / b = {division_result}\")\n",
    "print(f\"a % b = {modulus_result}\")\n",
    "\n",
    "print(\"\\nComparison Operators:\")\n",
    "print(f\"a == b: {is_equal}, a != b: {is_not_equal}, a > b: {is_greater}\")\n",
    "print(f\"a < b: {is_less}\")\n",
    "\n",
    "print(\"\\nLogical Operators:\")\n",
    "print(f\"(a > b) and (b > 0): {and_operator}\")\n",
    "print(f\"(a > b) or (b < 0): {or_operator}\")\n",
    "print(f\"not (a == b): {not_operator}\")\n",
    "\n",
    "print(\"\\nAssignment Operators:\")\n",
    "print(f\"x after operations: {x}\")\n",
    "\n",
    "print(\"\\nMembership Operators:\")\n",
    "print(f\"3 in list_example: {is_member}, 5 not in list_example: {is_not_member}\")\n",
    "\n",
    "print(\"\\nIdentity Operators:\")\n",
    "print(f\"a is b: {is_same}, a is not b: {is_not_same}\")\n"
   ]
  },
  {
   "cell_type": "markdown",
   "metadata": {},
   "source": [
    "4. Completes the following steps of small task:\n",
    "    - Mention Marks of English , Islamiat and Maths out of 100 in 3 different variables\n",
    "    - Mention Variable of Total Marks and assign 300 to it\n",
    "    - Calculate Percentage"
   ]
  },
  {
   "cell_type": "code",
   "execution_count": 2,
   "metadata": {},
   "outputs": [
    {
     "name": "stdout",
     "output_type": "stream",
     "text": [
      "Marks in English: 85\n",
      "Marks in Islamiat: 90\n",
      "Marks in Maths: 95\n",
      "Total Marks: 300\n",
      "Obtained Marks: 270\n",
      "Percentage: 90.0 %\n"
     ]
    }
   ],
   "source": [
    "# Step 1: Mention Marks of English, Islamiat, and Maths\n",
    "english_marks = 85\n",
    "islamiat_marks = 90\n",
    "maths_marks = 95\n",
    "\n",
    "# Step 2: Mention Total Marks variable\n",
    "total_marks = 300\n",
    "\n",
    "# Step 3: Calculate Percentage\n",
    "obtained_marks = english_marks + islamiat_marks + maths_marks\n",
    "percentage = (obtained_marks / total_marks) * 100\n",
    "\n",
    "# Display the results\n",
    "print(\"Marks in English:\", english_marks)\n",
    "print(\"Marks in Islamiat:\", islamiat_marks)\n",
    "print(\"Marks in Maths:\", maths_marks)\n",
    "print(\"Total Marks:\", total_marks)\n",
    "print(\"Obtained Marks:\", obtained_marks)\n",
    "print(\"Percentage:\", round(percentage, 2), \"%\")\n"
   ]
  },
  {
   "cell_type": "markdown",
   "metadata": {},
   "source": [
    "# Part -2 Python Basics (Conditional Statements)"
   ]
  },
  {
   "cell_type": "markdown",
   "metadata": {},
   "source": [
    "1) A company decided to give bonus of 5% to employee if his/her year of service is more than 5 years.\n",
    "Ask user for their salary and year of service and print the net bonus amount."
   ]
  },
  {
   "cell_type": "code",
   "execution_count": 3,
   "metadata": {},
   "outputs": [
    {
     "name": "stdout",
     "output_type": "stream",
     "text": [
      "Sorry, you are not eligible for a bonus as your years of service are less than 5.\n"
     ]
    }
   ],
   "source": [
    "# Ask the user for their salary and years of service\n",
    "salary = float(input(\"Enter your salary: \"))\n",
    "years_of_service = int(input(\"Enter your years of service: \"))\n",
    "\n",
    "# Check if the year of service is more than 5 years\n",
    "if years_of_service > 5:\n",
    "    bonus = salary * 0.05  # Calculate 5% bonus\n",
    "    print(f\"Congratulations! You are eligible for a bonus. Your bonus amount is: {bonus}\")\n",
    "else:\n",
    "    print(\"Sorry, you are not eligible for a bonus as your years of service are less than 5.\")\n"
   ]
  },
  {
   "cell_type": "markdown",
   "metadata": {},
   "source": [
    "\n",
    "2) Write a program to check whether a person is eligible for voting or not. (accept age from user) if age is greater than 17 eligible otherwise not eligible"
   ]
  },
  {
   "cell_type": "code",
   "execution_count": 4,
   "metadata": {},
   "outputs": [
    {
     "name": "stdout",
     "output_type": "stream",
     "text": [
      "You are eligible to vote.\n"
     ]
    }
   ],
   "source": [
    "# Ask the user for their age\n",
    "age = int(input(\"Enter your age: \"))\n",
    "\n",
    "# Check if the age is greater than 17\n",
    "if age > 17:\n",
    "    print(\"You are eligible to vote.\")\n",
    "else:\n",
    "    print(\"You are not eligible to vote.\")\n"
   ]
  },
  {
   "cell_type": "markdown",
   "metadata": {},
   "source": [
    "\n",
    "3) Write a program to check whether a number entered by user is even or odd."
   ]
  },
  {
   "cell_type": "code",
   "execution_count": null,
   "metadata": {},
   "outputs": [],
   "source": [
    "number = int(input(\"Enter number\"))\n",
    "if(number%2==0):\n",
    "    print(\"Even\")\n",
    "else:\n",
    "    print(\"Odd\")"
   ]
  },
  {
   "cell_type": "markdown",
   "metadata": {},
   "source": [
    "4) Write a program to check whether a number is divisible by 7 or not.\n",
    "Show Answer"
   ]
  },
  {
   "cell_type": "code",
   "execution_count": 7,
   "metadata": {},
   "outputs": [
    {
     "name": "stdout",
     "output_type": "stream",
     "text": [
      "divisable\n"
     ]
    }
   ],
   "source": [
    "number = int(input(\"Enter number\"))\n",
    "if(number%7==0):\n",
    "    print(\"divisable\")\n",
    "else:\n",
    "    print(\"not divisable\")"
   ]
  },
  {
   "cell_type": "markdown",
   "metadata": {},
   "source": [
    "5) Write a program to display \n",
    "\"Hello\" if a number entered by user is a multiple of five , otherwise print \"Bye\"."
   ]
  },
  {
   "cell_type": "code",
   "execution_count": 8,
   "metadata": {},
   "outputs": [
    {
     "name": "stdout",
     "output_type": "stream",
     "text": [
      "Hello\n"
     ]
    }
   ],
   "source": [
    "# Ask the user to enter a number\n",
    "number = int(input(\"Enter a number: \"))\n",
    "\n",
    "# Check if the number is a multiple of five\n",
    "if number % 5 == 0:\n",
    "    print(\"Hello\")\n",
    "else:\n",
    "    print(\"Bye\")\n"
   ]
  },
  {
   "cell_type": "markdown",
   "metadata": {},
   "source": [
    "7) Write a program to display the last digit of a number.\n"
   ]
  },
  {
   "cell_type": "code",
   "execution_count": 10,
   "metadata": {},
   "outputs": [
    {
     "name": "stdout",
     "output_type": "stream",
     "text": [
      "The last digit of the number is: 4\n"
     ]
    }
   ],
   "source": [
    "# Ask the user to enter a number\n",
    "number = int(input(\"Enter a number: \"))\n",
    "\n",
    "# Calculate the last digit\n",
    "last_digit = number % 10\n",
    "\n",
    "# Display the last digit\n",
    "print(\"The last digit of the number is:\", last_digit)\n"
   ]
  },
  {
   "cell_type": "markdown",
   "metadata": {},
   "source": [
    "9) Take values of length and breadth of a rectangle from user and print if it is square or rectangle."
   ]
  },
  {
   "cell_type": "code",
   "execution_count": null,
   "metadata": {},
   "outputs": [],
   "source": [
    "# Take length and breadth as input from the user\n",
    "length = float(input(\"Enter the length of the rectangle: \"))\n",
    "breadth = float(input(\"Enter the breadth of the rectangle: \"))\n",
    "\n",
    "# Check if it is a square or a rectangle\n",
    "if length == breadth:\n",
    "    print(\"It is a square.\")\n",
    "else:\n",
    "    print(\"It is a rectangle.\")\n"
   ]
  },
  {
   "cell_type": "markdown",
   "metadata": {},
   "source": [
    "10) Take two int values from user and print greatest among them."
   ]
  },
  {
   "cell_type": "code",
   "execution_count": 11,
   "metadata": {},
   "outputs": [
    {
     "name": "stdout",
     "output_type": "stream",
     "text": [
      "Both numbers are equal.\n"
     ]
    }
   ],
   "source": [
    "# Take two integers as input from the user\n",
    "num1 = int(input(\"Enter the first number: \"))\n",
    "num2 = int(input(\"Enter the second number: \"))\n",
    "\n",
    "# Find and print the greatest number\n",
    "if num1 > num2:\n",
    "    print(f\"The greatest number is: {num1}\")\n",
    "elif num2 > num1:\n",
    "    print(f\"The greatest number is: {num2}\")\n",
    "else:\n",
    "    print(\"Both numbers are equal.\")\n"
   ]
  },
  {
   "cell_type": "markdown",
   "metadata": {},
   "source": [
    "11) A shop will give discount of 10% if the cost of purchased quantity is more than 1000.\n",
    "Ask user for quantity\n",
    "Suppose, one unit will cost 100.\n",
    "Judge and print total cost for user."
   ]
  },
  {
   "cell_type": "code",
   "execution_count": 12,
   "metadata": {},
   "outputs": [
    {
     "name": "stdout",
     "output_type": "stream",
     "text": [
      "Total cost without discount: 500\n"
     ]
    }
   ],
   "source": [
    "# Ask the user for the quantity of items they want to purchase\n",
    "quantity = int(input(\"Enter the quantity of items: \"))\n",
    "\n",
    "# Define the cost per unit\n",
    "cost_per_unit = 100\n",
    "\n",
    "# Calculate the total cost without any discount\n",
    "total_cost = quantity * cost_per_unit\n",
    "\n",
    "# Check if the total cost is more than 1000 to apply a discount\n",
    "if total_cost > 1000:\n",
    "    discount = total_cost * 0.10  # 10% discount\n",
    "    total_cost -= discount  # Subtract the discount from the total cost\n",
    "    print(f\"Total cost after 10% discount: {total_cost}\")\n",
    "else:\n",
    "    print(f\"Total cost without discount: {total_cost}\")\n"
   ]
  },
  {
   "cell_type": "markdown",
   "metadata": {},
   "source": [
    "12) A school has following rules for grading system:\n",
    "\n",
    "a. Below 25 - F\n",
    "\n",
    "b. 25 to 45 - E\n",
    "\n",
    "c. 45 to 50 - D\n",
    "\n",
    "d. 50 to 60 - C\n",
    "\n",
    "e. 60 to 80 - B\n",
    "\n",
    "f. Above 80 - A\n",
    "\n",
    "Ask user to enter marks and print the corresponding grade."
   ]
  },
  {
   "cell_type": "code",
   "execution_count": null,
   "metadata": {},
   "outputs": [],
   "source": [
    "# Ask the user to enter their marks\n",
    "marks = float(input(\"Enter your marks: \"))\n",
    "\n",
    "# Determine the grade based on the marks\n",
    "if marks < 25:\n",
    "    grade = 'F'\n",
    "elif 25 <= marks < 45:\n",
    "    grade = 'E'\n",
    "elif 45 <= marks < 50:\n",
    "    grade = 'D'\n",
    "elif 50 <= marks < 60:\n",
    "    grade = 'C'\n",
    "elif 60 <= marks < 80:\n",
    "    grade = 'B'\n",
    "else:  # marks above 80\n",
    "    grade = 'A'\n",
    "\n",
    "# Print the grade\n",
    "print(f\"Your grade is: {grade}\")\n"
   ]
  },
  {
   "cell_type": "markdown",
   "metadata": {},
   "source": [
    "14)A student will not be allowed to sit in exam if his/her attendence is less than 75%.\n",
    "\n",
    "Take following input from user\n",
    "\n",
    "- Number of classes held\n",
    "\n",
    "- Number of classes attended.\n",
    "\n",
    "And print\n",
    "\n",
    "- percentage of class attended\n",
    "\n",
    "- Is student is allowed to sit in exam or not.\n"
   ]
  },
  {
   "cell_type": "code",
   "execution_count": null,
   "metadata": {},
   "outputs": [],
   "source": [
    "# Take the input from the user\n",
    "classes_held = int(input(\"Enter the number of classes held: \"))\n",
    "classes_attended = int(input(\"Enter the number of classes attended: \"))\n",
    "\n",
    "# Calculate the attendance percentage\n",
    "attendance_percentage = (classes_attended / classes_held) * 100\n",
    "\n",
    "# Display the attendance percentage\n",
    "print(f\"Attendance Percentage: {attendance_percentage:.2f}%\")\n",
    "\n",
    "# Check if the student is allowed to sit in the exam\n",
    "if attendance_percentage >= 75:\n",
    "    print(\"The student is allowed to sit in the exam.\")\n",
    "else:\n",
    "    print(\"The student is not allowed to sit in the exam.\")\n"
   ]
  },
  {
   "cell_type": "markdown",
   "metadata": {},
   "source": [
    "15) Modify the above question to allow student to sit if he/she has medical cause. Ask user if he/she has medical cause or not ( 'Y' or 'N' ) and print accordingly."
   ]
  },
  {
   "cell_type": "code",
   "execution_count": null,
   "metadata": {},
   "outputs": [],
   "source": [
    "# Take the input from the user\n",
    "classes_held = int(input(\"Enter the number of classes held: \"))\n",
    "classes_attended = int(input(\"Enter the number of classes attended: \"))\n",
    "medical_cause = input(\"Do you have a medical cause for your absence? (Y/N): \").strip().upper()\n",
    "\n",
    "# Calculate the attendance percentage\n",
    "attendance_percentage = (classes_attended / classes_held) * 100\n",
    "\n",
    "# Display the attendance percentage\n",
    "print(f\"Attendance Percentage: {attendance_percentage:.2f}%\")\n",
    "\n",
    "# Check if the student is allowed to sit in the exam\n",
    "if attendance_percentage >= 75 or medical_cause == 'Y':\n",
    "    print(\"The student is allowed to sit in the exam.\")\n",
    "else:\n",
    "    print(\"The student is not allowed to sit in the exam.\")\n"
   ]
  },
  {
   "cell_type": "markdown",
   "metadata": {},
   "source": [
    "16) Write a program to check if a year is leap year or not.\n",
    "\n",
    "If a year is divisible by 4 then it is leap year but if the year is century year like 2000, 1900, 2100 then it must be divisible by 400."
   ]
  },
  {
   "cell_type": "code",
   "execution_count": null,
   "metadata": {},
   "outputs": [],
   "source": [
    "# Ask the user to enter a year\n",
    "year = int(input(\"Enter a year: \"))\n",
    "\n",
    "# Check if the year is a leap year\n",
    "if (year % 4 == 0 and year % 100 != 0) or (year % 400 == 0):\n",
    "    print(f\"{year} is a leap year.\")\n",
    "else:\n",
    "    print(f\"{year} is not a leap year.\")\n"
   ]
  },
  {
   "cell_type": "markdown",
   "metadata": {},
   "source": [
    "17) Ask user to enter age, gender ( M or F ), marital status ( Y or N ) and then using following rules print their place of service.\n",
    "\n",
    "if employee is female, then she will work only in urban areas.\n",
    "\n",
    "if employee is a male and age is in between 20 to 40 then he may work in anywhere\n",
    "\n",
    "if employee is male and age is in between 40 t0 60 then he will work in urban areas only.\n",
    "\n",
    "And any other input of age should print \"ERROR\""
   ]
  },
  {
   "cell_type": "code",
   "execution_count": null,
   "metadata": {},
   "outputs": [],
   "source": [
    "# Ask for the user inputs\n",
    "age = int(input(\"Enter your age: \"))\n",
    "gender = input(\"Enter your gender (M/F): \").strip().upper()\n",
    "marital_status = input(\"Enter your marital status (Y/N): \").strip().upper()\n",
    "\n",
    "# Check the conditions based on gender and age\n",
    "if gender == 'F':\n",
    "    print(\"She will work in urban areas.\")\n",
    "elif gender == 'M':\n",
    "    if 20 <= age <= 40:\n",
    "        print(\"He may work anywhere.\")\n",
    "    elif 40 < age <= 60:\n",
    "        print(\"He will work in urban areas only.\")\n",
    "    else:\n",
    "        print(\"ERROR\")\n",
    "else:\n",
    "    print(\"ERROR\")\n"
   ]
  },
  {
   "cell_type": "markdown",
   "metadata": {},
   "source": [
    "6) Write a program to calculate the electricity bill (accept number of unit from user) according to the following criteria :\n",
    "     Unit                                                     Price  \n",
    "uptp 100 units                                             no charge\n",
    "Next 200 units                                              Rs 5 per unit\n",
    "After 200 units                                             Rs 10 per unit\n",
    "(For example if input unit is 350 than total bill amount is Rs.3500\n",
    "(For example if input unit is 97 than total bill amount is Rs.0\n",
    "(For example if input unit is 150 than total bill amount is Rs.750"
   ]
  },
  {
   "cell_type": "code",
   "execution_count": null,
   "metadata": {},
   "outputs": [],
   "source": [
    "# Accept the number of units from the user\n",
    "units = int(input(\"Enter the number of units consumed: \"))\n",
    "\n",
    "# Initialize the total bill amount\n",
    "bill_amount = 0\n",
    "\n",
    "# Calculate the bill based on the number of units\n",
    "if units <= 100:\n",
    "    bill_amount = 0  # No charge for units up to 100\n",
    "elif units <= 300:\n",
    "    bill_amount = (units - 100) * 5  # Rs 5 per unit for the next 200 units\n",
    "else:\n",
    "    bill_amount = (200 * 5) + ((units - 300) * 10)  # Rs 10 per unit for units above 300\n",
    "\n",
    "# Display the total bill amount\n",
    "print(f\"Total bill amount: Rs {bill_amount}\")\n"
   ]
  },
  {
   "cell_type": "markdown",
   "metadata": {},
   "source": [
    "13) Take input of age of 3 people by user and determine oldest and youngest among them."
   ]
  },
  {
   "cell_type": "code",
   "execution_count": null,
   "metadata": {},
   "outputs": [],
   "source": [
    "# Take the number of units as input\n",
    "units = int(input(\"Enter the number of units consumed: \"))\n",
    "\n",
    "# Initialize the total bill amount\n",
    "bill_amount = 0\n",
    "\n",
    "# Calculate the bill based on the units consumed\n",
    "if units <= 100:\n",
    "    bill_amount = 0  # No charge for units up to 100\n",
    "elif units <= 300:\n",
    "    bill_amount = (units - 100) * 5  # Rs 5 per unit for the next 200 units\n",
    "else:\n",
    "    bill_amount = (200 * 5) + ((units - 300) * 10)  # Rs 10 per unit for units above 300\n",
    "\n",
    "# Display the total bill amount\n",
    "print(f\"Total bill amount: Rs {bill_amount}\")\n"
   ]
  }
 ],
 "metadata": {
  "kernelspec": {
   "display_name": "base",
   "language": "python",
   "name": "python3"
  },
  "language_info": {
   "codemirror_mode": {
    "name": "ipython",
    "version": 3
   },
   "file_extension": ".py",
   "mimetype": "text/x-python",
   "name": "python",
   "nbconvert_exporter": "python",
   "pygments_lexer": "ipython3",
   "version": "3.12.7"
  }
 },
 "nbformat": 4,
 "nbformat_minor": 2
}
