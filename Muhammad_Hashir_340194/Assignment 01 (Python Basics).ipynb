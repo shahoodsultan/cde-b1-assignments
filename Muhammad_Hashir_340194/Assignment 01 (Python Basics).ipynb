{
 "cells": [
  {
   "cell_type": "markdown",
   "metadata": {},
   "source": [
    "# Part -1 Python Basics (Variables)"
   ]
  },
  {
   "cell_type": "markdown",
   "metadata": {},
   "source": [
    "1. Print Your Name with your Father name and Date of birth using suitable escape sequence charactor"
   ]
  },
  {
   "cell_type": "code",
   "execution_count": 5,
   "metadata": {},
   "outputs": [
    {
     "name": "stdout",
     "output_type": "stream",
     "text": [
      "My name is Muhammad Hashir\n",
      "Father's name is Muhammad Afzal\n",
      "Date of Birth is 30/07/2007\n"
     ]
    }
   ],
   "source": [
    "name = \"Muhammad Hashir\"\n",
    "f_name = \"Muhammad Afzal\"\n",
    "dob = \"30/07/2007\"\n",
    "print(\"My name is\",name)\n",
    "print(\"Father's name is\",f_name)\n",
    "print(\"Date of Birth is\", dob)"
   ]
  },
  {
   "cell_type": "markdown",
   "metadata": {},
   "source": [
    "2. Write your small bio using variables and print it using print function"
   ]
  },
  {
   "cell_type": "code",
   "execution_count": 10,
   "metadata": {},
   "outputs": [
    {
     "name": "stdout",
     "output_type": "stream",
     "text": [
      "My name is Muhammad Hashir and My father's name is Muhammad Afzal I was born in 30/07/2007\n"
     ]
    }
   ],
   "source": [
    "print(\"My name is\",name,\"and My father's name is\",f_name,\"I was born in\",dob)"
   ]
  },
  {
   "cell_type": "markdown",
   "metadata": {},
   "source": [
    "3. Write a program in which use all the operators we can use in Python"
   ]
  },
  {
   "cell_type": "code",
   "execution_count": 3,
   "metadata": {},
   "outputs": [
    {
     "name": "stdout",
     "output_type": "stream",
     "text": [
      "Arithmetic Operators:\n",
      "Addition (a + b): 13\n",
      "Subtraction (a - b): 7\n",
      "Multiplication (a * b): 30\n",
      "Division (a / b): 3.3333333333333335\n",
      "Float Division (a // b): 3\n",
      "Remainder (a % b): 1\n",
      "Power (a ** b): 1000\n",
      "Comparison Operators:\n",
      "Equal (a == b): False\n",
      "Not Equal (a != b): True\n",
      "Greater than (a > b): True\n",
      "Less than (a < b): False\n",
      "Greater than or equal (a >= b): True\n",
      "Less than or equal (a <= b): False\n",
      "Logical Operators:\n",
      "Logical AND (x and y): False\n",
      "Logical OR (x or y): True\n",
      "Logical NOT (not x): False\n"
     ]
    }
   ],
   "source": [
    "# Arithmetic Operators\n",
    "a = 10\n",
    "b = 3\n",
    "\n",
    "print(\"Arithmetic Operators:\")\n",
    "print(\"Addition (a + b):\", a + b)\n",
    "print(\"Subtraction (a - b):\", a - b)\n",
    "print(\"Multiplication (a * b):\", a * b)\n",
    "print(\"Division (a / b):\", a / b)\n",
    "print(\"Float Division (a // b):\", a // b)\n",
    "print(\"Remainder (a % b):\", a % b)\n",
    "print(\"Power (a ** b):\", a ** b)\n",
    "\n",
    "# Comparison Operators\n",
    "print(\"Comparison Operators:\")\n",
    "print(\"Equal (a == b):\", a == b)\n",
    "print(\"Not Equal (a != b):\", a != b)\n",
    "print(\"Greater than (a > b):\", a > b)\n",
    "print(\"Less than (a < b):\", a < b)\n",
    "print(\"Greater than or equal (a >= b):\", a >= b)\n",
    "print(\"Less than or equal (a <= b):\", a <= b)\n",
    "\n",
    "# Logical Operators\n",
    "x = True\n",
    "y = False\n",
    "\n",
    "print(\"Logical Operators:\")\n",
    "print(\"Logical AND (x and y):\", x and y)  # True if both x and y are True\n",
    "print(\"Logical OR (x or y):\", x or y)  # True if either x or y is True\n",
    "print(\"Logical NOT (not x):\", not x)  # Inverts the value of x"
   ]
  },
  {
   "cell_type": "markdown",
   "metadata": {},
   "source": [
    "4. Completes the following steps of small task:\n",
    "    - Mention Marks of English , Islamiat and Maths out of 100 in 3 different variables\n",
    "    - Mention Variable of Total Marks and assign 300 to it\n",
    "    - Calculate Percentage"
   ]
  },
  {
   "cell_type": "code",
   "execution_count": 26,
   "metadata": {},
   "outputs": [
    {
     "name": "stdin",
     "output_type": "stream",
     "text": [
      "Obtained marks of English: 20\n",
      "Obtained marks of Islamiat: 20\n",
      "Obtained marks of Mathematics: 20\n"
     ]
    },
    {
     "name": "stdout",
     "output_type": "stream",
     "text": [
      "20.0\n"
     ]
    }
   ],
   "source": [
    "m_eng = int(input(\"Obtained marks of English:\"))\n",
    "m_isl = int(input(\"Obtained marks of Islamiat:\"))\n",
    "m_math = int(input(\"Obtained marks of Mathematics:\"))\n",
    "total_marks = (m_eng + m_isl + m_math)\n",
    "print(total_marks/3)"
   ]
  },
  {
   "cell_type": "markdown",
   "metadata": {},
   "source": [
    "# Part -2 Python Basics (Conditional Statements)"
   ]
  },
  {
   "cell_type": "markdown",
   "metadata": {},
   "source": [
    "1) A company decided to give bonus of 5% to employee if his/her year of service is more than 5 years.\n",
    "Ask user for their salary and year of service and print the net bonus amount."
   ]
  },
  {
   "cell_type": "code",
   "execution_count": 29,
   "metadata": {},
   "outputs": [
    {
     "name": "stdin",
     "output_type": "stream",
     "text": [
      "What's Your Salary:  40000\n",
      "How many years have you served in this Company:  6\n"
     ]
    },
    {
     "name": "stdout",
     "output_type": "stream",
     "text": [
      "Your net bonus is = 2000.0\n"
     ]
    }
   ],
   "source": [
    "salary = input(\"What's Your Salary: \")\n",
    "year = input(\"How many years have you served in this Company: \")\n",
    "\n",
    "if year < \"5\":\n",
    "    print(\"You are not eligible\")\n",
    "else:\n",
    "    new_salary = (int(salary)/100)*5\n",
    "    print(f\"Your net bonus is = {new_salary}\")"
   ]
  },
  {
   "cell_type": "markdown",
   "metadata": {},
   "source": [
    "\n",
    "2) Write a program to check whether a person is eligible for voting or not. (accept age from user) if age is greater than 17 eligible otherwise not eligible"
   ]
  },
  {
   "cell_type": "code",
   "execution_count": 30,
   "metadata": {},
   "outputs": [
    {
     "name": "stdin",
     "output_type": "stream",
     "text": [
      "What's Your Age:  18\n"
     ]
    },
    {
     "name": "stdout",
     "output_type": "stream",
     "text": [
      "You are not Eligible\n"
     ]
    }
   ],
   "source": [
    "age = int(input(\"What's Your Age: \"))\n",
    "\n",
    "if (age <=18):\n",
    "    print(\"You are not Eligible\")\n",
    "else:\n",
    "    (\"Yes, You are Eligible\")"
   ]
  },
  {
   "cell_type": "markdown",
   "metadata": {},
   "source": [
    "\n",
    "3) Write a program to check whether a number entered by user is even or odd."
   ]
  },
  {
   "cell_type": "code",
   "execution_count": 33,
   "metadata": {},
   "outputs": [
    {
     "name": "stdin",
     "output_type": "stream",
     "text": [
      "Enter a Number: 23\n"
     ]
    },
    {
     "name": "stdout",
     "output_type": "stream",
     "text": [
      "The number is odd\n"
     ]
    }
   ],
   "source": [
    "num = int(input(\"Enter a Number:\"))\n",
    "\n",
    "if num % 2 ==0:\n",
    "    print(\"The number is even.\")\n",
    "else:\n",
    "    print(\"The number is odd\")"
   ]
  },
  {
   "cell_type": "markdown",
   "metadata": {},
   "source": [
    "4) Write a program to check whether a number is divisible by 7 or not.\n",
    "Show Answer"
   ]
  },
  {
   "cell_type": "code",
   "execution_count": 38,
   "metadata": {},
   "outputs": [
    {
     "name": "stdin",
     "output_type": "stream",
     "text": [
      "Enter a Number: 7\n"
     ]
    },
    {
     "name": "stdout",
     "output_type": "stream",
     "text": [
      "The number is divisible by 7.\n"
     ]
    }
   ],
   "source": [
    "num_7 = int(input(\"Enter a Number:\"))\n",
    "\n",
    "if num_7 % 7 == 0:\n",
    "    print(\"The number is divisible by 7.\")\n",
    "else:\n",
    "    print(\"The number is not divisible by 7\")"
   ]
  },
  {
   "cell_type": "markdown",
   "metadata": {},
   "source": [
    "5) Write a program to display \n",
    "\"Hello\" if a number entered by user is a multiple of five , otherwise print \"Bye\"."
   ]
  },
  {
   "cell_type": "code",
   "execution_count": 11,
   "metadata": {},
   "outputs": [],
   "source": [
    "num = int(input(\"Enter a Number: \"))\n",
    "\n",
    "if num % 5 == 0:\n",
    "    print(\"Hello\")\n",
    "else:\n",
    "    print(\"Bye\")"
   ]
  },
  {
   "cell_type": "markdown",
   "metadata": {},
   "source": [
    "7) Write a program to display the last digit of a number.\n"
   ]
  },
  {
   "cell_type": "code",
   "execution_count": 7,
   "metadata": {},
   "outputs": [
    {
     "name": "stdin",
     "output_type": "stream",
     "text": [
      "Enter a number:  123456\n"
     ]
    },
    {
     "name": "stdout",
     "output_type": "stream",
     "text": [
      "The last digit of number is 6\n"
     ]
    }
   ],
   "source": [
    "number = input(\"Enter a number: \")\n",
    "last_digit = number[-1]\n",
    "\n",
    "print(\"The last digit of number is\",last_digit)"
   ]
  },
  {
   "cell_type": "markdown",
   "metadata": {},
   "source": [
    "9) Take values of length and breadth of a rectangle from user and print if it is square or rectangle."
   ]
  },
  {
   "cell_type": "code",
   "execution_count": 43,
   "metadata": {},
   "outputs": [
    {
     "name": "stdin",
     "output_type": "stream",
     "text": [
      "Enter the lenght of figure 5\n",
      "Enter the breadth of figure 6\n"
     ]
    },
    {
     "name": "stdout",
     "output_type": "stream",
     "text": [
      "The figure is a Rectangle\n"
     ]
    }
   ],
   "source": [
    "len_1 = int(input(\"Enter the lenght of figure\"))\n",
    "breadth = int(input(\"Enter the breadth of figure\"))\n",
    "\n",
    "if len_1 == breadth:\n",
    "    print(\"The figure is a Square\")\n",
    "else:\n",
    "    print(\"The figure is a Rectangle\")"
   ]
  },
  {
   "cell_type": "markdown",
   "metadata": {},
   "source": [
    "10) Take two int values from user and print greatest among them."
   ]
  },
  {
   "cell_type": "code",
   "execution_count": 41,
   "metadata": {},
   "outputs": [
    {
     "name": "stdin",
     "output_type": "stream",
     "text": [
      "Enter first Integer 13\n",
      "Enter second Integer 1\n"
     ]
    },
    {
     "name": "stdout",
     "output_type": "stream",
     "text": [
      "13 is the bigger Value\n"
     ]
    }
   ],
   "source": [
    "val_1 = int(input(\"Enter first Integer\"))\n",
    "val_2 = int(input(\"Enter second Integer\"))\n",
    "\n",
    "if val_1>val_2:\n",
    "    print(val_1, \"is the bigger Value\")\n",
    "elif val_1 == val_2:\n",
    "    print(\"Both values are equal\")\n",
    "else:\n",
    "    print(val_2,\"is the bigger value\")"
   ]
  },
  {
   "cell_type": "markdown",
   "metadata": {},
   "source": [
    "11) A shop will give discount of 10% if the cost of purchased quantity is more than 1000.\n",
    "Ask user for quantity\n",
    "Suppose, one unit will cost 100.\n",
    "Judge and print total cost for user."
   ]
  },
  {
   "cell_type": "code",
   "execution_count": 49,
   "metadata": {},
   "outputs": [
    {
     "name": "stdin",
     "output_type": "stream",
     "text": [
      "How many Items have your purchased 1\n"
     ]
    },
    {
     "name": "stdout",
     "output_type": "stream",
     "text": [
      "You are not eligible for the discount\n"
     ]
    }
   ],
   "source": [
    "quantity = int(input(\"How many Items have your purchased\"))\n",
    "total_value = quantity*100\n",
    "\n",
    "if total_value >= 1000:\n",
    "    print(\"Shop will give you a discount of 10%\")\n",
    "    disc= total_value-total_value/10\n",
    "    print(\"Your total Amount after discount is\",disc)\n",
    "else:\n",
    "    print(\"You are not eligible for the discount\")"
   ]
  },
  {
   "cell_type": "markdown",
   "metadata": {},
   "source": [
    "12) A school has following rules for grading system:\n",
    "\n",
    "a. Below 25 - F\n",
    "\n",
    "b. 25 to 45 - E\n",
    "\n",
    "c. 45 to 50 - D\n",
    "\n",
    "d. 50 to 60 - C\n",
    "\n",
    "e. 60 to 80 - B\n",
    "\n",
    "f. Above 80 - A\n",
    "\n",
    "Ask user to enter marks and print the corresponding grade."
   ]
  },
  {
   "cell_type": "code",
   "execution_count": 50,
   "metadata": {},
   "outputs": [
    {
     "name": "stdin",
     "output_type": "stream",
     "text": [
      "Whats Your Marks:  30\n"
     ]
    },
    {
     "name": "stdout",
     "output_type": "stream",
     "text": [
      "Grade = E\n"
     ]
    }
   ],
   "source": [
    "grade = int(input(\"Whats Your Marks: \"))\n",
    "\n",
    "if grade <25:\n",
    "    print(\"Grade = F\")\n",
    "elif grade <=45:\n",
    "    print(\"Grade = E\")\n",
    "elif grade <=50:\n",
    "    print(\"Grade = D\")\n",
    "elif grade <=60:\n",
    "    print(\"Grade = C\")\n",
    "elif grade <=80:\n",
    "    print(\"Grade = B\")\n",
    "elif grade >80 and grade <= 100:\n",
    "    print(\"Grade = A\")\n",
    "else:\n",
    "    print(\"Invalid Input\")"
   ]
  },
  {
   "cell_type": "markdown",
   "metadata": {},
   "source": [
    "14)A student will not be allowed to sit in exam if his/her attendence is less than 75%.\n",
    "\n",
    "Take following input from user\n",
    "\n",
    "- Number of classes held\n",
    "\n",
    "- Number of classes attended.\n",
    "\n",
    "And print\n",
    "\n",
    "- percentage of class attended\n",
    "\n",
    "- Is student is allowed to sit in exam or not.\n"
   ]
  },
  {
   "cell_type": "code",
   "execution_count": 65,
   "metadata": {},
   "outputs": [
    {
     "name": "stdin",
     "output_type": "stream",
     "text": [
      "Total number of classes? 100\n",
      "How many classes have you attended: 90\n"
     ]
    },
    {
     "name": "stdout",
     "output_type": "stream",
     "text": [
      "Your're current attendence is 90.0 percent\n",
      "You are allowed to sit in exam\n"
     ]
    }
   ],
   "source": [
    "num_of_class= int(input(\"Total number of classes?\"))\n",
    "class_attended= int(input(\"How many classes have you attended:\"))\n",
    "\n",
    "per_class= class_attended/num_of_class*100\n",
    "\n",
    "if per_class<75:\n",
    "    print(\"Your're current attendence is\",per_class,\"percent\")\n",
    "    print(\"You are not allowed to sit in exam\")\n",
    "else:\n",
    "    print(\"Your're current attendence is\", per_class,\"percent\")\n",
    "    print(\"You are allowed to sit in exam\")"
   ]
  },
  {
   "cell_type": "markdown",
   "metadata": {},
   "source": [
    "15) Modify the above question to allow student to sit if he/she has medical cause. Ask user if he/she has medical cause or not ( 'Y' or 'N' ) and print accordingly."
   ]
  },
  {
   "cell_type": "code",
   "execution_count": 75,
   "metadata": {},
   "outputs": [
    {
     "name": "stdin",
     "output_type": "stream",
     "text": [
      "Total number of classes? 100\n",
      "How many classes have you attended: 1\n"
     ]
    },
    {
     "name": "stdout",
     "output_type": "stream",
     "text": [
      "Your're current attendence is 1.0 percent\n"
     ]
    },
    {
     "name": "stdin",
     "output_type": "stream",
     "text": [
      "Is there any serious medical cause of less attendence, Y or N N\n"
     ]
    }
   ],
   "source": [
    "num_of_class= int(input(\"Total number of classes?\"))\n",
    "class_attended= int(input(\"How many classes have you attended:\"))\n",
    "\n",
    "per_class= class_attended/num_of_class*100\n",
    "\n",
    "if (per_class<75):\n",
    "    print(\"Your're current attendence is\",per_class,\"percent\")\n",
    "    med = input(\"Is there any serious medical cause of less attendence, Y or N\")\n",
    "elif (med == \"N\"):\n",
    "    print(\"You are not allowed to sit in exam\")\n",
    "elif (med == \"Y\"):\n",
    "    print(\"You are allowed to sit in exam\")\n",
    "else:\n",
    "    print(\"Your're current attendence is\", per_class,\"percent\")\n",
    "    print(\"You are allowed to sit in exam\")"
   ]
  },
  {
   "cell_type": "markdown",
   "metadata": {},
   "source": [
    "16) Write a program to check if a year is leap year or not.\n",
    "\n",
    "If a year is divisible by 4 then it is leap year but if the year is century year like 2000, 1900, 2100 then it must be divisible by 400."
   ]
  },
  {
   "cell_type": "code",
   "execution_count": 4,
   "metadata": {},
   "outputs": [
    {
     "name": "stdin",
     "output_type": "stream",
     "text": [
      "Enter the Year: 1900\n"
     ]
    },
    {
     "name": "stdout",
     "output_type": "stream",
     "text": [
      "Its not the leap year\n"
     ]
    }
   ],
   "source": [
    "year = int(input(\"Enter the Year:\"))\n",
    "\n",
    "if (year % 4 == 0 and year % 100 != 0) or (year % 400 == 0):\n",
    "    print(\"Its the leap year\")\n",
    "else:\n",
    "    print(\"Its not the leap year\")"
   ]
  },
  {
   "cell_type": "markdown",
   "metadata": {},
   "source": [
    "17) Ask user to enter age, gender ( M or F ), marital status ( Y or N ) and then using following rules print their place of service.\n",
    "\n",
    "if employee is female, then she will work only in urban areas.\n",
    "\n",
    "if employee is a male and age is in between 20 to 40 then he may work in anywhere\n",
    "\n",
    "if employee is male and age is in between 40 t0 60 then he will work in urban areas only.\n",
    "\n",
    "And any other input of age should print \"ERROR\""
   ]
  },
  {
   "cell_type": "code",
   "execution_count": 99,
   "metadata": {},
   "outputs": [
    {
     "name": "stdin",
     "output_type": "stream",
     "text": [
      "Whats Your Age:  30\n",
      "Whats Your Gender (M or F):  M\n"
     ]
    },
    {
     "name": "stdout",
     "output_type": "stream",
     "text": [
      "You can work anywhere.\n"
     ]
    }
   ],
   "source": [
    "age = int(input(\"Whats Your Age: \"))\n",
    "gender = input(\"Whats Your Gender (M or F): \")\n",
    "\n",
    "if gender == \"F\":\n",
    "    print(\"You can work only in urdban ares.\")\n",
    "else:\n",
    "    if age >=  20 and age <=40:\n",
    "        print(\"You can work anywhere.\")\n",
    "    elif age > 40 and age <= 60:\n",
    "        print(\"You can work only in urban areas.\")\n",
    "    else:\n",
    "        print(\"ERROR: You are Underage/ You should retire\")"
   ]
  },
  {
   "cell_type": "markdown",
   "metadata": {},
   "source": [
    "6) Write a program to calculate the electricity bill (accept number of unit from user) according to the following criteria :\n",
    "     Unit                                                     Price  \n",
    "uptp 100 units                                             no charge\n",
    "Next 200 units                                              Rs 5 per unit\n",
    "After 200 units                                             Rs 10 per unit\n",
    "(For example if input unit is 350 than total bill amount is Rs.3500\n",
    "(For example if input unit is 97 than total bill amount is Rs.0\n",
    "(For example if input unit is 150 than total bill amount is Rs.750"
   ]
  },
  {
   "cell_type": "code",
   "execution_count": 106,
   "metadata": {},
   "outputs": [
    {
     "name": "stdin",
     "output_type": "stream",
     "text": [
      "Enter Your consumed Units: 300\n"
     ]
    },
    {
     "name": "stdout",
     "output_type": "stream",
     "text": [
      "Your current bill is : 3000 rs\n"
     ]
    }
   ],
   "source": [
    "units = int(input(\"Enter Your consumed Units:\"))\n",
    "\n",
    "if units <=100:\n",
    "    print(\"Your current bill is 0rs\")\n",
    "elif units <=200:\n",
    "    amount_1= units*5\n",
    "    print(\"Your current bill is :\",amount_1,\"rs\")\n",
    "else:\n",
    "    amount_2= units*10\n",
    "    print(\"Your current bill is :\",amount_2,\"rs\")"
   ]
  },
  {
   "cell_type": "markdown",
   "metadata": {},
   "source": [
    "13) Take input of age of 3 people by user and determine oldest and youngest among them."
   ]
  },
  {
   "cell_type": "code",
   "execution_count": 90,
   "metadata": {},
   "outputs": [
    {
     "name": "stdin",
     "output_type": "stream",
     "text": [
      "Enter age of first person: 100\n",
      "Enter age of second person: 80\n",
      "Enter age of third person: 90\n"
     ]
    },
    {
     "name": "stdout",
     "output_type": "stream",
     "text": [
      "Person 1 is the oldest\n",
      "Person 2 is the Youngest\n"
     ]
    }
   ],
   "source": [
    "age_1= int(input(\"Enter age of first person:\"))\n",
    "age_2= int(input(\"Enter age of second person:\"))\n",
    "age_3= int(input(\"Enter age of third person:\"))\n",
    "\n",
    "if age_1 > age_2 and age_1> age_3:\n",
    "    print(\"Person 1 is the oldest\")\n",
    "elif age_2 > age_1 and age_2> age_3:\n",
    "    print(\"Person 2 is the Oldest\")\n",
    "else:\n",
    "    print(\"Person 3 is the Oldest\")\n",
    "\n",
    "if age_1 <= age_2 and age_1 <= age_3:\n",
    "    print(\"Person 1 is the Youngest\")\n",
    "elif age_2 <= age_1 and age_2 <= age_3:\n",
    "    print(\"Person 2 is the Youngest\")\n",
    "else:\n",
    "    print(\"Person 3 is the Youngest\")"
   ]
  }
 ],
 "metadata": {
  "kernelspec": {
   "display_name": "Python 3 (ipykernel)",
   "language": "python",
   "name": "python3"
  },
  "language_info": {
   "codemirror_mode": {
    "name": "ipython",
    "version": 3
   },
   "file_extension": ".py",
   "mimetype": "text/x-python",
   "name": "python",
   "nbconvert_exporter": "python",
   "pygments_lexer": "ipython3",
   "version": "3.12.7"
  }
 },
 "nbformat": 4,
 "nbformat_minor": 4
}
