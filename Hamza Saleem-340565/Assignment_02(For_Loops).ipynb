{
 "cells": [
  {
   "cell_type": "markdown",
   "metadata": {
    "id": "1E5r3wPNed0G"
   },
   "source": [
    "\n",
    "\n",
    "# **Question No 01**\n",
    "\n",
    "Use a for loop to count the number of occurrences of the word in the list and return all indices where the word occurs.\n",
    "\n",
    "**Exmple:**\n",
    "\n",
    "Input: ['apple', 'banana', 'apple', 'cherry', 'apple'], Search: 'apple'  \n",
    "Output: 'apple' found 3 times at indices: 0, 2, 4\n",
    "\n"
   ]
  },
  {
   "cell_type": "code",
   "execution_count": 45,
   "metadata": {
    "colab": {
     "base_uri": "https://localhost:8080/"
    },
    "executionInfo": {
     "elapsed": 4655,
     "status": "ok",
     "timestamp": 1734511701276,
     "user": {
      "displayName": "Hamza Khan",
      "userId": "04382971837667094060"
     },
     "user_tz": -300
    },
    "id": "tHrz4YilefTD",
    "outputId": "50f51e4a-9503-428d-d841-d0f345390d08"
   },
   "outputs": [
    {
     "name": "stdout",
     "output_type": "stream",
     "text": [
      "APPLE found 3 times at indices: [0, 2, 4]\n"
     ]
    }
   ],
   "source": [
    "InputList =  ['apple', 'banana', 'apple', 'cherry', 'apple','banana']\n",
    "Count = 0\n",
    "Search = input(\"Enter Word!!!..\")\n",
    "lst = []\n",
    "for Index , Value in enumerate(InputList):\n",
    "  if Value == Search.lower():\n",
    "    Count += 1\n",
    "    lst.append(Index)\n",
    "    \n",
    "if Count > 0:\n",
    "  print(f'{Search} found {Count} times at indices: {lst}')\n",
    "else:\n",
    "  print('Invalid Input')\n"
   ]
  },
  {
   "cell_type": "markdown",
   "metadata": {
    "id": "fN_U0nnCeeAF"
   },
   "source": [
    "\n",
    "# **Question No 02**\n",
    "\n",
    "Create a program to find all unique pairs of numbers in a list that add up to a target sum.\n",
    "\n",
    "Use a single list and a for loop (nested if necessary) to iterate through and find pairs without duplicates.\n",
    "Avoid repeating pairs like [3, 5] and [5, 3].\n",
    "\n",
    "**Example:**\n",
    "\n",
    "Input list: [2, 4, 3, 5, 7, 8, 1]  \n",
    "Target sum: 9  \n",
    "Output: [(2, 7), (4, 5), (1, 8)]\n"
   ]
  },
  {
   "cell_type": "code",
   "execution_count": null,
   "metadata": {
    "id": "AfsJP7KTef3T"
   },
   "outputs": [
    {
     "name": "stdout",
     "output_type": "stream",
     "text": [
      "Ouput: [(2, 7), (4, 5), (8, 1)]\n"
     ]
    }
   ],
   "source": [
    "Input_list =  [2, 4, 3, 5, 7, 8, 1]  \n",
    "Target_sum = 9\n",
    "lst =[]\n",
    "for x in range(len(Input_list)):\n",
    "    for i in range(x+1 , len(Input_list)):\n",
    "        if Input_list[x] + Input_list[i] == Target_sum:\n",
    "            lst.append((Input_list[x] , Input_list[i]))\n",
    "    \n",
    "print(f'Ouput: {lst}')"
   ]
  },
  {
   "cell_type": "markdown",
   "metadata": {
    "id": "d8ZH6VPNewLh"
   },
   "source": [
    "# **Question No 03**\n",
    "\n",
    "Write a program to calculate the cumulative product of elements in a list.\n",
    "\n",
    "Use a single list and update it in place to store the cumulative product at each index.\n",
    "Use only a for loop.\n",
    "\n",
    "**Example:**\n",
    "\n",
    "Input: [2, 3, 4, 5]  \n",
    "Output: [2, 6, 24, 120]  \n"
   ]
  },
  {
   "cell_type": "code",
   "execution_count": null,
   "metadata": {
    "colab": {
     "base_uri": "https://localhost:8080/"
    },
    "executionInfo": {
     "elapsed": 531,
     "status": "ok",
     "timestamp": 1734512894798,
     "user": {
      "displayName": "Hamza Khan",
      "userId": "04382971837667094060"
     },
     "user_tz": -300
    },
    "id": "f9vHFvWxBTZh",
    "outputId": "a78ed366-5c5d-4d86-d224-9bba9f0ab37d"
   },
   "outputs": [
    {
     "name": "stdout",
     "output_type": "stream",
     "text": [
      "Input: [2, 3, 4, 5, 6]\n",
      "Output: [2, 6, 24, 120, 720]\n"
     ]
    }
   ],
   "source": [
    "InputList = [2, 3, 4, 5, 6]\n",
    "OutputList = []\n",
    "tem = 1\n",
    "\n",
    "for x in InputList:\n",
    "  tem *= x\n",
    "  OutputList.append(tem)\n",
    "\n",
    "print(f'Input: {InputList}')\n",
    "print(f'Output: {OutputList}')"
   ]
  },
  {
   "cell_type": "markdown",
   "metadata": {
    "id": "jEtwOjpEfAYA"
   },
   "source": [
    "# **Question No 04**\n",
    "\n",
    "Write a program to reshape a 1D list into a 2D grid.\n",
    "\n",
    "Accept a list of numbers and the number of rows as input.\n",
    "Use for loops to split the list into sublists, each representing a row.\n",
    "If the list cannot be evenly divided into rows, pad it with None.\n",
    "\n",
    "**Example:**\n",
    "Input: [1, 2, 3, 4, 5, 6, 7], Rows: 3  \n",
    "Output: [[1, 2, 3], [4, 5, 6], [7, None, None]]  \n",
    "\n"
   ]
  },
  {
   "cell_type": "code",
   "execution_count": 17,
   "metadata": {
    "id": "tGRxqt0pfRql"
   },
   "outputs": [
    {
     "name": "stdout",
     "output_type": "stream",
     "text": [
      "Output: [[1, 2, 3], [4, 5, 6], [7, None, None]]\n"
     ]
    }
   ],
   "source": [
    "Rows = int(input('Enter Number Of Rows......'))\n",
    "Input = [1, 2, 3, 4, 5, 6, 7]\n",
    "Colums = -(-len(Input) // Rows)\n",
    "Data = Input + [None] * (Colums * Rows - len(Input))\n",
    "Output = []\n",
    "for x in range(0,len(Data),Rows):\n",
    "    Output.append(Data[x : x + Rows])\n",
    "\n",
    "\n",
    "print(f'Output: {Output}')"
   ]
  },
  {
   "cell_type": "markdown",
   "metadata": {
    "id": "iBPZVHDsfwpm"
   },
   "source": [
    "# **Question No 05**\n",
    "\n",
    "Write a program to sort a list of numbers into two separate lists:\n",
    "\n",
    "One list for all odd numbers (in ascending order).\n",
    "One list for all even numbers (in descending order).\n",
    "Use for loops for the entire process.\n",
    "\n",
    "**Example:**\n",
    "\n",
    "\n",
    "Input: [5, 8, 3, 10, 2, 7, 1, 6]  \n",
    "Output:  \n",
    "Odd: [1, 3, 5, 7]  \n",
    "Even: [10, 8, 6, 2]  \n"
   ]
  },
  {
   "cell_type": "code",
   "execution_count": null,
   "metadata": {
    "colab": {
     "base_uri": "https://localhost:8080/"
    },
    "executionInfo": {
     "elapsed": 483,
     "status": "ok",
     "timestamp": 1734510637370,
     "user": {
      "displayName": "Hamza Khan",
      "userId": "04382971837667094060"
     },
     "user_tz": -300
    },
    "id": "y8dyGGNAf42S",
    "outputId": "7195a083-b6cb-46a9-e136-53e29b120762"
   },
   "outputs": [
    {
     "name": "stdout",
     "output_type": "stream",
     "text": [
      "Odd: [1, 3, 5, 7, 9]\n",
      "Even: [10, 8, 6, 4, 2]\n"
     ]
    }
   ],
   "source": [
    "NumberList = [5, 8, 3, 10, 2, 7, 1, 6, 9, 4]\n",
    "OddLst = []\n",
    "Evenlst = []\n",
    "for x in NumberList:\n",
    "  if x % 2 == 0:\n",
    "    Evenlst.append(x)\n",
    "  else:\n",
    "    OddLst.append(x)\n",
    "\n",
    "OddLst.sort()\n",
    "Evenlst.sort(reverse =True)\n",
    "print(f'Odd: {OddLst}')\n",
    "print(f'Even: {Evenlst}')\n"
   ]
  },
  {
   "cell_type": "markdown",
   "metadata": {
    "id": "X_LfOnqskNTe"
   },
   "source": [
    "# **Question No 06**\n",
    "\n",
    "Write a program that uses a for loop to count the frequency of each character in a given string and stores the result in a dictionary.\n",
    "\n",
    "The program should ignore spaces and be case-insensitive.\n",
    "Display the dictionary as the final output.\n",
    "\n",
    "**Example:**\n",
    "\n",
    "Input: \"Programming is fun\"  \n",
    "Output: {'p': 1, 'r': 2, 'o': 1, 'g': 2, 'a': 1, 'm': 2, 'i': 2, 'n': 2, 's': 1, 'f': 1, 'u': 1}\n",
    "\n"
   ]
  },
  {
   "cell_type": "code",
   "execution_count": 56,
   "metadata": {
    "colab": {
     "base_uri": "https://localhost:8080/"
    },
    "executionInfo": {
     "elapsed": 9270,
     "status": "ok",
     "timestamp": 1734511770490,
     "user": {
      "displayName": "Hamza Khan",
      "userId": "04382971837667094060"
     },
     "user_tz": -300
    },
    "id": "1_-djYt-kW8F",
    "outputId": "fb920208-7449-4c33-af07-318e27accd99"
   },
   "outputs": [
    {
     "name": "stdout",
     "output_type": "stream",
     "text": [
      "Input: Hamza Saleem\n",
      "Ouput: {'h': 1, 'a': 3, 'm': 2, 'z': 1, 's': 1, 'l': 1, 'e': 2}\n"
     ]
    }
   ],
   "source": [
    "Final_Dis ={}\n",
    "InputString = input(\"Enter String!!! \")\n",
    "\n",
    "for x in InputString.lower():\n",
    "  if x != ' ':\n",
    "    if x in Final_Dis:\n",
    "      Final_Dis[x] += 1\n",
    "    else:\n",
    "      Final_Dis[x] = 1\n",
    "\n",
    "print(f'Input: {InputString}')\n",
    "print(f'Ouput: {Final_Dis}')\n"
   ]
  },
  {
   "cell_type": "code",
   "execution_count": 4,
   "metadata": {},
   "outputs": [
    {
     "data": {
      "text/plain": [
       "[(2, 7), (4, 5), (8, 1)]"
      ]
     },
     "execution_count": 4,
     "metadata": {},
     "output_type": "execute_result"
    }
   ],
   "source": [
    "Input_list =  [2, 4, 3, 5, 7, 8, 1]  \n",
    "Target_sum = 9\n",
    "lst =[]\n",
    "for x in range(len(Input_list)):\n",
    "    for i in range(x+1 , len(Input_list)):\n",
    "        if Input_list[x] + Input_list[i] == Target_sum:\n",
    "\n",
    "            lst.append((Input_list[x] , Input_list[i]))\n",
    "    \n",
    "lst"
   ]
  },
  {
   "cell_type": "code",
   "execution_count": null,
   "metadata": {},
   "outputs": [],
   "source": []
  }
 ],
 "metadata": {
  "colab": {
   "provenance": []
  },
  "kernelspec": {
   "display_name": "Python 3",
   "name": "python3"
  },
  "language_info": {
   "codemirror_mode": {
    "name": "ipython",
    "version": 3
   },
   "file_extension": ".py",
   "mimetype": "text/x-python",
   "name": "python",
   "nbconvert_exporter": "python",
   "pygments_lexer": "ipython3",
   "version": "3.12.6"
  }
 },
 "nbformat": 4,
 "nbformat_minor": 0
}
