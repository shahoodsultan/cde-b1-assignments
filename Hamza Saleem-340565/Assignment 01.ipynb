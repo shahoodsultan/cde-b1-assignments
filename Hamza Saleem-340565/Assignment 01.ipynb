{
 "cells": [
  {
   "cell_type": "markdown",
   "metadata": {},
   "source": [
    "# Part -1 Python Basics (Variables)"
   ]
  },
  {
   "cell_type": "markdown",
   "metadata": {},
   "source": [
    "1. Print Your Name with your Father name and Date of birth using suitable escape sequence charactor"
   ]
  },
  {
   "cell_type": "code",
   "execution_count": 2,
   "metadata": {},
   "outputs": [
    {
     "name": "stdout",
     "output_type": "stream",
     "text": [
      "Hamza Saleem\n",
      "Muhammad Saleem Khan\n",
      "01-01-2000\n"
     ]
    }
   ],
   "source": [
    "# Write your code here\n",
    "print('Hamza Saleem\\nMuhammad Saleem Khan\\n01-01-2000')"
   ]
  },
  {
   "cell_type": "markdown",
   "metadata": {},
   "source": [
    "2. Write your small bio using variables and print it using print function"
   ]
  },
  {
   "cell_type": "code",
   "execution_count": 3,
   "metadata": {},
   "outputs": [
    {
     "name": "stdout",
     "output_type": "stream",
     "text": [
      "My Name Is Hamza Saleem\n",
      "My Father Name Is Muhammad Saleem Khan\n",
      "My Age Is 23\n",
      "Address : Orange Street Garden West Karachi\n",
      "My Profession is Data Engineer\n"
     ]
    }
   ],
   "source": [
    "# Write your code here\n",
    "Name = input('Enter Your Name : ')\n",
    "Father_Name = input('Enter Youe Father Name : ')\n",
    "Age = int(input('Enter Your Age : '))\n",
    "Address = input('Enter Your Address : ')\n",
    "Profession = input('Enter Your Profession : ')\n",
    "\n",
    "print(f'My Name Is {Name}')\n",
    "print(f'My Father Name Is {Father_Name}')\n",
    "print(f'My Age Is {Age}')\n",
    "print(f'Address : {Address}')\n",
    "print(f'My Profession is {Profession}')"
   ]
  },
  {
   "cell_type": "markdown",
   "metadata": {},
   "source": [
    "3. Write a program in which use all the operators we can use in Python"
   ]
  },
  {
   "cell_type": "code",
   "execution_count": 4,
   "metadata": {},
   "outputs": [
    {
     "name": "stdout",
     "output_type": "stream",
     "text": [
      "Addtion : 30\n",
      "Substraction : 10\n",
      "Multiplication : 200\n",
      "Division : 1.0\n",
      "2 Power OF Num_1 : 100\n",
      "Floor Division : 2\n",
      "Modulus : 10\n"
     ]
    }
   ],
   "source": [
    "# Write your code here\n",
    "Num_1 = 10\n",
    "Num_2 = 20\n",
    "\n",
    "print(f'Addtion : {Num_1 + Num_2}')\n",
    "print(f'Substraction : {Num_2 - Num_1}')\n",
    "print(f'Multiplication : {Num_1 * Num_2}')\n",
    "print(f'Division : {Num_2 / Num_2}')\n",
    "print(f'2 Power OF Num_1 : {Num_1 ** 2}')\n",
    "print(f'Floor Division : {Num_2 // Num_1}')\n",
    "print(f'Modulus : {Num_1 % Num_2}')"
   ]
  },
  {
   "cell_type": "markdown",
   "metadata": {},
   "source": [
    "4. Completes the following steps of small task:\n",
    "    - Mention Marks of English , Islamiat and Maths out of 100 in 3 different variables\n",
    "    - Mention Variable of Total Marks and assign 300 to it\n",
    "    - Calculate Percentage"
   ]
  },
  {
   "cell_type": "code",
   "execution_count": 5,
   "metadata": {},
   "outputs": [
    {
     "name": "stdout",
     "output_type": "stream",
     "text": [
      " Percentage Of Student : 80.0%\n"
     ]
    }
   ],
   "source": [
    "# Write your code here\n",
    "Math_Marks = int(input('Enter Math Marks :'))\n",
    "English_Marks = int(input('Enter English Marks :'))\n",
    "Islamiat_Marks = int(input('Enter Islamiat Marks :'))\n",
    "\n",
    "Total_Marks = 300\n",
    "\n",
    "Percentage = ((Math_Marks + English_Marks + Islamiat_Marks) / Total_Marks ) * 100\n",
    "print(f' Percentage Of Student : {round(Percentage,2)}%')"
   ]
  },
  {
   "cell_type": "markdown",
   "metadata": {},
   "source": [
    "# Part -2 Python Basics (Conditional Statements)"
   ]
  },
  {
   "cell_type": "markdown",
   "metadata": {},
   "source": [
    "1) A company decided to give bonus of 5% to employee if his/her year of service is more than 5 years.\n",
    "Ask user for their salary and year of service and print the net bonus amount."
   ]
  },
  {
   "cell_type": "code",
   "execution_count": 9,
   "metadata": {},
   "outputs": [
    {
     "name": "stdout",
     "output_type": "stream",
     "text": [
      "Your Net Bonus Amount is : 105000\n"
     ]
    }
   ],
   "source": [
    "#Type your code here\n",
    "YearOfExperience = int(input('Enter Your Experience in Years : '))\n",
    "\n",
    "if YearOfExperience > 5:\n",
    "    Salary = int(input('Enter Your Salary :'))\n",
    "    increment = Salary * 0.05\n",
    "    NetBonusAmount = increment + Salary \n",
    "    print(f'Your Net Bonus Amount is : {int(NetBonusAmount)}')\n",
    "else:\n",
    "    print(f'You are not eliblie for bonus!!!!!')"
   ]
  },
  {
   "cell_type": "markdown",
   "metadata": {},
   "source": [
    "\n",
    "2) Write a program to check whether a person is eligible for voting or not. (accept age from user) if age is greater than 17 eligible otherwise not eligible"
   ]
  },
  {
   "cell_type": "code",
   "execution_count": 12,
   "metadata": {},
   "outputs": [
    {
     "name": "stdout",
     "output_type": "stream",
     "text": [
      "You are Eligible for voting\n"
     ]
    }
   ],
   "source": [
    "#Type your code here\n",
    "Age = int(input('Enter Your Age :'))\n",
    "\n",
    "if Age > 17:\n",
    "    print('You are Eligible for voting')\n",
    "else:\n",
    "    print('You are not Eligible for voting')"
   ]
  },
  {
   "cell_type": "markdown",
   "metadata": {},
   "source": [
    "\n",
    "3) Write a program to check whether a number entered by user is even or odd."
   ]
  },
  {
   "cell_type": "code",
   "execution_count": 14,
   "metadata": {},
   "outputs": [
    {
     "name": "stdout",
     "output_type": "stream",
     "text": [
      "The Given Number is :5\n",
      "Number Is Odd\n"
     ]
    }
   ],
   "source": [
    "#Type your code here\n",
    "Number_1 = int(input('Enter Number :'))\n",
    "\n",
    "print(f'The Given Number is :{Number_1}')\n",
    "\n",
    "if Number_1 % 2 == 0:\n",
    "    print('Number Is Even')\n",
    "else:\n",
    "    print('Number Is Odd')"
   ]
  },
  {
   "cell_type": "markdown",
   "metadata": {},
   "source": [
    "4) Write a program to check whether a number is divisible by 7 or not.\n",
    "Show Answer"
   ]
  },
  {
   "cell_type": "code",
   "execution_count": 19,
   "metadata": {},
   "outputs": [
    {
     "name": "stdout",
     "output_type": "stream",
     "text": [
      "The Given Number is : 15\n",
      "Number Is Not Divisible by 7\n"
     ]
    }
   ],
   "source": [
    "#Type your code here\n",
    "CheckNumber = int(input('Enter Number :'))\n",
    "\n",
    "print(f'The Given Number is : {CheckNumber}')\n",
    "\n",
    "if CheckNumber % 7 == 0:\n",
    "    print('Number Is Divisible by 7')\n",
    "else:\n",
    "    print('Number Is Not Divisible by 7')"
   ]
  },
  {
   "cell_type": "markdown",
   "metadata": {},
   "source": [
    "5) Write a program to display \n",
    "\"Hello\" if a number entered by user is a multiple of five , otherwise print \"Bye\"."
   ]
  },
  {
   "cell_type": "code",
   "execution_count": 21,
   "metadata": {},
   "outputs": [
    {
     "name": "stdout",
     "output_type": "stream",
     "text": [
      "The Given Number is : 15\n",
      "Hello\n"
     ]
    }
   ],
   "source": [
    "#Type your code here\n",
    "Number_2 = int(input('Enter Number :'))\n",
    "\n",
    "print(f'The Given Number is : {Number_2}')\n",
    "\n",
    "if Number_2 % 5 == 0:\n",
    "    print('Hello')\n",
    "else:\n",
    "    print('Bye')\n",
    "    "
   ]
  },
  {
   "cell_type": "markdown",
   "metadata": {},
   "source": [
    "7) Write a program to display the last digit of a number.\n"
   ]
  },
  {
   "cell_type": "code",
   "execution_count": 27,
   "metadata": {},
   "outputs": [
    {
     "name": "stdout",
     "output_type": "stream",
     "text": [
      "The Last Digit of this 435465 is 5\n"
     ]
    }
   ],
   "source": [
    "#Type your code here\n",
    "Number = int(input('Enter Number :'))\n",
    "Number = str(Number)\n",
    "print(f'The Last Digit of this {Number} is {Number[-1]}')"
   ]
  },
  {
   "cell_type": "markdown",
   "metadata": {},
   "source": [
    "9) Take values of length and breadth of a rectangle from user and print if it is square or rectangle."
   ]
  },
  {
   "cell_type": "code",
   "execution_count": 31,
   "metadata": {},
   "outputs": [
    {
     "name": "stdout",
     "output_type": "stream",
     "text": [
      "Length is 45\n",
      "Breadth is 45\n",
      "This Is Square\n"
     ]
    }
   ],
   "source": [
    "#Type your code here \n",
    "Length = int(input('Enter Lenght :'))\n",
    "breath = int(input('Enter breadth :'))\n",
    "print(f'Length is {Length}\\nBreadth is {breath}')\n",
    "\n",
    "if Length == breath:\n",
    "    print('This Is Square')\n",
    "else:\n",
    "    print('This is Rectangle')"
   ]
  },
  {
   "cell_type": "markdown",
   "metadata": {},
   "source": [
    "10) Take two int values from user and print greatest among them."
   ]
  },
  {
   "cell_type": "code",
   "execution_count": 74,
   "metadata": {},
   "outputs": [
    {
     "name": "stdout",
     "output_type": "stream",
     "text": [
      "The Greatest Number is 24\n"
     ]
    }
   ],
   "source": [
    "# Type your code here\n",
    "Number_1 = int(input('Enter First Number : '))\n",
    "Number_2 = int(input('Enter Second Number :'))\n",
    "\n",
    "if Number_1 > Number_2:\n",
    "    print(f'The Greatest Number is {Number_1}')\n",
    "else:\n",
    "    print(f'The Greatest Number is {Number_2}')"
   ]
  },
  {
   "cell_type": "markdown",
   "metadata": {},
   "source": [
    "11) A shop will give discount of 10% if the cost of purchased quantity is more than 1000.\n",
    "Ask user for quantity\n",
    "Suppose, one unit will cost 100.\n",
    "Judge and print total cost for user."
   ]
  },
  {
   "cell_type": "code",
   "execution_count": 33,
   "metadata": {},
   "outputs": [
    {
     "name": "stdout",
     "output_type": "stream",
     "text": [
      "The Total Cost of User is : 100000\n"
     ]
    }
   ],
   "source": [
    "#Type your code here\n",
    "Quantity = int(input('Enter Quantity : '))\n",
    "OneUnitCost = 100\n",
    "TotalCost = Quantity * OneUnitCost\n",
    "\n",
    "if Quantity > 1000 :\n",
    "    Discount = TotalCost * 0.1\n",
    "    Total = TotalCost - Discount\n",
    "    print(f'The Total Cost of User is : {Total}')\n",
    "else:\n",
    "    print(f'The Total Cost of User is : {TotalCost}')"
   ]
  },
  {
   "cell_type": "markdown",
   "metadata": {},
   "source": [
    "12) A school has following rules for grading system:\n",
    "\n",
    "a. Below 25 - F\n",
    "\n",
    "b. 25 to 45 - E\n",
    "\n",
    "c. 45 to 50 - D\n",
    "\n",
    "d. 50 to 60 - C\n",
    "\n",
    "e. 60 to 80 - B\n",
    "\n",
    "f. Above 80 - A\n",
    "\n",
    "Ask user to enter marks and print the corresponding grade."
   ]
  },
  {
   "cell_type": "code",
   "execution_count": 42,
   "metadata": {},
   "outputs": [
    {
     "name": "stdout",
     "output_type": "stream",
     "text": [
      "You Got D Grade\n"
     ]
    }
   ],
   "source": [
    "#Type your code here\n",
    "Marks = int(input('Enter Marks :'))\n",
    "\n",
    "if Marks > 100:\n",
    "    print('Invalid Marks.!!!')\n",
    "else:\n",
    "    if Marks > 80:\n",
    "        print('You Got A Grade')\n",
    "    elif Marks <= 80 and Marks > 60 :\n",
    "        print('You Got B Grade') \n",
    "    elif Marks <= 60 and Marks > 50 :\n",
    "        print('You Got C Grade')\n",
    "    elif Marks <=50  and Marks > 45 :\n",
    "        print('You Got D Grade')\n",
    "    elif Marks <=45 and Marks >= 25 :\n",
    "        print('You Got E Grade')\n",
    "    else:\n",
    "        print('You Got F Grade')"
   ]
  },
  {
   "cell_type": "markdown",
   "metadata": {},
   "source": [
    "14)A student will not be allowed to sit in exam if his/her attendence is less than 75%.\n",
    "\n",
    "Take following input from user\n",
    "\n",
    "- Number of classes held\n",
    "\n",
    "- Number of classes attended.\n",
    "\n",
    "And print\n",
    "\n",
    "- percentage of class attended\n",
    "\n",
    "- Is student is allowed to sit in exam or not.\n"
   ]
  },
  {
   "cell_type": "code",
   "execution_count": 44,
   "metadata": {},
   "outputs": [
    {
     "name": "stdout",
     "output_type": "stream",
     "text": [
      "Your Attendence is : 82%\n",
      "You Are Allowed in Exam!!!!\n"
     ]
    }
   ],
   "source": [
    "#Type your code here\n",
    "NoOFClasses = int(input('Enter Number Of Classes :'))\n",
    "NoOfClassAttended = int(input('Enter Number of Classes Attended :'))\n",
    "\n",
    "Attendence = (NoOfClassAttended / NoOFClasses) * 100\n",
    "Attendence = int(Attendence)\n",
    "print(f'Your Attendence is : {Attendence}%')\n",
    "if Attendence > 75 :\n",
    "    print(f'You Are Allowed in Exam!!!!')\n",
    "else:\n",
    "    print(f'You Are Not Allowed in Exam!!!!!')\n"
   ]
  },
  {
   "cell_type": "markdown",
   "metadata": {},
   "source": [
    "15) Modify the above question to allow student to sit if he/she has medical cause. Ask user if he/she has medical cause or not ( 'Y' or 'N' ) and print accordingly."
   ]
  },
  {
   "cell_type": "code",
   "execution_count": 48,
   "metadata": {},
   "outputs": [
    {
     "name": "stdout",
     "output_type": "stream",
     "text": [
      "Your Attendence is : 20%\n",
      "You Are Not Allowed in Exam!!!!!\n"
     ]
    }
   ],
   "source": [
    "#Type your code here\n",
    "NoOFClasses = int(input('Enter Number Of Classes :'))\n",
    "NoOfClassAttended = int(input('Enter Number of Classes Attended :'))\n",
    "\n",
    "Attendence = (NoOfClassAttended / NoOFClasses) * 100\n",
    "Attendence = int(Attendence)\n",
    "print(f'Your Attendence is : {Attendence}%')\n",
    "if Attendence > 75 :\n",
    "    MedicalIssue = input('You are Any Medical Issue Type Y/N')\n",
    "    if MedicalIssue.lower() == 'y':\n",
    "        print(f'You Are Allowed in Exam!!!!')\n",
    "    else:\n",
    "        print(f'You Are Not Allowed in Exam because you have medical issue!!!!!')\n",
    "else:\n",
    "    print(f'You Are Not Allowed in Exam!!!!!')\n"
   ]
  },
  {
   "cell_type": "markdown",
   "metadata": {},
   "source": [
    "16) Write a program to check if a year is leap year or not.\n",
    "\n",
    "If a year is divisible by 4 then it is leap year but if the year is century year like 2000, 1900, 2100 then it must be divisible by 400."
   ]
  },
  {
   "cell_type": "code",
   "execution_count": 55,
   "metadata": {},
   "outputs": [
    {
     "name": "stdout",
     "output_type": "stream",
     "text": [
      "2021 is Not Leap Year\n"
     ]
    }
   ],
   "source": [
    "#Type your code here\n",
    "CheckYear = int(input('Enter Year :'))\n",
    "\n",
    "if CheckYear % 4 == 0:\n",
    "    print(f'{CheckYear} is Leap Year')\n",
    "else:\n",
    "    print(f'{CheckYear} is Not Leap Year')"
   ]
  },
  {
   "cell_type": "markdown",
   "metadata": {},
   "source": [
    "17) Ask user to enter age, gender ( M or F ), marital status ( Y or N ) and then using following rules print their place of service.\n",
    "\n",
    "if employee is female, then she will work only in urban areas.\n",
    "\n",
    "if employee is a male and age is in between 20 to 40 then he may work in anywhere\n",
    "\n",
    "if employee is male and age is in between 40 t0 60 then he will work in urban areas only.\n",
    "\n",
    "And any other input of age should print \"ERROR\""
   ]
  },
  {
   "cell_type": "code",
   "execution_count": 62,
   "metadata": {},
   "outputs": [
    {
     "name": "stdout",
     "output_type": "stream",
     "text": [
      "ERROR\n"
     ]
    }
   ],
   "source": [
    "#Type your code here\n",
    "Age = int(input('Enter Your Age :'))\n",
    "Gender = input('Enter Your Gender M/F : ')\n",
    "\n",
    "if Gender.lower() == 'f' and Age > 20 and Age < 60:\n",
    "    print('Women Work in only Urban Areas.....')\n",
    "elif Gender.lower() == 'm' and Age >= 20 and Age < 40:\n",
    "    print('You do your work in Every where')\n",
    "elif Gender.lower() == 'm' and Age <= 40 and Age < 60:\n",
    "    print('You do your work in only urban Areas')\n",
    "else:\n",
    "    print('ERROR')"
   ]
  },
  {
   "cell_type": "markdown",
   "metadata": {},
   "source": [
    "6) Write a program to calculate the electricity bill (accept number of unit from user) according to the following criteria :\n",
    "     Unit                                                     Price  \n",
    "uptp 100 units                                             no charge\n",
    "Next 200 units                                              Rs 5 per unit\n",
    "After 200 units                                             Rs 10 per unit\n",
    "(For example if input unit is 350 than total bill amount is Rs.3500\n",
    "(For example if input unit is 97 than total bill amount is Rs.0\n",
    "(For example if input unit is 150 than total bill amount is Rs.750"
   ]
  },
  {
   "cell_type": "code",
   "execution_count": 65,
   "metadata": {},
   "outputs": [
    {
     "name": "stdout",
     "output_type": "stream",
     "text": [
      "Your Number Of Units are 199\n",
      "The Total Bill Amount is 995\n"
     ]
    }
   ],
   "source": [
    "NumberOfUnits =  int(input('Enter Number Of Units....'))\n",
    "\n",
    "if NumberOfUnits < 100:\n",
    "    print(f'Your Number Of Units are {NumberOfUnits}\\nThe Total Bill Amount is 0')\n",
    "elif NumberOfUnits >= 100 and NumberOfUnits < 200 :\n",
    "    print(f'Your Number Of Units are {NumberOfUnits}\\nThe Total Bill Amount is {NumberOfUnits * 5}')\n",
    "else:\n",
    "    print(f'Your Number Of Units are {NumberOfUnits}\\nThe Total Bill Amount is {NumberOfUnits * 10}')"
   ]
  },
  {
   "cell_type": "markdown",
   "metadata": {},
   "source": [
    "13) Take input of age of 3 people by user and determine oldest and youngest among them."
   ]
  },
  {
   "cell_type": "code",
   "execution_count": 72,
   "metadata": {},
   "outputs": [
    {
     "name": "stdout",
     "output_type": "stream",
     "text": [
      "Youngest Age Is :12\n",
      "Oldest Age Is 50\n"
     ]
    }
   ],
   "source": [
    "#Type your code here\n",
    "Final = []\n",
    "for x in range(3):\n",
    "    User = int(input('Enter Age :'))\n",
    "    Final.append(User)\n",
    "print(f'Youngest Age Is :{min(Final)}\\nOldest Age Is {max(Final)}')"
   ]
  },
  {
   "cell_type": "code",
   "execution_count": null,
   "metadata": {},
   "outputs": [],
   "source": []
  }
 ],
 "metadata": {
  "kernelspec": {
   "display_name": "Python 3",
   "language": "python",
   "name": "python3"
  },
  "language_info": {
   "codemirror_mode": {
    "name": "ipython",
    "version": 3
   },
   "file_extension": ".py",
   "mimetype": "text/x-python",
   "name": "python",
   "nbconvert_exporter": "python",
   "pygments_lexer": "ipython3",
   "version": "3.12.6"
  }
 },
 "nbformat": 4,
 "nbformat_minor": 2
}
