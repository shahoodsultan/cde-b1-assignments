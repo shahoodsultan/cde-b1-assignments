{
 "cells": [
  {
   "cell_type": "markdown",
   "metadata": {
    "id": "WbWe2auqg3ZE"
   },
   "source": [
    "\n",
    "# **Question No 01**\n",
    "\n",
    "Write a function called create_word_count that takes a list of strings and returns a dictionary where:\n",
    "\n",
    "Keys are unique words from the list.\n",
    "Values are the count of occurrences of each word.\n",
    "\n",
    "**Exmple:**\n",
    "words = ['apple', 'banana', 'apple', 'cherry', 'banana', 'apple']\n",
    "result = create_word_count(words)\n",
    "print(result)  # {'apple': 3, 'banana': 2, 'cherry': 1}\n",
    "\n"
   ]
  },
  {
   "cell_type": "code",
   "execution_count": 1,
   "metadata": {
    "id": "Y7n-RlA-iywL"
   },
   "outputs": [
    {
     "name": "stdout",
     "output_type": "stream",
     "text": [
      "{'Mango': 4, 'apple': 3, 'banana': 2, 'cherry': 1}\n"
     ]
    }
   ],
   "source": [
    "def create_word_count(lst):\n",
    "  for x in lst:\n",
    "    if x in Final_Dic:\n",
    "      Final_Dic[x] += 1\n",
    "    else:\n",
    "      Final_Dic[x] = 1\n",
    "  return Final_Dic\n",
    "\n",
    "\n",
    "Final_Dic = {}\n",
    "lst=['Mango', 'apple', 'banana', 'Mango', 'apple', 'cherry', 'Mango', 'banana', 'apple','Mango']\n",
    "Result = create_word_count(lst)\n",
    "print(Result)"
   ]
  },
  {
   "cell_type": "markdown",
   "metadata": {
    "id": "CWDqnzRRg3br"
   },
   "source": [
    "# **Question No 02**\n",
    "\n",
    "Write a function called sort_by_key that takes a list of dictionaries and a key to sort by.\n",
    "\n",
    "The function should return a new list sorted by the given key in ascending order.\n",
    "If the key doesn’t exist in a dictionary, ignore that dictionary.\n",
    "\n",
    "**Exmple:**\n",
    "\n",
    "data = [{'name': 'Alice', 'age': 25}, {'name': 'Bob', 'age': 22}, {'name': 'Charlie', 'age': 30}]\n",
    "sorted_data = sort_by_key(data, 'age')\n",
    "print(sorted_data)  \n",
    "# [{'name': 'Bob', 'age': 22}, {'name': 'Alice', 'age': 25}, {'name': 'Charlie', 'age': 30}]\n",
    "\n"
   ]
  },
  {
   "cell_type": "code",
   "execution_count": 7,
   "metadata": {
    "id": "y_7uTIbbi1fu"
   },
   "outputs": [
    {
     "name": "stdout",
     "output_type": "stream",
     "text": [
      "[{'name': 'Bob', 'age': 22}, {'name': 'Alice', 'age': 25}, {'name': 'Charlie', 'age': 30}]\n"
     ]
    }
   ],
   "source": [
    "def Sort_By_Key(Data , key):\n",
    "    sort = sorted(Data , key= lambda x: x[key.lower()] , reverse=False)\n",
    "    return sort\n",
    "\n",
    "Data = [{'name': 'Alice', 'age': 25}, {'name': 'Bob', 'age': 22}, {'name': 'Charlie', 'age': 30}]\n",
    "key = input('Enter key.... ')\n",
    "Sorted_Data = Sort_By_Key(Data,key)\n",
    "print(Sorted_Data)\n"
   ]
  },
  {
   "cell_type": "markdown",
   "metadata": {
    "id": "CzVcAI2jg3ei"
   },
   "source": [
    "# **Question No 03**\n",
    "\n",
    "Write a function called filter_dict that takes a dictionary and a value threshold as arguments.\n",
    "\n",
    "The function should return a new dictionary containing only the key-value pairs where the value is greater than the threshold.\n",
    "\n",
    "**Exmple:**\n",
    "\n",
    "scores = {'Alice': 85, 'Bob': 90, 'Charlie': 78, 'David': 92}\n",
    "filtered_scores = filter_dict(scores, 80)\n",
    "print(filtered_scores)  # {'Alice': 85, 'Bob': 90, 'David': 92}\n",
    "\n"
   ]
  },
  {
   "cell_type": "code",
   "execution_count": null,
   "metadata": {
    "id": "Y1fBZTKWi2wq"
   },
   "outputs": [
    {
     "name": "stdout",
     "output_type": "stream",
     "text": [
      "{'Alice': 85, 'Bob': 90, 'David': 92, 'Hamza': 98}\n"
     ]
    }
   ],
   "source": [
    "def filter_dict(scores , Threshold):\n",
    "  for Key , Value in scores.items():\n",
    "    if Value > Threshold:\n",
    "      filtered[Key] = Value\n",
    "  return filtered\n",
    "\n",
    "Threshold = int(input('Enter Threshold Number .... '))\n",
    "scores = {'Alice': 85, 'Bob': 90, 'Charlie': 78, 'David': 92 , 'Hamza' : 98 , 'Uzair': 54}\n",
    "filtered = {}\n",
    "filtered_scores = filter_dict(scores, Threshold)\n",
    "print(filtered_scores)\n"
   ]
  },
  {
   "cell_type": "markdown",
   "metadata": {
    "id": "sKZLjKbog3jw"
   },
   "source": [
    "# **Question No 04**\n",
    "\n",
    "Write a function called find_common_keys that takes two dictionaries and returns a list of keys that are common to both.\n",
    "\n",
    "\n",
    "**Exmple:**\n",
    "\n",
    "dict1 = {'a': 1, 'b': 2, 'c': 3}\n",
    "dict2 = {'b': 4, 'c': 5, 'd': 6}\n",
    "common_keys = find_common_keys(dict1, dict2)\n",
    "print(common_keys)  # ['b', 'c']\n"
   ]
  },
  {
   "cell_type": "code",
   "execution_count": 27,
   "metadata": {
    "id": "IRSWbYvfi3cg"
   },
   "outputs": [
    {
     "name": "stdout",
     "output_type": "stream",
     "text": [
      "['b', 'c', 'e']\n"
     ]
    }
   ],
   "source": [
    "def find_common_keys(dict1,dict2):\n",
    "    for key,value in dict1.items():\n",
    "        for k,v in dict2.items():\n",
    "            if key == k:\n",
    "                lst.append(k)\n",
    "\n",
    "    return lst\n",
    "\n",
    "dict1 = {'a': 1, 'b': 2, 'c': 3 , 'e' : 5}\n",
    "dict2 = {'b': 4, 'c': 5, 'd': 6  , 'e' :6}\n",
    "lst = []\n",
    "common_keys = find_common_keys(dict1, dict2)\n",
    "print(common_keys)"
   ]
  },
  {
   "cell_type": "markdown",
   "metadata": {
    "id": "xBNyzbF6i41L"
   },
   "source": [
    "# **Question No 5**\n",
    "\n",
    "Write a function called update_grades that takes a list of dictionaries (representing students with their grades) and updates the grade of a student if their name matches the given name.\n",
    "\n",
    "\n",
    "**Exmple:**\n",
    "\n",
    "students = [{'name': 'Alice', 'grade': 85}, {'name': 'Bob', 'grade': 90}]\n",
    "updated_students = update_grades(students, 'Bob', 95)\n",
    "print(updated_students)  \n",
    "# [{'name': 'Alice', 'grade': 85}, {'name': 'Bob', 'grade': 95}]\n",
    "\n"
   ]
  },
  {
   "cell_type": "code",
   "execution_count": 12,
   "metadata": {
    "id": "dM8_HJcPi5wH"
   },
   "outputs": [
    {
     "name": "stdout",
     "output_type": "stream",
     "text": [
      "Invalid Input\n"
     ]
    }
   ],
   "source": [
    "def  update_grades(student , Name , Grade):\n",
    "  for values in student:\n",
    "    if values['name'].lower() == Name:\n",
    "      values['grade'] = Grade\n",
    "      return student\n",
    "  else:\n",
    "    return 'Invalid Input'\n",
    "\n",
    "students = [{'name': 'Alice', 'grade': 85}, {'name': 'Bob', 'grade': 90} , {'name': 'Hamza', 'grade': 56} , {'name': 'Hassan', 'grade': 80}]\n",
    "Name = input(\"Enter Name .......\")\n",
    "Grade = int(input(\"Enter Grade .......\"))\n",
    "Updated_Students = update_grades(students , Name , Grade)\n",
    "print(Updated_Students)\n"
   ]
  },
  {
   "cell_type": "markdown",
   "metadata": {
    "id": "LVPjDOqojosu"
   },
   "source": [
    "# **Question No 6**\n",
    "\n",
    "Write a function called merge_lists_to_dict that takes two lists of equal length:\n",
    "\n",
    "The first list contains keys.\n",
    "The second list contains values.\n",
    "The function should return a dictionary created by merging these lists.\n",
    "\n",
    "**Exmple:**\n",
    "keys = ['name', 'age', 'city']\n",
    "values = ['Alice', 25, 'New York']\n",
    "result = merge_lists_to_dict(keys, values)\n",
    "print(result)  # {'name': 'Alice', 'age': 25, 'city': 'New York'}\n",
    "\n"
   ]
  },
  {
   "cell_type": "code",
   "execution_count": 19,
   "metadata": {
    "executionInfo": {
     "elapsed": 741,
     "status": "ok",
     "timestamp": 1734519230752,
     "user": {
      "displayName": "Hamza Khan",
      "userId": "04382971837667094060"
     },
     "user_tz": -300
    },
    "id": "WXCP48lRjyET"
   },
   "outputs": [
    {
     "name": "stdout",
     "output_type": "stream",
     "text": [
      "{'name': 'Alice', 'age': 25, 'Country': 'US', 'city': 'New York'}\n"
     ]
    }
   ],
   "source": [
    "def merge_lists_to_dict(keys,values):\n",
    "    Dict = {}\n",
    "    for k,v in zip(keys,values):\n",
    "        Dict[k] = v\n",
    "    return Dict\n",
    "\n",
    "keys = ['name', 'age','Country', 'city']\n",
    "values = ['Alice', 25, 'US' , 'New York']\n",
    "Result = merge_lists_to_dict(keys,values)\n",
    "print(Result)"
   ]
  }
 ],
 "metadata": {
  "colab": {
   "provenance": []
  },
  "kernelspec": {
   "display_name": "Python 3",
   "name": "python3"
  },
  "language_info": {
   "codemirror_mode": {
    "name": "ipython",
    "version": 3
   },
   "file_extension": ".py",
   "mimetype": "text/x-python",
   "name": "python",
   "nbconvert_exporter": "python",
   "pygments_lexer": "ipython3",
   "version": "3.12.6"
  }
 },
 "nbformat": 4,
 "nbformat_minor": 0
}
