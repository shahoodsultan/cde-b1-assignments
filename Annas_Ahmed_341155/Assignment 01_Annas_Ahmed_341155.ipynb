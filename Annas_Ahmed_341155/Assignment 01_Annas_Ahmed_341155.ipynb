{
 "cells": [
  {
   "cell_type": "markdown",
   "metadata": {},
   "source": [
    "# Part -1 Python Basics (Variables)\n"
   ]
  },
  {
   "cell_type": "markdown",
   "metadata": {},
   "source": [
    "1. Print Your Name with your Father name and Date of birth using suitable escape sequence charactor\n"
   ]
  },
  {
   "cell_type": "code",
   "execution_count": 25,
   "metadata": {},
   "outputs": [
    {
     "name": "stdout",
     "output_type": "stream",
     "text": [
      "Name:Annas Ahmed\n",
      "Father Name: Shabbir Ahmed\n",
      "DOB: 12-06-2002\n"
     ]
    }
   ],
   "source": [
    "# Write your code here\n",
    "print(\"Name:Annas Ahmed\\nFather Name: Shabbir Ahmed\\nDOB: 12-06-2002\")\n"
   ]
  },
  {
   "cell_type": "markdown",
   "metadata": {},
   "source": [
    "2. Write your small bio using variables and print it using print function\n"
   ]
  },
  {
   "cell_type": "code",
   "execution_count": 26,
   "metadata": {},
   "outputs": [
    {
     "name": "stdout",
     "output_type": "stream",
     "text": [
      "I'm Annas Ahmed, final year BSCS student UBIT\n"
     ]
    }
   ],
   "source": [
    "# Write your code here\n",
    "bio=\"I'm Annas Ahmed, final year BSCS student UBIT\"\n",
    "print(bio)"
   ]
  },
  {
   "cell_type": "markdown",
   "metadata": {},
   "source": [
    "3. Write a program in which use all the operators we can use in Python\n"
   ]
  },
  {
   "cell_type": "code",
   "execution_count": 27,
   "metadata": {},
   "outputs": [],
   "source": [
    "# Write your code here\n",
    "a=10+1\n",
    "b=20*30\n",
    "c=20<30\n",
    "d=20==30\n",
    "e=50//10\n",
    "f=10%6\n"
   ]
  },
  {
   "cell_type": "markdown",
   "metadata": {},
   "source": [
    "4. Completes the following steps of small task:\n",
    "   - Mention Marks of English , Islamiat and Maths out of 100 in 3 different variables\n",
    "   - Mention Variable of Total Marks and assign 300 to it\n",
    "   - Calculate Percentage\n"
   ]
  },
  {
   "cell_type": "code",
   "execution_count": 28,
   "metadata": {},
   "outputs": [],
   "source": [
    "# Write your code here"
   ]
  },
  {
   "cell_type": "markdown",
   "metadata": {},
   "source": [
    "# Part -2 Python Basics (Conditional Statements)\n"
   ]
  },
  {
   "cell_type": "markdown",
   "metadata": {},
   "source": [
    "1. A company decided to give bonus of 5% to employee if his/her year of service is more than 5 years.\n",
    "   Ask user for their salary and year of service and print the net bonus amount.\n"
   ]
  },
  {
   "cell_type": "code",
   "execution_count": 29,
   "metadata": {},
   "outputs": [
    {
     "ename": "ValueError",
     "evalue": "invalid literal for int() with base 10: ''",
     "output_type": "error",
     "traceback": [
      "\u001b[1;31m---------------------------------------------------------------------------\u001b[0m",
      "\u001b[1;31mValueError\u001b[0m                                Traceback (most recent call last)",
      "Cell \u001b[1;32mIn[29], line 2\u001b[0m\n\u001b[0;32m      1\u001b[0m \u001b[38;5;66;03m#Type your code here\u001b[39;00m\n\u001b[1;32m----> 2\u001b[0m yearOfService\u001b[38;5;241m=\u001b[39m \u001b[38;5;28;43mint\u001b[39;49m\u001b[43m(\u001b[49m\u001b[38;5;28;43minput\u001b[39;49m\u001b[43m(\u001b[49m\u001b[38;5;124;43m\"\u001b[39;49m\u001b[38;5;124;43mYear Of Service:\u001b[39;49m\u001b[38;5;124;43m\"\u001b[39;49m\u001b[43m)\u001b[49m\u001b[43m)\u001b[49m\n\u001b[0;32m      3\u001b[0m salary\u001b[38;5;241m=\u001b[39m \u001b[38;5;28mint\u001b[39m(\u001b[38;5;28minput\u001b[39m(\u001b[38;5;124m\"\u001b[39m\u001b[38;5;124mSalary:\u001b[39m\u001b[38;5;124m\"\u001b[39m))\n\u001b[0;32m      4\u001b[0m \u001b[38;5;28;01mif\u001b[39;00m(yearOfService\u001b[38;5;241m>\u001b[39m\u001b[38;5;241m5\u001b[39m):\n",
      "\u001b[1;31mValueError\u001b[0m: invalid literal for int() with base 10: ''"
     ]
    }
   ],
   "source": [
    "#Type your code here\n",
    "yearOfService= int(input(\"Year Of Service:\"))\n",
    "salary= int(input(\"Salary:\"))\n",
    "if(yearOfService>5):\n",
    "    print(salary+(5/100)*salary)\n",
    "else:\n",
    "    print(salary)"
   ]
  },
  {
   "cell_type": "markdown",
   "metadata": {},
   "source": [
    "2. Write a program to check whether a person is eligible for voting or not. (accept age from user) if age is greater than 17 eligible otherwise not eligible\n"
   ]
  },
  {
   "cell_type": "code",
   "execution_count": null,
   "metadata": {},
   "outputs": [
    {
     "name": "stdout",
     "output_type": "stream",
     "text": [
      "Eligible for voting\n"
     ]
    }
   ],
   "source": [
    "#Type your code here\n",
    "age=int(input(\"Enter Your Age\"))\n",
    "if(age>17):\n",
    "    print(\"Eligible for voting\")\n",
    "else:\n",
    "    print(\"Not Eligible for voting\")"
   ]
  },
  {
   "cell_type": "markdown",
   "metadata": {},
   "source": [
    "3. Write a program to check whether a number entered by user is even or odd.\n"
   ]
  },
  {
   "cell_type": "code",
   "execution_count": null,
   "metadata": {},
   "outputs": [
    {
     "name": "stdout",
     "output_type": "stream",
     "text": [
      "Number is Even\n"
     ]
    }
   ],
   "source": [
    "#Type your code here\n",
    "number=int(input(\"Enter a number\"))\n",
    "if(number%2==0):\n",
    "    print(\"Number is Even\")\n",
    "else:\n",
    "    print('Number is Odd')"
   ]
  },
  {
   "cell_type": "markdown",
   "metadata": {},
   "source": [
    "4. Write a program to check whether a number is divisible by 7 or not.\n",
    "   Show Answer\n"
   ]
  },
  {
   "cell_type": "code",
   "execution_count": null,
   "metadata": {},
   "outputs": [
    {
     "name": "stdout",
     "output_type": "stream",
     "text": [
      "Number is Divisible by Seven\n"
     ]
    }
   ],
   "source": [
    "#Type your code here\n",
    "number=int(input(\"Enter a number\"))\n",
    "if(number%7==0):\n",
    "    print(\"Number is Divisible by Seven\")\n",
    "else:\n",
    "    print('Number is not Divisible by Seven')\n"
   ]
  },
  {
   "cell_type": "markdown",
   "metadata": {},
   "source": [
    "5. Write a program to display\n",
    "   \"Hello\" if a number entered by user is a multiple of five , otherwise print \"Bye\".\n"
   ]
  },
  {
   "cell_type": "code",
   "execution_count": null,
   "metadata": {},
   "outputs": [
    {
     "name": "stdout",
     "output_type": "stream",
     "text": [
      "Bye\n"
     ]
    }
   ],
   "source": [
    "#Type your code here\n",
    "number=int(input(\"Enter a number\"))\n",
    "if(number%5==0):\n",
    "    print(\"Hello\")\n",
    "else:\n",
    "    print('Bye')\n"
   ]
  },
  {
   "cell_type": "markdown",
   "metadata": {},
   "source": [
    "7. Write a program to display the last digit of a number.\n"
   ]
  },
  {
   "cell_type": "code",
   "execution_count": null,
   "metadata": {},
   "outputs": [
    {
     "name": "stdout",
     "output_type": "stream",
     "text": [
      "8\n"
     ]
    }
   ],
   "source": [
    "#Type your code here\n",
    "number=input(\"Enter a number\")\n",
    "print(number[-1])\n"
   ]
  },
  {
   "cell_type": "markdown",
   "metadata": {},
   "source": [
    "9. Take values of length and breadth of a rectangle from user and print if it is square or rectangle.\n"
   ]
  },
  {
   "cell_type": "code",
   "execution_count": null,
   "metadata": {},
   "outputs": [
    {
     "name": "stdout",
     "output_type": "stream",
     "text": [
      "Square is:  300\n"
     ]
    }
   ],
   "source": [
    "#Type your code here \n",
    "length=int(input(\"Enter a length\"))\n",
    "width=int(input(\"Enter a breadth\"))\n",
    "print(\"Square is: \",length*width)\n"
   ]
  },
  {
   "cell_type": "markdown",
   "metadata": {},
   "source": [
    "10. Take two int values from user and print greatest among them.\n"
   ]
  },
  {
   "cell_type": "code",
   "execution_count": null,
   "metadata": {},
   "outputs": [
    {
     "name": "stdout",
     "output_type": "stream",
     "text": [
      "Gratest is 8\n"
     ]
    }
   ],
   "source": [
    "# Type your code here\n",
    "num1=int(input(\"Enter first number\"))\n",
    "num2=int(input(\"Enter second number\"))\n",
    "if(num1>num2):\n",
    "    print(\"Gratest is\",num1)\n",
    "else:\n",
    "    print(\"Gratest is\",num2)\n"
   ]
  },
  {
   "cell_type": "markdown",
   "metadata": {},
   "source": [
    "11. A shop will give discount of 10% if the cost of purchased quantity is more than 1000.\n",
    "    Ask user for quantity\n",
    "    Suppose, one unit will cost 100.\n",
    "    Judge and print total cost for user.\n"
   ]
  },
  {
   "cell_type": "code",
   "execution_count": null,
   "metadata": {},
   "outputs": [
    {
     "name": "stdout",
     "output_type": "stream",
     "text": [
      "108000.0\n"
     ]
    }
   ],
   "source": [
    "#Type your code here\n",
    "quantity=int(input(\"Enter quantity\"))\n",
    "if(quantity>1000):\n",
    "    print((quantity*100)-(10/100)*(quantity*100))\n"
   ]
  },
  {
   "cell_type": "markdown",
   "metadata": {},
   "source": [
    "12. A school has following rules for grading system:\n",
    "\n",
    "a. Below 25 - F\n",
    "\n",
    "b. 25 to 45 - E\n",
    "\n",
    "c. 45 to 50 - D\n",
    "\n",
    "d. 50 to 60 - C\n",
    "\n",
    "e. 60 to 80 - B\n",
    "\n",
    "f. Above 80 - A\n",
    "\n",
    "Ask user to enter marks and print the corresponding grade.\n"
   ]
  },
  {
   "cell_type": "code",
   "execution_count": null,
   "metadata": {},
   "outputs": [],
   "source": [
    "#Type your code here\n",
    "marks = float(input(\"Enter your marks: \"))\n",
    "\n",
    "if marks < 25:\n",
    "    grade = 'F'\n",
    "elif 25 <= marks < 45:\n",
    "    grade = 'E'\n",
    "elif 45 <= marks < 50:\n",
    "    grade = 'D'\n",
    "elif 50 <= marks < 60:\n",
    "    grade = 'C'\n",
    "elif 60 <= marks < 80:\n",
    "    grade = 'B'\n",
    "else:\n",
    "    grade = 'A'\n",
    "\n",
    "print(f\"grade is: {grade}\")"
   ]
  },
  {
   "cell_type": "markdown",
   "metadata": {},
   "source": [
    "14)A student will not be allowed to sit in exam if his/her attendence is less than 75%.\n",
    "\n",
    "Take following input from user\n",
    "\n",
    "- Number of classes held\n",
    "\n",
    "- Number of classes attended.\n",
    "\n",
    "And print\n",
    "\n",
    "- percentage of class attended\n",
    "\n",
    "- Is student is allowed to sit in exam or not.\n"
   ]
  },
  {
   "cell_type": "code",
   "execution_count": null,
   "metadata": {},
   "outputs": [
    {
     "name": "stdout",
     "output_type": "stream",
     "text": [
      "Attendance Percentage: 80.0%\n",
      "allowed to sit in the exam.\n"
     ]
    }
   ],
   "source": [
    "#Type your code here\n",
    "classes_held = int(input(\"Enter the number of classes held: \"))\n",
    "classes_attended = int(input(\"Enter the number of classes attended: \"))\n",
    "\n",
    "attendance_percentage = (classes_attended / classes_held) * 100\n",
    "\n",
    "print(f\"Attendance Percentage: {attendance_percentage}%\")\n",
    "\n",
    "if attendance_percentage >= 75:\n",
    "    print(\"allowed to sit in the exam.\")\n",
    "else:\n",
    "    print(\"not allowed to sit in the exam.\")"
   ]
  },
  {
   "cell_type": "markdown",
   "metadata": {},
   "source": [
    "15. Modify the above question to allow student to sit if he/she has medical cause. Ask user if he/she has medical cause or not ( 'Y' or 'N' ) and print accordingly.\n"
   ]
  },
  {
   "cell_type": "code",
   "execution_count": null,
   "metadata": {},
   "outputs": [
    {
     "name": "stdout",
     "output_type": "stream",
     "text": [
      "Has Medical Issue\n"
     ]
    }
   ],
   "source": [
    "#Type your code here\n",
    "isIssue=input(\"Is Medical Issue\")\n",
    "if(isIssue=='Y'):\n",
    "    print(\"Has Medical Issue\")\n",
    "else:\n",
    "    print('No Medcal Issue')"
   ]
  },
  {
   "cell_type": "markdown",
   "metadata": {},
   "source": [
    "16. Write a program to check if a year is leap year or not.\n",
    "\n",
    "If a year is divisible by 4 then it is leap year but if the year is century year like 2000, 1900, 2100 then it must be divisible by 400.\n"
   ]
  },
  {
   "cell_type": "code",
   "execution_count": null,
   "metadata": {},
   "outputs": [
    {
     "name": "stdout",
     "output_type": "stream",
     "text": [
      "this is a leap year.\n"
     ]
    }
   ],
   "source": [
    "#Type your code here\n",
    "year = int(input(\"Enter a year: \"))\n",
    "\n",
    "if (year % 4 == 0 and year % 100 != 0) or (year % 400 == 0):\n",
    "    print(\"this is a leap year.\")\n",
    "else:\n",
    "    print(\"this is a not leap year.\")"
   ]
  },
  {
   "cell_type": "markdown",
   "metadata": {},
   "source": [
    "17. Ask user to enter age, gender ( M or F ), marital status ( Y or N ) and then using following rules print their place of service.\n",
    "\n",
    "if employee is female, then she will work only in urban areas.\n",
    "\n",
    "if employee is a male and age is in between 20 to 40 then he may work in anywhere\n",
    "\n",
    "if employee is male and age is in between 40 t0 60 then he will work in urban areas only.\n",
    "\n",
    "And any other input of age should print \"ERROR\"\n"
   ]
  },
  {
   "cell_type": "code",
   "execution_count": null,
   "metadata": {},
   "outputs": [
    {
     "name": "stdout",
     "output_type": "stream",
     "text": [
      "ERROR\n"
     ]
    }
   ],
   "source": [
    "#Type your code here\n",
    "gender=input(\"Enter Your Gender\")\n",
    "m_statu=input(\"Enter Your Martial Status\")\n",
    "if(gender==\"F\"):\n",
    "    print(\"She will owrk in urban areas\")\n",
    "else:\n",
    "    if(age>20 and age<=40):\n",
    "        print(\"He Can work in any areas\")\n",
    "    elif(age>40 and age<=60):\n",
    "        print(\"He Can work in any urban areas only\")\n",
    "    else:\n",
    "        print(\"ERROR\")\n",
    "        "
   ]
  },
  {
   "cell_type": "markdown",
   "metadata": {},
   "source": [
    "6. Write a program to calculate the electricity bill (accept number of unit from user) according to the following criteria :\n",
    "   Unit Price  \n",
    "   uptp 100 units no charge\n",
    "   Next 200 units Rs 5 per unit\n",
    "   After 200 units Rs 10 per unit\n",
    "   (For example if input unit is 350 than total bill amount is Rs.3500\n",
    "   (For example if input unit is 97 than total bill amount is Rs.0\n",
    "   (For example if input unit is 150 than total bill amount is Rs.750\n"
   ]
  },
  {
   "cell_type": "markdown",
   "metadata": {},
   "source": [
    "13. Take input of age of 3 people by user and determine oldest and youngest among them.\n"
   ]
  },
  {
   "cell_type": "code",
   "execution_count": null,
   "metadata": {},
   "outputs": [
    {
     "name": "stdout",
     "output_type": "stream",
     "text": [
      "Bill amount: Rs 8000\n"
     ]
    }
   ],
   "source": [
    "#Type your code here\n",
    "units = int(input(\"Enter the number of units consumed: \"))\n",
    "\n",
    "bill_amount = 0\n",
    "\n",
    "if units <= 100:\n",
    "    bill_amount = 0\n",
    "elif units <= 300:\n",
    "    bill_amount = (units - 100) * 5\n",
    "else:\n",
    "    bill_amount = (200 * 5) + ((units - 300) * 10)\n",
    "\n",
    "print(f\"Bill amount: Rs {bill_amount}\")"
   ]
  }
 ],
 "metadata": {
  "kernelspec": {
   "display_name": "base",
   "language": "python",
   "name": "python3"
  },
  "language_info": {
   "codemirror_mode": {
    "name": "ipython",
    "version": 3
   },
   "file_extension": ".py",
   "mimetype": "text/x-python",
   "name": "python",
   "nbconvert_exporter": "python",
   "pygments_lexer": "ipython3",
   "version": "3.12.7"
  }
 },
 "nbformat": 4,
 "nbformat_minor": 2
}
