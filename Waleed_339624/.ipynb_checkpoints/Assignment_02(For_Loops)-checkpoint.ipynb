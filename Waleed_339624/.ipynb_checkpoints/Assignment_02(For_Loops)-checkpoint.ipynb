{
 "cells": [
  {
   "cell_type": "markdown",
   "metadata": {
    "id": "1E5r3wPNed0G"
   },
   "source": [
    "\n",
    "\n",
    "# **Question No 01**\n",
    "\n",
    "Use a for loop to count the number of occurrences of the word in the list and return all indices where the word occurs.\n",
    "\n",
    "**Exmple:**\n",
    "\n",
    "Input: ['apple', 'banana', 'apple', 'cherry', 'apple'], Search: 'apple'  \n",
    "Output: 'apple' found 3 times at indices: 0, 2, 4\n",
    "\n"
   ]
  },
  {
   "cell_type": "code",
   "execution_count": 1,
   "metadata": {
    "id": "tHrz4YilefTD"
   },
   "outputs": [
    {
     "name": "stdin",
     "output_type": "stream",
     "text": [
      "enter finding fruit apple\n"
     ]
    },
    {
     "name": "stdout",
     "output_type": "stream",
     "text": [
      "apple'found 3 times at indices:[0, 2, 4]\n"
     ]
    }
   ],
   "source": [
    "fruit_list = ['apple', 'banana' , 'apple' , 'cherry' , 'apple']\n",
    "target_word = input(\"enter finding fruit\")\n",
    "indices=[]\n",
    "count=0\n",
    "for i in range(len(fruit_list)):\n",
    " if fruit_list[i]==target_word:\n",
    "  count += 1\n",
    "  indices.append(i)\n",
    "if count>0:\n",
    "       print(f\"{target_word}'found {count} times at indices:{indices}\")\n",
    "else:\n",
    "       print(f\"{target_word}'not found in the list\")"
   ]
  },
  {
   "cell_type": "markdown",
   "metadata": {
    "id": "fN_U0nnCeeAF"
   },
   "source": [
    "\n",
    "# **Question No 02**\n",
    "\n",
    "Create a program to find all unique pairs of numbers in a list that add up to a target sum.\n",
    "\n",
    "Use a single list and a for loop (nested if necessary) to iterate through and find pairs without duplicates.\n",
    "Avoid repeating pairs like [3, 5] and [5, 3].\n",
    "\n",
    "**Example:**\n",
    "\n",
    "Input list: [2, 4, 3, 5, 7, 8, 1]  \n",
    "Target sum: 9  \n",
    "Output: [(2, 7), (4, 5), (1, 8)]\n"
   ]
  },
  {
   "cell_type": "code",
   "execution_count": 3,
   "metadata": {
    "id": "AfsJP7KTef3T"
   },
   "outputs": [
    {
     "name": "stdin",
     "output_type": "stream",
     "text": [
      "enter the target number 9\n"
     ]
    },
    {
     "name": "stdout",
     "output_type": "stream",
     "text": [
      "[(1, 8), (2, 7), (3, 6), (4, 5)]\n"
     ]
    }
   ],
   "source": [
    "numbers = [1, 2, 3, 4, 5, 6, 7, 8]\n",
    "target_number = int(input(\"enter the target number\"))\n",
    "\n",
    "pairs=[]\n",
    "for i in range(len(numbers)):\n",
    "    for j in range(i+1,len(numbers)):\n",
    "        if numbers[i] +numbers[j] == target_number:\n",
    "          pairs.append((numbers[i],numbers[j]))\n",
    "print(pairs)"
   ]
  },
  {
   "cell_type": "markdown",
   "metadata": {
    "id": "d8ZH6VPNewLh"
   },
   "source": [
    "# **Question No 03**\n",
    "\n",
    "Write a program to calculate the cumulative product of elements in a list.\n",
    "\n",
    "Use a single list and update it in place to store the cumulative product at each index.\n",
    "Use only a for loop.\n",
    "\n",
    "**Example:**\n",
    "\n",
    "Input: [2, 3, 4, 5]  \n",
    "Output: [2, 6, 24, 120]  \n"
   ]
  },
  {
   "cell_type": "code",
   "execution_count": 5,
   "metadata": {
    "id": "pYPfUitge7nW"
   },
   "outputs": [
    {
     "name": "stdin",
     "output_type": "stream",
     "text": [
      "enter nos 2,3,4,5\n"
     ]
    },
    {
     "name": "stdout",
     "output_type": "stream",
     "text": [
      "[2, 6, 24, 120]\n"
     ]
    }
   ],
   "source": [
    "numbers = [int(n) for n in input(\"enter nos\").split(',')]\n",
    "\n",
    "for i in range(1,len(numbers)):\n",
    "   numbers[i]*=numbers[i-1]\n",
    "\n",
    "\n",
    "print(numbers)"
   ]
  },
  {
   "cell_type": "markdown",
   "metadata": {
    "id": "jEtwOjpEfAYA"
   },
   "source": [
    "# **Question No 04**\n",
    "\n",
    "Write a program to reshape a 1D list into a 2D grid.\n",
    "\n",
    "Accept a list of numbers and the number of rows as input.\n",
    "Use for loops to split the list into sublists, each representing a row.\n",
    "If the list cannot be evenly divided into rows, pad it with None.\n",
    "\n",
    "**Example:**\n",
    "Input: [1, 2, 3, 4, 5, 6, 7], Rows: 3  \n",
    "Output: [[1, 2, 3], [4, 5, 6], [7, None, None]]  \n",
    "\n"
   ]
  },
  {
   "cell_type": "code",
   "execution_count": 9,
   "metadata": {
    "id": "tGRxqt0pfRql"
   },
   "outputs": [
    {
     "name": "stdin",
     "output_type": "stream",
     "text": [
      "enter nos 1,2,3,4\n"
     ]
    },
    {
     "name": "stdout",
     "output_type": "stream",
     "text": [
      "Result: [[1, 2, 3], [4, None, None]]\n"
     ]
    }
   ],
   "source": [
    "New_a = []\n",
    "a = [int(n) for n in input(\"enter nos\").split(',')]\n",
    "for i in range(0,len(a),3):\n",
    "    New_a.append(a[i:i+3])\n",
    "    if len(New_a[-1]) !=3:\n",
    "        New_a[-1] += [None]*(3-len(New_a[-1]))\n",
    "\n",
    "print(\"Result:\",New_a)"
   ]
  },
  {
   "cell_type": "markdown",
   "metadata": {
    "id": "iBPZVHDsfwpm"
   },
   "source": [
    "# **Question No 05**\n",
    "\n",
    "Write a program to sort a list of numbers into two separate lists:\n",
    "\n",
    "One list for all odd numbers (in ascending order).\n",
    "One list for all even numbers (in descending order).\n",
    "Use for loops for the entire process.\n",
    "\n",
    "**Example:**\n",
    "\n",
    "\n",
    "Input: [5, 8, 3, 10, 2, 7, 1, 6]  \n",
    "Output:  \n",
    "Odd: [1, 3, 5, 7]  \n",
    "Even: [10, 8, 6, 2]  \n"
   ]
  },
  {
   "cell_type": "code",
   "execution_count": 15,
   "metadata": {
    "id": "y8dyGGNAf42S"
   },
   "outputs": [
    {
     "name": "stdin",
     "output_type": "stream",
     "text": [
      "enter nos 1,2,3,4,5,6,7,8\n"
     ]
    },
    {
     "name": "stdout",
     "output_type": "stream",
     "text": [
      "odd: [1, 3, 5, 7]\n",
      "even: [8, 6, 4, 2]\n"
     ]
    }
   ],
   "source": [
    "numbers = [int(n) for n in input(\"enter nos\").split(',')]\n",
    "odd_numbers=[]\n",
    "even_numbers=[]\n",
    "\n",
    "for num in numbers:\n",
    " if num%2==0:\n",
    "    even_numbers.append(num)\n",
    " else:\n",
    "     odd_numbers.append(num)\n",
    "odd_numbers.sort()\n",
    "even_numbers.sort()\n",
    "even_numbers=even_numbers[::-1]\n",
    "print(\"odd:\",odd_numbers)\n",
    "print(\"even:\",even_numbers)"
   ]
  },
  {
   "cell_type": "markdown",
   "metadata": {
    "id": "X_LfOnqskNTe"
   },
   "source": [
    "# **Question No 06**\n",
    "\n",
    "Write a program that uses a for loop to count the frequency of each character in a given string and stores the result in a dictionary.\n",
    "\n",
    "The program should ignore spaces and be case-insensitive.\n",
    "Display the dictionary as the final output.\n",
    "\n",
    "**Example:**\n",
    "\n",
    "Input: \"Programming is fun\"  \n",
    "Output: {'p': 1, 'r': 2, 'o': 1, 'g': 2, 'a': 1, 'm': 2, 'i': 2, 'n': 2, 's': 1, 'f': 1, 'u': 1}\n",
    "\n"
   ]
  },
  {
   "cell_type": "code",
   "execution_count": 13,
   "metadata": {
    "id": "1_-djYt-kW8F"
   },
   "outputs": [
    {
     "name": "stdin",
     "output_type": "stream",
     "text": [
      " programming is fun\n"
     ]
    },
    {
     "name": "stdout",
     "output_type": "stream",
     "text": [
      "{'p': 1, 'r': 2, 'o': 1, 'g': 2, 'a': 1, 'm': 2, 'i': 2, 'n': 2, 's': 1, 'f': 1, 'u': 1}\n"
     ]
    }
   ],
   "source": [
    "word_str = input().lower()\n",
    "word={}\n",
    "\n",
    "for i in word_str:\n",
    "   if i != ' ': \n",
    "    if i in word:\n",
    "        word[i]+=1\n",
    "    else:\n",
    "        word[i]=1\n",
    "\n",
    "print(word)"
   ]
  },
  {
   "cell_type": "code",
   "execution_count": null,
   "metadata": {},
   "outputs": [],
   "source": []
  }
 ],
 "metadata": {
  "colab": {
   "provenance": []
  },
  "kernelspec": {
   "display_name": "Python 3 (ipykernel)",
   "language": "python",
   "name": "python3"
  },
  "language_info": {
   "codemirror_mode": {
    "name": "ipython",
    "version": 3
   },
   "file_extension": ".py",
   "mimetype": "text/x-python",
   "name": "python",
   "nbconvert_exporter": "python",
   "pygments_lexer": "ipython3",
   "version": "3.12.7"
  }
 },
 "nbformat": 4,
 "nbformat_minor": 4
}
